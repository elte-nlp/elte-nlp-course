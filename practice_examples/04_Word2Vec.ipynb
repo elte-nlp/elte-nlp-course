{
  "cells": [
    {
      "cell_type": "markdown",
      "metadata": {
        "id": "MXW2ebLhPfGx"
      },
      "source": [
        "# Word2Vec\n",
        "\n",
        "1. Problem statement:\n",
        "  - We have N_dict words to represent in a vectorial way\n",
        "  - One-hot encoding explodes (N_dict dimensions)\n",
        "  - Representations that contain semantic information are superrior\n",
        "\n",
        "2. Word2Vec solutions:\n",
        "  - Use real valued (unit) vectors\n",
        "  - Use a constant emb_dim << N_dict dimensionality\n",
        "  - Capture semantic information by describing each word by its most frequent usage\n",
        "    - By constructing representations based on neighbouring words\n",
        "\n",
        "3. Using neural networks for training Word2Vec\n",
        "  - CBOW\n",
        "  - Skip-gram"
      ]
    },
    {
      "cell_type": "markdown",
      "metadata": {
        "id": "o5AqdRsvSEPT"
      },
      "source": [
        "## Sources:\n",
        "\n",
        "https://arxiv.org/pdf/1310.4546.pdf   \n",
        "https://arxiv.org/pdf/1301.3781.pdf   \n",
        "https://www.tensorflow.org/tutorials/text/word2vec"
      ]
    },
    {
      "cell_type": "markdown",
      "metadata": {
        "id": "M2tnzaNqsrk9"
      },
      "source": [
        "# Requirements:\n",
        "- A large enough corpus\n",
        "- GPU runtime"
      ]
    },
    {
      "cell_type": "code",
      "execution_count": null,
      "metadata": {
        "colab": {
          "base_uri": "https://localhost:8080/"
        },
        "id": "96B7eiv9Pesq",
        "outputId": "adc8750c-b509-40c0-d532-467751911972"
      },
      "outputs": [
        {
          "name": "stdout",
          "output_type": "stream",
          "text": [
            "Wed Apr  5 22:20:35 2023       \n",
            "+-----------------------------------------------------------------------------+\n",
            "| NVIDIA-SMI 525.85.12    Driver Version: 525.85.12    CUDA Version: 12.0     |\n",
            "|-------------------------------+----------------------+----------------------+\n",
            "| GPU  Name        Persistence-M| Bus-Id        Disp.A | Volatile Uncorr. ECC |\n",
            "| Fan  Temp  Perf  Pwr:Usage/Cap|         Memory-Usage | GPU-Util  Compute M. |\n",
            "|                               |                      |               MIG M. |\n",
            "|===============================+======================+======================|\n",
            "|   0  Tesla T4            Off  | 00000000:00:04.0 Off |                    0 |\n",
            "| N/A   43C    P8     9W /  70W |      0MiB / 15360MiB |      0%      Default |\n",
            "|                               |                      |                  N/A |\n",
            "+-------------------------------+----------------------+----------------------+\n",
            "                                                                               \n",
            "+-----------------------------------------------------------------------------+\n",
            "| Processes:                                                                  |\n",
            "|  GPU   GI   CI        PID   Type   Process name                  GPU Memory |\n",
            "|        ID   ID                                                   Usage      |\n",
            "|=============================================================================|\n",
            "|  No running processes found                                                 |\n",
            "+-----------------------------------------------------------------------------+\n"
          ]
        }
      ],
      "source": [
        "!nvidia-smi"
      ]
    },
    {
      "cell_type": "code",
      "execution_count": null,
      "metadata": {
        "colab": {
          "base_uri": "https://localhost:8080/"
        },
        "id": "ZkKElaPZEJML",
        "outputId": "97707a7e-ae12-4bad-e143-bc1633769522"
      },
      "outputs": [
        {
          "name": "stdout",
          "output_type": "stream",
          "text": [
            "--2023-04-05 22:20:36--  https://docs.google.com/uc?export=download&confirm=t&id=1xnBd4cA2sz5geHwz4V6ldV7IwJwZffq7\n",
            "Resolving docs.google.com (docs.google.com)... 173.194.69.101, 173.194.69.100, 173.194.69.138, ...\n",
            "Connecting to docs.google.com (docs.google.com)|173.194.69.101|:443... connected.\n",
            "HTTP request sent, awaiting response... 303 See Other\n",
            "Location: https://doc-0s-1k-docs.googleusercontent.com/docs/securesc/ha0ro937gcuc7l7deffksulhg5h7mbp1/r9tdpddpj04un5f6dvfkqcvgborl0ts1/1680733200000/02440328774490686871/*/1xnBd4cA2sz5geHwz4V6ldV7IwJwZffq7?e=download&uuid=2f2e0c93-3fd2-4d53-b394-9b6a81defd69 [following]\n",
            "Warning: wildcards not supported in HTTP.\n",
            "--2023-04-05 22:20:37--  https://doc-0s-1k-docs.googleusercontent.com/docs/securesc/ha0ro937gcuc7l7deffksulhg5h7mbp1/r9tdpddpj04un5f6dvfkqcvgborl0ts1/1680733200000/02440328774490686871/*/1xnBd4cA2sz5geHwz4V6ldV7IwJwZffq7?e=download&uuid=2f2e0c93-3fd2-4d53-b394-9b6a81defd69\n",
            "Resolving doc-0s-1k-docs.googleusercontent.com (doc-0s-1k-docs.googleusercontent.com)... 108.177.96.132, 2a00:1450:4013:c06::84\n",
            "Connecting to doc-0s-1k-docs.googleusercontent.com (doc-0s-1k-docs.googleusercontent.com)|108.177.96.132|:443... connected.\n",
            "HTTP request sent, awaiting response... 200 OK\n",
            "Length: 803967245 (767M) [text/plain]\n",
            "Saving to: ‘/content/200k.txt’\n",
            "\n",
            "/content/200k.txt   100%[===================>] 766.72M   153MB/s    in 5.4s    \n",
            "\n",
            "2023-04-05 22:20:43 (141 MB/s) - ‘/content/200k.txt’ saved [803967245/803967245]\n",
            "\n"
          ]
        }
      ],
      "source": [
        "#Download a larger text corpus\n",
        "def download_from_drive(link, filename):\n",
        "  id = link.split(\"/\")[-2]\n",
        "  !wget --load-cookies /tmp/cookies.txt \"https://docs.google.com/uc?export=download&confirm=$(wget --quiet --save-cookies /tmp/cookies.txt --keep-session-cookies --no-check-certificate 'https://docs.google.com/uc?export=download&id={id}' -O- | sed -rn 's/.*confirm=([0-9A-Za-z_]+).*/\\1\\n/p')&id={id}\" -O {\"/content/\"+filename} && rm -rf /tmp/cookies.txt\n",
        "\n",
        "download_from_drive(\"https://drive.google.com/file/d/1xnBd4cA2sz5geHwz4V6ldV7IwJwZffq7/view?usp=sharing\", \"200k.txt\")\n"
      ]
    },
    {
      "cell_type": "code",
      "execution_count": null,
      "metadata": {
        "id": "afJVeuDw1eTd"
      },
      "outputs": [],
      "source": [
        "with open(\"./200k.txt\",\"r\") as f:\n",
        "  lines = f.readlines()"
      ]
    },
    {
      "cell_type": "code",
      "execution_count": null,
      "metadata": {
        "colab": {
          "base_uri": "https://localhost:8080/"
        },
        "id": "Zg1vJ5AnK9Z7",
        "outputId": "0dae7b80-22df-45e9-bf28-372925c3afa7"
      },
      "outputs": [
        {
          "data": {
            "text/plain": [
              "2056711"
            ]
          },
          "execution_count": 6,
          "metadata": {},
          "output_type": "execute_result"
        }
      ],
      "source": [
        "len(lines)"
      ]
    },
    {
      "cell_type": "code",
      "execution_count": null,
      "metadata": {
        "id": "MqvuiDmCK9PK"
      },
      "outputs": [],
      "source": [
        "#Reducing dataset so it will fit into memory and labtime\n",
        "lines = lines[:1000000]"
      ]
    },
    {
      "cell_type": "code",
      "execution_count": null,
      "metadata": {
        "colab": {
          "base_uri": "https://localhost:8080/",
          "height": 122
        },
        "id": "NkMIiEUPH_9X",
        "outputId": "4a2c3903-5fa5-47bf-d7f5-1e149622d438"
      },
      "outputs": [
        {
          "data": {
            "application/vnd.google.colaboratory.intrinsic+json": {
              "type": "string"
            },
            "text/plain": [
              "'By . Joel Christie . Oklahoma man Desmond Campbell was identified last week by police as wanted in at least seven assaults cases. Authorities linked him to 10 counts of sexual assault - including rape in the first degree and rape by instrumentation - as well as seven counts of burglary and six counts of robbery. A possible assault against an eight woman was pending, with all occurring between June 5 and June 29 in Tulsa. After naming the 30-year-old at a press conference last week, police said their suspect was actually in a critical condition at Saint Francis Hospital, according to 2NEWS. Karma?: Desmond Campbell, 30, was wanted over seven assaults on women in Tulsa, Oklahoma, when he crashed his car and died . The 30-year-old was wanted a total of 23 charges, including 10 sexual assault complaints, seven burglaries and six robberies . According to KJRH, Desmond Campbell, 30, was in critical condition and unresponsive following a car crash June 29 . Campbell’s car hit a light pole on I-44 about 10 minutes after the most recent assault was reported on June 29, just minutes after the most recent alleged assault. There were no other vehicles involved. Campbell later died in hospital. Following the crash, police used DNA to connect Campbell to the crimes he was wanted over, according to the Oklahoma State Bureau of Investigations. Search warrants also show police found some of the victims’ belongings in the wreck of Campbell\\'s car. A source told 2NEWS Campbell was pronounced dead at 11.23am. Will autopsy is expected to completed on his body on Wednesday. However toxicology results may not be available for another six to nine weeks. At a press conference Tuesday afternoon, Tulsa County District Attorney said they were processing Campbell\\'s charges when they learned of his death. Tulsa County DA Tim Harris informs press on Tuesday that Desmond Campbell is dead . Following the crash, police connected Campbell using DNA, according to the Oklahoma State Bureau of Investigations . None of the crimes will be processed now that Campbell is deceased. \\'The death of Mr. Campbell isn\\'t going to provide any justice for these victims in a criminal court of law,\\' assistant DA Steve Kunzweiler said. \\'However the justice he will face will come from a higher authority.\\' var p = new anv_pl_def(); p.config = {}; p.config.width = 640; p.config.height = 360; p.loadVideoExpressV3(\\'eyJ1cGxvYWRfaWQiOiJleHByZXNzLTE0MDQ5NDEzNTMzNDEiLCJ2aWRlb190eXBlIjoiMSIsInNyY19pbWFnZV91cmwiOiJodHRwOi8vbWVkaWEyLmtqcmguY29tL3Bob3RvLzIwMTQvMDcvMDgvMTZ4OS9TZXJpYWxfQXR0YWNrZXJfU3VzcGVjdF9EaWVzXzE3Nzk0MzAwMDBfNjcyNzYwNF92ZXIxLjBfNjQwXzQ4MC5qcGciLCJkZWZfdGl0bGUiOiJTZXJpYWwgQXR0YWNrZXIgU3VzcGVjdCBEaWVzIiwidGl0bGUiOiJTZXJpYWwgQXR0YWNrZXIgU3VzcGVjdCBEaWVzIiwiZGVmX2RlY3NyaXB0aW9uIjoiIiwicHVibGlzaGVkX3VybHMiOlt7ImZvcm1hdCI6Im1wNDsiLCJlbWJlZF91cmwiOiJodHRwOi8vbWVkaWEyLmtqcmguY29tL3ZpZGVvL3ZpZGVvX3N0dWRpby8yMDE0LzA3LzA4L1NlcmlhbF9BdHRhY2tlcl9TdXNwZWN0X0RpZXNfMTc3OTQzLm1wNCIsInByb3RvY29sIjoibXA0OyIsImNkbl9uYW1lIjoiQWthbWFpIiwia2JwcyI6NTAwfV0sImNhcHRpb25zIjpbeyJsYW5ndWFnZSI6ImVuIiwiZm9ybWF0IjoiREZYUCIsInVybCI6Imh0dHA6Ly9tZWRpYTIua2pyaC5jb20vdmlkZW8vdmlkZW9fc3R1ZGlvLzIwMTQvMDcvMDgvY2FwdGlvbnMvU2VyaWFsX0F0dGFja2VyX1N1c3BlY3RfRGllc18xNzc5NDMwMDAwLmRmeHAifV0sInRzX3B1Ymxpc2hlZCI6IjIwMTRfMDdfMDgifQ==|1000011|SPS\\'); .New York police are concerned drones could become tools for terrorists, and are investigating ways to stop potential attacks. Until now police haven\\'t acknowledged drones as a potential weapon, but the NYPD has now said the technology has advanced enough that someone could use them to carry out an air assault using chemical weapons and firearms. Police want to develop technology which will allow them to take control of drones as well as scan the skies for them before major events. The NYPD says drones carrying explosives are the number one threat as they investigate ways to stop attacks . Deputy Chief Salvatore DiPace, left, was concerned about an incident last year where a drone was landed in front of German Chancellor Angela Merkel and \\'could have took the chancellor and her people out\\' A drone which was flown over a packed football stadium in Manchester, England, just over a week ago, resulting in the suspected pilot being arrested . They are consulting with the military and members of its counterterrorism, bomb squad, emergency services and aviation units are working on a plan to counter weaponized drones. The NYPD hasn\\'t received any intelligence indicating there is an imminent threat, but has become increasingly concerned over the last year. Deputy Chief Salvatore DiPace told CBS News:\\xa0\\'We\\'ve looked at some people that have jury-rigged these drones to carry guns, to carry different types of explosives if they wanted to; there\\'s just so many possibilities that we\\'re very worried about.\\' Mr Dipace said police had also seen video showing how accurate an attack from a drone could be:\\xa0\\'We\\'ve seen some video where the drone was flying at different targets along the route and very accurately hitting the targets with the paintball. The NYPD now sees a drone carrying explosives as the number one threat. Mr DiPace\\'s concerns follow an incident in Germany last year where a drone was able to land just in front of German Chancellor Angela Merkel as she delivered a speech. The drone, circled, landed in front of Ms Merkel as she delivered a speech sin Germany sparking fears that the device could easily be used to commit a terrorist act . He said:\\xa0\\'If you really think about what could have happened there, the drone hit its target right on the mark and could have took the chancellor and her people out.\\' There has been a dramatic increase of incidents involving drones in New York City in the last year, with 40 recorded. In some cases unmanned aircraft systems or drones had flown into airspace being used by NYPD helicopters. In one incident this summer, a drone which was almost 800 feet off the ground, nearly collided with a police helicopter. NYPD Aviation Unit Member, Sergeant Antonio Hernandez said: \\'We\\'re flying in the dark; we have night-vision goggles on, we\\'re trying to get a job done and then the next thing you know we see this drone come up to our altitude.\\'By . Ryan Lipman . Perhaps Australian porn star Angela White thought she was bringing the ultimate steamy study fantasy to life when she and a partner secretly filmed sex acts in the library of La Trobe University in Melbourne. The video is believed to have been shot this year, while the library was open for use and has sparked outrage from the university and the ire of police. Despite the presence of nearby students, White starts the video by revealing herself between bookshelves, as reported by the Herald Sun. Raunchy: Angela White and a partner secretly filmed sex acts in the library of La Trobe University in Melbourne . White and her onscreen lover then move to nearby desks, with her partner keeping lookout. A La Trobe University spokesman said it was shocked and appalled by the \\'brazen act\\'. \\'We knew nothing about the video footage until we were recently informed by some of our students.\\'Permission was not sought, nor would it have been given. If requested we would assist fully with any police investigation.\\' A Victoria Police spokeswoman said if the pair were caught in the act, they could have faced charges including wilful and obscene exposure. \\'Brazen act\\': La Trobe was unaware of the video had been filmed and was left outraged by the embarrassment . On the back of the controversy, Whiteâ€™s Dutch-based production company AGW Entertainment issued a statement addressing the incident and has since removed the video, which had been published online. \\'AGW Entertainment B.V. regrets that the filming and/or posting of the video in question may have offended members of the public,â€ .This was, Sergio Garcia conceded, much like being hunted by Tiger, complete with the roars that\\xa0 provided the first sign of danger. Only this time here it was Rory McIlroy who was terrorising the two golfers ahead of him. McIlroy who was drawing deafening applause from the crowds in the group behind. For Garcia and Rickie Fowler, it made the final few holes of a dramatic third round here in Hoylake all the more torturous. As Fowler dropped a shot on 17, his third bogey in four holes, McIlroy could be heard making eagle on the adjacent 16th. Under pressure: Sergio Garcia and Rickie Fowler during the third round on Saturday . As the American and the Spaniard then made their way across the third fairway to the scorer\\'s tent, there came another roar for yet another eagle on 18 for the Ulsterman. Fowler had just birdied 18 but even that failed to stop the gap between first and second widening. Defending champion Phil Mickelson felt he missed a good opportunity to move up the leaderboard on day three. Mickelson was among the day\\'s first starters, teeing off at 9am, but failed to take advantage of unexpectedly good conditions. The lefthander fired a 71 to lie 15 shots behind leader Rory McIlroy overnight and said: \\'We had beautiful scoring conditions, first group off. If we could have shot seven, eight, nine under par it probably was out there. It was as easy as I\\'ve seen the course play. We could have made some noise. \\'It could have been a lot lower and I let a lot of shots slide.\\' Mickelson, who came through the field to win with a final-round 66 at Muirfield last year, opened here with rounds of 74 and 70. Garcia admitted afterwards that playing McIlroy in this kind of form is as daunting as waging war against Woods in his prime; an almost futile exercise however well those in\\xa0 the chasing pack might be playing. \\'I don\\'t think Rory has been as consistent as Tiger was for so many years, but when he\\'s at his best he\\'s right up there,\\' said Garcia. \\'Obviously I heard the roar on 16. I didn\\'t know but I imagined it was an eagle. The only thing you can do is say \"well done\".\\' For Fowler is proved particularly galling. He was tearing up this course in near perfect conditions, going through the turn in 32\\xa0 and then birdying 10, 11 and 12\\xa0 to erase the six-shot advantage McIlroy had taken into the third round. But then came that crushing run of bogies and with it an emphatic McIlroy response. Fowler will nevertheless take encouragement from the fact that the six-shot lead McIlroy now has this afternoon can be closed, because he did it in 12 holes yesterday. He can also draw some comfort in knowing his two professional wins to date were both achieved with McIlroy as runner-up. His first victory, the Wells Fargo Championship two years ago, came after beating McIlroy on the first extra hole of a sudden-death play-off. Add to that the benefit of having been in much the same position in the US Open last month, not to\\xa0 mention the confidence of having already finished in the top five in both majors this year, and Fowler goes into the final pairing today in decent shape. Feel the force: Rickie Fowler tees off on the 13th hole at Hoylake on Saturday . The advice he gets from Phil Mickleson, someone he referred to affectionately as his golf \\'dad\\', is also sure to come in handy. What better mentor to have than last year\\'s Open champion? \\'I\\'ve learned a lot from Phil,\\' said Fowler. \\'He\\'s kind of been like, I hate to say it, but like a dad out here. It\\'s been a lot of fun being around him. Not just playing on Tuesday, but having dinner with him and\\xa0 seeing how he operates on and off the golf course.\\' Thanks to the work he has been doing this past year with Butch\\xa0 Harmon – a coach Fowler described as the \\'best in the world\\' – the young American has been\\xa0 itting his irons superbly and at times he putted beautifully too,\\xa0 sinking one from around 30 feet on the second hole. Garcia\\'s approach on the eighth was also worthy of mention, even if he will want to\\xa0 forget the two-and-a-half foot putt he missed on 12. Garcia thinks it a tall order, catching McIlroy. \\'If he shoots three under, I have to shoot 10,\\' he said with a smile. \\'So if Rory plays the way he\\'s been playing it\\'s difficult to see anybody catching him. When Rory plays well every course suits him. There\\'s not really a lot of weaknesses in his game.\\' In the swing: American Rickie Fowler has been hitting his irons superbly . Fowler knows that too, having grown up competing against\\xa0 McIlroy. They are just a few months apart in age – now both 25 – and are actually good friends as well as neighbours in Jupiter, Florida. They also have a penchant for brightly covered clothing even if McIlroy joked this week that\\xa0 Fowler\\'s fashion sense – he will once again wear the orange of Olklahoma State University today – was highly questionable. \\'We\\'ve travelled a bit together between tournaments,\\' said Fowler. \\'We first played against each other at the Walker Cup in 2007 and it\\'s kind of gone from there. So I\\'m\\xa0 looking forward to it tomorrow. It\\'s going to be a good time. We\\'re good buddies and at the same time we both want to beat up on each other as bad as possible. \\'If I can go out and put a bit of pressure on him and make him earn it a bit, get myself in the mix, maybe we\\'ll be able to throw some blows back and forth. \\'The US Open last month was my first time in the final group at a major. But it was just a matter of time before the two of us found a way to sneak into a final group together.\\'An Ebola outbreak that began in Guinea four months ago has turned into a cross-border African crisis that could spread to more countries, the World Health Organisation warned last night. Despite efforts by health authorities and aid groups to contain its spread, the WHO has recorded 635 infections, including 399 deaths, in Guinea, Sierra Leone and Liberia since the outbreak started. The crisis is already the deadliest outbreak since Ebola first emerged in central Africa in 1976, and the number of infections continues to rise. The WHO is calling for drastic action to halt the epidemic. Scroll down for video . Aid: Staff from Médecins Sans Frontières sitting in the isolation ward at the Donka Hospital in Conakry, Guinea, where people infected with the Ebola virus are being treated . Cleanliness: Guinean women washing their hands at the entrance of the Sino-Guinean hospital of Kipe in the Ratoma municipality, where the first person infected with the Ebola virus was treated in Conakry . Campsite: The isolation ward at the Donka Hospital in Conakry where people infected with the Ebola virus are being treated . Luis Sambo, WHO Regional Director for . Africa, said: ‘This is no longer a country specific outbreak but a . sub-regional crisis that requires firm action by governments and . partners. ‘WHO is gravely . concerned by the on-going cross-border transmission into neighbouring . countries as well as the potential for further international spread.’ In . response to the worsening crisis, the WHO said it will convene a . special meeting of health ministers from 11 countries in Ghana on July 2 . and 3 to develop an inter-country response plan. Ebola . - with a fatality rate of up to 90 per cent, no vaccine and no known . cure - has not previously occurred in the West Africa region. People . there have become frightened of health facilities, blaming them for . importing and spreading the virus. Guidance: A Liberian Unicef field worker reads an Ebola information poster on the prevention of the Ebola epidemic, during a meeting at the Mission for Today Holy Church, in Newkru Town, Monrovia, Liberia . Guidance notice: A Liberian woman reads an information poster on the prevention of the Ebola epidemic . Medical response: A Liberian nurse walks past a poster illustrating steps for nurses to put on protective clothing displayed at the Redemption Hospital where a nurse reportedly died of Ebola virus in Monrovia . Abandoned: Empty hospital beds are seen at Redemption after nurses and patients fled due to Ebola deaths . The Ebola virus initially causes raging fever, headaches, muscle pain, conjunctivitis and weakness, before moving into more severe phases with vomiting, diarrhoea and internal and external haemorrhaging. \\'This is no longer a country specific outbreak but a sub-regional crisis that requires firm action by governments and partners\\' Luis Sambo, World Health Organisation . Mr Sambo said: ‘There is an urgent need to intensify response efforts; to promote cross-border collaboration and information sharing of suspected cases and contacts... and to mobilise all sectors of the community. \\'This is the only way that the outbreak will be effectively addressed.’ Medical charity Médecins Sans Frontières (MSF) said this week that a lack of understanding has meant people continue to prepare corpses and attend funerals of victims, leaving them vulnerable to a disease transmitted by touching victims or via bodily fluids. MSF accused civil society groups, governments and religious authorities of failing to acknowledge the scale of the epidemic, resulting in few prominent figures promoting the fight against the disease.By . Associated Press and Daily Mail Reporter . PUBLISHED: . 10:20 EST, 14 November 2013 . | . UPDATED: . 14:14 EST, 14 November 2013 . Residents of several Florida homes have been evacuated due to a sinkhole that opened up in a Dunedin, Florida backyard, near St Petersburg Thursday. Dunedin Deputy Fire Chief Trip Barrs said the hole appeared to be about 12-feet wide when officials arrived on the scene around 6am, but grew to 40-feet-wide and 30-feet-deep by 9am. Residents of seven neighboring houses were evacuated as a precaution and power has been shut off in the area. No injuries have been reported. Scroll down for video . Into the earth: A sinkhole opened up this morning in Dunedin, Florida, swallowing up parts of two homes . Expanding: When fire and rescue responders arrived on the scene around 6am, the sinkhole was 12-feet-wide but soon grew to 40-feet-wide and 30-feet-deep . Breakfast: The sinkhole gobbled up a boat, pool and one home\\'s master bedroom. No one was injured from the sinkhole . Homeowner Michael Dupre said they heard the sinkhole open up in their backyard around 5:15 this morning. \\'It sounded like banging against the windows. I thought someone was trying to break-in,\\' his daughter Ivy Dupre told Fox 13. Ivy Dupre said that there seemed to be two sinkholes, one that opened up in the backyard and one near her bedroom, but that has not yet been confirmed by fire and rescue officials. The sinkhole has swallowed up the master bedroom and in-ground pool of one home, while another home lost their deck and boat. After the sinkhole opened up, the Dupre\\'s called 911. Fire and rescue officials told them to grab whatever they could and get out of the home. Sinkhole alley: Sinkholes are common in this area of Florida, nicknamed \\'sinkhole alley\\' for the type of porous rocks that cause the earth to shift . \\'We grabbed only the important stuff. Insurance information - stuff like that,\\' Mr Dupre said. \\'You don\\'t really think about this kind of stuff happening.\\' Sinkholes are common in Florida because the peninsula is made up of porous carbonate rocks such as limestone that store and help move water underground. Over time, the rocks can dissolve from an acid created from oxygen in water, creating a void under the limestone roof. When dirt, clay or sand gets too heavy for the limestone roof, it can collapse, creating a sinkhole. On February 28, Jeffrey Bush died when a sinkhole opened under his bedroom in Seffner, Florida, near Tampa. His body was never recovered. In August, sections of a building at a resort near Orlando collapsed into a sinkhole. No one was injured in that sinkhole. Early morning surprise: According to homeowners in the area, the sinkhole opened up at about 5:15 this morning . \\'After the Seffner sinkhole, we were scared,\\' Mr Dupre told WTSP. \\'We\\'ve been dealing with our insurance company and finally two days ago, they started working on our house. Now it looks like our house is gone.\\' State officials say three counties in the Tampa region are known as \\'sinkhole alley.\\' Two-thirds of the sinkhole damage claims reported to the state Office of Insurance Regulation between 2006 and 2010 came from Hernando, Hillsborough and Pasco counties. Dunedin is in neighboring Pinellas County.Jerusalem woke up on Tuesday to horrific images of slain Jewish worshipers, and scores injured in a terror attack on a synagogue. The assault which took place in the western Jerusalem neighborhood of Har Nof, shocked Israel to the core, as well as many others around the world. This is not surprising considering both the brutality of the attack and the fact it was carried out in a holy place, where innocent religious people were worshiping. The two assailants, cousins from the East Jerusalem neighborhood of Jabal Mukaber, were shot dead by the Israeli security forces. The incident in addition to the ongoing violence since the beginning of summer, left the city of Jerusalem more divided than for a long time. The attack this week should have also sent a clear message to both leaderships that if they will not take measures to calm the situation down, further escalation and worse violence is around the corner. Regrettably, the Hamas praised the attack in Jerusalem and the Israeli Prime Minister Benjamin Netanyahu described the situation as the \"Battle for Jerusalem.\" He also accused the Palestinian president Mahmoud Abbas of involvement despite the latter\\'s condemnation of the killing. Both sides are employing inflammable language, although it is hard to blame the Palestinian president for feeling angry considering Israeli behavior since the collapse of the peace process in April. To make things worse, it emerged in recent days that Israel has also decided to return to a policy of demolishing houses of terrorists\\' families, even if they were killed during the attack. The Israeli security establishment argues that this form of punishment serves as a deterrence for any other would-be assailants. Regardless of the fate they face, their families are going to pay a heavy price and will be left homeless. In a society where three generations of one family might live under the same roof, one act harms quite a few people, from babies to the elderly.  To prove the seriousness of their intentions, the Israeli security forces already demolished a home on Wednesday. The home in Silwan was that of the Palestinian who drove his car into a crowd last month, killing two people. He was killed in the attack. The Army also moved to demolish the houses of the two who carried out the killing at the synagogue in Jerusalem. Ironically the policy of demolishing houses as a form of deterrence was abandoned back in 2005 at the request of the Israeli army.  A report produced, following an investigation by the Israeli security establishment, found this action counter-productive. There is actually evidence that house demolition led to a rise in the number of attacks. House demolition of Palestinian militants\\' houses is a form of collective punishment and an act of revenge, concealed behind a claim of deterrence. A similar \"standard\" was never applied to a Jewish terrorist. For instance when a  Jewish settler, Baruch Goldstein, slayed 29 Muslim worshipers in the Cave of Patriarchs, no one suggested to demolish his home as a deterrence. According to the Israeli human rights organization B\\'tselem, in the height of the Second Intifada, between 2001-2005, 664 Palestinian homes were demolished in the occupied Palestinian territories as an apparent deterrence. There is no evidence that the misery inflicted on thousands of innocent Palestinians enhanced Israeli security. It is worth remembering that the demolition of Palestinian houses in the West Bank also takes place for the purpose of expanding settlements, something which aggravates an already hostile population. Arbitrary house demolitions represent not only a bad policy, but are also illegal and immoral. This is a clear violation of international law, more specifically the Fourth Geneva Convention, clearly prohibits forcing individuals and groups out of their homes within an occupied territory. Any demolition of houses when there are no overwhelming military reasons is regarded as a grave breach of the Geneva Convention and could potentially lead to a war crime charge. And there is also, of course, a moral aspect. As deplorable as some of the acts committed by a few individuals, their punishment should not extend beyond their death or what the court decides. Their families, as a result, suffered a loss too, for no fault of their own. To condemn them to destitution for an act that they did not commit is a moral travesty. The decision by the Israelis to resume Palestinian house demolition following an attack on Jews in Israel is not a security decision but a political one, aimed to satisfy an angry public and extreme right-wing members of the current coalition. The Israeli coalition depends on satisfying their demands. However, the lack of credibility of the deterrence argument, combined with the immorality and illegality of house demolitions should serve as an overwhelming reason not to resume this abysmal practice.An Australian father who is believed to have been brainwashed by the preachings of Islamic extremist Musa Cerantonio has joined the ranks of terror group Islamic State to fight in the Middle East. According to Twitter, Zia Abdul Haq\\'s current location is in an IS-controlled area of Ash-Shaam, also known as Syria. Friends of the 33-year-old believed the man from Logan - south of Brisbane - was moving to Syria to look for a new wife after the breakdown of his marriage, but The Courier Mail has revealed Abdul Haq is in fact fighting with the extremist organisation. Scroll down for video . The friends of Zia Abdul Haq says the father-of-one, from Logan, is a \\'good-hearted guy\\' Two of Australia\\'s most notorious jihadists Khaled Sharrouf and Mohamed Elomar are part of the same group. Abdul Haq is one of the latest of three men who are believed to have joined IS, including Melbourne\\'s Abu Khaled al-Cambodi and Mounir Raad. The 33-year-old\\'s friends described him as a \\'good-hearted guy\\' but had been \\'brainwashed\\' by Cerantonio - who is believed to be an influential IS figure - after hearing the radical sheik speak in Brisbane two years ago. The 33-year-old\\'s friends claim he was brainwashed by prominent IS supporter, Musa Cerantonio - a radical sheik . \\'He wasn’t a bad guy but he fell off the rails and under the spell of the extremists,\\' friend Yehya El-Kholed told The Courier Mail. \\'Sheik Cerantonio is a hypocrite because while he urges people to go to Syria, he won’t go himself.\\' Since he landed in Syria, Abdul Haq - who came to Australia in his 20s and took up a job as a finance officer - has been actively posting photos depicting life as a fighter for IS on the social media site. These include M16 training, jihadists playing violent video games and cooking up a shared meal. But like Sharrouf and Elomar, Abdul Haq - who has a young son - has used Twitter as platform to fire off threatening messages, including one to foreign forces to \\'bring dead body bag for each of your soldiers\\'. Most recently, he took aim at the U.S. saying \\'Send you (men) to fight us, your drones are useless on the ground\\'  and \\'How come you fight #IS with your gays & lesbians army\\' on Saturday night. Abdul Haq has also hit back at media outlets circulating news about him. \\'Many lies about me in Australian news. =/,\\' he tweeted within half an hour of reports emerging. Since arriving in Syria Abdul Haq has been posting photos on Twitter of what it is like being an IS fighter . Last month Musa Cerantonio was deported back to Australia from the Philippines after he was arrested after breaching the Philippines\\' immigration laws. Changing his name from Robert Edward, the 29-year-old was detained in the central Filipino city of Cebu where he was believed to have been hiding from Australian authorities, despite claiming on Twitter he had arrived in the Middle East just days before his arrest. He was found with a Filipino fashion designer claiming to be his wife, inside an apartment. Australian authorities cancelled his passport, triggering his arrest and leaving without any documentation. He was then set free when he arrived in Melbourne after deportation as he had not broken any Australian laws. Musa Cerantonio is thought to be an influential IS figure and Abdul Haq is believed to have taken up extremist views after hearing the sheik speak in 2012 in Brisbane .A mother whose premature twins died while she lay in a coma following a tragic ambulance mix-up has led the tributes among mourners at her daughters\\' funeral. Jocelyn Bennett, 27, attended the service for her children Melody and Rose Clarke at Lodge Hill Crematorium in Birmingham yesterday in a wheelchair. She was allowed out of hospital especially for the service, which comes after she spent 18 days in a coma only to be told upon regaining consciousness that her daughters had passed away. Scroll down for video . Jocelyn Bennett, 27, attended the service for her children Melody and Rose Clarke at Lodge Hill Crematorium in Birmingham in a wheelchair. She was supported by friends and family at the service for her twin daughters . The white horse-drawn princess carriage carried the coffins to the service at\\xa0Lodge Hill Crematorium . Pink bunting was draped over the coffins of the twin daughters, with their names Melody and Rose on . The twin girls, Melody and Rose Clarke (pictured above in images released by the family), died from multi-organ failure on November 4 . Wearing her favourite colour red, she was wheeled behind the twins\\' tiny coffins as they were carried to the crematorium in a white horse-drawn princess carriage. White teddy bears were placed inside the carriage along with matching floral tributes. A card showing a picture of Ms Bennett and her partner Kevin, 31, cradling their tragic twins simply read: \\'God Bless you Melody and Rose.\\' Reverend Denise Jones, who led the service, paid tribute to Melody and Rose saying they were two \\'very very special baby girls\\'. She told the 50-strong congregation: \\'They were much loved and wanted twin girls and baby sisters to little Slater. \\'The last few weeks have been a journey of great courage, determination and faith. The loss of our children is the most painful thing to ever have to experience in our lives. \\'Melody and Rose touched the hearts of all of us here today as well as the community and world and they have left behind a beautiful legacy of love.\\' Hymns \\'All Things Bright and Beautiful\\' and \\'Lord of the Dance\\' were sang by the congregation who all dressed in bright colours on the request of Ms Bennett. Mourners were played \\'Somewhere over the rainbow\\' at the end of the 40-minute ceremony. The babies were delivered by emergency caesarean while Ms Bennett fought for life after collapsing at her home in Druids Heath, Birmingham. She was 32 weeks pregnant when she called 999 early in the morning of October 29 after suffering suffered a placental abruption. When paramedics arrived 12 minutes later at 5.51am, she was in such pain that she could not press the door buzzer to let them in. Ms Bennett was 32 weeks pregnant when she collapsed at her Birmingham home on October 29 . Ms Bennett, 27, was allowed out of hospital especially for the service, which comes after she spent 18 days in a coma only to be told upon regaining consciousness that her twin daughters had tragically passed away . Ms Bennett was surrounded by friends and family at yesterday\\'s service, many of whom offered their support . Ms Bennett attended the service in a wheelchair while the coffins of her twins arrived by horse and carriage . White teddy bears were placed inside the carriage along with matching floral tributes and pink ribbon . October 29 . 5.39am: Jocelyn calls 999 emergency services suffering extreme stomach pains. 5.51am: First paramedic arrives at Pleck House in a rapid response vehicle. 5.58am: First ambulance crew arrives. 6.01am: Second ambulance crew arrives. 6.03am: Ambulance crews call police. 6.10am: Police arrive and gain entry to tower block. 7.01am: Twins delivered by emergency caesarean section. November 4 . 1pm: Twins have life support switched off and pass away shortly afterwards. November 16 . 12pm: Jocelyn awakes from coma. December 4 . Funeral of Melody and Rose at Lodge Hill Crematorium, Birmingham. Tragically, her neighbours refused to buzz the ambulance crew into the council-run tower block because they thought the blue flashing lights were from police vans about to raid the flats. When police finally arrived to let the paramedics in, they found Ms Bennett lying unconscious on the floor of flat - 30 minutes after her initial 999 call. She was rushed to hospital where 4lb 1oz Melody and 3lb Rose were born by emergency caesarean. Tragically, while Ms Bennett slipped into a coma, her baby daughters suffered multi-organ failure and their life support was switched off. They passed away on November 4. The devastated father of Ms Bennett, Joe, 54, said yesterday: \\'This has been a tragic time for Jocelyn and everybody in the family. \\'We are grateful for all the support and glad Jocelyn was able to attend the service. \\'There are still questions which need answering as to why the paramedics were unable to get to Jocelyn sooner but today is about saying goodbye to Rose and Melody.\\' Following their deaths, Mr Bennett wrote a poem for each of the girls. He previously told how neighbours in the block of flats refused to answer their buzzers to police following a recent raid. \\'If any residents see flashing blue lights they don\\'t answer their calls because they fear it\\'ll be another raid. \\'No one answered their buzzers when the paramedics tried them. \\'There are vulnerable people living in that building and the council has a duty of care for them. A better system needs to be in place.\\' Birmingham City Council is investigating why paramedics were unable to gain access to Ms Bennett\\'s home in Pleck House. A spokesman for Birmingham City Council said: \\'We have systems to provide emergency access to our blocks for the emergency services and an urgent investigation was commissioned as soon as we were made aware of the matter.\\' Tributes placed with the coffins from relatives of Ms Bennett offered condolences and love to the family . Rose and Melody were born prematurely and died aged just a few days old due to severe organ failure . The twins\\' tiny coffins arrived by a horse-drawn princess carriage before floral tributes were placed outside . Prior to their deaths, the Bennett family held a \\'Christmas\\' party for the twin girls and had them christened. Ms Bennett\\'s father, his wife Lorraine, and the girls\\' father Mr Clarke held a small party in hospital for the twins. Mr Bennett said they documented the party, in which they dressed up in Christmas hats and jumpers, so that they could show Ms Bennett photographs when she awoke from her coma. She came round on November 16. At the time of the party, Mr Bennett said: \\'It was all for Joyce for when she comes round. We can show her the children were loved and that they brought love into our lives. \\'I don\\'t want her to see sad pictures. They were baptised on the day they were born as we knew that was what Joyce had wanted.\\' After the party, Mr Bennett and his wife dressed the babies in the clothes their mother had chosen to take them home in. On the day they passed away, the hospital\\xa0chaplain performed a touching service before the babies were placed in their father\\'s arms for one last cuddle. Mr Bennett and his family held the babies and celebrated an early Christmas with them before their deaths . The devastated father of Ms Bennett, Joe, 54, said: \\'This has been a tragic time for Jocelyn and the family\\' Ms Bennett\\'s rescue was delayed when ambulance crews were unable to get past a locked door at her flat block in Birmingham. She had collapsed by other residents failed to buzz paramedics in on October 29 .A community stalwart with an MBE has been spared jail after claiming more than £23,000 of taxpayers\\' money by lying about his savings. Former magistrate Rahmat Ali Raja, 75, dishonestly claimed pension credits and council tax reductions for 10 years - despite, at one point, having more than £102,000 across nine bank accounts. But the retired charity director, who was also a local councillor in Pendle, Lancashire, was yesterday spared jail for his crimes. Guilty: Rahmat Ali Raja, 75, was yesterday spared jail for falsely claiming more than £23,000 in benefits. The former magistrate and local councillor was awarded an MBE in 2005 . Speaking after the hearing, Raja, originally from Gujarat, Pakistan, said: \\'I am very sorry. I made a mistake.\\' Raja, who has already paid the amounts . back in full, was handed a 24-week prison sentence, suspended for 12 months. He pleaded guilty to two counts of dishonestly failing to . disclose information to make a gain for self, and one count of . dishonestly making a false statement to obtain a benefit. Preston Magistrates\\' Court heard that, between October 2003 and September 2013, Raja told the Department for Work and Pensions he was retired and had just £5,601 in savings. He wrongly claimed £11,379 in the process. Dishonest: The retired charity director received pension credits and council tax reductions for 10 years . Raja also failed to declare his real savings to Pendle Council in November 2004, allowing him to wrongly claim £11,898 between October 2003 and March 2013. John Abbott, prosecuting, told the court how Raja would receive the payments into his Halifax bank account via automatic credit transfer. He said: \\'Evidence has now become available that he had £83,000 on October 6, 2003 which was not disclosed at the time. Had the true facts been known, there would have been an effect on his benefits.\\' In 2009, Raja claimed he only had one bank account, which he shared with his wife. But Mr Abbott said: \\'He had nine other accounts in his and his wife’s names and agrees they were there when he made the original claims for pension credit. He denied acting dishonestly and said he made a mistake.\\' John Wishart, defending, said: \\'First of all, the guidelines make it clear that a large sum of money can be accumulated over a long period of time, as in this case. \\'Of considerable mitigation is that the money was instantly repaid in full. The final payment was made in September last year.\\' He added that the ‘highest recorded amount’ in Raja’s savings at any one time was ‘a little over £102,000’. He added that although these accounts were in his name, they were shared by many members of Raja’s family. Sparing Raja jail, chairman of the bench Kathleen Strickland said his offences had been aggravated because he \\'committed the fraud from the outset’. But she said Raja’s age, early guilty plea, full repayment and ill health prevented her from handing out an immediate custodial sentence. As well as his suspended jail sentence, which could be activated it he re-offends within 12 months, Raja must pay court costs of £85 and a £75 victim surcharge. Mrs Strickland said: “If you break this condition it could be very serious for you.” Spared jail: Raja, the former director of a community development trust, was handed a 24-week prison sentence, suspended for 12 months, at Preston Magistrates\\' Court . Raja was chosen to receive an MBE through his work as a former director of the Ithaad Community Development Trust in Nelson, which provided help and advice to those who needed it. Speaking after the case, he said: “I am very sorry. I made a mistake. All along I have said it’s my family’s money and my children’s money. “I filled out the forms but I did them wrong. My memory is not good and I am sorry.”(CNN) -- Congress has moved to prevent money from the proposed $825 billion stimulus package from being used for zoos, aquariums, golf courses, swimming pools and casinos, an effort to ensure the bill funds only what it calls the \"highest quality\" infrastructure projects. Restrictions added to the stimulus proposal would keep the money from zoo projects, among other things. \"The purpose of this bill is to direct funding at projects that are primarily and clearly aimed at benefiting the economic conditions of communities and the public at large,\" the bill states. \"The federal government and all other levels of government are directed to look with a skeptical eye at projects that don\\'t meet that test.\" CNN revealed last month that a list of \"ready to go\" stimulus projects endorsed by the U.S. Conference of Mayors included museum and zoo renovations, aquatic centers, skateboard parks and bike and horse paths. One of the zoo projects in the report is a $4.8 million polar bear exhibit at the Providence, Rhode Island, zoo. The House Appropriations Committee added those restrictions last week after criticism from watchdog groups like the National Taxpayers Union, which monitors government spending. \"To the people supporting them, these proposals aren\\'t a joke,\" said Pete Sepp, the group\\'s vice president. \"But to the taxpayers funding them, yes this will be a joke for them, only they won\\'t be laughing.\" The restrictions in the bill appear meant to address reports about some of the projects endorsed by the U.S. mayors, Sepp said. The stimulus bill, known as the American Recovery and Reinvestment Act, has been placed on the congressional fast-track. It could come to a vote in the full House of Representatives as soon as Wednesday, and Democratic leaders have said they aim to get the package to President Obama\\'s desk for enactment by Presidents Day.  Watch Obama say he\\'s optimistic after discussing the bill with GOP leaders » . \"A historical level of transparency, oversight and accountability will help guarantee taxpayer dollars are spent wisely and Americans can see results for their investment,\" Rep. Dave Obey, the Wisconsin Democrat who leads the Appropriations Committee, said in a statement. The committee also added language that would prevent any money given to the state of Illinois from being handled by the state\\'s impeached governor, Rod Blagojevich. Blagojevich faces federal charges accusing him of attempting to trade or sell the U.S. Senate seat vacated by Obama after his November election, and the state Senate began his trial Monday. The governor denies any wrongdoing and has skipped his impeachment trial to proclaim his innocence on the talk-show circuit. The measure sets up project monitoring, including a government-wide recovery program Web site, where all announcements for grant competitions, formula grant allocations and competitive grant awards must be listed. In addition, government agencies must publish on the site, \"a description of all infrastructure projects, and the total cost and the justification for using stimulus money.\" The strict rules require that the notification include \"the name of a person to contact at the entity if there are concerns with the investment and an e-mail address for the federal official in each agency whom the public can contact,\" the bill states. \"Also included within the notification must be a certification from the mayor or governor or other chief executive, as appropriate, that the investment has received the full review and vetting required by law and that they accept responsibility that this investment is an appropriate use of taxpayer dollars.\" A Recovery Act Accountability and Transparency Board will be created \"to review management of recovery dollars and provide early earning of problems,\" according to a summary of the bill provided by the appropriations committee. The board will include inspectors general and deputy cabinet secretaries. The stimulus package is already being taken up by key committees in the Senate, where Majority Leader Harry Reid -- from casino-heavy Nevada -- said he is not concerned about the House restrictions on money going to casinos. \"Casinos are a huge part of Nevada\\'s economy and create a lot of jobs,\" Reid told CNN on Tuesday. \"But none of the spending in this bill is earmarked for any casino, so this provision is largely symbolic.\"(CNN) -- He was loved and admired the world over, profiled in books and movies, and showered with awards and accolades. But even the most public of personalities have little-known facts buried in their biographies. Here are 10 surprising facts you probably didn\\'t know about Nelson Mandela: . 1. He lived up to his name: Mandela\\'s birth name was Rolihlahla. In his Xhosa tribe, the name means pulling the branch of a tree or troublemaker. (The name \"Nelson\" was given to him by his teacher on his first day of elementary school. It\\'s not clear why she chose that particular name. It was the 1920s, and African children were given English names so colonial masters could pronounce them easily). 2. He had a cameo in a Spike Lee film: He had a big part in Spike Lee\\'s 1992 biopic \"Malcolm X.\" At the very end of the movie, he plays a teacher reciting Malcolm X\\'s famous speech to a room full of Soweto school kids. But the pacifist Mandela wouldn\\'t say \"by any means necessary.\" So Lee cut back to footage of Malcolm X to close out the film. 3. There\\'s a woodpecker named after him: From Cape Town to California, streets named after Mandela abound. But he\\'s also been the subject of some rather unusual tributes. Last year, scientists named a prehistoric woodpecker after him: Australopicus nelsonmandelai. In 1973, the physics institute at Leeds University named a nuclear particle the \\'Mandela particle.\\' 4. He married a first lady: Before tying the knot with Mandela on his 80th birthday, Graca Machel was married to Mozambique President Samora Machel. Her marriage to Mandela after her husband\\'s death means she has been the first lady of two nations. 5. He was a master of disguise: When Mandela was eluding authorities during his fight against apartheid, he disguised himself in various ways, including as a chauffeur. The press nicknamed him \"the Black Pimpernel\" because of his police evasion tactics. \"I became a creature of the night. I would keep to my hideout during the day, and would emerge to do my work when it became dark,\" he says in his biography, \"Long Walk to Freedom.\" 6. A bloody sport intrigued him: Besides politics, Mandela\\'s other passion was boxing. \"I did not like the violence of boxing. I was more interested in the science of it - how you move your body to protect yourself, how you use a plan to attack and retreat, and how you pace yourself through a fight,\" he says in his biography. 7. His favorite dish is probably not yours: He\\'s been wined and dined by world leaders. But what Mandela loved eating most was tripe. Yup, the stomach lining of farm animals. 8. He quit his day job: He studied law at the University of Witwatersrand in Johannesburg and opened the nation\\'s first black law firm in the city in 1952. 9. He was on the U.S. terror watch list: Mandela wasn\\'t removed from the U.S. terror watch list until 2008 -- at age 89. He and other members of the African National Congress were placed on it because of their militant fight against apartheid. 10. He drew his inspiration from a poem: While he was in prison, Mandela would read William Ernest Henley\\'s \"Invictus\" to fellow prisoners. The poem, about never giving up, resonated with Mandela for its lines \"I am the master of my fate. I am the captain of my soul.\" You may know it from the movie by the same name starring Morgan Freeman as Mandela.When Jose Mourinho answered a question about the new £5billion television contract on Wednesday evening, spontaneous applause broke out in the room from a group of Chelsea fans listening in. ‘When I was living in Italy and Spain I was paying about £200 a month to have the Premier League at my house,’ he said. ‘I think the Premier League is better when I am here.’ He really believes that stuff and so do his legions of supporters. Jose Mourinho and his Chelsea backroom team celebrate the late winner against Everton on Wednesday . Mourinho embraces Branislav Ivanovic after Chelsea\\'s Premier League victory at Stamford Bridge . Mourinho speaks to the media at the post-match press conference on Wednesday night . Sportsmail\\'s team of reporters discuss whether Jose Mourinho\\'s off-the-field antics are starting to harm his and the Premier League\\'s reputations. Click HERE to read. With that razor-sharp quip he walked out, heading back towards the manager’s office at Stamford Bridge to discuss with members of his backroom team the mayhem that occurred on the pitch in the 88th minute. On Thursday night, when the FA announced that Branislav Ivanovic had escaped punishment for throttling Everton substitute James McCarthy and then laying his forehead on him, it was regarded by the club as a major victory. They ignored the rationale, the television pictures that clearly showed referee Jonathan Moss on the scene when Ivanovic grabbed McCarthy round the neck after Gareth Barry had nobbled Willian. The TV images showing Ivanovic’s head make contact with McCarthy’s left ear were inconclusive, according to a panel of three former referees. Because of that, Ivanovic has got off scot-free. This literally is a fight for the title, with Chelsea happy to antagonise the FA, the opposition, officials, TV companies and the rest of the media with this increasingly odd behaviour. Mourinho has everybody on the run and on Thursday it was the turn of the FA to produce a series of statistics in an attempt to disprove his theory that a campaign has been started to destabilise Chelsea. Since 2005, Arsenal, Manchester City and Newcastle United have been charged six times by the FA for incidents that were not seen by the match official. Manchester United, Stoke City and Chelsea have been charged four times. The idea that there is a vendetta is a myth. Ivanovic (centre left) grabs Everton midfielder James McCarthy in a headlock as tempers fray . Ivanovic (third right) appears to aim a headbutt in the direction of McCarthy on Wednesday . Ivanovic also clashes with Everton\\'s John Stones in the closing stages of the Premier League match . Diego Costa (right) celebrates wildly after the final whistle is blown at Stamford Bridge . Mourinho (left) and assistant coach Steve Holland get animated against Everton on Wednesday night . Still, given Mourinho’s consistent claims about the injustices in the game, it would certainly help if the FA publicly clarified the position surrounding off-the-ball incidents. Confusion reigns. When he was questioned about Gary Cahill’s off-the-ball kick in the back of Harry Kane at White Hart Lane on New Year’s Day, Mourinho responded with a query about Raheem Sterling’s escape for raising his hands to Swansea defender Federico Fernandez. On Tuesday, Mourinho highlighted the FA’s failure to take any action against an unnamed player (Robin van Persie) for the glance at James Tomkins before the Manchester United man elbowed him at Upton Park on Sunday. From time to time, the Chelsea manager tosses in Arsene Wenger’s shove on him at Stamford Bridge on October 5, for which the Arsenal manager went unpunished. The memory plays tricks sometimes and Mourinho’s acolytes have forgotten how miserable life was in the weeks and months before he was sacked by Roman Abramovich in 2007 after drawing 1-1 with Rosenborg. We are close to revisiting that era, returning to a period when English football had earned a rest from the Chelsea manager. Mourinho (right) and Arsenal manager Arsene Wenger during a match at Stamford Bridge last October . Mourinho (left) celebrates wildly after Chelsea beat Manchester City at the Etihad Stadium last year . Seven years on they brought him back and just over a year into his five-year deal, nothing has changed. It is a sad day when the normally mild-mannered Chelsea assistant manager Steve Holland is seen haranguing the fourth official, as he did repeatedly on Wednesday. With coaching assistant Rui Faria, who fell to his knees and then grasped colleague Silvino Louro in a bearhug after Willian’s dramatic 89th-minute winner, it is to be expected. Now Holland is at it as well. In recent weeks, Chelsea’s technical area has become like the Dog & Duck at chucking out time. Someone needs to call time on it. What happened to winning with dignity or showing a bit of class? What a shame because Chelsea have a brilliant team, seven points clear of Manchester City in the Barclays Premier League and hurtling towards the title. At this rate it is in danger of being tainted. Willian (centre) celebrates with his team-mates after scoring a late winner for Chelsea against Everton . Mourinho argues with a Crystal Palace ball boy during his side\\'s 1-0 defeat at Selhurst Park last season . Mourinho keeps the ball away from Steven Gerrard during Chelsea\\'s 2-0 win over Liverpool last season . Why should English football accept this yobbish, boorish behaviour on the touchline from one of the world’s super coaches and his increasingly aggressive assistants? With the exception of Abramovich, there is no one on the Chelsea staff who is prepared to tell Mourinho to fall into line. There is no question who runs the show there. Not only that, he is being allowed to run rings around English football.(CNN) -- When it comes to India travel, the state of Punjab, which borders Pakistan, doesn\\'t make it to the top of that many itineraries. That\\'s good news for intrepid travelers. From temples so gold they\\'ll make your eyes water, to food you\\'ll be longing for days after it hits your lips, Punjab is India at its colorful, lively best. 1. Harmandir Sahib (Golden Temple) Located in Amritsar, the holiest shrine of the Sikh religion, Harmandir Sahib (Golden Temple), is Punjab\\'s top attraction. Reflections of its gold-encrusted dome shimmer in the clear water of the Amrit Sarovar (Pool of Nectar), which greets those who enter from the north gate, the most impressive of all four entries. To take it all in, it\\'s best to simply walk around the marble pathway surrounding the pool. Its waters are said to have healing powers. Devotional music, bathing pilgrims, golden carps and meditating devotees add to the atmosphere. Worth keeping in mind: There\\'s a long line to visit the inner sanctum (Darbar Sahib), where the holy book of the Sikhs, \"Guru Granth Sahib,\" is kept. Visits are best scheduled for the late afternoon and early evening; every night the temple complex is illuminated. Simply stunning. You can end the day at the temple\\'s langar (canteen). The scale of its free meal, put on daily by volunteers, is impressive, with 50,000 meals served each day, according to temple officials. The Golden Temple, Golden Temple Road, Amritsar, Punjab; +91 183 255 3957; open daily, 6 a.m.-2 a.m. 2. Punjabi eats . The city of Amritsar has a rich culinary heritage. Building a big enough appetite to give it the attention it deserves is a challenge. From melt-in-mouth chicken tikka to cream-laden, extra-large tumblers of yogurt lassi, Amritsar is an Indian food lover\\'s dream destination. The best way to get a balanced taste is to start in Kesar Da Dhaba. Hidden in the twisting lanes of the old part of the city, it\\'s reached only by foot, cycle rickshaw or bicycle. Founded in 1916, the restaurant is particularly popular with vegetarians. There\\'s crispy butter-smeared tandoori bread; the house specialty, daal makhani, comes with a thick layer of ghee. At Makhan Fish and Chicken Corner, fried singhara (catfish) fillets are a must-try. They\\'re coated in chickpea flour and caraway seeds then cooked. Perfect with cold beer. The creamiest and freshest yogurt lassi in Amritsar is at Surjan Singh Milk Bhandar; the thick drink is a mini-meal in itself. Kesar da Dhaba, Chowk Passian; +91 183 255 2103 . Makhan Fish & Chicken Corner; 21A, Majitha Road, near Maddan Hospital; +91 98 1519 3241 . Surjan Singh Milk Bhandar, Chowk Regent Cinema, GT Road . 3. Border face off . One of Punjab\\'s most interesting rituals is the lowering of the flags ceremony, held at India\\'s Wagah border each evening before sunset. Wagah is about 25 kilometers from the Pakistani city of Lahore. Indian guards in red and gold turbans march out to meet their Pakistani counterparts in a choreographed affair greeted with loud applause from onlookers. It\\'s a splendid show of patriotism, pomp and panache. To secure good seats, it\\'s best to get there by midafternoon or arrange for a VIP pass from the Border Security Force station. For security reasons, bags and backpacks aren\\'t allowed. The border is 30 kilometers from Amritsar and takes about 45 minutes to reach by car. 4. Punjabiyat Lodge . Punjabiyat Lodge doesn\\'t conjure quintessential images of India. Instead what you get here are feather-light beds with unobstructed views of green fields as far as the eye can see. The nature retreat in Punjab\\'s agricultural heartland is a great place to de-stress through simple rural experiences. Visitors can lend a helping hand to farmers, cycle around the village, milk cattle or take a tractor ride. Rooms are luxurious but eco-friendly. Guests get a sense of remoteness and privacy; there are only four cottages, all set in a wheat field. Meals are a pleasure. Breakfast is served near the fields, lunch under the shade of sprawling trees and dinner on a terrace under a canopy of stars. Most meals are made with ingredients grown on the lodge\\'s farm, says Punjabiyat manager Jagdeep Singh. Punjabiyat Lodge is in the village of Saidowal-Gunopur, about 75 kilometers from Amritsar; +91 981 870 5508 . 5. Sarai Amanat Khan . A scenic 45-minute drive from Amritsar, Sarai Amanat Khan is an old, crumbling caravanserai (roadside inn). Built by Mughals in 1640, it\\'s a fantastic remnant of ancient architecture. It once served travelers on the Agra-to-Lahore trade route and was a prosperous pit stop back in the day. These days, the historic ruins only hint at its glorious past. Photogenic features of the complex include an arched entry, fading calligraphy, Persian tiles, eroding walls and a mosque. Amanat Khan, the inn\\'s namesake, is believed to be the same guy who etched the calligraphy on the Taj Mahal in Agra. It\\'s a great day trip from Amritsar. 6. Ranjit\\'s Svaasa hotel . There are few better ways to end a wild day in Amritsar than climbing into one of the plush beds at the 200-year-old Ranjit\\'s Svaasa hotel. Abhimanyu and his partner, Gayatri, are the gracious hosts of this charming, well-hidden retreat. The owners are seventh-generation members of the Punjabi Mehra clan, says general manager Deepak Biala. Corridors are dotted with family portraits, antique furniture and curios collected over their many travels. Secluded terraces and lounging spaces are spread throughout the property. The Rattan Chand and Dev Chand suites each come with a marble bathtub and a sitting area framed by large windows. Guest can learn to whip up a traditional Punjabi meal or hit the spa for an innovative wine-and-sugar scrub or face treatment with turmeric, sandalwood and organic rose water. Ranjit\\'s Svaasa, 47A Mall Road, Amritsar; +91 183 256 6618; rooms from RS 6,500 ($108)(CNN) -- Three Delaware day care workers were arrested after police got hold of a \"disturbing\" and \"shocking\" cell phone video that, authorities say, shows two toddlers taking part in a fight the workers had organized. Police said Tuesday that they arrested Tiana Harris, 19; Estefania Myers, 21; and Lisa Parker, 47, who have been charged with assault, reckless endangerment, endangering the welfare of a child and conspiracy. On Saturday, authorities responded to an unrelated incident and a person whom police would not identify showed them video of the 3-year-old boys fighting in March. The toddlers were not seriously injured, but they were \"clearly hurting each other,\" said Dover Police Capt. Tim Stump. Authorities have not released the video but say one day care worker said \"No pinching, only punching\" after one of the boys complained that the other had pinched him. The video purportedly shows seven other children seated in the room with their backs to the fighting, according to police. \"It\\'s not like they didn\\'t know what was going on, and they were just encouraging them to continue,\" Stump said. \"One of the children attempted to run, but one of the teachers pushes him back into the fray. \"We are looking into the possibility that this was not the first time it happened, but it appears to be isolated, and it seems the administration was in the dark about this,\" he added. Police made the arrests Monday and addressed the incident that evening with parents and guardians of the children who attended the day care center. A spokesman for the state Division of Family Services said the agency dispatched an institutional abuse investigator to work with Dover police during their investigation. \"Depending on our findings, these women could be prohibited from working in the public sector, especially with children or senior citizens,\" agency spokesman Joseph Smack said, adding that all three women had passed background checks before their employment at the center. \"It\\'s rare to see a case like this where the staff encouraged this type of behavior,\" Smack said. Calls to the day care center were not returned, though police say the company\\'s business license has been suspended. The three suspects and their attorneys could not be immediately reached for comment. Police said the women have posted $10,000 bail and are awaiting trial. More from CNN Justice . U.S. Open tennis ref charged with killing husband . More body parts found in Toronto area . Woman held captive in basement sues city . Medical examiner rules death of handcuffed suspect a suicide .By . Tamara Cohen . Fixed Odds Betting Terminals  allow users to spend up to £100 a go and are blamed for a  rise in gambling . Betting machines dubbed the ‘crack cocaine of gambling’ could spread to arcades and service stations as part of proposals from the amusement industry. Ministers are under pressure to allow the machines – which are currently only allowed in betting shops – to be more widespread. Fixed Odds Betting Terminals (FOBTs) are casino-style games which allow users to spend up to £100 a spin and are blamed for a worrying rise in problem gambling. They generate more than half of bookmakers’ profits. However they have been subject to greater restrictions since April, when new rules meant anyone wanting to spend over £50 must inform staff. Now BACTA, which represents the British amusement industry, is lobbying to be allowed to host the machines. In a letter to MPs and peers, the trade body says if the Government has not cracked down on the terminals, then they should be allowed in ‘any regulated adult-only gambling establishment’. It adds that it is ‘unfair’ to let betting shops reap all the benefits from the profitable machines. ‘The current situation... makes no sense and gives the bookmakers an unfair advantage,’ BACTA says. ‘If the Government deems [£50] a safe limit for bookmakers there is no reason that it is not safe for everybody.’ Campaigners say the amusement industry would have a strong case on competition grounds. There are around 33,000 FOBTs in the UK, but Adrian Parkinson, of the Campaign for Fairer Gambling, said this move could add another 8,000. Ministers are under pressure to allow the machines – which are currently only allowed in betting shops – to be more widespread across the UK after BACTA started lobbying for them to feature in the amusement industry . ‘How can the Government say, ‘No’ when they are saying to bookies that it is OK to have them?’ he said. BACTA confirmed its position but did not wish to comment further. A spokesman from the Department for Culture Media and Sport said: ‘The rules around where FOBTs can be based are very clear and they will not be moving into other areas.’By . Cindy Tran for Daily Mail Australia . and Aap . Members of feminist punk band Pussy Riot have compared Australia’s asylum seeker policy to the Russian prisoner conditions at Sydney\\'s Festival of Dangerous Ideas on Saturday night. Masha Alyokhina and Nadya Tolokonnikova opened their panel discussion at the Sydney Opera House, by addressing a proposal made by Australian activists that the pair boycott the festival, the Guardian reports. \\'We were surprised by the problems here, such as detention camps, which are similar to what is happening in Russia,\\' Tolokonnikova told an audience in Sydney. Masha Alyokhina and Nadya Tolokonnikova opened their panel discussion at Sydney\\'s Festival of Dangerous Ideas . The pair met activists on Friday night to discuss the calls for them to boycott the festival over links between its co-organisers at the St James Ethics Centre and the federal government\\'s asylum seeker strategy. Instead of refusing to attend, the pair said that speaking at the festival would hopefully draw attention to the topic. The members also called on Australia to withdraw its invitation to President Vladimir Putin to attend this year\\'s G20 summit. Members of a feminist punk band Pussy Riot have compared Australia\\'s asylum seeker policy to the Russian prisoner conditions . Alyokhina and Tolokonnikova were both sentenced to two years in jail after staging a protest performance in a Moscow cathedral in 2012 . \\'We think that this person has no place at the G20,\\' Alyokhina said. When Prime Minister Tony Abbott addressed calls for Putin to be excluded from the G20 on Friday, he said it was weighing on his mind. \\'It\\'s not a decision which Australia really has a right to make unilaterally,\\' he told reporters. Alyokhina and Tolokonnikova were both sentenced to two years in jail and were released from prison in December 2013 after staging a protest performance in a Moscow cathedral in 2012. But the women said the situation in Russia was so repressive they would not be able to repeat their cathedral performance. Since their imprisonment, both women have campaigned to defend the rights of prisoners. Members of the all-girl punk band Pussy Riot - Nadezhda Tolokonnikova, Maria Alyokhina and Yekaterina Samutsevich sit in a glass-walled cage during a court hearing in Moscow in August 2012 . Nadezhda Tolokonnikova of Russian punk group Pussy Riot walks in front of the cathedral of Christ of Savior in Moscow in December 2013 .Queens Park Rangers are talking to Blackpool midfielder Tom Ince. Hull manager Steve Bruce has also spoken to the England U21 international and Stoke are interested as well. The 22-year-old spent the second half of last season on loan at Crystal Palace and has targeted a move back to the Premier League having rejected a possible move to Inter Milan. VIDEO Scroll down to watch Tom Ince receive a mysterious package . In demand: Tom Ince rejected Inter Milan move as he wants to play in the Premier League . Should Ince move to another club in England, then Blackpool would be entitled to compensation as he is under 23. Blackpool believe they could command £8m owing to the fact Palace paid a £1.5m loan fee in January. Ince has talked with Harry Redknapp\\'s club but any pending transfer tribunal fee may have a bearing on his final destination. Close bond: Tom receives instructions from his dad Paul Ince during his time as manager of Blackpool . Play-off winners: Harry Redknapp helped QPR make a return to the Premier League .Scathing: A report says Cliff Richard had his privacy violated during the police raid on his home . Sir Cliff Richard had his privacy violated after a secret deal between police and the BBC to film a raid on his house, a report says. The horrified pop star was left ‘unnecessarily distressed’ after learning police had swooped on his £3.5million home in Berkshire over a sex assault allegation dating from 1985 only when he saw it on TV while in Portugal. Images were beamed live around the world last August from a camera filming from a helicopter. Now a previously unpublished report says the deal between the BBC and the police should never have been done – suggesting Sir Cliff should not have been publicly humiliated in this way. It brands senior officials at South Yorkshire Police incompetent and calls the BBC dishonest for its explanation of how it came to know about the raid. After a BBC reporter approached the force, police chiefs allowed a reporting team including a camera crew to show officers searching the star’s home. The coverage caused a major row, and the findings by independent investigator and former chief constable Andy Trotter will reignite the controversy. Sir Cliff has not been arrested or charged. But many viewers said the BBC coverage made the 74-year-old singer look guilty. The damning report – released to the Daily Mail under the Freedom of Information Act – concludes: . Mr Trotter says: ‘People have seen a search of Sir Cliff Richard’s apartment unfold on television with details of a serious allegation put into the public domain prior to him being interviewed by the police. Scroll down for video . Coverage: BBC reporter David Sillito outside Sir Cliff\\'s home. His colleague Dan Johnson (not pictured) was invited in for a meeting with senior figures at South Yorkshire Police . Consequence: The deal struck between the force and the BBC led to detailed coverage of the raid on the complex where Sir Cliff had a flat in Sunningdale, Berkshire (pictured), including a news helicopter . The search and the nature of the allegation... certainly interfered with his privacy and may well have caused unnecessary distress.’ He concludes that had the force refused to co-operate, the BBC would probably never have run the story. Although the BBC reporter, Dan Johnson, was not interviewed, Mr Trotter decided the corporation had not been fully open about how it came to hear about the allegation against Sir Cliff. The BBC claim – that Mr Johnson had persuaded South Yorkshire Police to agree the deal when all he knew was the name of the celebrity suspect – was ‘not one I believe to be credible’, Mr Trotter said. Evidence supported the police account that Mr Johnson had detailed knowledge and ‘knew as much’ as police did when he made contact. The BBC has never revealed the source of the original information. Up close: The footage of the raid showed several investigators entering and had images inside the house . News event: But Sir Cliff, who maintains his innocence, has not been arrested or charged over the claim . Sir Cliff has called the allegation that he sexually assaulted a boy under the age of 16 in 1985 ‘completely false’. He was interviewed by police under caution and, more than six months on, inquiries are on-going. Mr Trotter was asked to investigate police handling of the raid by police and crime commissioner Shaun Wright. Analysis reveals the BBC journalist contacted the force’s communications director Carrie Goodwin on July 14 after an alleged leak from Operation Yewtree, the inquiry into abuse claims involving Jimmy Savile. A meeting was held the next day with Mr Johnson and Detective Superintendent Matt Fenwick, who agreed to tell him the date and location of the raid in exchange for him holding the story until that day to protect the investigation. The chief constable was also informed of the agreement. Mr Trotter said Miss Goodwin should not have arranged the meeting with Mr Fenwick, not have confirmed any information about the inquiry to the BBC reporter and not have agreed to notify him of the search. Mr Fenwick should have refused to meet or disclose any details to the BBC. And Chief Constable David Crompton ‘could have rescinded the agreement’. A South Yorkshire Police spokesman said: ‘While we believe our actions in relation to dealing with the media were within policy and were well intended, they were ultimately flawed and we regret the additional anxiety which was caused to Sir Cliff Richard.’ The BBC was not directly involved in Mr Trotter’s review. A spokesman said: ‘The home affairs committee has already endorsed the way the BBC handled this story. We have nothing further to add.’ A spokesman for Sir Cliff said he would not comment.Driving tests should have a distinction grade to improve road safety, a Tory minister has said. Skills minister Matthew Hancock said it is wrong that would-be drivers can only pass or fail. He said that if there was a higher level to aspire to, insurance firms would be able to offer cheaper premiums to the best drivers – which could make the country’s roads safer. Test: Almost a quarter of the road accidents resulting in death or serious injury last year involved a driver under 24. That age group is roughly four times more likely to be involved in a serious accident (file picture) It comes after the Government said it was considering raising the driving age to 18 – from the current 17 – in a attempt to reduce the number of fatal accidents. Youths could be forced to wait until they are 19 before they qualify for a full licence, and all motorists under 30 could be banned from giving their friends a lift or driving at night for 12 months after they pass their test. Almost a quarter of the road accidents resulting in death or serious injury last year involved a driver under 24. That age group is roughly four times more likely to be involved in a serious accident. Mr Hancock, who is Conservative MP for West Suffolk, made his suggestion at a car factory in Oxford last week, at an event where apprentices met David Cameron. ‘One of the things that’s in the . implementation platform is that every apprenticeship in the future will . have a pass, fail or distinction,’ he said. Fifteen minors allowed: Currently, learner drivers are given some indication of how they fared by seeing their report card at the end of the test, on which their minor or major faults are marked (file picture) ‘I’m personally very committed to this. People say\\u2009...\\u2009you can be a perfectly good bricklayer or you can be brilliant. Parents who park illegally when dropping off or picking up their children from school could soon find themselves caught on camera. The cameras, which are timed to switch on during the morning and afternoon school run, spot those who stop in restricted zones. The surveillance system records footage of the number plate and no-parking sign and sends it to councils, which can then use it\\xa0 to issue fines of up to £120. Five councils in London and at least two others outside the capital are testing the system, which costs £16,000. Manufacturer Videalert refused to say which they were. Actor Tom Conti, 71, who drops his grandchild off at school in London, compared the camera system to surveillance by the Stasi. He said: ‘The councils are doing this for revenue. To target parents is frankly disgusting.’ ‘People say the driving test is just pass or fail. But actually if we had a distinction on the driving test, maybe those people could get lower premiums and be safer drivers.’ Currently, learner drivers are given some indication of how they fared by seeing their report card at the end of the test, on which their minor or major faults are marked. Up to 15 minors are allowed before they will be failed. Sources at the Department for Business and Skills said it was not official Government policy to have a distinction level, but that it was an idea Mr Hancock was in favour of. He is particularly close to Chancellor George Osborne, meaning his thoughts are discussed at the highest levels. Last night Edmund King, president of the AA, said the idea was ‘interesting’ and could help make roads safer. He said the distinction pass could be reserved for those who excelled in their tests and completed advanced lessons. ‘Young drivers are not ready for Britain’s roads after passing their tests,’ he said. ‘They are ten times more likely to have an accident in the first year after passing their test. ‘The idea of having a distinction is interesting. If a new driver has completed lessons on motorways and driving at night and excelled at their test they could get a lower insurance premium.’By . Daily Mail Reporter and Associated Press . PUBLISHED: . 16:17 EST, 18 March 2013 . | . UPDATED: . 16:34 EST, 18 March 2013 . A lawyer for a woman who says Michael Jordan fathered her teenage son has withdrawn her paternity suit, but left open the possibility that it could be refiled. Pamela Smith \\'stands by the facts alleged in her original filing,\\' Atlanta attorney Randall Kessler told The Associated Press today. Kessler said the lawsuit was withdrawn on Friday without prejudice, meaning it can be refiled. Scroll down for video . Claim: Pamela Smith, left, has withdrawn her paternity case against basketball legend Michael Jordan, right . \\'Father and son\\': Mr Jordan with Taj, who claims to be the son of the former sports star . Smith filed the suit herself last month against Jordan and asked that the basketball hall of famer take a paternity test and pay child support. She later hired Kessler\\'s firm. Jordan has denied that he\\'s the father of Smith\\'s 16-year-old son. A lawyer for the majority owner of the NBA\\'s Charlotte Bobcats has said Smith\\'s divorce filings established her ex-husband as the father. Jordan\\'s spokeswoman Estee Portnoy on Monday confirmed that Smith dismissed the paternity suit. Portnoy said there was no settlement or money paid to Smith. She said the lawsuit had no merit. Sued: Jordan, pictured watching his Charlotte Bobcats, was embroiled in a paternity case, which has now been withdrawn . Kessler previously said the ex-husband hasn\\'t paid child support or been involved in the teen\\'s life. Smith \\'began this case without an attorney and did her best to file what she believed to be a legally appropriate case,\\' Kessler said in a statement. \\'She then hired our firm just before the first court appearance. Ms. Smith has relied on our advice and determined that dismissal at this time, without prejudice, is in her son\\'s best interests.\\' The . teen, who uses the surname Jordan, has in the past taken to the . internet to insist that the former Chicago Bulls star is his father. According to TMZ, the woman was . hesitant to bring Jordan\\'s name through the mud but her teenage son . begged his mother do everything she could to get Jordan to acknowledge . that the boy was his son. Heyday: The basketball legend is seen playing for the Chicago Bulls during his heyday in 1988 . Video: The teenager has taken to YouTube to insist that his father is the famous athlete . Affection: Taj, an aspiring rapper based in Georgia, is pictured with his mother . Jordan is scheduled is marry fiancée Yvette Prieto next month . The star remains one of the most . recognized sports figures in the world nearly 10 years after his . retirement from the NBA and is considered by many to be the greatest basketball player of all time. He was a 14-time NBA all-star, won six championships with the Chicago Bulls and was named the finals MVP six times. On March 17, 2010, the NBA Board of . Governors unanimously approved Jordan\\'s purchase of the Bobcats, making . him the first former NBA player ever to become the majority owner of a . league franchise. This is not the first time he has been . the subject of a paternity suit - in 1991, his former lover Karla Knafel . claimed the star was the father of her child, but a DNA test proved . that this was not the case. Appeal: Taj has said he wants Mr Jordan to be more involved with his life . Engaged: Jordan is pictured with his fiancée Yvette Prieto, whom he is set to marry next month . Watch the video of Taj claiming to be Michael Jordan\\'s son .She did it – and this time, that’s a good thing. \\n'"
            ]
          },
          "execution_count": 8,
          "metadata": {},
          "output_type": "execute_result"
        }
      ],
      "source": [
        "lines[0]"
      ]
    },
    {
      "cell_type": "markdown",
      "metadata": {
        "id": "W6LKz4t1tu0S"
      },
      "source": [
        "### Preprocessing\n",
        "\n",
        "1. Sentence splitting\n",
        "2. Stop word filtering and stemming\n",
        "3. Building vocabulary with tf.Tokenizer"
      ]
    },
    {
      "cell_type": "code",
      "execution_count": null,
      "metadata": {
        "colab": {
          "base_uri": "https://localhost:8080/"
        },
        "id": "DgIb8T1Lanvf",
        "outputId": "8fd45b30-755a-4fda-eddc-88f0e09fc547"
      },
      "outputs": [
        {
          "name": "stderr",
          "output_type": "stream",
          "text": [
            "[nltk_data] Downloading package punkt to /root/nltk_data...\n",
            "[nltk_data]   Unzipping tokenizers/punkt.zip.\n"
          ]
        },
        {
          "data": {
            "text/plain": [
              "True"
            ]
          },
          "execution_count": 9,
          "metadata": {},
          "output_type": "execute_result"
        }
      ],
      "source": [
        "import nltk\n",
        "nltk.download('punkt')"
      ]
    },
    {
      "cell_type": "code",
      "execution_count": null,
      "metadata": {
        "id": "SSSDmVCJasUk"
      },
      "outputs": [],
      "source": [
        "sents = []\n",
        "for line in lines:\n",
        "  sents += nltk.tokenize.sent_tokenize(line)"
      ]
    },
    {
      "cell_type": "code",
      "execution_count": null,
      "metadata": {
        "colab": {
          "base_uri": "https://localhost:8080/"
        },
        "id": "KCnTqkU2baE8",
        "outputId": "24fa303e-db3a-4b36-d80f-f009c73fcfe2"
      },
      "outputs": [
        {
          "data": {
            "text/plain": [
              "3541571"
            ]
          },
          "execution_count": 11,
          "metadata": {},
          "output_type": "execute_result"
        }
      ],
      "source": [
        "len(sents)"
      ]
    },
    {
      "cell_type": "code",
      "execution_count": null,
      "metadata": {
        "id": "mYd9GkW20zOv"
      },
      "outputs": [],
      "source": [
        "sents=sents[:1500000]"
      ]
    },
    {
      "cell_type": "code",
      "execution_count": null,
      "metadata": {
        "colab": {
          "base_uri": "https://localhost:8080/",
          "height": 35
        },
        "id": "Qbf6tcUJvhDH",
        "outputId": "dee8aee9-50c7-4b23-dbf0-756d985c188d"
      },
      "outputs": [
        {
          "data": {
            "application/vnd.google.colaboratory.intrinsic+json": {
              "type": "string"
            },
            "text/plain": [
              "'The justices on Monday heard six separate appeals, which were consolidated into more than 100 minutes of often dense oral arguments.'"
            ]
          },
          "execution_count": 13,
          "metadata": {},
          "output_type": "execute_result"
        }
      ],
      "source": [
        "sents[1000]"
      ]
    },
    {
      "cell_type": "code",
      "execution_count": null,
      "metadata": {
        "colab": {
          "base_uri": "https://localhost:8080/"
        },
        "id": "aI6rHpu_zzSw",
        "outputId": "b0f5963f-5a41-4f91-f3c6-04d531b39f53"
      },
      "outputs": [
        {
          "name": "stderr",
          "output_type": "stream",
          "text": [
            "[nltk_data] Downloading package stopwords to /root/nltk_data...\n",
            "[nltk_data]   Unzipping corpora/stopwords.zip.\n"
          ]
        }
      ],
      "source": [
        "from nltk.corpus import stopwords\n",
        "nltk.download('stopwords')\n",
        "stop = set(stopwords.words(\"english\"))"
      ]
    },
    {
      "cell_type": "code",
      "execution_count": null,
      "metadata": {
        "colab": {
          "base_uri": "https://localhost:8080/"
        },
        "id": "iAdyYCqn0KVC",
        "outputId": "805a973a-e27e-4bda-e34c-7e9a44d3e33c"
      },
      "outputs": [
        {
          "name": "stdout",
          "output_type": "stream",
          "text": [
            "179\n"
          ]
        },
        {
          "data": {
            "text/plain": [
              "{'a',\n",
              " 'about',\n",
              " 'above',\n",
              " 'after',\n",
              " 'again',\n",
              " 'against',\n",
              " 'ain',\n",
              " 'all',\n",
              " 'am',\n",
              " 'an',\n",
              " 'and',\n",
              " 'any',\n",
              " 'are',\n",
              " 'aren',\n",
              " \"aren't\",\n",
              " 'as',\n",
              " 'at',\n",
              " 'be',\n",
              " 'because',\n",
              " 'been',\n",
              " 'before',\n",
              " 'being',\n",
              " 'below',\n",
              " 'between',\n",
              " 'both',\n",
              " 'but',\n",
              " 'by',\n",
              " 'can',\n",
              " 'couldn',\n",
              " \"couldn't\",\n",
              " 'd',\n",
              " 'did',\n",
              " 'didn',\n",
              " \"didn't\",\n",
              " 'do',\n",
              " 'does',\n",
              " 'doesn',\n",
              " \"doesn't\",\n",
              " 'doing',\n",
              " 'don',\n",
              " \"don't\",\n",
              " 'down',\n",
              " 'during',\n",
              " 'each',\n",
              " 'few',\n",
              " 'for',\n",
              " 'from',\n",
              " 'further',\n",
              " 'had',\n",
              " 'hadn',\n",
              " \"hadn't\",\n",
              " 'has',\n",
              " 'hasn',\n",
              " \"hasn't\",\n",
              " 'have',\n",
              " 'haven',\n",
              " \"haven't\",\n",
              " 'having',\n",
              " 'he',\n",
              " 'her',\n",
              " 'here',\n",
              " 'hers',\n",
              " 'herself',\n",
              " 'him',\n",
              " 'himself',\n",
              " 'his',\n",
              " 'how',\n",
              " 'i',\n",
              " 'if',\n",
              " 'in',\n",
              " 'into',\n",
              " 'is',\n",
              " 'isn',\n",
              " \"isn't\",\n",
              " 'it',\n",
              " \"it's\",\n",
              " 'its',\n",
              " 'itself',\n",
              " 'just',\n",
              " 'll',\n",
              " 'm',\n",
              " 'ma',\n",
              " 'me',\n",
              " 'mightn',\n",
              " \"mightn't\",\n",
              " 'more',\n",
              " 'most',\n",
              " 'mustn',\n",
              " \"mustn't\",\n",
              " 'my',\n",
              " 'myself',\n",
              " 'needn',\n",
              " \"needn't\",\n",
              " 'no',\n",
              " 'nor',\n",
              " 'not',\n",
              " 'now',\n",
              " 'o',\n",
              " 'of',\n",
              " 'off',\n",
              " 'on',\n",
              " 'once',\n",
              " 'only',\n",
              " 'or',\n",
              " 'other',\n",
              " 'our',\n",
              " 'ours',\n",
              " 'ourselves',\n",
              " 'out',\n",
              " 'over',\n",
              " 'own',\n",
              " 're',\n",
              " 's',\n",
              " 'same',\n",
              " 'shan',\n",
              " \"shan't\",\n",
              " 'she',\n",
              " \"she's\",\n",
              " 'should',\n",
              " \"should've\",\n",
              " 'shouldn',\n",
              " \"shouldn't\",\n",
              " 'so',\n",
              " 'some',\n",
              " 'such',\n",
              " 't',\n",
              " 'than',\n",
              " 'that',\n",
              " \"that'll\",\n",
              " 'the',\n",
              " 'their',\n",
              " 'theirs',\n",
              " 'them',\n",
              " 'themselves',\n",
              " 'then',\n",
              " 'there',\n",
              " 'these',\n",
              " 'they',\n",
              " 'this',\n",
              " 'those',\n",
              " 'through',\n",
              " 'to',\n",
              " 'too',\n",
              " 'under',\n",
              " 'until',\n",
              " 'up',\n",
              " 've',\n",
              " 'very',\n",
              " 'was',\n",
              " 'wasn',\n",
              " \"wasn't\",\n",
              " 'we',\n",
              " 'were',\n",
              " 'weren',\n",
              " \"weren't\",\n",
              " 'what',\n",
              " 'when',\n",
              " 'where',\n",
              " 'which',\n",
              " 'while',\n",
              " 'who',\n",
              " 'whom',\n",
              " 'why',\n",
              " 'will',\n",
              " 'with',\n",
              " 'won',\n",
              " \"won't\",\n",
              " 'wouldn',\n",
              " \"wouldn't\",\n",
              " 'y',\n",
              " 'you',\n",
              " \"you'd\",\n",
              " \"you'll\",\n",
              " \"you're\",\n",
              " \"you've\",\n",
              " 'your',\n",
              " 'yours',\n",
              " 'yourself',\n",
              " 'yourselves'}"
            ]
          },
          "execution_count": 15,
          "metadata": {},
          "output_type": "execute_result"
        }
      ],
      "source": [
        "print(len(stop))\n",
        "stop"
      ]
    },
    {
      "cell_type": "code",
      "execution_count": null,
      "metadata": {
        "colab": {
          "base_uri": "https://localhost:8080/"
        },
        "id": "j0KUnLsFz49G",
        "outputId": "c6d9ef6e-295f-40c3-8e1e-6c6dbb290212"
      },
      "outputs": [
        {
          "name": "stdout",
          "output_type": "stream",
          "text": [
            "0\n",
            "100000\n",
            "200000\n",
            "300000\n",
            "400000\n",
            "500000\n",
            "600000\n",
            "700000\n",
            "800000\n",
            "900000\n",
            "1000000\n",
            "1100000\n",
            "1200000\n",
            "1300000\n",
            "1400000\n"
          ]
        }
      ],
      "source": [
        "for i in range(len(sents)):\n",
        "  sents[i] = \" \".join([word for word in \n",
        "                       nltk.tokenize.word_tokenize(sents[i].lower()) \n",
        "                       if word not in stop]) \n",
        "  if i%100000==0:\n",
        "    print(i)"
      ]
    },
    {
      "cell_type": "code",
      "execution_count": null,
      "metadata": {
        "colab": {
          "base_uri": "https://localhost:8080/",
          "height": 35
        },
        "id": "NtGJ1Nya0rlF",
        "outputId": "f07b4cd7-63c3-4e39-c6c2-784b8a092d22"
      },
      "outputs": [
        {
          "data": {
            "application/vnd.google.colaboratory.intrinsic+json": {
              "type": "string"
            },
            "text/plain": [
              "'justices monday heard six separate appeals , consolidated 100 minutes often dense oral arguments .'"
            ]
          },
          "execution_count": 17,
          "metadata": {},
          "output_type": "execute_result"
        }
      ],
      "source": [
        "sents[1000]"
      ]
    },
    {
      "cell_type": "markdown",
      "metadata": {
        "id": "NAglXem_mF7H"
      },
      "source": [
        "### Stemming to decrease vocabulary size (not always recommended in a real world scenario)"
      ]
    },
    {
      "cell_type": "code",
      "execution_count": null,
      "metadata": {
        "id": "_2WaduXMrJT2"
      },
      "outputs": [],
      "source": [
        "from nltk.stem.snowball import SnowballStemmer\n",
        "stemmer = SnowballStemmer(\"english\")\n"
      ]
    },
    {
      "cell_type": "code",
      "execution_count": null,
      "metadata": {
        "id": "lvAEqOnnrwdb"
      },
      "outputs": [],
      "source": [
        "# Stemming\n",
        "sents = [\" \".join([stemmer.stem(word) for word in \n",
        "                   nltk.tokenize.word_tokenize(sent)]) for sent in sents]"
      ]
    },
    {
      "cell_type": "code",
      "execution_count": null,
      "metadata": {
        "colab": {
          "base_uri": "https://localhost:8080/",
          "height": 35
        },
        "id": "YY1bCzoYwv8b",
        "outputId": "c8861d7c-e515-482f-fbb7-cd33112cb376"
      },
      "outputs": [
        {
          "data": {
            "application/vnd.google.colaboratory.intrinsic+json": {
              "type": "string"
            },
            "text/plain": [
              "'justic monday heard six separ appeal , consolid 100 minut often dens oral argument .'"
            ]
          },
          "execution_count": 20,
          "metadata": {},
          "output_type": "execute_result"
        }
      ],
      "source": [
        "sents[1000]"
      ]
    },
    {
      "cell_type": "code",
      "execution_count": null,
      "metadata": {
        "id": "3YAKM1pwG8X8"
      },
      "outputs": [],
      "source": [
        "import tensorflow as tf\n",
        "import numpy as np"
      ]
    },
    {
      "cell_type": "markdown",
      "metadata": {
        "id": "xDcE0dygm_CI"
      },
      "source": [
        "### Assembling vocabulary and word counts"
      ]
    },
    {
      "cell_type": "code",
      "execution_count": null,
      "metadata": {
        "id": "iz249HEpFDy1"
      },
      "outputs": [],
      "source": [
        "num_words = 4096\n",
        "tokenizer = tf.keras.preprocessing.text.Tokenizer(num_words=num_words, \n",
        "                                                  oov_token=\"<OOV>\")"
      ]
    },
    {
      "cell_type": "code",
      "execution_count": null,
      "metadata": {
        "id": "mUYe4j1OFIgW"
      },
      "outputs": [],
      "source": [
        "tokenizer.fit_on_texts(sents)"
      ]
    },
    {
      "cell_type": "code",
      "execution_count": null,
      "metadata": {
        "colab": {
          "base_uri": "https://localhost:8080/"
        },
        "id": "4-nGR_vyC_o9",
        "outputId": "d384d83b-2257-4c40-dcf1-3332db8eb938"
      },
      "outputs": [
        {
          "name": "stdout",
          "output_type": "stream",
          "text": [
            "168271\n"
          ]
        },
        {
          "data": {
            "text/plain": [
              "{'<OOV>': 1,\n",
              " \"'s\": 2,\n",
              " 'said': 3,\n",
              " \"'\": 4,\n",
              " '’': 5,\n",
              " 'year': 6,\n",
              " 'one': 7,\n",
              " 'would': 8,\n",
              " 'peopl': 9,\n",
              " 'time': 10,\n",
              " 'say': 11,\n",
              " 'also': 12,\n",
              " '‘': 13,\n",
              " \"n't\": 14,\n",
              " 'two': 15,\n",
              " 'new': 16,\n",
              " 'last': 17,\n",
              " 'like': 18,\n",
              " 'first': 19,\n",
              " 'mr': 20,\n",
              " 'told': 21,\n",
              " 'day': 22,\n",
              " 'could': 23,\n",
              " 'polic': 24,\n",
              " 'report': 25,\n",
              " 'use': 26,\n",
              " 'work': 27,\n",
              " 'go': 28,\n",
              " 'get': 29,\n",
              " 'make': 30,\n",
              " 'state': 31,\n",
              " 'take': 32,\n",
              " 'back': 33,\n",
              " 'home': 34,\n",
              " 'old': 35,\n",
              " 'right': 36,\n",
              " 'famili': 37,\n",
              " 'show': 38,\n",
              " 'call': 39,\n",
              " 'world': 40,\n",
              " 'want': 41,\n",
              " 'three': 42,\n",
              " 'week': 43,\n",
              " '“': 44,\n",
              " 'includ': 45,\n",
              " '”': 46,\n",
              " 'look': 47,\n",
              " 'month': 48,\n",
              " '000': 49,\n",
              " 'left': 50,\n",
              " 'offic': 51,\n",
              " 'made': 52,\n",
              " 'found': 53,\n",
              " 'come': 54,\n",
              " 'even': 55,\n",
              " 'may': 56,\n",
              " 'mani': 57,\n",
              " 'govern': 58,\n",
              " 'live': 59,\n",
              " 'us': 60,\n",
              " 'way': 61,\n",
              " 'help': 62,\n",
              " '1': 63,\n",
              " 'presid': 64,\n",
              " 'court': 65,\n",
              " 'citi': 66,\n",
              " 'countri': 67,\n",
              " 'see': 68,\n",
              " 'need': 69,\n",
              " 'nation': 70,\n",
              " 'play': 71,\n",
              " 'know': 72,\n",
              " 'think': 73,\n",
              " 'hous': 74,\n",
              " 'man': 75,\n",
              " 'well': 76,\n",
              " 'sinc': 77,\n",
              " 'around': 78,\n",
              " 'part': 79,\n",
              " 'team': 80,\n",
              " 'tri': 81,\n",
              " 'ad': 82,\n",
              " 'accord': 83,\n",
              " 'unit': 84,\n",
              " 'life': 85,\n",
              " 'support': 86,\n",
              " 'follow': 87,\n",
              " 'u': 88,\n",
              " 'group': 89,\n",
              " 'still': 90,\n",
              " 'children': 91,\n",
              " 'start': 92,\n",
              " 'offici': 93,\n",
              " 'attack': 94,\n",
              " 'claim': 95,\n",
              " 'cnn': 96,\n",
              " 'case': 97,\n",
              " 'school': 98,\n",
              " 'place': 99,\n",
              " 'end': 100,\n",
              " 'pictur': 101,\n",
              " 'game': 102,\n",
              " 'kill': 103,\n",
              " 'high': 104,\n",
              " 's': 105,\n",
              " 'former': 106,\n",
              " 'public': 107,\n",
              " 'believ': 108,\n",
              " 'four': 109,\n",
              " 'ask': 110,\n",
              " 'investig': 111,\n",
              " 'anoth': 112,\n",
              " 'much': 113,\n",
              " 'video': 114,\n",
              " 'long': 115,\n",
              " '2': 116,\n",
              " 'good': 117,\n",
              " 'second': 118,\n",
              " 'death': 119,\n",
              " 'forc': 120,\n",
              " 'move': 121,\n",
              " 'chang': 122,\n",
              " 'plan': 123,\n",
              " 'put': 124,\n",
              " 'set': 125,\n",
              " 'face': 126,\n",
              " 'friend': 127,\n",
              " 're': 128,\n",
              " 'open': 129,\n",
              " '10': 130,\n",
              " 'run': 131,\n",
              " 'number': 132,\n",
              " 'million': 133,\n",
              " 'appear': 134,\n",
              " 'charg': 135,\n",
              " 'servic': 136,\n",
              " 'news': 137,\n",
              " 'next': 138,\n",
              " 'women': 139,\n",
              " 'point': 140,\n",
              " 'compani': 141,\n",
              " 'near': 142,\n",
              " '–': 143,\n",
              " 'person': 144,\n",
              " 'win': 145,\n",
              " 'thing': 146,\n",
              " 'head': 147,\n",
              " 'later': 148,\n",
              " 'car': 149,\n",
              " 'night': 150,\n",
              " 'miss': 151,\n",
              " 'never': 152,\n",
              " 'continu': 153,\n",
              " 'five': 154,\n",
              " 'mother': 155,\n",
              " 'member': 156,\n",
              " 'area': 157,\n",
              " 'die': 158,\n",
              " 'took': 159,\n",
              " 'hospit': 160,\n",
              " 'secur': 161,\n",
              " 'hour': 162,\n",
              " 'find': 163,\n",
              " 'american': 164,\n",
              " 'close': 165,\n",
              " 'got': 166,\n",
              " 'parti': 167,\n",
              " 'give': 168,\n",
              " 'author': 169,\n",
              " 'law': 170,\n",
              " 'today': 171,\n",
              " 'name': 172,\n",
              " 'issu': 173,\n",
              " 'manag': 174,\n",
              " 'top': 175,\n",
              " 'hope': 176,\n",
              " 'player': 177,\n",
              " 'post': 178,\n",
              " 'away': 179,\n",
              " 'obama': 180,\n",
              " 'realli': 181,\n",
              " '2013': 182,\n",
              " 'london': 183,\n",
              " 'health': 184,\n",
              " '5': 185,\n",
              " 'hand': 186,\n",
              " 'taken': 187,\n",
              " 'sever': 188,\n",
              " 'seen': 189,\n",
              " 'alleg': 190,\n",
              " 'happen': 191,\n",
              " 'caus': 192,\n",
              " 'releas': 193,\n",
              " 'side': 194,\n",
              " 'came': 195,\n",
              " '3': 196,\n",
              " 'uk': 197,\n",
              " 'south': 198,\n",
              " 'love': 199,\n",
              " 'remain': 200,\n",
              " 'recent': 201,\n",
              " 'per': 202,\n",
              " 'everi': 203,\n",
              " 'best': 204,\n",
              " 'intern': 205,\n",
              " 'howev': 206,\n",
              " 'expect': 207,\n",
              " 'bodi': 208,\n",
              " 'univers': 209,\n",
              " 'record': 210,\n",
              " 'final': 211,\n",
              " 'fire': 212,\n",
              " 'statement': 213,\n",
              " 'went': 214,\n",
              " 'turn': 215,\n",
              " 'the': 216,\n",
              " 'return': 217,\n",
              " 'est': 218,\n",
              " 'half': 219,\n",
              " 'men': 220,\n",
              " 'six': 221,\n",
              " 'season': 222,\n",
              " 'club': 223,\n",
              " 'leav': 224,\n",
              " 'north': 225,\n",
              " 'feel': 226,\n",
              " 'differ': 227,\n",
              " 'young': 228,\n",
              " '20': 229,\n",
              " 'becom': 230,\n",
              " 'lead': 231,\n",
              " 'allow': 232,\n",
              " '—': 233,\n",
              " 'clear': 234,\n",
              " 'woman': 235,\n",
              " 'arrest': 236,\n",
              " 'shot': 237,\n",
              " 'great': 238,\n",
              " 'leader': 239,\n",
              " 'talk': 240,\n",
              " 'thought': 241,\n",
              " 'campaign': 242,\n",
              " 'busi': 243,\n",
              " '2012': 244,\n",
              " 'white': 245,\n",
              " 'watch': 246,\n",
              " 'money': 247,\n",
              " 'oper': 248,\n",
              " 'sign': 249,\n",
              " 'without': 250,\n",
              " 'publish': 251,\n",
              " 'care': 252,\n",
              " 'minist': 253,\n",
              " 've': 254,\n",
              " 'local': 255,\n",
              " 'photo': 256,\n",
              " 'power': 257,\n",
              " 'question': 258,\n",
              " 'provid': 259,\n",
              " '4': 260,\n",
              " 'inform': 261,\n",
              " 'lot': 262,\n",
              " 'polit': 263,\n",
              " 'build': 264,\n",
              " 'minut': 265,\n",
              " 'leagu': 266,\n",
              " 'girl': 267,\n",
              " 'job': 268,\n",
              " 'receiv': 269,\n",
              " 'stop': 270,\n",
              " 'england': 271,\n",
              " 'father': 272,\n",
              " 'son': 273,\n",
              " 'monday': 274,\n",
              " 'keep': 275,\n",
              " 'mean': 276,\n",
              " 'train': 277,\n",
              " 'meet': 278,\n",
              " 'order': 279,\n",
              " 'york': 280,\n",
              " 'star': 281,\n",
              " 'problem': 282,\n",
              " 'deal': 283,\n",
              " 'involv': 284,\n",
              " 'result': 285,\n",
              " 'known': 286,\n",
              " \"'m\": 287,\n",
              " '6': 288,\n",
              " 'victim': 289,\n",
              " 'big': 290,\n",
              " 'someth': 291,\n",
              " 'current': 292,\n",
              " 'research': 293,\n",
              " 'elect': 294,\n",
              " 'media': 295,\n",
              " 'littl': 296,\n",
              " 'hit': 297,\n",
              " 'across': 298,\n",
              " 'age': 299,\n",
              " 'whether': 300,\n",
              " 'sunday': 301,\n",
              " 'decis': 302,\n",
              " 'water': 303,\n",
              " 'respons': 304,\n",
              " 'offer': 305,\n",
              " 'system': 306,\n",
              " 'tuesday': 307,\n",
              " 'pay': 308,\n",
              " 'test': 309,\n",
              " '30': 310,\n",
              " 'increas': 311,\n",
              " '12': 312,\n",
              " 'control': 313,\n",
              " 'park': 314,\n",
              " 'west': 315,\n",
              " 'drug': 316,\n",
              " '15': 317,\n",
              " 'wednesday': 318,\n",
              " 'depart': 319,\n",
              " 'war': 320,\n",
              " 'carri': 321,\n",
              " 'parent': 322,\n",
              " 'friday': 323,\n",
              " 'british': 324,\n",
              " 'alreadi': 325,\n",
              " 'goal': 326,\n",
              " '11': 327,\n",
              " 'studi': 328,\n",
              " 'given': 329,\n",
              " 'student': 330,\n",
              " 'ago': 331,\n",
              " 'major': 332,\n",
              " 'develop': 333,\n",
              " 'wife': 334,\n",
              " 'imag': 335,\n",
              " 'possibl': 336,\n",
              " 'child': 337,\n",
              " 'outsid': 338,\n",
              " 'street': 339,\n",
              " 'abl': 340,\n",
              " 'trump': 341,\n",
              " 'line': 342,\n",
              " 'rule': 343,\n",
              " 'it': 344,\n",
              " 'past': 345,\n",
              " 'comment': 346,\n",
              " 'coupl': 347,\n",
              " 'far': 348,\n",
              " 'earlier': 349,\n",
              " 'cent': 350,\n",
              " 'travel': 351,\n",
              " 'vote': 352,\n",
              " 'daughter': 353,\n",
              " 'earli': 354,\n",
              " 'stori': 355,\n",
              " 'act': 356,\n",
              " 'fight': 357,\n",
              " 'john': 358,\n",
              " 'action': 359,\n",
              " 'level': 360,\n",
              " 'match': 361,\n",
              " 'event': 362,\n",
              " 'saturday': 363,\n",
              " 'free': 364,\n",
              " 'attempt': 365,\n",
              " 'read': 366,\n",
              " 'tell': 367,\n",
              " 'import': 368,\n",
              " 'might': 369,\n",
              " 'describ': 370,\n",
              " 'relat': 371,\n",
              " 'alway': 372,\n",
              " 'creat': 373,\n",
              " 'updat': 374,\n",
              " 'ms': 375,\n",
              " 'judg': 376,\n",
              " 'site': 377,\n",
              " 'communiti': 378,\n",
              " 'air': 379,\n",
              " 'thursday': 380,\n",
              " 'david': 381,\n",
              " 'concern': 382,\n",
              " 'share': 383,\n",
              " 'cost': 384,\n",
              " 'announc': 385,\n",
              " 'visit': 386,\n",
              " 'film': 387,\n",
              " 'associ': 388,\n",
              " 'stand': 389,\n",
              " 'term': 390,\n",
              " 'real': 391,\n",
              " 'prison': 392,\n",
              " 'chief': 393,\n",
              " 'better': 394,\n",
              " 'reveal': 395,\n",
              " 'militari': 396,\n",
              " 'among': 397,\n",
              " 'murder': 398,\n",
              " '7': 399,\n",
              " 'seem': 400,\n",
              " 'al': 401,\n",
              " 'human': 402,\n",
              " 'incid': 403,\n",
              " 'least': 404,\n",
              " 'walk': 405,\n",
              " 'despit': 406,\n",
              " 'protect': 407,\n",
              " 'accus': 408,\n",
              " 'we': 409,\n",
              " 'full': 410,\n",
              " 'posit': 411,\n",
              " 'suggest': 412,\n",
              " 'behind': 413,\n",
              " 'suffer': 414,\n",
              " 'hard': 415,\n",
              " 'mark': 416,\n",
              " 'speak': 417,\n",
              " 'cut': 418,\n",
              " 'hold': 419,\n",
              " 'counti': 420,\n",
              " 'press': 421,\n",
              " 'condit': 422,\n",
              " 'general': 423,\n",
              " 'march': 424,\n",
              " 'bbc': 425,\n",
              " 'cup': 426,\n",
              " 'boy': 427,\n",
              " 'perform': 428,\n",
              " 'medic': 429,\n",
              " 'dead': 430,\n",
              " 'previous': 431,\n",
              " 'complet': 432,\n",
              " 'base': 433,\n",
              " 'rais': 434,\n",
              " 'lost': 435,\n",
              " 'bi': 436,\n",
              " 'black': 437,\n",
              " 'ever': 438,\n",
              " 'footbal': 439,\n",
              " 'phone': 440,\n",
              " 'must': 441,\n",
              " 'heard': 442,\n",
              " 'evid': 443,\n",
              " 'morn': 444,\n",
              " 'republican': 445,\n",
              " 'fan': 446,\n",
              " 'third': 447,\n",
              " 'arriv': 448,\n",
              " 'food': 449,\n",
              " 'execut': 450,\n",
              " 'road': 451,\n",
              " 'emerg': 452,\n",
              " 'saw': 453,\n",
              " 'director': 454,\n",
              " 'injuri': 455,\n",
              " 'interest': 456,\n",
              " 'less': 457,\n",
              " 'other': 458,\n",
              " 'spokesman': 459,\n",
              " 'yet': 460,\n",
              " 'staff': 461,\n",
              " 'celebr': 462,\n",
              " 'design': 463,\n",
              " 'feder': 464,\n",
              " 'social': 465,\n",
              " '18': 466,\n",
              " 'reach': 467,\n",
              " 'togeth': 468,\n",
              " 'warn': 469,\n",
              " 'book': 470,\n",
              " 'shoot': 471,\n",
              " 'sport': 472,\n",
              " 'short': 473,\n",
              " 'room': 474,\n",
              " 'success': 475,\n",
              " 'effect': 476,\n",
              " 'pass': 477,\n",
              " 'bill': 478,\n",
              " 'though': 479,\n",
              " 'defend': 480,\n",
              " 'score': 481,\n",
              " 'risk': 482,\n",
              " 'front': 483,\n",
              " 'hear': 484,\n",
              " 'stay': 485,\n",
              " 'town': 486,\n",
              " 'wrote': 487,\n",
              " 'enough': 488,\n",
              " 'view': 489,\n",
              " 'larg': 490,\n",
              " 'a': 491,\n",
              " 'let': 492,\n",
              " 'held': 493,\n",
              " 'sentenc': 494,\n",
              " 'fail': 495,\n",
              " 'join': 496,\n",
              " '16': 497,\n",
              " 'twitter': 498,\n",
              " 'agenc': 499,\n",
              " 'mrs': 500,\n",
              " 'serv': 501,\n",
              " '0': 502,\n",
              " 'bring': 503,\n",
              " 'council': 504,\n",
              " 'market': 505,\n",
              " 'began': 506,\n",
              " 'centr': 507,\n",
              " 'drive': 508,\n",
              " '8': 509,\n",
              " 'done': 510,\n",
              " 'small': 511,\n",
              " 'interview': 512,\n",
              " 'insid': 513,\n",
              " 'januari': 514,\n",
              " 'democrat': 515,\n",
              " 'critic': 516,\n",
              " 'consid': 517,\n",
              " 'scene': 518,\n",
              " 'bank': 519,\n",
              " 'save': 520,\n",
              " 'account': 521,\n",
              " '13': 522,\n",
              " 'facebook': 523,\n",
              " 'husband': 524,\n",
              " 'futur': 525,\n",
              " 'decid': 526,\n",
              " '14': 527,\n",
              " 'within': 528,\n",
              " 'break': 529,\n",
              " 'along': 530,\n",
              " 'messag': 531,\n",
              " 'product': 532,\n",
              " 'race': 533,\n",
              " 'search': 534,\n",
              " '2011': 535,\n",
              " 'direct': 536,\n",
              " 'seven': 537,\n",
              " 'juli': 538,\n",
              " 'late': 539,\n",
              " 'crime': 540,\n",
              " 'almost': 541,\n",
              " 'fact': 542,\n",
              " '2014': 543,\n",
              " 'price': 544,\n",
              " '50': 545,\n",
              " '25': 546,\n",
              " 'due': 547,\n",
              " 'fund': 548,\n",
              " 'ground': 549,\n",
              " 'polici': 550,\n",
              " 'step': 551,\n",
              " 'babi': 552,\n",
              " 'figur': 553,\n",
              " 'admit': 554,\n",
              " 'china': 555,\n",
              " 'serious': 556,\n",
              " 'heart': 557,\n",
              " 'legal': 558,\n",
              " 'protest': 559,\n",
              " 'launch': 560,\n",
              " 'challeng': 561,\n",
              " 'britain': 562,\n",
              " 'moment': 563,\n",
              " 'reason': 564,\n",
              " 'dr': 565,\n",
              " 'target': 566,\n",
              " 'rate': 567,\n",
              " 'list': 568,\n",
              " 'experi': 569,\n",
              " 'confirm': 570,\n",
              " 'center': 571,\n",
              " 'becam': 572,\n",
              " 'process': 573,\n",
              " '9': 574,\n",
              " 'arm': 575,\n",
              " 'mile': 576,\n",
              " 'trial': 577,\n",
              " 'form': 578,\n",
              " 'june': 579,\n",
              " 'sent': 580,\n",
              " 'histori': 581,\n",
              " 'activ': 582,\n",
              " 'often': 583,\n",
              " 'april': 584,\n",
              " '17': 585,\n",
              " 'although': 586,\n",
              " 'doctor': 587,\n",
              " 'suspect': 588,\n",
              " 'septemb': 589,\n",
              " 'dog': 590,\n",
              " 'effort': 591,\n",
              " 'washington': 592,\n",
              " 'spend': 593,\n",
              " 'abus': 594,\n",
              " 'chanc': 595,\n",
              " 'michael': 596,\n",
              " 'eight': 597,\n",
              " 'role': 598,\n",
              " 'tax': 599,\n",
              " 'worker': 600,\n",
              " 'land': 601,\n",
              " 'flight': 602,\n",
              " 'patient': 603,\n",
              " 'sex': 604,\n",
              " 'east': 605,\n",
              " 'forward': 606,\n",
              " 'cover': 607,\n",
              " 'novemb': 608,\n",
              " 'light': 609,\n",
              " 'decemb': 610,\n",
              " 'sourc': 611,\n",
              " 'someon': 612,\n",
              " 'octob': 613,\n",
              " 'william': 614,\n",
              " 'word': 615,\n",
              " 'red': 616,\n",
              " 'onlin': 617,\n",
              " 'led': 618,\n",
              " 'brother': 619,\n",
              " 'wait': 620,\n",
              " 'manchest': 621,\n",
              " 'resid': 622,\n",
              " '100': 623,\n",
              " 'damag': 624,\n",
              " 'bad': 625,\n",
              " 'sexual': 626,\n",
              " 'sure': 627,\n",
              " 'gun': 628,\n",
              " 'present': 629,\n",
              " 'board': 630,\n",
              " 'requir': 631,\n",
              " 'detail': 632,\n",
              " 'file': 633,\n",
              " 'seri': 634,\n",
              " 'attorney': 635,\n",
              " 'websit': 636,\n",
              " 'scroll': 637,\n",
              " 'learn': 638,\n",
              " 'organ': 639,\n",
              " 'strong': 640,\n",
              " 'cours': 641,\n",
              " 'kind': 642,\n",
              " 'daili': 643,\n",
              " 'assist': 644,\n",
              " '19': 645,\n",
              " 'secretari': 646,\n",
              " 'featur': 647,\n",
              " '24': 648,\n",
              " 'wear': 649,\n",
              " 'european': 650,\n",
              " 'region': 651,\n",
              " 'anim': 652,\n",
              " 'repres': 653,\n",
              " 'met': 654,\n",
              " 'tv': 655,\n",
              " 'up': 656,\n",
              " 'spent': 657,\n",
              " 'justic': 658,\n",
              " 'noth': 659,\n",
              " 'treatment': 660,\n",
              " 'eye': 661,\n",
              " 'space': 662,\n",
              " 'ahead': 663,\n",
              " 'america': 664,\n",
              " 'jame': 665,\n",
              " 'champion': 666,\n",
              " 'fall': 667,\n",
              " 'project': 668,\n",
              " 'fear': 669,\n",
              " 'administr': 670,\n",
              " '2010': 671,\n",
              " 'potenti': 672,\n",
              " 'prime': 673,\n",
              " 'gave': 674,\n",
              " 'idea': 675,\n",
              " 'island': 676,\n",
              " 'produc': 677,\n",
              " 'deni': 678,\n",
              " 'august': 679,\n",
              " 'driver': 680,\n",
              " 'special': 681,\n",
              " 'note': 682,\n",
              " 'privat': 683,\n",
              " 'actual': 684,\n",
              " 'jail': 685,\n",
              " 'station': 686,\n",
              " 'data': 687,\n",
              " 'anyth': 688,\n",
              " 'collect': 689,\n",
              " 'agre': 690,\n",
              " 'in': 691,\n",
              " 'ban': 692,\n",
              " 'attend': 693,\n",
              " 'matter': 694,\n",
              " 'foreign': 695,\n",
              " 'total': 696,\n",
              " 'page': 697,\n",
              " 'box': 698,\n",
              " 'firm': 699,\n",
              " 'vehicl': 700,\n",
              " 'model': 701,\n",
              " 'date': 702,\n",
              " 'summer': 703,\n",
              " 'origin': 704,\n",
              " 'certain': 705,\n",
              " 'thousand': 706,\n",
              " 'main': 707,\n",
              " 'stage': 708,\n",
              " 'custom': 709,\n",
              " 'safeti': 710,\n",
              " 'remov': 711,\n",
              " 'crash': 712,\n",
              " 'cross': 713,\n",
              " 'explain': 714,\n",
              " 'danger': 715,\n",
              " 'link': 716,\n",
              " 'focus': 717,\n",
              " 'ca': 718,\n",
              " '40': 719,\n",
              " 'particular': 720,\n",
              " 'everyon': 721,\n",
              " 'defens': 722,\n",
              " 'understand': 723,\n",
              " 'begin': 724,\n",
              " '21': 725,\n",
              " 'contact': 726,\n",
              " 'photograph': 727,\n",
              " 'program': 728,\n",
              " 'com': 729,\n",
              " 'cancer': 730,\n",
              " 'senat': 731,\n",
              " 'ball': 732,\n",
              " 'letter': 733,\n",
              " 'natur': 734,\n",
              " 'commit': 735,\n",
              " 'locat': 736,\n",
              " 'treat': 737,\n",
              " 'educ': 738,\n",
              " 'anyon': 739,\n",
              " 'measur': 740,\n",
              " 'yesterday': 741,\n",
              " 'co': 742,\n",
              " 'thank': 743,\n",
              " 'situat': 744,\n",
              " 'initi': 745,\n",
              " 'conserv': 746,\n",
              " 'drop': 747,\n",
              " 'similar': 748,\n",
              " 'identifi': 749,\n",
              " 'kick': 750,\n",
              " 'grow': 751,\n",
              " 'mail': 752,\n",
              " 'rang': 753,\n",
              " '22': 754,\n",
              " 'toward': 755,\n",
              " 'huge': 756,\n",
              " 'bit': 757,\n",
              " 'relationship': 758,\n",
              " 'quick': 759,\n",
              " 'quit': 760,\n",
              " 'owner': 761,\n",
              " 'labour': 762,\n",
              " 'tweet': 763,\n",
              " 'everyth': 764,\n",
              " 'accept': 765,\n",
              " 'assault': 766,\n",
              " 'happi': 767,\n",
              " 'affect': 768,\n",
              " 'key': 769,\n",
              " 'hotel': 770,\n",
              " 'crimin': 771,\n",
              " 'prepar': 772,\n",
              " 'low': 773,\n",
              " 'rise': 774,\n",
              " 'union': 775,\n",
              " 'lose': 776,\n",
              " 'franc': 777,\n",
              " 'properti': 778,\n",
              " 'whose': 779,\n",
              " 'immedi': 780,\n",
              " 'februari': 781,\n",
              " 'career': 782,\n",
              " 'respond': 783,\n",
              " 'percent': 784,\n",
              " 'instead': 785,\n",
              " 'm': 786,\n",
              " 'expert': 787,\n",
              " 'll': 788,\n",
              " 'sit': 789,\n",
              " 'soon': 790,\n",
              " 'user': 791,\n",
              " 'passeng': 792,\n",
              " 'contribut': 793,\n",
              " 'rather': 794,\n",
              " 'sale': 795,\n",
              " 'felt': 796,\n",
              " 'pick': 797,\n",
              " 'store': 798,\n",
              " 'church': 799,\n",
              " 'tim': 800,\n",
              " 'spot': 801,\n",
              " 'paul': 802,\n",
              " 'senior': 803,\n",
              " 'industri': 804,\n",
              " 'difficult': 805,\n",
              " 'round': 806,\n",
              " 'popular': 807,\n",
              " 'lawyer': 808,\n",
              " 'network': 809,\n",
              " 'improv': 810,\n",
              " 'royal': 811,\n",
              " 'latest': 812,\n",
              " 'knew': 813,\n",
              " 'committe': 814,\n",
              " 'impact': 815,\n",
              " 'shock': 816,\n",
              " 'brought': 817,\n",
              " 'access': 818,\n",
              " 'signific': 819,\n",
              " 'prevent': 820,\n",
              " 'born': 821,\n",
              " 'convict': 822,\n",
              " 'appeal': 823,\n",
              " 'host': 824,\n",
              " 'scotland': 825,\n",
              " 'discuss': 826,\n",
              " 'door': 827,\n",
              " 'discov': 828,\n",
              " '23': 829,\n",
              " \"'d\": 830,\n",
              " 'common': 831,\n",
              " 'award': 832,\n",
              " 'brown': 833,\n",
              " 'benefit': 834,\n",
              " 'syria': 835,\n",
              " 'pull': 836,\n",
              " 'struggl': 837,\n",
              " 'threat': 838,\n",
              " 'airport': 839,\n",
              " 'finish': 840,\n",
              " 'replac': 841,\n",
              " 'plane': 842,\n",
              " 'class': 843,\n",
              " 'marri': 844,\n",
              " 'address': 845,\n",
              " 'demand': 846,\n",
              " 'titl': 847,\n",
              " 'avail': 848,\n",
              " 'individu': 849,\n",
              " 'prosecutor': 850,\n",
              " 'wrong': 851,\n",
              " 'document': 852,\n",
              " 'st': 853,\n",
              " 'australia': 854,\n",
              " 'coach': 855,\n",
              " 'paid': 856,\n",
              " 'nine': 857,\n",
              " 'europ': 858,\n",
              " 'review': 859,\n",
              " 'french': 860,\n",
              " 'buy': 861,\n",
              " 'dress': 862,\n",
              " 'battl': 863,\n",
              " 'premier': 864,\n",
              " 'express': 865,\n",
              " 'russian': 866,\n",
              " 'music': 867,\n",
              " 'pressur': 868,\n",
              " 'block': 869,\n",
              " 'decad': 870,\n",
              " 'singl': 871,\n",
              " 'enjoy': 872,\n",
              " 'kid': 873,\n",
              " 'shop': 874,\n",
              " 'refus': 875,\n",
              " 'devic': 876,\n",
              " 'check': 877,\n",
              " 'econom': 878,\n",
              " 'king': 879,\n",
              " 'california': 880,\n",
              " 'georg': 881,\n",
              " 'drink': 882,\n",
              " 'violenc': 883,\n",
              " 'wit': 884,\n",
              " 'foot': 885,\n",
              " '2009': 886,\n",
              " 'addit': 887,\n",
              " 'opportun': 888,\n",
              " 'capit': 889,\n",
              " 'beat': 890,\n",
              " 'rest': 891,\n",
              " 'candid': 892,\n",
              " 'fit': 893,\n",
              " 'track': 894,\n",
              " 'wale': 895,\n",
              " 'weekend': 896,\n",
              " 'period': 897,\n",
              " '2008': 898,\n",
              " 'victori': 899,\n",
              " 'green': 900,\n",
              " 'weapon': 901,\n",
              " 'strike': 902,\n",
              " 'limit': 903,\n",
              " 'russia': 904,\n",
              " 'sell': 905,\n",
              " 'border': 906,\n",
              " 'safe': 907,\n",
              " '26': 908,\n",
              " 'respect': 909,\n",
              " 'send': 910,\n",
              " 'diseas': 911,\n",
              " 'blood': 912,\n",
              " 'financi': 913,\n",
              " 'tour': 914,\n",
              " 'determin': 915,\n",
              " 'camera': 916,\n",
              " 'write': 917,\n",
              " 'guilti': 918,\n",
              " 'whole': 919,\n",
              " 'amount': 920,\n",
              " 'bomb': 921,\n",
              " 'technolog': 922,\n",
              " 'on': 923,\n",
              " 'probabl': 924,\n",
              " 'trust': 925,\n",
              " 'confer': 926,\n",
              " 'push': 927,\n",
              " 'connect': 928,\n",
              " 'colleg': 929,\n",
              " 'central': 930,\n",
              " 'loss': 931,\n",
              " 'field': 932,\n",
              " 'seek': 933,\n",
              " 'independ': 934,\n",
              " 'clinton': 935,\n",
              " 'armi': 936,\n",
              " 'hundr': 937,\n",
              " 'gone': 938,\n",
              " 'longer': 939,\n",
              " 'debat': 940,\n",
              " 'eu': 941,\n",
              " 'he': 942,\n",
              " 'propos': 943,\n",
              " 'energi': 944,\n",
              " 'partner': 945,\n",
              " 'pair': 946,\n",
              " 'approach': 947,\n",
              " 'refer': 948,\n",
              " 'extrem': 949,\n",
              " 'averag': 950,\n",
              " 'trade': 951,\n",
              " 'global': 952,\n",
              " 'surpris': 953,\n",
              " '2015': 954,\n",
              " 'anti': 955,\n",
              " 'injur': 956,\n",
              " 'district': 957,\n",
              " 'northern': 958,\n",
              " 'trip': 959,\n",
              " 'memori': 960,\n",
              " 'chelsea': 961,\n",
              " 'answer': 962,\n",
              " 'sister': 963,\n",
              " 'de': 964,\n",
              " 'contain': 965,\n",
              " '28': 966,\n",
              " 'liverpool': 967,\n",
              " 'estim': 968,\n",
              " 'immigr': 969,\n",
              " 'enter': 970,\n",
              " 'reduc': 971,\n",
              " 'internet': 972,\n",
              " 'van': 973,\n",
              " 'islam': 974,\n",
              " 'seat': 975,\n",
              " 'insist': 976,\n",
              " 'ship': 977,\n",
              " 'cameron': 978,\n",
              " 'aid': 979,\n",
              " 'smith': 980,\n",
              " '27': 981,\n",
              " 'threaten': 982,\n",
              " 'billion': 983,\n",
              " 'engin': 984,\n",
              " 'conduct': 985,\n",
              " 'biggest': 986,\n",
              " 'wall': 987,\n",
              " 'brain': 988,\n",
              " 'ensur': 989,\n",
              " 'request': 990,\n",
              " 'africa': 991,\n",
              " 'soldier': 992,\n",
              " 'leg': 993,\n",
              " 'beauti': 994,\n",
              " 'economi': 995,\n",
              " 'bar': 996,\n",
              " 'rememb': 997,\n",
              " 'florida': 998,\n",
              " 'fli': 999,\n",
              " 'texa': 1000,\n",
              " ...}"
            ]
          },
          "execution_count": 24,
          "metadata": {},
          "output_type": "execute_result"
        }
      ],
      "source": [
        "print(len(tokenizer.word_index))\n",
        "tokenizer.word_index"
      ]
    },
    {
      "cell_type": "code",
      "execution_count": null,
      "metadata": {
        "id": "VcaZVlcOLnR4"
      },
      "outputs": [],
      "source": [
        "vocabulary = dict(list(tokenizer.word_index.items())[:num_words+1])"
      ]
    },
    {
      "cell_type": "code",
      "execution_count": null,
      "metadata": {
        "colab": {
          "base_uri": "https://localhost:8080/"
        },
        "id": "fpuGuCOvMEZN",
        "outputId": "7c27e110-3407-4605-9552-e068eeb0f66b"
      },
      "outputs": [
        {
          "data": {
            "text/plain": [
              "[('joel', 324),\n",
              " ('christi', 1200),\n",
              " ('oklahoma', 747),\n",
              " ('man', 19900),\n",
              " ('desmond', 65),\n",
              " ('campbel', 804),\n",
              " ('identifi', 4905),\n",
              " ('last', 40568),\n",
              " ('week', 26597),\n",
              " ('polic', 37911),\n",
              " ('want', 26960),\n",
              " ('least', 7943),\n",
              " ('seven', 6494),\n",
              " ('assault', 4826),\n",
              " ('case', 17900),\n",
              " ('author', 13227),\n",
              " ('link', 5054),\n",
              " ('10', 15054),\n",
              " ('count', 3522),\n",
              " ('sexual', 5699),\n",
              " ('includ', 26342),\n",
              " ('rape', 3392),\n",
              " ('first', 39452),\n",
              " ('degre', 2746),\n",
              " ('instrument', 786),\n",
              " ('well', 19716),\n",
              " ('burglari', 506),\n",
              " ('six', 11130),\n",
              " ('robberi', 922),\n",
              " ('possibl', 8957),\n",
              " ('eight', 5982),\n",
              " ('woman', 10780),\n",
              " ('pend', 692),\n",
              " ('occur', 3155),\n",
              " ('june', 6145),\n",
              " ('5', 12188),\n",
              " ('29', 3260),\n",
              " ('tulsa', 124),\n",
              " ('name', 13095),\n",
              " ('30', 9421),\n",
              " ('year', 96153),\n",
              " ('old', 29627),\n",
              " ('press', 7678),\n",
              " ('confer', 4064),\n",
              " ('said', 189053),\n",
              " ('suspect', 6105),\n",
              " ('actual', 5275),\n",
              " ('critic', 6651),\n",
              " ('condit', 7671),\n",
              " ('saint', 1013),\n",
              " ('franci', 1215),\n",
              " ('hospit', 13470),\n",
              " ('accord', 19095),\n",
              " ('2new', 3),\n",
              " ('karma', 36),\n",
              " ('women', 14641),\n",
              " ('crash', 5074),\n",
              " ('car', 14063),\n",
              " ('die', 13510),\n",
              " ('total', 5161),\n",
              " ('23', 4520),\n",
              " ('charg', 14862),\n",
              " ('complaint', 2644),\n",
              " ('kjrh', 2),\n",
              " ('unrespons', 146),\n",
              " ('follow', 18845),\n",
              " ('’', 133172),\n",
              " ('hit', 9603),\n",
              " ('light', 5843),\n",
              " ('pole', 691),\n",
              " ('i', 1010),\n",
              " ('44', 1538),\n",
              " ('minut', 10190),\n",
              " ('recent', 11695),\n",
              " ('report', 37794),\n",
              " ('alleg', 12082),\n",
              " ('vehicl', 5137),\n",
              " ('involv', 9782),\n",
              " ('later', 14089),\n",
              " ('use', 36700),\n",
              " ('dna', 1437),\n",
              " ('connect', 4052),\n",
              " ('crime', 6482),\n",
              " ('state', 31421),\n",
              " ('bureau', 883),\n",
              " ('investig', 16570),\n",
              " ('search', 6514),\n",
              " ('warrant', 1231),\n",
              " ('also', 50622),\n",
              " ('show', 28023),\n",
              " ('found', 24173),\n",
              " ('victim', 9660),\n",
              " ('belong', 1750),\n",
              " ('wreck', 615),\n",
              " (\"'s\", 229106),\n",
              " ('sourc', 5828),\n",
              " ('told', 38492),\n",
              " ('pronounc', 751),\n",
              " ('dead', 7598),\n",
              " ('11', 9149)]"
            ]
          },
          "execution_count": 26,
          "metadata": {},
          "output_type": "execute_result"
        }
      ],
      "source": [
        "list(tokenizer.word_counts.items())[:100]"
      ]
    },
    {
      "cell_type": "code",
      "execution_count": null,
      "metadata": {
        "id": "T7d3nXlFHU0e"
      },
      "outputs": [],
      "source": [
        "data = tokenizer.texts_to_sequences(sents)"
      ]
    },
    {
      "cell_type": "code",
      "execution_count": null,
      "metadata": {
        "colab": {
          "base_uri": "https://localhost:8080/"
        },
        "id": "UJUbT0yLHt3s",
        "outputId": "99bf67b2-3aa2-417f-9107-2d2dad17624a"
      },
      "outputs": [
        {
          "data": {
            "text/plain": [
              "[]"
            ]
          },
          "execution_count": 28,
          "metadata": {},
          "output_type": "execute_result"
        }
      ],
      "source": [
        "data[0]"
      ]
    },
    {
      "cell_type": "markdown",
      "metadata": {
        "id": "-GMVpVqXRaha"
      },
      "source": [
        "# Subsampling\n",
        "\n",
        "$P(w_i)$ - probability of discarding a sample    \n",
        "$t$ - threshold   \n",
        "$f(w_i)$ - frequency of the word\n",
        "\n",
        "\n",
        "![image.png](data:image/png;base64,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)"
      ]
    },
    {
      "cell_type": "code",
      "execution_count": null,
      "metadata": {
        "id": "vG0Ei4ljUWR5"
      },
      "outputs": [],
      "source": [
        "vocab_freq = {}\n",
        "num_all_tokens = 0\n",
        "for word, tokencount in tokenizer.word_counts.items():\n",
        "  num_all_tokens += tokencount\n",
        "\n",
        "num_vocab_tokens = 0\n",
        "for word, tokenid in vocabulary.items():\n",
        "  if word == \"<OOV>\":\n",
        "    continue\n",
        "  vocab_freq[tokenid] = tokenizer.word_counts[word]/num_all_tokens\n",
        "  num_vocab_tokens += tokenizer.word_counts[word]\n",
        "\n",
        "# OOV token workaround: count all Vocab tokens occurences and subtract from all\n",
        "vocab_freq[1] = (num_all_tokens-num_vocab_tokens)/num_all_tokens\n"
      ]
    },
    {
      "cell_type": "code",
      "execution_count": null,
      "metadata": {
        "id": "BSbAxHIuLiuE"
      },
      "outputs": [],
      "source": [
        "import matplotlib.pyplot as plt"
      ]
    },
    {
      "cell_type": "code",
      "execution_count": null,
      "metadata": {
        "colab": {
          "base_uri": "https://localhost:8080/",
          "height": 449
        },
        "id": "sekvTLQdV3eu",
        "outputId": "669e7662-f9be-424c-864d-6e56ad86c129"
      },
      "outputs": [
        {
          "data": {
            "image/png": "[encoded data removed]",
            "text/plain": [
              "<Figure size 640x480 with 1 Axes>"
            ]
          },
          "metadata": {},
          "output_type": "display_data"
        }
      ],
      "source": [
        "plt.plot(list(vocab_freq.values())[:100])\n",
        "plt.ylabel(\"Frequency\")\n",
        "plt.xlabel(\"Rank\");"
      ]
    },
    {
      "cell_type": "code",
      "execution_count": null,
      "metadata": {
        "id": "2PQFlOLoYHXc"
      },
      "outputs": [],
      "source": [
        "def generate_discard_probability(frequency_dict, threshold=1e-5):\n",
        "  discard_probability_dict = {}\n",
        "  for token, freq in frequency_dict.items():\n",
        "    discard_probability_dict[token] = 1-np.sqrt(threshold/freq)\n",
        "  return discard_probability_dict\n",
        "\n",
        "disc_dict = generate_discard_probability(vocab_freq, 1e-6) "
      ]
    },
    {
      "cell_type": "markdown",
      "metadata": {
        "id": "qp4o5G2HZbK7"
      },
      "source": [
        "# Generate training couples\n",
        "\n",
        "## Positive sample\n",
        "- Context words in a specified distance (window size) from the target word are positive samples\n",
        "\n",
        "<img src=\"https://1.bp.blogspot.com/-nZFc7P6o3Yc/XQo2cYPM_ZI/AAAAAAAABxM/XBqYSa06oyQ_sxQzPcgnUxb5msRwDrJrQCLcBGAs/s1600/image001.png\">\n",
        "\n",
        "## Skip-gram modelling\n",
        "Goal: maximize the log-probability of context words given the target word\n",
        "- $T$ is the number of tokens\n",
        "- $c$ is the window size\n",
        "- $w_t$ is the target word\n",
        "- $w_{t+j}$ is a context word\n",
        "\n",
        "\n",
        "![image.png](data:image/png;base64,iVBORw0KGgoAAAANSUhEUgAAAcEAAACACAYAAABzyNKVAAAAAXNSR0IArs4c6QAAAARnQU1BAACxjwv8YQUAAAAJcEhZcwAADsMAAA7DAcdvqGQAACl7SURBVHhe7d0HWFNXGwfwfwIBFRVwL6a4FUVBRZbWbdWKA1utinvUqm0ddYGzrraO1tGqtXV8iuJu1ToroOCsCgooImKZsmQnJHm/gFEDAjIFyft7njyak5B7z7nJee8Z91wBKYAxxhhTQ0Llv4wxxpja4SDIGGNMbXEQZIwxprY4CDLGGFNbHAQZY4ypLQ6CjDHG1BYHQcYYY2qLgyBjjDG1xUGQMcaY2uIgyBhjTG1xEGSMMaa2OAgyxhhTWxwEGWOMqS0OgowxxtQWB0HGGGNqi4MgY4wxtcVBkDHGmNriIMgYY0xtcRBkjDGmtjgIMsYYU1scBBljjKktDoKMMcbUFgdBxhhjaktACsr/s3JBhsD/zcfqvyMhK+CREWi3x8QNs2Cro0xgjDFWIBwEyxuJN+a2+xgXbVdi2cRuaNVIH5U1hUhxH4M2X5yH6ddn8NfcNqgkIEhTInHHbSEm/aCLTaF74VhJ+RmMMcYKhLtDyxmx90F4m2/C0W1T0c+qOYzq10Wd2tXxxM8f6RpG6P6JLQzq1Ebt2nVQ39gcfWeORY82ZjDVVH4AY4yxAuMgWK6kwsP9Iey/coKB6pGRBsLDJwyk1xl27bWUiUrSNEjrmcKYgyBjjBUaB8HyRBaNhObOmGiZPdDJozzg9UCKSpZ2sKmsTFSSi2vAtm9HVFU+Z4wxVnA8JvgBeOE2HCYjjqLJ8ru4uqAFNJTpjDHGiodbguWeGLc8riNRaIwudo05ADLGWAniIFjevRoP1O8M+5zjgYwxxoqFg2A592o8sLKlHbrkGA9kjDFWPBwEy7kkL0/clmiita0davHRYoyxEsXVaq5kCD+/AmNm7kOoXJlUJl6NB5qgi70pjwcyxlgJ4yCoJE1NQNSTe/A8ugXzR1ijQz8X7L/4ANFlGQSlfrjkFQbStYKNBY8HMsZYSeMgmEUMj++GYuiERdh2MRamdm2hX1ZXjsijcHLxpxgyZDAGfPQ5djzTQXX44HunQXAcPBrrvcXKNzLGGCsuvk4wF9K7ruhotQx+zRbg6r8rYcmrsTDGWIXELUHGGGNqi4MgY4wxtcVBkDHGmNriIMgYY0xtcRBkjDGmtjgIMsYYU1scBBljjKktDoKlTfovXCy0IBQIICiThwYajDqCBOXuVAhcpoyxEsIXy+eiZC+WT8Clr+3Qd4MfxMqSFoiaYMT3qzDUsAirgZIcMmkGxOlpSEl6gYS4WERHhuO/0Md45H8f/k9ikCrLfkgF1XrhZ9/TmGZUUc55uEwZYyUkMwiy7DLuuJCFCCRqvYBuZCgTiyPlGrl2qkoCRXFnFrmiAU569mvoTrry9RKUFulL535fThP7tKQaIsHL7QlEZOHyL5VEVsoNLlPGWAngIJiLEg+CCmK/9fSRvlBZYWdWolWo/QIvSlK+XvJkFHtnHy0Y0JR0BCANo0l0uvQ2Via4TBljxcV9OflSnCQo/1dcWq2+xM4fP0H9V711lIp/vx+PeWfiUDo3qhCiRtsRWHniOi7/NATG0e745XBkKW2rbHCZMsaKi4NgLpJCQvFcUbPJ454hNFGZWGwaMB69BT+PMoFI8DKFJA/x6+QZcA8vzWpUFx2+OIAzm7vCb+cfCJQpkysELlNWSPII/O06CnOORSsTKj7Z443oa+eqfFZ25LEn8e1oV/wdUb5OG3liTBYZArd8hpE7gyHPSER0ROZEiJevCKvURIM6uhAJjTBmtxtmtCzmLSXiz2OmbX/89ECsbGUKUXfANlw5OhGNS/WuuXE4MXE4PMecxDrbSsq0CoLLtJhS8fTGFdwLfY7Y2DjEJujDftpIWFVVvlxRyONwft4grNRagaMr7aGnTK7opDcXwnJYLO482aZMKTtJPiswbMELzHZfgx41ykkbLKtTlL1Xyd4uZFVVOcEi8yHUI4e1d6kU5nRkIw09R/87G6p8VrFwmRaDLJQOzx9OA+zMSFeoKDut7rQ5QqZ8saLIoEc7HKllr40UIFUmqYmMGwuorfFk5bOyJqXg7Z+Q+aDtFFhOZpVxECwTYvL9vhvpZVY4ykpboNOBFl7lWRZFx2VabBl+tKyDqEIGQWnwNurXyI7W3Fe/+bzlKwgqSINoYw9j+viXJ4qQWPZ4TLBMaKH1rB34vn/d14OylHIb68bNx99xPM2iaLhMi01YC7X0lYOrFYk8FieWroJ/73mYXNzhDFZ8Go0xfn5/PFq5GEejy/63yUGwrGiYYuy2nzHSSBMvqx2CJHAbJs86gnI2bvzh4DItvgoYA6X3fsKKQ9Xx2ZTe0FWmsbKlYz8Bn9U6iu8234NUmVZWOAiWIWH9wdjwy2Q003o1tVGKp/umY8quYPCEw6LhMmXZiXHlt72433wwhrfjVmC5odkKwwY1x4O9O+EpVqaVEQ6CZUqIGr1XY+ec9tB5dQYuj8Kfsydgg59EmcAKh8v0QyNLT4WktFrqkms4cuoZjBx6oDnHwHJEE016fAST/07hqE/Z/i45CJa5quiy+De42uu9PhjyhH/gOnYFfFKUCayQuExLhxzxd/Zjybj++KiXI4YP/wQ9uw/EhBXuuJ+kfEtukh/i1M8LMX2CM0Z9OhSfTlqCvTei8dxnK2aM+hyTJ36MNi3H4mCefdYp8N3zLSaMccaURdvhFfGyTZ/y8C/8OGcapkwchwmz1uCIf3JWuipZkCe8n1WBhbUFtJRpuZGEnMa6WRMx7vNR+HrHTcS/tSvpCDi+BTsvh79ZHEEeB+/NU/Dp+I24+qGupi4Jwel1szBx3OcY9fUO3Hw740gPOI4tOy/jzaW3csR5b8aUT8djYzEyrtXGEm2r/Advz6Cy7aVRTpBhZUwa9Av1r6O6BJg2tfjyLMUpX2eFx2VaSLJI2tJTK4/ZoQl0ff1AMjHqScsvhJFYmUrpT+mvBXbUsMkw2nonWZn4hizsKE1rq0cN+qylq9GZcwHT6cmRydSqajWq282VfOKJxFfmU9taVrT0Zu4zN1MuzyPHr89RrDScNveoTLrd19M/h76hwSOX0V9PMi+CSaeAzX2pTp3u9OPd7BfFxP42gHREHWipb96zQmURR+iLwV/TydAMEnvPoRZaxjT1XIry1ZekAWvIppKQqg/Z92ZZvpjt1K+SQPG9qkaOexOVieVPnrNDZRF05IvB9PXJUMoQe9OcFlpkPPUcZcu5NIDW2FQiYfUhtO9Nxml7v0okgICqOe6lIudcep+WW4pIp/9OxSeWHQ6C5YaMwg6MIAPNN9e6CTSNabR7uOIVVjRcpoWSZxCU0tO9TtRIZEBjjkS/XXayMPrDsTZpmTrT4XCVVxWV7L5hdUkosqRlfqqT4WNoj6MeCbUtyCWPwPdGPB2aNIq2hWZ+biLtHlSFBMKq1GLcfnqi+qfJB+lTfQ3SH7SL3ux6Bt1Y2IZElQfS7wnKpLck0pnpA2mB98uqP+X4GKorFJHN2iCV6fsyitjWm6oIRNRlzSOV9ES66tKRqilOrvpuj1WmlT95BcHEM9Np4ALvl0Ev5TiNqSskkc1aClI5VLKIbdS7ioBEXdbQI5X0xKsu1LGagLT7bqei5zyBfh9YuUTXaC4K7g4tN4RoMGwTfpnYBG/mdIRg3/Rp+P0JT+koGi7TEvHibyxfeBiRhoMwtl/tt8dQhA0wdPxA1Hq6F9+uuozXPc4pF+B+JhqkY4YWJqpL9+jC3NwUGmI/HD/ul//sQMW2T8Z2RN+Giq1K7sM3UAKBfh8sWu0EY9UxPs0a0K+uePvlc7iSrkxTfPJ/oREgvdqopa1Myin2BPY8c8A4qyqKJym4dOI8YgT10Mq8Id7scSq8PG4iXaMxbOwNVdKrwXquK4Yb1IOhkY4yrSykINjjFHzCCvOdjsWJPc/gMM4KWTm/dALnYwSo18ocDVUOVaqXB26ma6CxjT1U71JWzXouXIcboJ6hEYqe80qoU1sfFB6KZ2U4RVQtg2DuN0ot+qPECGui79qd+Lpdldcz1WWRJzB7/Cbc5zkdRcNlWmwv/t6Do89k0GjSBq3zCCaVzM3RTEOKx+57cPFVFMxIhzhD8XvT0IRGtppGAE3NzARCWkpKvguQy1N10cP5E2TGQNkzT1x9LEPlzn3Qo2aOqisjClFxcsX7YxDzOgrLkJyseFK5yptJUjnIkqqh19QRyIrRSefg9lcEYDgQwx1UlsGT3IKHTwJQyxp25jlGFiuZwcysLdq3FSkTlORRuLB2FtZeeF6gBdZlT07i12NFGxuTXHFB3+6O+Gr3I2VKAciSUK3XVIx4mXGcc/sLETDEwOEOitD0igS3PHyQgFqwtjPPMaZaSZFvM7Rt3xbZcl6ofAtQpYpia6lJSOIgyF6raoslvy2Gre6rQyNH/D9LMG93RIF+TCwXXKbFIEHArbt4IRdApFMVlZWpOQlr6KG6UAB5zF3cClbWaLo2cOhQCZQUipAo1ZKWIjw8GnKNurDt2jbfCSvC+n0wqr9BVusrwcMT9zI00cbGFjljoOT+XfinEQSVa6JmNWWiYjsZGYrtKoKwZh5BUMN4IEb3rpdVESacOYjT0UKYDRkB1aVgZY884P1MDh0rO3TJbDapkoYiTNcS1jnWwZQF74ary6+48LBgtXvGnYNYtf8WinK1gFaHqdh2+ALcvmquTCkADWMMHN0b9V5mHAdPR0NoNgQjsmccHt7PINexgt3bGUdomC4srWtkCyKFzbdIS9GcJwkkipOlspLjq8TKA+12s7FjdR/Uzjo6AlRuORpfDHyzEgorPC7ToiJFayo1a0BVKMyntOT08oSCUpCcpAx4Gs0xdfVXaK91Hbu3eivaGy9JHv8PW45HwWDYGizuV9BVulNx1fMGUjRM0MXeRKVLMpMcEd7XECwTQMvcEu1fN01EqKSteJKhqGQzM5CvJFw8cQFxQlP0d7RUCcxyRHt44b5UE+Z2by+6LfW/gqhm3dEsx+UXcZ6euCtvBVv7OgX+jr1zF/OiaI12G2gLQ5X4VRhJF0/gQpwQpv0dYalyRiKP9oDXfSk0ze1g/3bGcSWqGbrnyHjh8k2QSBTBUqMSKud3JlTK1LIOoJcTgkrsUfI0FWejzuhZVwMa9T/Gj4d+QN86XF0XD5dp0WiiUaPMlhJBnJqiaBfmTp6cjFRFIBRo1Eejhm8qRqEiHraasAqDIpZhUP9PMdr5MwyZ6Aa9mSfhsWckjLNHs7xJ7ipaJTGAfifYtctRY8qf49y5W4p9q4zOnwyE0evP1IB+DV1FLf8CL971MxXfwAXPWAjqd0Pv9qqfnw6fq7ch1miMLrYvW6RvSOH/53006t3hddCUSdKRmhoHj0vXITboiM6NxEiXlNL4szwJofduwvdZUjF6NMS4ccETsYL66Na7fbZWebrPVdwWa6BxF1sY5DhOUv8/cb9Rb3RQ/kHR8k1ITEwGdGtAr6Dfg1LAtUB5JL6PrWO+hFtiW3y97w9MapHjR88Kj8u0iBSVYK+eaCkSQB76GEF59HJJHz3CU7miJda2B3o2elWtiOHl5o1ag6fB9Y+/ceHPfdj1236cvHgGv83tCYMcraf8yEKV44GWdrDO0ScrDzsKd88UCA0+w+xxZiqBShPGxg0hSIpG1DvuCyqP80dghAyaLSzQTrVFJXuGgKAXoMqtYNEmx3dGchsH75phaJeXA6WykINY4DwGzqMdMffgc2hrBuDXiWMxZtIPuJzfdZRFIHl4AHPGzsZORSt1/cCW6LfRN88TlHzJ4+AfGAGZZgtYZM84ngUEKU4eKqOVRZscXdYS3D54F2ZDuyAz50XPdyqiol9A0NAIxjmGVN8nDoLljTwSf84ahtnnRRj080F81y17nzsrAi7TglO2mFQ7ODQtpmHuoLqQB/yJY3dyq2pTcfXwKYRQQzjNnYQWr6MQQZIWhIsnruFF1nNFK7yIBR+XOR4oFaKWiSn0sn1GEi5/vwEX000wZtN36Jet204DBi2aQo9CEBSUf4gQZo0bCqCho5M1W/I1cTjCYxQtXB1dVM8WtOWIPr4TwXbO6KiMEBrGTljzPzfsX9kXdeTasJ61F24H3eD2+1w4vB6nLAHJHli2+Ca6f78VS6dPQr8Wybi07ziCitLgFGpAU1OgaMHrQCd7xhEeHpN5KxboZs845NHHsTPYDs7KjBc535JHCAqRo3rTliqt9/eP64JyJRX//jgCztvD0Xb+Aexybqw4l2XFw2VaYIqThchYRfSjWERFqTT5hPXx6ebfMcs8FD9Nc8U/z1U73+SIPDMfX+18jvbzdmODo+olFJVgO6gHYjb0Qau2NujatSu6fdQdvfr2x6AhIzFtyS84cTNccYTeJRXeHjeQqqiQk6+dxJXXC8PIEOo+C1N2JqP3D0fw0ydvj0NVtraBheg/+PnG599lWLMbelvrQOJ7HTde75AYdzZ8j1u6htCI88Ndlctq5GHHseKEEWZOaJqji1SOWC8v+KIl7OzfvpxE+iIcwUEP8fBh9sfj6BRIU6MRnCP94cMgBIe/gGoD/MWFs5B/vgB9Mge4pf64cz8FlRsZo36RAklNdOttDR2JL66/yTjEdzbg+1u6MNSIg9/dJ29mrcrDcHzFCRjNnICm2baXf75z9cIP90M10a6LdfYTj/dMze8sL4M4XQxZUTrUhUJoalWCVoGOdkHIEeY+Hl1H7oPcaQ8u/T4823U5rCi4TAtEFoRtI4bh53+fI+J5SlZjUFClFurVscB0t/2Y+qq2e3EHf7h+i/UXkmDcyR6dmldF3J3z+Pt+ZfT8ZjWWfG6OnCf+yYGHMHf4RBxIqI+G1TRB8swZmxKkxIQjMiFd8QsUocFHS+F+dD6s82o1SK5idhsHrI8fjp27zHBmbxpsejVB2s2D+N+1ahiyYj3m9zHM/eRG5o+VXSywqdkBBO8elO81beLA/2H2RFdc1B2MKUNbQBBwHpckg7HexRAnpzhjTaAFJkzpgQaJvrjipwPHpS4Y+FYTJhXHnU0xzNMJ5/w3wSFbP6IYHksHYs6fsZDlrHUTn8IvTg+tjXPe50LROq3RD2tOLkXXXC5PkT/diO7N5oFWB+DiLONcg8877ywvDsT/Zk+E60VdDJ4yFC0EATh/SYLB611geHIKnNcEwmLCFPRokAjfK37QcVwKl4FGOYJ/fvnOXeoJZ5g6PcD0W95Y1KoMf5iZQVA9JdOZyUakKVC0+IVapFvPmJq2bE3mbdtRO/OmVDdzOSRF8QhENci4ZRtFelsyb92CmhrWoipZK5AISLvnFpXVKYon8eoS6qKnQfoOq+jG26tPsSLgMi0lsjSKfHCFzp3zpoDovO7dL6PYs3OoQ/12NO3ok1zu8C+l5LCb5O7ajwxFWtR6vs+bpdhykAasos4iAVX9eAdFKX5vGTH+5HH6FP3zbyglvfP3JyX/1dZUpdEEOpV9JbQ8KPLm70MXTp6g83ciVPZbSgnB1+jsib/osm8EpeS1XfEV+qapiGqOOPRmebUCSDvyORk5Hci+ZFkBxO8dTLoic1qUz8o7Bb2pblqkP/lcOEknzt+hCJUDJk0IpmtnT9Bfl30pIq+MFzrfKVn1b5Uuq8lfdTGhMqC+QTDpGI2pX51aj/qZLj1Jyr4UVMZdcrEQKQKdiNosuP7WjzPlsTtNaK5NDcb/lcuPu/CkwbvJyVBE2k0n0FHVZadYkXGZljHpfVrZsRI1HHfyHZViLO0bqk+idi70b671uIyitvcjHYGIrFcHqixZVnCy8N9pUK2GNOZYnmunlRhp0Fqy0apMvbdGvKxTpAG05cuV5J1XhFcqWhBMp9MTG5Ko0SQ6k09F9D7uLF/ofCceI+eGdcjxj7JfwrDEOvM+NEnnjuCG5Toc3/UFuhpXzdaNII/xxrVAKaBpiG693r6Yt4rpJ5gytDWaNGtW/PGl+MtYOGwaDqd1xepDP2FQfbU9JCWHy7TsyZLwIkkOTe3K7/iNaKNatUoQaGjk8b40XPW4ibTM6wPtjHN0wRWMsP5nWPa1Ef7+eTdKe7U8aWgowmGI1uaZk68kCNzxHXxaDoVVAboHC03qC0+faOh0ckCnPFbyeV8Kl28ZHv+2CaeNv8KyEfULNn5YitS0dniBv4+HYYiLM0xz+VWlXslcL48g1O0Eu1cXwuSgqVEDZk1V1xcsAkkAfnUegR8eGGPa7n2YYV7Eq10LShyGB0FxyicVFJdp+aBliXEze0LitgSrvOLymJQiR/SFZVh+VBMDZ45Gi9yioPgmLl1VlG/1DujctqiRRAttZqzF6Oc/Y9nJgi1jVlTalp9iTCcpfPasx3dfT8S6eGesm5Rz8kzJkP/niSsPNWBhb4vqyrSyUph8y6NPYPnmWIxe9SVaF7sVUQKULUL1Eu9GYwevp8e59q2I6Z8ZjUkTAqrce2seY37pdGqqI333oBid2bIoOv1la6qs2YAG/uKf53hIyZFS8OYhNOK3COXzCojLtJxJJv+D82mgRWtyGONCW90v0LW798nvrg+dP7SZFn1uS63aO9KiI48oTfkXr0mf0uFvnahfJ0OqkjluL6pPFr0/Iad57pR1Q4kiSLm9hrpbjqejJTWQnxdZIv33wI8exxR8sKQo3aFxexxJV2RBLnfyvwXD++gOzVKQfMsi6LBze+q+9t+3j3kZUcsgmHbmW5r2e1jufdFSP1pm+XI80HL5/TzGIOLpf9O/plNFPoppdHd9T6qtUZU6zLv0Xu5vlxG0nT5p9RkdqLA30+MyLb/SKPzfM7R/2w/03dIltGzNJtq+7yhduBuRT0WYQdFB98j3fgAFPXlCwUEB9MD3Lt17El+MMSQZhR3/ghz6r6Wb5WyiVNrxsdR05KF8A0PGf560e8dpepx5dqc44dvtWIMqdXDNYyz1jYwbC6mdyRTls7KUTDfXfEwOXxynsFI+DykMNZ4dmjtZ+BbqVVlA0GxMMy6XRltCRuFHx1NTbREZDPsjj9ZoyRIHH6QJraoWYJLCh4rLlBWUjKIu/0ybz0Qrn5cT6RH0NCK/EJhGx8fUIY3qH9OO8GR6sHMYmTbsQau9331LW1nMGVrl6q58VnZkMWdpy88eWTN8yxMOgjkkHfyMaghBwlojyb0Uarfk6yvJXl+DdK1d6Uqp34w6iR64zaauDUQk0DCl6RfLSwdEyeIyZRWfjGI919P4EWNp6qQxNO6bn+h81l31WXFxEMwmnS5NNyENCKhK720ldg3gK9KQ/TTSRESixqPIragDGwUgjfens9tdaFSXhqQtyLr2mTRbziOf0h8ke++4TBljxaHmK8bkIPXF0s4dsOQWYLX8DrwXtSy5WV0vvLC418dY9agdlp4+gXkdin4/ZrlMggxJOpITXyAh9jmiI8LxLPQJgh4+gO/tG7jq44uIVPmrZSABgRY6KDLl49K6Yi0ZxmXKGCsmDoIq5OFb0LvxdJyXNsbMC/exwb6ELu6RBmGXU1dMOhYGaRmUtqCSPb73u4ivG5fGRO0ywmXKGCsBfBWxihQvD9ySEIR6nWCf7Z5ixZEEz0VO+LKMKmtFdY2qXUdguElFqqy5TBljJYNbgq+JcfGL5ui15Sm0e2/F41OTUa9EThFSEORxFnejZW+60t4rIWq06omPWuR3T5MPDZcpY6xkcBB8RXoPrh0tsexfwGrFHXgvLMHxQMYYY+USd4cqyaM84OWfuV6oEWzsVe9OzRhjrKLiIKiU5OmB21njgZ1hV2LjgYwxxsozDoKZxCE4fPAyEuWAhnFTNCvlNZcZY4yVD2o6JijG5cV9MON4LIgykBIbhdg0RStQ8YpcEQi19eugVjUtCIR1MGzLabjacMuQMcYqIp4YU1GJn+LyuQg079cZdbm9X+FIw+7AT9Aa7RrwpfqMFQdXj++dHFEX1mLW2gt4XsI3NpPHPYTPpT+xb+O3+NTGCj0n78CtDOWLHzBp1DX8sWAknDfdhVSZlqeUYHic8kFYUW6eKo3CtT8WYKTzJtx954aKKwXBHqfgU5QdlQXi59FD8N0/8bnfG08WB/+Lh7Br+2/43183EJauTGeMvYWD4PsmC8ZuVxf8euHhuyv0QpKH38E/PiEQtv0cA1q+XODyQ5Ye+g+2zuyL1pbj4C75CJOdWr1jiTIJrrj0RXfHr7D7USGCS3oo/tk6E31bW2KcuwQfTXZCq1JuYEmuuKBvd0d8tfuRMqWg5Ig86IKfxBOw2Kn2Wz9gedgxzLDriblnY1GjWXPUjD6ECXa94XouqlRvJsvYByuzO5S9R9G/0YCqIrJc5pfHvQpLQhodd65Dmg3G018f4ELzSYF/0rrx9mRqYEHDFu2lm9EFL6m0RxfpuOfTfO/L9lpSIP25bjzZmxqQxbBFtPdmdCkekxzSHtHF4570tLA3oUg8T9NbtKJZ/+RyQzxpIG3sXpNafOOVLf+JpyeTaV1H+r083cSNsXKCW4Lvi0yC9NRUxHlcwnWxATp2bgRxugRF6bWrmGSIu3cIy0Z2RKteK+FrOgsnfW/i4PKR6FC74FdtVjLrhoG2hshvgq8s7h4OLRuJjq16YaWvKWad9MXNg8sxskPt93d9aCUzdBtoC8NCzUSW4O6GRTht4YL5dm8vFi65uhU/e9ZEX0erbPmv1rU/HASn8NP2+yXe+8DYh44nxrwPshAcXLAAh59IEHnrT3hFG6Frn7aoJayCDtN+wlyHakB6BB74PUOSrOCHQ6BRDQYtW6J+FWXCa+k4MdYIQ84OwPHgHeinrUwuI+LoQAQ8r4rGzRui6ltRRopIn73YsPZH7PWthf5fzMPcib1hWsgbQsiTQuEX+AL6zVrBoFru53bSSB/s3bAWP+71Ra3+X2De3InoXdgNZREjOjAAz6s2RvOGVQsXOOVJCPULxAv9ZmhlUK1Q4xGykF/xyUfu6H32NL40y7lVKe65doTlaj18H3QeMwxUPll6F64drbBadx0eXZgJQz71Zew1DoLvkywQq23bYFm1jXh8Zirqq1RG4iur8dnivxEnL0QQFOqj57IDWGCbM8qVgyAofw7vbYux/FgMjDvZwtJMhJDzF5DwyQZsGmqoeIMEYZd3YM2qjTjy1AzDZn2L2c52aFjofZXg4YGFWHmpCqxaPMPOH8LhfOoEZrZ5c1mLJOwydqxZhY1HnsJs2Cx8O9sZdoXfkCJL3ti2eDmOxRijk60lzEQhOH8hAZ9sWI+hhu8OhZKHB7Bw5SVUsWqBZzt/QLjzKZyY2Qav9jQ94gH8niUh1/Mg+Qt4fDcBv9Vegl8nt1L+jQAa1QzQsmV9VFEc88Mj6sPpiDV+iTiFCfpZb3hJ+b1bFDUZ5/x/QrcyPilirFzJDILs/ZBF7aCPdUTUYZkfZSjTSkcZjwlKQ+jA2OZU2+ILOvb0ZU5lMW70WT1N0nVyy3pO4mu0rLM+aTXsSyvOhxRsDC8XSZcXktM3pyk6c7gr5RB9pqdFVsvvq4ztienass6kr9WQ+q44TyFF3JA05ACNbV6bLL44Ri+zJKMYt8+onqYuObmlZL0nX0mXaaHTN3T65Y7Soc/0SMtqOd1/vaPp5LXKkbp1dSAHh7cftu0MSKdyPWpto5relboNWkmeWcc4nnb00yZoD6BdOe+uLw2m7+1EJKw9mo4VtaAZq6A4CL5HKcfGUF2RKX35T2nfjrw4QVBKSRHB9CgwkAIL8ngUTJHJqhMupOS/vhvparWiOVdUgkPKv7RrkQvt+TdJmaAgjaHb+xaTU3sDMrUfT+v+DCSVVwsggY4tnE8nYl8+y7i5kMxFuuS4J+5lwmtSirm9jxY7tScDU3sav+5PCizMhqT+tL6bLmm1mkPZs7SLFrnsIdUs5SXh2EKa/2ZHaaG5iHQd91DOPc2VYvs/dDMhx12hitCblzhlEOxPvyUok16RPqZ1toogWGMkHeYgyFg2HATfGzFd+aYpiWqOoEO5VZqydEqIjqSIiIgCPyKjEyg911qxGEFQ7EOrB3Ymyw4dqENBHpadyfHH229atmnnaKqRBml1XkX+BZ1qKUugB8dWkbONCRlZjaClB+9RXN61fR5kFLKhK2lrO9D6J3n9sYwSHhyjVc42ZGJkRSOWHqR7BdhQ2rmpZKShRZ1X+ZfI7FFZyAbqqq1NDuuf5BPUXpFR+J6hZGq3mvzy7T5IoYPDdUmg3Yd+Vcba16QBtKqziDSMptL5sugZYKwc4yD4vkiDaK2NFlXuvZUismo+KQVs+ZJWer9sFaZf/JasmzWlJk2aFPjRtFlnmns+t1P7susOlfotI0uRJjWffVUR9gsrhYLPbaSp3ZuQgbkjffu7D0UWuN84nvYO1iWR+SK6WYC/SQk+RxundqcmBubk+O3v5JPnhqTkt8ySRJrNafbVkmnBx+8dTLoic1qUY0dl6QkUHZnjZCfQjZybNKfJRx9nT896RFJ0QroykGbQ7UXmJBJZ0+rAHKFafJXmNNckLYcfKeTdUZcxtcJB8H1Jv0jTTbSo2TdXsoKDOGAbjR69lXLWVyUjhQ6PrEkadcbQ8ffc/SX1/446ibSo26b/cmnlSCk2PFL5//yIKcxrO30zoCU1ataHZmy59O7r6dJP08SGImo06QwVJu6Lw7xo+zcDqGWjZtRnxha69NaGpOT/XScSaXWjTf/lEkGksRQe+eZv0mIiKS7fWJlOpyc2JFGjSXQm246m08VvralZU9UTHTMyqKFNomr1yMRMNf3Voyk16zyXXp0HpV+aTqYiI5qas7mXdJCG62uRhcudUh6LZuzDw0HwvUkkryV21NhmCq1e+RWNHr+KLkaV7Gm5NOB3mj5kMDn2t6cW9fVJX78+tXQYQI6Dh9KM3Y+U7yplGb60yro6mUw5S9ku55bF07UNw6nnlMPKhIJ4M5Zn2LgrzToUrEjJXcaNBdRGpEdD9sUrUwpHGnOb9i12ovaGjanrrEMUrLKhDN9VZF3dhKaczX6Buiz+Gm0Y3pOmHA7Pei59sI7sqgpJ13YN3csr2mTcoAVtRKQ3ZJ+i7Zo/afBW6mvSmzY/LuCZkvQB/eCgR2bTzqmMrcoo+sBwqldnEO0K5WYgYznxJRLvlRxJYYEIFdeBmWlNVNSZ6pIgN3wzaT2etB6Efm30kP6fP3wfxkHPYSrmT+yCOoW+Il2OF/4X4JXcDn2t3l4qLPP1kPUfofkCIdYGnseMYlwIJ3/hjwteyWjX1wq1X3+MBEFu32DS+idoPagf2uil4z9/XzyM04PD1PmY2KVO1rWCspBdGG7/FS5LbbDQ+yRmGeWypyHr8VHzBRCuDcT5GYZ5Xycof46jY7vgO+P98FpqWeDviiz0ML4c4orHPWZj9oCmyPDdj7Wb7qHLhkNY0bMOr5PIWA4cBFkpkSIhNBAhcUC1+sYwqatTihVwPPYONsG4kJm4cX0p2pbWup/SBIQGhiAO1VDf2AR1dXLLkRS+qxbgypjVmNLg7dfj9w6GybgQzLxxHUvz2dFUrzmwnpCENde2oY+uMrGgZHEI8LyE649fQFizKbp07wLTPBYQYEzdcRBkHyApwrz240yyDUb1MYVm9B4MbTEJoV96w2dJu3cssl3KZMHYMtcdNmvmZgVjaZgX9p9Jhs2oPjDVjMaeoS0wKfRLePssQbu8dlT6AOu6D4DPBE8cGtWAW2+MlSIOgqxsyMPgudsd12MyCna3C4EIdToPx+c29SBMPwFno8E4avULAty64PTY/nCJnwT3I/PQuZry/a/JEea5G+7XY5BRsA1BVKczhn9ug3qFjj4yPD0wB5s15mL1MMV+Zq7c42yEwUet8EuAG7qcHov+LvGY5H4E897eUSXF/u4eBvvfOuPk+TloWaYRnbGKT2OJgvL/jL0/8ljc9/DB4/g0pIvFEL/zIYFmPXNYmelCKKyNWlrPkZgcjat/eSLRegG2/TAKrd9aQzWTHLH3PeDzOB5p6bl97tsPiWY9mFuZQbewQVAaiMt+Jhjp1BJVBJkJQtSupYXnicmIvvoXPBOtsWDbDxiV+46+JP8P+5fvg9HijRhuJFImMsZKC7cEGWOMqS0ebmCMMaa2OAgyxhhTWxwEGWOMqS0OgowxxtQWB0HGGGNqi4MgY4wxtcVBkDHGmNriIMgYY0xtcRBkjDGmtjgIMsYYU1scBBljjKktDoKMMcbUFgdBxhhjaouDIGOMMbXFQZAxxpja4iDIGGNMbXEQZIwxprY4CDLGGFNbHAQZY4ypLQ6CjDHG1BYHQcYYY2oK+D/GULhtmhR6ZwAAAABJRU5ErkJggg==)\n",
        "\n",
        "\n"
      ]
    },
    {
      "cell_type": "markdown",
      "metadata": {
        "id": "RdLUiuehfGmf"
      },
      "source": [
        "## Calculating log-probabilities\n",
        "\n",
        "Using softmax in this case\n",
        "- $w_O$ is the output word\n",
        "- $w_I$ is the input word\n",
        "- $W$ is the vocabulary size\n",
        "- $v_x$ is the vectorial embedding of a given word $x$\n",
        "\n",
        "Complexity ~ $\\mathcal{O}(W)$\n",
        "\n",
        "\n",
        "![image.png](data:image/png;base64,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)"
      ]
    },
    {
      "cell_type": "markdown",
      "metadata": {
        "id": "SdID95ikfyYl"
      },
      "source": [
        "## Negative sampling\n",
        "- Instead of calculating softmax for the whole vocabulary we use a low, fixed number of negative samples for each token\n",
        "- A negative sample is a word not in the context window of the target word"
      ]
    },
    {
      "cell_type": "code",
      "execution_count": null,
      "metadata": {
        "id": "KATIr_obZOPx"
      },
      "outputs": [],
      "source": [
        "import random\n",
        "\n",
        "def sample_skipgrams(sequences, vocab_size, window_size, num_neg_sample, discard_prob):\n",
        "  contexts = []\n",
        "  labels = []\n",
        "  targets = []\n",
        "  for sequence in sequences:\n",
        "    for target in range(len(sequence)):\n",
        "      # Discard token based on subsampling\n",
        "      if random.random()<discard_prob[sequence[target]]:\n",
        "        continue\n",
        "      positivewords = []\n",
        "      # Generate positive samples\n",
        "      for w_idx in range(-window_size, window_size+1):\n",
        "        if w_idx != 0 and (not target+w_idx<0) and \\\n",
        "                    (not target+w_idx>=len(sequence)):\n",
        "          positivewords.append(sequence[target+w_idx])\n",
        "      # Generate negative samples for each positive sample\n",
        "      for pos in range(len(positivewords)):\n",
        "        negativewords = []\n",
        "        for neg in range(num_neg_sample):\n",
        "          randword = random.randint(1,vocab_size)\n",
        "          while randword in positivewords:\n",
        "            randword = random.randint(1,vocab_size)\n",
        "          negativewords.append(randword)\n",
        "        targets.append(sequence[target])\n",
        "        contexts.append([positivewords[pos]]+negativewords)\n",
        "        labels.append([1]+[0]*len(negativewords))\n",
        "\n",
        "  return np.array(targets, dtype=np.int64),np.array(contexts, dtype=np.int64),\\\n",
        "        np.array(labels, dtype=np.int64)\n"
      ]
    },
    {
      "cell_type": "code",
      "execution_count": null,
      "metadata": {
        "id": "AOkQeL8LiFNa"
      },
      "outputs": [],
      "source": [
        "neg_samples= 5\n",
        "window_size = 3\n",
        "targets, contexts, labels = sample_skipgrams(data, num_words, window_size, neg_samples, disc_dict)"
      ]
    },
    {
      "cell_type": "markdown",
      "metadata": {
        "id": "uv2i1CE4nRej"
      },
      "source": [
        "Shorthand pre-written function with similar functionality:\n",
        "https://www.tensorflow.org/api_docs/python/tf/keras/preprocessing/sequence/skipgrams"
      ]
    },
    {
      "cell_type": "code",
      "execution_count": null,
      "metadata": {
        "colab": {
          "base_uri": "https://localhost:8080/"
        },
        "id": "ppv4f1vEBzka",
        "outputId": "eb067656-b985-40cc-b66d-40feaad75a90"
      },
      "outputs": [
        {
          "data": {
            "text/plain": [
              "(4180313, 6)"
            ]
          },
          "execution_count": 35,
          "metadata": {},
          "output_type": "execute_result"
        }
      ],
      "source": [
        "contexts.shape"
      ]
    },
    {
      "cell_type": "code",
      "execution_count": null,
      "metadata": {
        "colab": {
          "base_uri": "https://localhost:8080/",
          "height": 448
        },
        "id": "uRAw5OFUfAQL",
        "outputId": "7b78bf41-4341-4a4a-99db-40ac873c497d"
      },
      "outputs": [
        {
          "data": {
            "text/plain": [
              "[<matplotlib.lines.Line2D at 0x7f556cb2c370>]"
            ]
          },
          "execution_count": 36,
          "metadata": {},
          "output_type": "execute_result"
        },
        {
          "data": {
            "image/png": "[encoded data removed]",
            "text/plain": [
              "<Figure size 640x480 with 1 Axes>"
            ]
          },
          "metadata": {},
          "output_type": "display_data"
        }
      ],
      "source": [
        "idx, counts = np.unique(targets, return_counts=True)\n",
        "plt.plot(idx, counts)"
      ]
    },
    {
      "cell_type": "code",
      "execution_count": null,
      "metadata": {
        "colab": {
          "base_uri": "https://localhost:8080/"
        },
        "id": "DOKjue0NkRTv",
        "outputId": "0915b4ed-1999-4992-efd4-807163517fca"
      },
      "outputs": [
        {
          "name": "stdout",
          "output_type": "stream",
          "text": [
            "[2370   97   97]\n",
            "[[   1  872 2498 2549  591 2511]\n",
            " [ 404 3347 3658  812 1521 2763]\n",
            " [ 537 3206 3550  713 3734 3456]]\n",
            "[[1 0 0 0 0 0]\n",
            " [1 0 0 0 0 0]\n",
            " [1 0 0 0 0 0]]\n"
          ]
        }
      ],
      "source": [
        "print(targets[:3])\n",
        "print(contexts[:3])\n",
        "print(labels[:3])"
      ]
    },
    {
      "cell_type": "markdown",
      "metadata": {
        "id": "pp5FBVKkqTwm"
      },
      "source": [
        "# Assembling a model\n",
        "- $v_{w_t}$ and $v_{w_c}$ embedding should be constructed using TF Keras Embedding layers\n",
        "- Dot-products should be calculated for all context-target pairs\n",
        "- Softmax should be applied to the vector of dot-products\n",
        "- Labels are 1 for a positive sample and 0 for a negative one\n",
        "- Binary crossentropy can be used as a loss metric (we have binary labels)"
      ]
    },
    {
      "cell_type": "code",
      "execution_count": null,
      "metadata": {
        "id": "9vUhqeAFk2l_"
      },
      "outputs": [],
      "source": [
        "class SkipgramModel(tf.keras.models.Model):\n",
        "  def __init__(self, vocab_size, embedding_size, num_neg_samples):\n",
        "    super(SkipgramModel, self).__init__()\n",
        "    self.context_emb = tf.keras.layers.Embedding(vocab_size, embedding_size, \n",
        "                                                 input_length=num_neg_samples+1, \n",
        "                                                 name=\"context_emb\")\n",
        "    self.target_emb = tf.keras.layers.Embedding(vocab_size, embedding_size, \n",
        "                                                input_length=1, \n",
        "                                                name=\"target_emb\")\n",
        "  \n",
        "  def call(self, data):\n",
        "    target, context = data\n",
        "    v_targ, _ = tf.linalg.normalize(self.target_emb(target), axis=-1) # batch, emb_dim\n",
        "    v_cont    = self.context_emb(context) # batch, num_neg_samp+1, emb_dim\n",
        "\n",
        "    # dot product of the two matrices with the inner dimension of emb_dim\n",
        "    # the input shapes are be and bne, the desired output shape is bn\n",
        "    dot_prod = tf.einsum(\"be,bne->bn\",v_targ,v_cont)\n",
        "\n",
        "    return tf.nn.softmax(dot_prod,axis=-1)\n"
      ]
    },
    {
      "cell_type": "code",
      "execution_count": null,
      "metadata": {
        "id": "J8VkO4cFlfk-"
      },
      "outputs": [],
      "source": [
        "model = SkipgramModel(num_words, 64, neg_samples)"
      ]
    },
    {
      "cell_type": "code",
      "execution_count": null,
      "metadata": {
        "id": "MYqQsRVExNqq"
      },
      "outputs": [],
      "source": [
        "model.compile(optimizer='adam',\n",
        "                 loss=tf.keras.losses.CategoricalCrossentropy(from_logits=False),\n",
        "                 metrics=['accuracy'])"
      ]
    },
    {
      "cell_type": "code",
      "execution_count": null,
      "metadata": {
        "id": "utAnaT-ZwRxe"
      },
      "outputs": [],
      "source": [
        "model.fit([targets, contexts],labels, epochs=7, batch_size=8192, validation_split = 0.15, shuffle=True)"
      ]
    },
    {
      "cell_type": "code",
      "execution_count": null,
      "metadata": {
        "colab": {
          "background_save": true
        },
        "id": "-B2GE07dwZej",
        "outputId": "2c5d857c-f99b-4ef7-db40-1855c3c6f336"
      },
      "outputs": [
        {
          "ename": "NameError",
          "evalue": "ignored",
          "output_type": "error",
          "traceback": [
            "\u001b[0;31m---------------------------------------------------------------------------\u001b[0m",
            "\u001b[0;31mNameError\u001b[0m                                 Traceback (most recent call last)",
            "\u001b[0;32m<ipython-input-1-c209215ae327>\u001b[0m in \u001b[0;36m<cell line: 1>\u001b[0;34m()\u001b[0m\n\u001b[0;32m----> 1\u001b[0;31m \u001b[0mweights\u001b[0m \u001b[0;34m=\u001b[0m \u001b[0mmodel\u001b[0m\u001b[0;34m.\u001b[0m\u001b[0mget_layer\u001b[0m\u001b[0;34m(\u001b[0m\u001b[0;34m'target_emb'\u001b[0m\u001b[0;34m)\u001b[0m\u001b[0;34m.\u001b[0m\u001b[0mget_weights\u001b[0m\u001b[0;34m(\u001b[0m\u001b[0;34m)\u001b[0m\u001b[0;34m[\u001b[0m\u001b[0;36m0\u001b[0m\u001b[0;34m]\u001b[0m\u001b[0;34m\u001b[0m\u001b[0;34m\u001b[0m\u001b[0m\n\u001b[0m",
            "\u001b[0;31mNameError\u001b[0m: name 'model' is not defined"
          ]
        }
      ],
      "source": [
        "weights = model.get_layer('target_emb').get_weights()[0]"
      ]
    },
    {
      "cell_type": "markdown",
      "metadata": {
        "id": "m9mLXVLOnixY"
      },
      "source": [
        "### We could average or sum the two matrices as well"
      ]
    },
    {
      "cell_type": "code",
      "execution_count": null,
      "metadata": {
        "colab": {
          "base_uri": "https://localhost:8080/"
        },
        "id": "-GnJFOrPmxUd",
        "outputId": "26a6897b-c8ab-4f02-fee6-480d2aa820ed"
      },
      "outputs": [
        {
          "data": {
            "text/plain": [
              "(4096, 64)"
            ]
          },
          "execution_count": 186,
          "metadata": {},
          "output_type": "execute_result"
        }
      ],
      "source": [
        "weights.shape"
      ]
    },
    {
      "cell_type": "code",
      "execution_count": null,
      "metadata": {
        "id": "-8Bv5bjuyXJ-"
      },
      "outputs": [],
      "source": [
        "def getW2V(word):\n",
        "  assert word.find(\" \")<0\n",
        "  id = tokenizer.texts_to_sequences([stemmer.stem(word.lower())])[0][0]\n",
        "  return weights[id,:].flatten()/np.linalg.norm(weights[id,:].flatten())"
      ]
    },
    {
      "cell_type": "code",
      "execution_count": null,
      "metadata": {
        "colab": {
          "base_uri": "https://localhost:8080/"
        },
        "id": "fJLxKFjNyqCw",
        "outputId": "4460674d-e8fa-42d8-c76d-36771fce68f3"
      },
      "outputs": [
        {
          "data": {
            "text/plain": [
              "array([ 0.04306851,  0.04996744, -0.02657381,  0.1496954 ,  0.03875703,\n",
              "       -0.08090428,  0.09052738,  0.05654401,  0.02985211, -0.05374721,\n",
              "       -0.06229451,  0.01601284,  0.0858064 , -0.00509588, -0.03853964,\n",
              "        0.23664828, -0.02230639, -0.12156384,  0.02146436,  0.02331606,\n",
              "        0.0392754 , -0.08868923,  0.27166152,  0.27738172,  0.05781792,\n",
              "        0.0273494 , -0.00501094, -0.20225924,  0.08398657, -0.14453782,\n",
              "        0.12794608,  0.09583001,  0.04478685, -0.11706232, -0.15881874,\n",
              "        0.08454146,  0.03658047, -0.07492401,  0.01205664,  0.13693662,\n",
              "       -0.15768999,  0.00365687, -0.20460892,  0.19643576,  0.06990264,\n",
              "        0.01067757,  0.16771573,  0.16316834,  0.12761612, -0.1628074 ,\n",
              "       -0.25298107, -0.0541987 ,  0.02152021, -0.00969073, -0.05090966,\n",
              "        0.12279128, -0.00090948, -0.23697338, -0.14820865,  0.22146258,\n",
              "        0.2418284 , -0.0115151 , -0.08774617,  0.21189159], dtype=float32)"
            ]
          },
          "execution_count": 188,
          "metadata": {},
          "output_type": "execute_result"
        }
      ],
      "source": [
        "getW2V(\"king\")"
      ]
    },
    {
      "cell_type": "markdown",
      "metadata": {
        "id": "HaQVSyRCnqQF"
      },
      "source": [
        "### Similarity and analogy measures"
      ]
    },
    {
      "cell_type": "code",
      "execution_count": null,
      "metadata": {
        "id": "HOtY6Stmyq9q"
      },
      "outputs": [],
      "source": [
        "def cos_sim(a, b):\n",
        "  return np.dot(a,b)/np.linalg.norm(a)/np.linalg.norm(b)"
      ]
    },
    {
      "cell_type": "code",
      "execution_count": null,
      "metadata": {
        "colab": {
          "base_uri": "https://localhost:8080/"
        },
        "id": "t7mRi4ofzr2k",
        "outputId": "955267d9-64f1-4f80-b157-18ed198e423c"
      },
      "outputs": [
        {
          "name": "stdout",
          "output_type": "stream",
          "text": [
            "0.72237587\n",
            "0.8593138\n"
          ]
        }
      ],
      "source": [
        "print(cos_sim(getW2V(\"cat\"),getW2V(\"machine\")))\n",
        "print(cos_sim(getW2V(\"cat\"),getW2V(\"dog\")))"
      ]
    },
    {
      "cell_type": "code",
      "execution_count": null,
      "metadata": {
        "colab": {
          "base_uri": "https://localhost:8080/"
        },
        "id": "hgNmIov7zhen",
        "outputId": "8d5f6fd9-63e0-4fdf-d6da-c243b54ab7c1"
      },
      "outputs": [
        {
          "data": {
            "text/plain": [
              "0.8035637"
            ]
          },
          "execution_count": 191,
          "metadata": {},
          "output_type": "execute_result"
        }
      ],
      "source": [
        "vec = getW2V(\"king\")-getW2V(\"man\")+getW2V(\"woman\")\n",
        "vec /= np.linalg.norm(vec)\n",
        "cos_sim(vec,getW2V(\"queen\"))"
      ]
    },
    {
      "cell_type": "code",
      "execution_count": null,
      "metadata": {
        "colab": {
          "base_uri": "https://localhost:8080/"
        },
        "id": "DHZeBlhmdjLW",
        "outputId": "14f61219-5c4a-4878-afb5-52fe1c9a0551"
      },
      "outputs": [
        {
          "data": {
            "text/plain": [
              "0.71806943"
            ]
          },
          "execution_count": 192,
          "metadata": {},
          "output_type": "execute_result"
        }
      ],
      "source": [
        "vec = getW2V(\"Madrid\")-getW2V(\"Spain\")+getW2V(\"France\")\n",
        "vec /= np.linalg.norm(vec)\n",
        "cos_sim(vec,getW2V(\"Paris\"))"
      ]
    },
    {
      "cell_type": "code",
      "execution_count": null,
      "metadata": {
        "colab": {
          "base_uri": "https://localhost:8080/"
        },
        "id": "pDAcZWB2lomP",
        "outputId": "9dd8b235-5da5-4127-f999-6fa7115e8bd1"
      },
      "outputs": [
        {
          "data": {
            "text/plain": [
              "0.24399456"
            ]
          },
          "execution_count": 193,
          "metadata": {},
          "output_type": "execute_result"
        }
      ],
      "source": [
        "vec = getW2V(\"Madrid\")-getW2V(\"Spain\")+getW2V(\"Hungary\")\n",
        "vec /= np.linalg.norm(vec)\n",
        "cos_sim(vec,getW2V(\"Paris\"))"
      ]
    },
    {
      "cell_type": "code",
      "execution_count": null,
      "metadata": {
        "colab": {
          "base_uri": "https://localhost:8080/"
        },
        "id": "dD9api4Gdz_z",
        "outputId": "d666cc7c-dc86-41e2-a522-0c10ad59da00"
      },
      "outputs": [
        {
          "data": {
            "text/plain": [
              "0.7976838"
            ]
          },
          "execution_count": 194,
          "metadata": {},
          "output_type": "execute_result"
        }
      ],
      "source": [
        "vec = getW2V(\"winter\")-getW2V(\"cold\")+getW2V(\"warm\")\n",
        "vec /= np.linalg.norm(vec)\n",
        "cos_sim(vec,getW2V(\"summer\"))"
      ]
    },
    {
      "cell_type": "code",
      "execution_count": null,
      "metadata": {
        "id": "x64KEshlz0ON"
      },
      "outputs": [],
      "source": [
        "from sklearn.decomposition import PCA"
      ]
    },
    {
      "cell_type": "code",
      "execution_count": null,
      "metadata": {
        "colab": {
          "base_uri": "https://localhost:8080/",
          "height": 74
        },
        "id": "8zYJAdbYl23o",
        "outputId": "3cf2fc75-978d-45fb-b458-2b5db3ba5971"
      },
      "outputs": [
        {
          "data": {
            "text/html": [
              "<style>#sk-container-id-5 {color: black;background-color: white;}#sk-container-id-5 pre{padding: 0;}#sk-container-id-5 div.sk-toggleable {background-color: white;}#sk-container-id-5 label.sk-toggleable__label {cursor: pointer;display: block;width: 100%;margin-bottom: 0;padding: 0.3em;box-sizing: border-box;text-align: center;}#sk-container-id-5 label.sk-toggleable__label-arrow:before {content: \"▸\";float: left;margin-right: 0.25em;color: #696969;}#sk-container-id-5 label.sk-toggleable__label-arrow:hover:before {color: black;}#sk-container-id-5 div.sk-estimator:hover label.sk-toggleable__label-arrow:before {color: black;}#sk-container-id-5 div.sk-toggleable__content {max-height: 0;max-width: 0;overflow: hidden;text-align: left;background-color: #f0f8ff;}#sk-container-id-5 div.sk-toggleable__content pre {margin: 0.2em;color: black;border-radius: 0.25em;background-color: #f0f8ff;}#sk-container-id-5 input.sk-toggleable__control:checked~div.sk-toggleable__content {max-height: 200px;max-width: 100%;overflow: auto;}#sk-container-id-5 input.sk-toggleable__control:checked~label.sk-toggleable__label-arrow:before {content: \"▾\";}#sk-container-id-5 div.sk-estimator input.sk-toggleable__control:checked~label.sk-toggleable__label {background-color: #d4ebff;}#sk-container-id-5 div.sk-label input.sk-toggleable__control:checked~label.sk-toggleable__label {background-color: #d4ebff;}#sk-container-id-5 input.sk-hidden--visually {border: 0;clip: rect(1px 1px 1px 1px);clip: rect(1px, 1px, 1px, 1px);height: 1px;margin: -1px;overflow: hidden;padding: 0;position: absolute;width: 1px;}#sk-container-id-5 div.sk-estimator {font-family: monospace;background-color: #f0f8ff;border: 1px dotted black;border-radius: 0.25em;box-sizing: border-box;margin-bottom: 0.5em;}#sk-container-id-5 div.sk-estimator:hover {background-color: #d4ebff;}#sk-container-id-5 div.sk-parallel-item::after {content: \"\";width: 100%;border-bottom: 1px solid gray;flex-grow: 1;}#sk-container-id-5 div.sk-label:hover label.sk-toggleable__label {background-color: #d4ebff;}#sk-container-id-5 div.sk-serial::before {content: \"\";position: absolute;border-left: 1px solid gray;box-sizing: border-box;top: 0;bottom: 0;left: 50%;z-index: 0;}#sk-container-id-5 div.sk-serial {display: flex;flex-direction: column;align-items: center;background-color: white;padding-right: 0.2em;padding-left: 0.2em;position: relative;}#sk-container-id-5 div.sk-item {position: relative;z-index: 1;}#sk-container-id-5 div.sk-parallel {display: flex;align-items: stretch;justify-content: center;background-color: white;position: relative;}#sk-container-id-5 div.sk-item::before, #sk-container-id-5 div.sk-parallel-item::before {content: \"\";position: absolute;border-left: 1px solid gray;box-sizing: border-box;top: 0;bottom: 0;left: 50%;z-index: -1;}#sk-container-id-5 div.sk-parallel-item {display: flex;flex-direction: column;z-index: 1;position: relative;background-color: white;}#sk-container-id-5 div.sk-parallel-item:first-child::after {align-self: flex-end;width: 50%;}#sk-container-id-5 div.sk-parallel-item:last-child::after {align-self: flex-start;width: 50%;}#sk-container-id-5 div.sk-parallel-item:only-child::after {width: 0;}#sk-container-id-5 div.sk-dashed-wrapped {border: 1px dashed gray;margin: 0 0.4em 0.5em 0.4em;box-sizing: border-box;padding-bottom: 0.4em;background-color: white;}#sk-container-id-5 div.sk-label label {font-family: monospace;font-weight: bold;display: inline-block;line-height: 1.2em;}#sk-container-id-5 div.sk-label-container {text-align: center;}#sk-container-id-5 div.sk-container {/* jupyter's `normalize.less` sets `[hidden] { display: none; }` but bootstrap.min.css set `[hidden] { display: none !important; }` so we also need the `!important` here to be able to override the default hidden behavior on the sphinx rendered scikit-learn.org. See: https://github.com/scikit-learn/scikit-learn/issues/21755 */display: inline-block !important;position: relative;}#sk-container-id-5 div.sk-text-repr-fallback {display: none;}</style><div id=\"sk-container-id-5\" class=\"sk-top-container\"><div class=\"sk-text-repr-fallback\"><pre>PCA(n_components=2)</pre><b>In a Jupyter environment, please rerun this cell to show the HTML representation or trust the notebook. <br />On GitHub, the HTML representation is unable to render, please try loading this page with nbviewer.org.</b></div><div class=\"sk-container\" hidden><div class=\"sk-item\"><div class=\"sk-estimator sk-toggleable\"><input class=\"sk-toggleable__control sk-hidden--visually\" id=\"sk-estimator-id-5\" type=\"checkbox\" checked><label for=\"sk-estimator-id-5\" class=\"sk-toggleable__label sk-toggleable__label-arrow\">PCA</label><div class=\"sk-toggleable__content\"><pre>PCA(n_components=2)</pre></div></div></div></div></div>"
            ],
            "text/plain": [
              "PCA(n_components=2)"
            ]
          },
          "execution_count": 196,
          "metadata": {},
          "output_type": "execute_result"
        }
      ],
      "source": [
        "pca = PCA(n_components=2)\n",
        "pca.fit(weights.T)"
      ]
    },
    {
      "cell_type": "code",
      "execution_count": null,
      "metadata": {
        "colab": {
          "base_uri": "https://localhost:8080/"
        },
        "id": "yVrcVoNHmP3U",
        "outputId": "4234881a-6175-45f6-9dc0-35e8188159be"
      },
      "outputs": [
        {
          "data": {
            "text/plain": [
              "(2, 4096)"
            ]
          },
          "execution_count": 197,
          "metadata": {},
          "output_type": "execute_result"
        }
      ],
      "source": [
        "pca.components_.shape"
      ]
    },
    {
      "cell_type": "code",
      "execution_count": null,
      "metadata": {
        "id": "J4u-Z5RGohFy"
      },
      "outputs": [],
      "source": []
    },
    {
      "cell_type": "code",
      "execution_count": null,
      "metadata": {
        "colab": {
          "base_uri": "https://localhost:8080/",
          "height": 830
        },
        "id": "CA6JRG5pmTwC",
        "outputId": "2d696171-5b04-418e-ff60-a6ef4f88d113"
      },
      "outputs": [
        {
          "data": {
            "image/png": "[encoded data removed]",
            "text/plain": [
              "<Figure size 1500x1000 with 1 Axes>"
            ]
          },
          "metadata": {},
          "output_type": "display_data"
        }
      ],
      "source": [
        "words_to_plot=[\"king\",\"queen\",\"man\",\"woman\",\"Paris\",\"France\",\"Berlin\",\"Germany\",\"speak\",\"listen\",\"surelyoov\",\"anotheroov\",\n",
        "               \"warm\",\"cold\",\"hot\",\"freezing\",\"love\",\"hate\",\"hat\",\"day\",\"night\",\"cat\",\"dog\",\n",
        "               \"computer\",\"robot\",\"machine\",\"student\",\"good\",\"worse\",\"London\"]\n",
        "ids_to_plot = [tokenizer.texts_to_sequences([stemmer.stem(word.lower())])[0][0] for word in words_to_plot]\n",
        "\n",
        "plt.figure(figsize=(15,10))\n",
        "ax = plt.axes()\n",
        "\n",
        "ax.scatter(pca.components_[0,ids_to_plot],pca.components_[1,ids_to_plot])\n",
        "for i, word in enumerate(words_to_plot):\n",
        "    ax.annotate(word, (pca.components_[0,ids_to_plot][i]+8e-6, pca.components_[1,ids_to_plot][i]+8e-6),size=18)\n",
        "\n",
        "plt.grid()"
      ]
    },
    {
      "cell_type": "markdown",
      "metadata": {
        "id": "xPBU8Rv1bvK-"
      },
      "source": [
        "## Saving to Word2Vec format\n",
        "\n",
        "<b>NOTE:</b> The process above is just an example, it contains optional steps, there are numerous enhancements that can be added to the word2vec training procedure, which might fit a specific use-case better than any methods presented here."
      ]
    },
    {
      "cell_type": "markdown",
      "metadata": {
        "id": "5dovWvSbc32Q"
      },
      "source": [
        "## Word2Vec format\n",
        "- Space separated, decimal is a dot, encoding is UTF-8 (usually)\n",
        "- Header: num_words n_dim\n",
        "- Data row: word_string embedding_vector\\n\n"
      ]
    },
    {
      "cell_type": "code",
      "execution_count": null,
      "metadata": {
        "id": "PfyP0tUja_cM"
      },
      "outputs": [],
      "source": [
        "with open(\"./word2vec_lab.txt\",\"w\") as f:\n",
        "  f.write(str(num_words)+\" \"+str(128)+\"\\n\")\n",
        "  for i in range(num_words):\n",
        "    f.write(list(vocabulary.keys())[i]+\" \"+\" \".join([str(w) for w in weights[0,:]])+\"\\n\")"
      ]
    },
    {
      "cell_type": "markdown",
      "metadata": {
        "id": "PZiVXiFbWhUd"
      },
      "source": [
        "## Pre-packed Word Embedding Trainer Modules\n",
        "\n",
        "1. Gensim - Word2Vec https://radimrehurek.com/gensim/auto_examples/tutorials/run_word2vec.html   \n",
        "2. Facebook AI Research - FastText Embedding https://fasttext.cc/docs/en/supervised-tutorial.html\n",
        "\n",
        "- Here you specify training parameters and the corpus\n",
        "- Execution of the above specified methods is automatic\n",
        "\n",
        "### Building word embeddings can be topic-specific\n",
        "- Eg.: sentiment analysis, domain-specific embedding (pharmacy, business, etc.)...\n",
        "\n",
        "### Word embedding repository:\n",
        "http://vectors.nlpl.eu/repository/"
      ]
    },
    {
      "cell_type": "code",
      "execution_count": null,
      "metadata": {
        "id": "pkuqCquOSY0R"
      },
      "outputs": [],
      "source": []
    }
  ],
  "metadata": {
    "accelerator": "GPU",
    "colab": {
      "provenance": []
    },
    "kernelspec": {
      "display_name": "Python 3",
      "name": "python3"
    },
    "language_info": {
      "name": "python"
    }
  },
  "nbformat": 4,
  "nbformat_minor": 0
}