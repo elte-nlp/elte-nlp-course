{
  "cells": [
    {
      "cell_type": "code",
      "execution_count": null,
      "metadata": {
        "colab": {
          "base_uri": "https://localhost:8080/"
        },
        "id": "ltJPhVtkFsfH",
        "outputId": "b0277141-ec29-4c8d-e188-42073c6a7271"
      },
      "outputs": [
        {
          "output_type": "stream",
          "name": "stdout",
          "text": [
            "--2023-10-20 14:15:45--  https://docs.google.com/uc?export=download&confirm=t&id=1krZbtFXLW2711hZLq7xO0iXsUTBcwNSQ\n",
            "Resolving docs.google.com (docs.google.com)... 108.177.126.139, 108.177.126.101, 108.177.126.113, ...\n",
            "Connecting to docs.google.com (docs.google.com)|108.177.126.139|:443... connected.\n",
            "HTTP request sent, awaiting response... 303 See Other\n",
            "Location: https://doc-0s-2k-docs.googleusercontent.com/docs/securesc/ha0ro937gcuc7l7deffksulhg5h7mbp1/nb4ar9a8nvqdvdt7ahgutg29h1madck8/1697811300000/01308971736394707036/*/1krZbtFXLW2711hZLq7xO0iXsUTBcwNSQ?e=download&uuid=064b4c60-f9e9-4957-b622-c3a168c4a4c8 [following]\n",
            "Warning: wildcards not supported in HTTP.\n",
            "--2023-10-20 14:15:45--  https://doc-0s-2k-docs.googleusercontent.com/docs/securesc/ha0ro937gcuc7l7deffksulhg5h7mbp1/nb4ar9a8nvqdvdt7ahgutg29h1madck8/1697811300000/01308971736394707036/*/1krZbtFXLW2711hZLq7xO0iXsUTBcwNSQ?e=download&uuid=064b4c60-f9e9-4957-b622-c3a168c4a4c8\n",
            "Resolving doc-0s-2k-docs.googleusercontent.com (doc-0s-2k-docs.googleusercontent.com)... 142.250.153.132, 2a00:1450:4013:c16::84\n",
            "Connecting to doc-0s-2k-docs.googleusercontent.com (doc-0s-2k-docs.googleusercontent.com)|142.250.153.132|:443... connected.\n",
            "HTTP request sent, awaiting response... 200 OK\n",
            "Length: 636691366 (607M) [application/rar]\n",
            "Saving to: ‘/content/data.rar’\n",
            "\n",
            "/content/data.rar   100%[===================>] 607.20M  60.8MB/s    in 7.2s    \n",
            "\n",
            "2023-10-20 14:15:53 (84.9 MB/s) - ‘/content/data.rar’ saved [636691366/636691366]\n",
            "\n",
            "\n",
            "UNRAR 6.11 beta 1 freeware      Copyright (c) 1993-2022 Alexander Roshal\n",
            "\n",
            "\n",
            "Extracting from /content/data.rar\n",
            "\n",
            "Creating    /content/data                                             OK\n",
            "Creating    /content/data/03Emoji                                     OK\n",
            "Extracting  /content/data/03Emoji/cc.en.50.magnitude                     \b\b\b\b  0%\b\b\b\b  1%\b\b\b\b  2%\b\b\b\b  3%\b\b\b\b  4%\b\b\b\b  5%\b\b\b\b  6%\b\b\b\b  7%\b\b\b\b  8%\b\b\b\b  9%\b\b\b\b 10%\b\b\b\b 11%\b\b\b\b 12%\b\b\b\b 13%\b\b\b\b 14%\b\b\b\b 15%\b\b\b\b 16%\b\b\b\b 17%\b\b\b\b 18%\b\b\b\b 19%\b\b\b\b 20%\b\b\b\b 21%\b\b\b\b 22%\b\b\b\b 23%\b\b\b\b 24%\b\b\b\b 25%\b\b\b\b 26%\b\b\b\b 27%\b\b\b\b 28%\b\b\b\b 29%\b\b\b\b 30%\b\b\b\b 31%\b\b\b\b 32%\b\b\b\b 33%\b\b\b\b 34%\b\b\b\b 35%\b\b\b\b 36%\b\b\b\b 37%\b\b\b\b 38%\b\b\b\b 39%\b\b\b\b 40%\b\b\b\b 41%\b\b\b\b 42%\b\b\b\b 43%\b\b\b\b 44%\b\b\b\b 45%\b\b\b\b 46%\b\b\b\b 47%\b\b\b\b 48%\b\b\b\b 49%\b\b\b\b 50%\b\b\b\b 51%\b\b\b\b 52%\b\b\b\b 53%\b\b\b\b 54%\b\b\b\b 55%\b\b\b\b 56%\b\b\b\b 57%\b\b\b\b 58%\b\b\b\b 59%\b\b\b\b 60%\b\b\b\b 61%\b\b\b\b 62%\b\b\b\b 63%\b\b\b\b 64%\b\b\b\b 65%\b\b\b\b 66%\b\b\b\b 67%\b\b\b\b 68%\b\b\b\b 69%\b\b\b\b 70%\b\b\b\b 71%\b\b\b\b 72%\b\b\b\b 73%\b\b\b\b 74%\b\b\b\b 75%\b\b\b\b 76%\b\b\b\b 77%\b\b\b\b 78%\b\b\b\b 79%\b\b\b\b 80%\b\b\b\b 81%\b\b\b\b 82%\b\b\b\b 83%\b\b\b\b 84%\b\b\b\b 85%\b\b\b\b 86%\b\b\b\b 87%\b\b\b\b 88%\b\b\b\b 89%\b\b\b\b 90%\b\b\b\b 91%\b\b\b\b 92%\b\b\b\b 93%\b\b\b\b 94%\b\b\b\b 95%\b\b\b\b 96%\b\b\b\b 97%\b\b\b\b 98%\b\b\b\b 99%\b\b\b\b\b  OK \n",
            "Extracting  /content/data/03Emoji/test.txt                               \b\b\b\b 99%\b\b\b\b\b  OK \n",
            "Extracting  /content/data/03Emoji/train.txt                              \b\b\b\b 99%\b\b\b\b\b  OK \n",
            "Extracting  /content/data/03Emoji/val.txt                                \b\b\b\b 99%\b\b\b\b\b  OK \n",
            "All OK\n",
            "--2023-10-20 14:16:16--  https://ikelte-my.sharepoint.com/:u:/g/personal/natabara_inf_elte_hu/Ee9HETZu5o1BkP8EqaKtMigB_KjvuD4vQ5WpoDOG4gLISw?e=oNbmMt&download=1\n",
            "Resolving ikelte-my.sharepoint.com (ikelte-my.sharepoint.com)... 13.107.136.10, 13.107.138.10, 2620:1ec:8f8::10, ...\n",
            "Connecting to ikelte-my.sharepoint.com (ikelte-my.sharepoint.com)|13.107.136.10|:443... connected.\n",
            "HTTP request sent, awaiting response... 302 Found\n",
            "Location: /personal/natabara_inf_elte_hu/Documents/cc.en.64.bin?ga=1 [following]\n",
            "--2023-10-20 14:16:17--  https://ikelte-my.sharepoint.com/personal/natabara_inf_elte_hu/Documents/cc.en.64.bin?ga=1\n",
            "Reusing existing connection to ikelte-my.sharepoint.com:443.\n",
            "HTTP request sent, awaiting response... 200 OK\n",
            "Length: 1573176312 (1.5G) [application/octet-stream]\n",
            "Saving to: ‘cc.en.64.bin’\n",
            "\n",
            "cc.en.64.bin        100%[===================>]   1.46G   199MB/s    in 12s     \n",
            "\n",
            "2023-10-20 14:16:29 (128 MB/s) - ‘cc.en.64.bin’ saved [1573176312/1573176312]\n",
            "\n"
          ]
        }
      ],
      "source": [
        "import locale\n",
        "locale.getpreferredencoding = lambda do_setlocale=False: \"UTF-8\"\n",
        "\n",
        "def download_from_drive(link, filename):\n",
        "  id = link.split(\"/\")[-2]\n",
        "  !wget --load-cookies /tmp/cookies.txt \"https://docs.google.com/uc?export=download&confirm=$(wget --quiet --save-cookies /tmp/cookies.txt --keep-session-cookies --no-check-certificate 'https://docs.google.com/uc?export=download&id={id}' -O- | sed -rn 's/.*confirm=([0-9A-Za-z_]+).*/\\1\\n/p')&id={id}\" -O {\"/content/\"+filename+\".rar\"} && rm -rf /tmp/cookies.txt\n",
        "  !unrar x -Y {\"/content/\"+filename+\".rar\"} {\"/content/\"+filename+\"/\"}\n",
        "\n",
        "download_from_drive(\"https://drive.google.com/file/d/1krZbtFXLW2711hZLq7xO0iXsUTBcwNSQ/view?usp=sharing\", \"data\")\n",
        "\n",
        "!wget --no-check-certificate \"https://ikelte-my.sharepoint.com/:u:/g/personal/natabara_inf_elte_hu/Ee9HETZu5o1BkP8EqaKtMigB_KjvuD4vQ5WpoDOG4gLISw?e=oNbmMt&download=1\" -O cc.en.64.bin"
      ]
    },
    {
      "cell_type": "code",
      "source": [
        "!pip install gensim"
      ],
      "metadata": {
        "colab": {
          "base_uri": "https://localhost:8080/"
        },
        "id": "MRywDKBMMeFW",
        "outputId": "6940f81a-fb12-4668-d426-8c2116f85360"
      },
      "execution_count": null,
      "outputs": [
        {
          "output_type": "stream",
          "name": "stdout",
          "text": [
            "Requirement already satisfied: gensim in /usr/local/lib/python3.10/dist-packages (4.3.2)\n",
            "Requirement already satisfied: numpy>=1.18.5 in /usr/local/lib/python3.10/dist-packages (from gensim) (1.23.5)\n",
            "Requirement already satisfied: scipy>=1.7.0 in /usr/local/lib/python3.10/dist-packages (from gensim) (1.11.3)\n",
            "Requirement already satisfied: smart-open>=1.8.1 in /usr/local/lib/python3.10/dist-packages (from gensim) (6.4.0)\n"
          ]
        }
      ]
    },
    {
      "cell_type": "code",
      "execution_count": null,
      "metadata": {
        "ExecuteTime": {
          "end_time": "2021-05-08T09:40:47.503357Z",
          "start_time": "2021-05-08T09:40:45.731064Z"
        },
        "id": "Nt8U_O0DGDwK"
      },
      "outputs": [],
      "source": [
        "import numpy as np\n",
        "import tensorflow as tf\n",
        "physical_devices = tf.config.list_physical_devices('GPU')\n",
        "tf.config.experimental.set_memory_growth(physical_devices[0], True)"
      ]
    },
    {
      "cell_type": "markdown",
      "metadata": {
        "id": "35ZeTEwuGDwK"
      },
      "source": [
        "# Emoji prediction\n",
        "\n",
        "### Plan:\n",
        "- Keras (TensorFlow basics)\n",
        "- Read data\n",
        "- Examine Data\n",
        "- Apply Fasttext embedding (word2vec fundamentals)\n",
        "- Splitting data\n",
        "- Modelling with LSTM"
      ]
    },
    {
      "cell_type": "code",
      "execution_count": null,
      "metadata": {
        "ExecuteTime": {
          "end_time": "2021-05-08T09:40:48.366061Z",
          "start_time": "2021-05-08T09:40:48.236408Z"
        },
        "colab": {
          "base_uri": "https://localhost:8080/"
        },
        "id": "UVSX2xs4GDwL",
        "outputId": "04b4aa38-2c97-434b-9160-f1377c7c3ae8"
      },
      "outputs": [
        {
          "output_type": "stream",
          "name": "stdout",
          "text": [
            "[['i', 'didnt', 'feel', 'humiliated'], ['i', 'can', 'go', 'from', 'feeling', 'so', 'hopeless', 'to', 'so', 'damned', 'hopeful', 'just', 'from', 'being', 'around', 'someone', 'who', 'cares', 'and', 'is', 'awake'], ['im', 'grabbing', 'a', 'minute', 'to', 'post', 'i', 'feel', 'greedy', 'wrong'], ['i', 'am', 'ever', 'feeling', 'nostalgic', 'about', 'the', 'fireplace', 'i', 'will', 'know', 'that', 'it', 'is', 'still', 'on', 'the', 'property'], ['i', 'am', 'feeling', 'grouchy']]\n",
            "['sadness', 'sadness', 'anger', 'love', 'anger']\n",
            "66\n"
          ]
        }
      ],
      "source": [
        "def csvloader(path):\n",
        "    with open(path,\"r\") as f:\n",
        "        lines = f.readlines()\n",
        "\n",
        "    numlines = len(lines)\n",
        "    data = []\n",
        "    label = []\n",
        "    for line in lines:\n",
        "        data.append((line.split(\";\")[0]).split(\" \"))\n",
        "        label.append(line.split(\";\")[-1].replace(\"\\n\",\"\"))\n",
        "    return data, label\n",
        "\n",
        "train_data, train_label = csvloader(\"./data/03Emoji/train.txt\")\n",
        "val_data, val_label = csvloader(\"./data/03Emoji/val.txt\")\n",
        "test_data, test_label = csvloader(\"./data/03Emoji/test.txt\")\n",
        "\n",
        "print(train_data[:5])\n",
        "print(train_label[:5])\n",
        "\n",
        "maxlen = 0\n",
        "for i in range(len(train_data)):\n",
        "    sentlen = len(train_data[i])\n",
        "    if sentlen>maxlen:\n",
        "        maxlen=sentlen\n",
        "\n",
        "print(maxlen)"
      ]
    },
    {
      "cell_type": "markdown",
      "metadata": {
        "id": "w1lNbC2X_-eo"
      },
      "source": [
        "im feeling rather rotten so im not very ambitious right now;sadness\n",
        "\n",
        "\n",
        "im updating my blog because i feel shitty;sadness\n",
        "\n",
        "\n",
        "i never make her separate from me because i don t ever want her to feel like i m ashamed with her;sadness\n",
        "\n",
        "\n",
        "i left with my bouquet of red and yellow tulips under my arm feeling slightly more optimistic than when i arrived;joy\n",
        "\n",
        "\n",
        "i was feeling a little vain when i did this one;sadness"
      ]
    },
    {
      "cell_type": "code",
      "execution_count": null,
      "metadata": {
        "ExecuteTime": {
          "end_time": "2021-05-08T09:40:48.945018Z",
          "start_time": "2021-05-08T09:40:48.917093Z"
        },
        "colab": {
          "base_uri": "https://localhost:8080/"
        },
        "id": "WP4BGa64GDwL",
        "outputId": "fa55e6f2-b3f9-44ac-cbbb-912002cb7b49"
      },
      "outputs": [
        {
          "output_type": "stream",
          "name": "stdout",
          "text": [
            "[('sadness', 4666), ('anger', 2159), ('love', 1304), ('surprise', 572), ('fear', 1937), ('joy', 5362)]\n",
            "{'sadness': 0, 'anger': 1, 'love': 2, 'surprise': 3, 'fear': 4, 'joy': 5}\n"
          ]
        }
      ],
      "source": [
        "from collections import Counter\n",
        "\n",
        "print(list(zip(Counter(train_label).keys(), Counter(train_label).values())))\n",
        "\n",
        "catlist = list(Counter(train_label).keys())\n",
        "catDict = {}\n",
        "catnum = len(catlist)\n",
        "for i in range(catnum):\n",
        "    catDict[catlist[i]]=i\n",
        "print(catDict)\n",
        "\n",
        "y_train = np.array([catDict[emoji] for emoji in train_label])\n",
        "y_val = np.array([catDict[emoji] for emoji in val_label])\n",
        "y_test = np.array([catDict[emoji] for emoji in test_label])"
      ]
    },
    {
      "cell_type": "code",
      "source": [
        "y_train[:4]"
      ],
      "metadata": {
        "colab": {
          "base_uri": "https://localhost:8080/"
        },
        "id": "ksnlFrT0rnOv",
        "outputId": "a5521864-03fe-44f5-efd2-55f72861b832"
      },
      "execution_count": null,
      "outputs": [
        {
          "output_type": "execute_result",
          "data": {
            "text/plain": [
              "array([4, 0, 5, 5])"
            ]
          },
          "metadata": {},
          "execution_count": 69
        }
      ]
    },
    {
      "cell_type": "code",
      "execution_count": null,
      "metadata": {
        "ExecuteTime": {
          "end_time": "2021-05-08T09:40:49.374385Z",
          "start_time": "2021-05-08T09:40:49.371393Z"
        },
        "id": "fJL9fK5sGDwL"
      },
      "outputs": [],
      "source": [
        "class_weight = {0: 1.0, 1: 2.0, 2: 3.0, 3: 8.0, 4: 2.3, 5: 1.0}"
      ]
    },
    {
      "cell_type": "code",
      "execution_count": null,
      "metadata": {
        "ExecuteTime": {
          "end_time": "2021-05-08T09:40:59.861017Z",
          "start_time": "2021-05-08T09:40:50.240092Z"
        },
        "id": "cHHEhFL4GDwM",
        "scrolled": true
      },
      "outputs": [],
      "source": [
        "import spacy"
      ]
    },
    {
      "cell_type": "code",
      "execution_count": null,
      "metadata": {
        "ExecuteTime": {
          "end_time": "2021-05-08T09:40:59.871988Z",
          "start_time": "2021-05-08T09:40:59.862015Z"
        },
        "id": "hZIwoVFwGDwM"
      },
      "outputs": [],
      "source": [
        "from gensim.models.fasttext import load_facebook_model\n",
        "\n",
        "vectors = load_facebook_model(\"./cc.en.64.bin\").wv"
      ]
    },
    {
      "cell_type": "markdown",
      "source": [
        "<img src=\"https://miro.medium.com/max/3010/1*OEmWDt4eztOcm5pr2QbxfA.png\" width=90%>"
      ],
      "metadata": {
        "id": "LSZR92LvsJm_"
      }
    },
    {
      "cell_type": "code",
      "execution_count": null,
      "metadata": {
        "ExecuteTime": {
          "end_time": "2021-05-08T09:41:42.516084Z",
          "start_time": "2021-05-08T09:40:59.872985Z"
        },
        "colab": {
          "base_uri": "https://localhost:8080/"
        },
        "id": "CHYpkZklGDwN",
        "outputId": "24c7bd99-b386-4a6e-ed36-bb9d089a43e1"
      },
      "outputs": [
        {
          "output_type": "stream",
          "name": "stdout",
          "text": [
            "[('king', 0.865199863910675)]\n",
            "[('puppy', 0.916371762752533)]\n",
            "[('Barcelona', 0.8969185948371887), ('Madrid', 0.8903045654296875), ('Amsterdam', 0.8504062294960022)]\n",
            "[('Thames', 0.8160749673843384), ('Battersea', 0.7844918370246887), ('Castlereagh', 0.774276614189148)]\n",
            "[('divorce', 0.7760174870491028), ('abortion', 0.7623156309127808), ('ostracization', 0.7379628419876099)]\n",
            "[('winter', 0.8505227565765381), ('mid-winter', 0.8278099298477173), ('mid-summer', 0.7899753451347351)]\n"
          ]
        }
      ],
      "source": [
        "result_vec = vectors.get_vector(\"queen\",norm=True)-vectors.get_vector(\"woman\",norm=True)+vectors.get_vector(\"man\",norm=True)\n",
        "print(vectors.most_similar(result_vec, topn = 1))\n",
        "\n",
        "result_vec = vectors.get_vector(\"kitten\",norm=True)-vectors.get_vector(\"cat\",norm=True)+vectors.get_vector(\"dog\",norm=True)\n",
        "result_vec /= np.linalg.norm(result_vec)\n",
        "print(vectors.most_similar(result_vec, topn = 1))\n",
        "\n",
        "print(vectors.most_similar(positive=[\"Budapest\",\"Spain\"], negative=\"Hungary\", topn=3))\n",
        "\n",
        "print(vectors.most_similar(positive=[\"Danube\",\"London\"], negative=\"Budapest\", topn=3))\n",
        "\n",
        "print(vectors.most_similar(positive=[\"marriage\",\"hate\"], negative=\"love\", topn=3))\n",
        "\n",
        "print(vectors.most_similar(positive=[\"summer\",\"cold\"], negative=\"hot\", topn=3))"
      ]
    },
    {
      "cell_type": "markdown",
      "metadata": {
        "id": "AEj19nSuGDwN"
      },
      "source": [
        "- Coding the data to vectors"
      ]
    },
    {
      "cell_type": "code",
      "source": [
        "def query_all_vectors(data, pad_to_length = None):\n",
        "  vecs = []\n",
        "  for datarow in data:\n",
        "    vecrow = []\n",
        "    for word in datarow:\n",
        "      vecrow.append(vectors.get_vector(word, norm=False))\n",
        "    if pad_to_length is not None:\n",
        "      diff = pad_to_length-len(vecrow)\n",
        "      if diff>0:\n",
        "        vecrow += [np.zeros_like(vecrow[-1])]*diff\n",
        "      elif diff < 0:\n",
        "        vecrow[-1] = vecrow[-1][:diff]\n",
        "    vecs.append(np.stack(vecrow))\n",
        "\n",
        "  return np.stack(vecs)"
      ],
      "metadata": {
        "id": "MNKd2zjAO-N2"
      },
      "execution_count": null,
      "outputs": []
    },
    {
      "cell_type": "code",
      "execution_count": null,
      "metadata": {
        "ExecuteTime": {
          "end_time": "2021-05-08T09:42:34.297966Z",
          "start_time": "2021-05-08T09:41:42.517082Z"
        },
        "id": "juRS-M-OGDwN",
        "colab": {
          "base_uri": "https://localhost:8080/"
        },
        "outputId": "fb718f2f-7d32-4e87-b9ff-ea0373a3dba5"
      },
      "outputs": [
        {
          "output_type": "stream",
          "name": "stderr",
          "text": [
            "WARNING:gensim.models.fasttext:could not extract any ngrams from 'zq', returning origin vector\n"
          ]
        }
      ],
      "source": [
        "x_train = query_all_vectors(train_data, pad_to_length=70)\n",
        "x_val = query_all_vectors(val_data, pad_to_length=70)\n",
        "x_test = query_all_vectors(test_data, pad_to_length=70)"
      ]
    },
    {
      "cell_type": "code",
      "source": [
        "x_train.shape"
      ],
      "metadata": {
        "colab": {
          "base_uri": "https://localhost:8080/"
        },
        "id": "_fjK3Q7rowuB",
        "outputId": "dac129c1-41e4-40dd-eb98-a561be06a7c6"
      },
      "execution_count": null,
      "outputs": [
        {
          "output_type": "execute_result",
          "data": {
            "text/plain": [
              "(16000, 70, 64)"
            ]
          },
          "metadata": {},
          "execution_count": 49
        }
      ]
    },
    {
      "cell_type": "markdown",
      "source": [
        "<img src=https://www.researchgate.net/profile/Savvas-Varsamopoulos/publication/329362532/figure/fig5/AS:699592479870977@1543807253596/Structure-of-the-LSTM-cell-and-equations-that-describe-the-gates-of-an-LSTM-cell.jpg>\n",
        "\n",
        "<img src=https://www.baeldung.com/wp-content/uploads/sites/4/2022/01/bilstm-1-1024x384.png>"
      ],
      "metadata": {
        "id": "Z51FqxH4pcsm"
      }
    },
    {
      "cell_type": "code",
      "execution_count": null,
      "metadata": {
        "ExecuteTime": {
          "end_time": "2021-05-08T09:42:34.424628Z",
          "start_time": "2021-05-08T09:42:34.421636Z"
        },
        "id": "MqXMUWZSGDwO"
      },
      "outputs": [],
      "source": [
        "from tensorflow.keras.models import Model\n",
        "from tensorflow.keras.layers import Input, LSTM, Bidirectional, Dense, GlobalMaxPooling1D\n",
        "from tensorflow.keras.optimizers import Adam\n",
        "from tensorflow.keras.callbacks import History, EarlyStopping"
      ]
    },
    {
      "cell_type": "code",
      "execution_count": null,
      "metadata": {
        "ExecuteTime": {
          "end_time": "2021-05-08T09:42:35.369123Z",
          "start_time": "2021-05-08T09:42:34.425625Z"
        },
        "id": "YH5cdM3aGDwO"
      },
      "outputs": [],
      "source": [
        "inp = Input(shape=(70, 64)) # (batch_size), seq_len, seq_dim\n",
        "x = Bidirectional(LSTM(128, dropout=0.1, return_sequences=True))(inp) # (batch_size), 70, 128\n",
        "x = Bidirectional(LSTM(64, dropout=0.1, return_sequences=True))(x) # (batch_size), 128\n",
        "x = GlobalMaxPooling1D()(x)\n",
        "x = Dense(32, activation='tanh')(x) # (batch_size), 32\n",
        "x = Dense(6, activation='softmax')(x) # (batch_size), 6\n",
        "model = Model([inp],[x])"
      ]
    },
    {
      "cell_type": "code",
      "execution_count": null,
      "metadata": {
        "ExecuteTime": {
          "end_time": "2021-05-08T09:42:35.378099Z",
          "start_time": "2021-05-08T09:42:35.370121Z"
        },
        "id": "b-52yz7_GDwO"
      },
      "outputs": [],
      "source": [
        "model.compile(optimizer=Adam(learning_rate=1e-4),loss=\"sparse_categorical_crossentropy\",metrics=[\"accuracy\"])"
      ]
    },
    {
      "cell_type": "code",
      "execution_count": null,
      "metadata": {
        "ExecuteTime": {
          "end_time": "2021-05-08T09:42:35.382089Z",
          "start_time": "2021-05-08T09:42:35.379097Z"
        },
        "id": "FPDhC3WNGDwO"
      },
      "outputs": [],
      "source": [
        "hist = History()\n",
        "earlystop = EarlyStopping(monitor='val_loss', min_delta=2e-4, patience=20, verbose=1,\n",
        "    mode='min', restore_best_weights=True)"
      ]
    },
    {
      "cell_type": "code",
      "execution_count": null,
      "metadata": {
        "ExecuteTime": {
          "end_time": "2021-05-08T09:53:52.480032Z",
          "start_time": "2021-05-08T09:48:20.885525Z"
        },
        "colab": {
          "base_uri": "https://localhost:8080/"
        },
        "id": "OTVbbMPZGDwP",
        "outputId": "86bdb309-4dbf-4175-a034-f322ee27474b",
        "scrolled": true
      },
      "outputs": [
        {
          "output_type": "stream",
          "name": "stdout",
          "text": [
            "Epoch 1/100\n",
            "500/500 - 16s - loss: 3.0408 - accuracy: 0.3356 - val_loss: 1.7345 - val_accuracy: 0.3610 - 16s/epoch - 31ms/step\n",
            "Epoch 2/100\n",
            "500/500 - 7s - loss: 2.9658 - accuracy: 0.3684 - val_loss: 1.7226 - val_accuracy: 0.3295 - 7s/epoch - 15ms/step\n",
            "Epoch 3/100\n",
            "500/500 - 7s - loss: 2.8767 - accuracy: 0.3734 - val_loss: 1.6249 - val_accuracy: 0.3900 - 7s/epoch - 14ms/step\n",
            "Epoch 4/100\n",
            "500/500 - 7s - loss: 2.8309 - accuracy: 0.3745 - val_loss: 1.6068 - val_accuracy: 0.3785 - 7s/epoch - 14ms/step\n",
            "Epoch 5/100\n",
            "500/500 - 7s - loss: 2.7943 - accuracy: 0.3791 - val_loss: 1.5792 - val_accuracy: 0.3795 - 7s/epoch - 13ms/step\n",
            "Epoch 6/100\n",
            "500/500 - 7s - loss: 2.7638 - accuracy: 0.3826 - val_loss: 1.5339 - val_accuracy: 0.4210 - 7s/epoch - 15ms/step\n",
            "Epoch 7/100\n",
            "500/500 - 7s - loss: 2.7457 - accuracy: 0.3767 - val_loss: 1.5245 - val_accuracy: 0.4180 - 7s/epoch - 15ms/step\n",
            "Epoch 8/100\n",
            "500/500 - 7s - loss: 2.7087 - accuracy: 0.3851 - val_loss: 1.5419 - val_accuracy: 0.3930 - 7s/epoch - 14ms/step\n",
            "Epoch 9/100\n",
            "500/500 - 7s - loss: 2.6836 - accuracy: 0.3934 - val_loss: 1.5035 - val_accuracy: 0.4105 - 7s/epoch - 14ms/step\n",
            "Epoch 10/100\n",
            "500/500 - 7s - loss: 2.6670 - accuracy: 0.3966 - val_loss: 1.4944 - val_accuracy: 0.4170 - 7s/epoch - 13ms/step\n",
            "Epoch 11/100\n",
            "500/500 - 7s - loss: 2.6525 - accuracy: 0.3952 - val_loss: 1.4506 - val_accuracy: 0.4510 - 7s/epoch - 15ms/step\n",
            "Epoch 12/100\n",
            "500/500 - 7s - loss: 2.6328 - accuracy: 0.4052 - val_loss: 1.4632 - val_accuracy: 0.4320 - 7s/epoch - 14ms/step\n",
            "Epoch 13/100\n",
            "500/500 - 7s - loss: 2.5938 - accuracy: 0.4081 - val_loss: 1.4358 - val_accuracy: 0.4490 - 7s/epoch - 14ms/step\n",
            "Epoch 14/100\n",
            "500/500 - 7s - loss: 2.5813 - accuracy: 0.4164 - val_loss: 1.3902 - val_accuracy: 0.4850 - 7s/epoch - 14ms/step\n",
            "Epoch 15/100\n",
            "500/500 - 7s - loss: 2.5598 - accuracy: 0.4225 - val_loss: 1.4240 - val_accuracy: 0.4495 - 7s/epoch - 14ms/step\n",
            "Epoch 16/100\n",
            "500/500 - 7s - loss: 2.5298 - accuracy: 0.4214 - val_loss: 1.4348 - val_accuracy: 0.4285 - 7s/epoch - 15ms/step\n",
            "Epoch 17/100\n",
            "500/500 - 7s - loss: 2.5189 - accuracy: 0.4226 - val_loss: 1.4141 - val_accuracy: 0.4475 - 7s/epoch - 13ms/step\n",
            "Epoch 18/100\n",
            "500/500 - 7s - loss: 2.4785 - accuracy: 0.4373 - val_loss: 1.3471 - val_accuracy: 0.4835 - 7s/epoch - 14ms/step\n",
            "Epoch 19/100\n",
            "500/500 - 7s - loss: 2.4703 - accuracy: 0.4421 - val_loss: 1.3596 - val_accuracy: 0.4755 - 7s/epoch - 14ms/step\n",
            "Epoch 20/100\n",
            "500/500 - 7s - loss: 2.4319 - accuracy: 0.4436 - val_loss: 1.3233 - val_accuracy: 0.4910 - 7s/epoch - 13ms/step\n",
            "Epoch 21/100\n",
            "500/500 - 9s - loss: 2.4140 - accuracy: 0.4489 - val_loss: 1.3794 - val_accuracy: 0.4625 - 9s/epoch - 18ms/step\n",
            "Epoch 22/100\n",
            "500/500 - 7s - loss: 2.3937 - accuracy: 0.4601 - val_loss: 1.3055 - val_accuracy: 0.4900 - 7s/epoch - 13ms/step\n",
            "Epoch 23/100\n",
            "500/500 - 7s - loss: 2.3594 - accuracy: 0.4641 - val_loss: 1.3439 - val_accuracy: 0.4725 - 7s/epoch - 14ms/step\n",
            "Epoch 24/100\n",
            "500/500 - 7s - loss: 2.3476 - accuracy: 0.4638 - val_loss: 1.3239 - val_accuracy: 0.4745 - 7s/epoch - 14ms/step\n",
            "Epoch 25/100\n",
            "500/500 - 7s - loss: 2.3206 - accuracy: 0.4674 - val_loss: 1.2899 - val_accuracy: 0.5060 - 7s/epoch - 15ms/step\n",
            "Epoch 26/100\n",
            "500/500 - 8s - loss: 2.3069 - accuracy: 0.4726 - val_loss: 1.3060 - val_accuracy: 0.4745 - 8s/epoch - 15ms/step\n",
            "Epoch 27/100\n",
            "500/500 - 9s - loss: 2.2822 - accuracy: 0.4783 - val_loss: 1.3029 - val_accuracy: 0.4885 - 9s/epoch - 19ms/step\n",
            "Epoch 28/100\n",
            "500/500 - 7s - loss: 2.2695 - accuracy: 0.4836 - val_loss: 1.3334 - val_accuracy: 0.4815 - 7s/epoch - 14ms/step\n",
            "Epoch 29/100\n",
            "500/500 - 7s - loss: 2.2419 - accuracy: 0.4888 - val_loss: 1.3722 - val_accuracy: 0.4465 - 7s/epoch - 14ms/step\n",
            "Epoch 30/100\n",
            "500/500 - 7s - loss: 2.2229 - accuracy: 0.4932 - val_loss: 1.3251 - val_accuracy: 0.4735 - 7s/epoch - 13ms/step\n",
            "Epoch 31/100\n",
            "500/500 - 7s - loss: 2.1934 - accuracy: 0.5016 - val_loss: 1.2264 - val_accuracy: 0.5260 - 7s/epoch - 14ms/step\n",
            "Epoch 32/100\n",
            "500/500 - 7s - loss: 2.1718 - accuracy: 0.4953 - val_loss: 1.2093 - val_accuracy: 0.5350 - 7s/epoch - 14ms/step\n",
            "Epoch 33/100\n",
            "500/500 - 7s - loss: 2.1553 - accuracy: 0.5099 - val_loss: 1.3198 - val_accuracy: 0.4780 - 7s/epoch - 14ms/step\n",
            "Epoch 34/100\n",
            "500/500 - 9s - loss: 2.1304 - accuracy: 0.5116 - val_loss: 1.2429 - val_accuracy: 0.5160 - 9s/epoch - 18ms/step\n",
            "Epoch 35/100\n",
            "500/500 - 7s - loss: 2.1159 - accuracy: 0.5147 - val_loss: 1.2844 - val_accuracy: 0.4945 - 7s/epoch - 13ms/step\n",
            "Epoch 36/100\n",
            "500/500 - 7s - loss: 2.1029 - accuracy: 0.5220 - val_loss: 1.2170 - val_accuracy: 0.5260 - 7s/epoch - 15ms/step\n",
            "Epoch 37/100\n",
            "500/500 - 7s - loss: 2.0695 - accuracy: 0.5233 - val_loss: 1.2334 - val_accuracy: 0.5170 - 7s/epoch - 14ms/step\n",
            "Epoch 38/100\n",
            "500/500 - 7s - loss: 2.0559 - accuracy: 0.5264 - val_loss: 1.1991 - val_accuracy: 0.5475 - 7s/epoch - 14ms/step\n",
            "Epoch 39/100\n",
            "500/500 - 7s - loss: 2.0207 - accuracy: 0.5387 - val_loss: 1.1820 - val_accuracy: 0.5465 - 7s/epoch - 14ms/step\n",
            "Epoch 40/100\n",
            "500/500 - 7s - loss: 2.0155 - accuracy: 0.5384 - val_loss: 1.2485 - val_accuracy: 0.5105 - 7s/epoch - 14ms/step\n",
            "Epoch 41/100\n",
            "500/500 - 7s - loss: 1.9951 - accuracy: 0.5459 - val_loss: 1.2142 - val_accuracy: 0.5345 - 7s/epoch - 15ms/step\n",
            "Epoch 42/100\n",
            "500/500 - 7s - loss: 1.9769 - accuracy: 0.5421 - val_loss: 1.1577 - val_accuracy: 0.5610 - 7s/epoch - 14ms/step\n",
            "Epoch 43/100\n",
            "500/500 - 7s - loss: 1.9603 - accuracy: 0.5517 - val_loss: 1.1570 - val_accuracy: 0.5610 - 7s/epoch - 14ms/step\n",
            "Epoch 44/100\n",
            "500/500 - 7s - loss: 1.9341 - accuracy: 0.5536 - val_loss: 1.1237 - val_accuracy: 0.5795 - 7s/epoch - 14ms/step\n",
            "Epoch 45/100\n",
            "500/500 - 7s - loss: 1.9206 - accuracy: 0.5601 - val_loss: 1.2027 - val_accuracy: 0.5340 - 7s/epoch - 14ms/step\n",
            "Epoch 46/100\n",
            "500/500 - 7s - loss: 1.9023 - accuracy: 0.5516 - val_loss: 1.1400 - val_accuracy: 0.5715 - 7s/epoch - 14ms/step\n",
            "Epoch 47/100\n",
            "500/500 - 7s - loss: 1.8844 - accuracy: 0.5654 - val_loss: 1.1584 - val_accuracy: 0.5515 - 7s/epoch - 13ms/step\n",
            "Epoch 48/100\n",
            "500/500 - 7s - loss: 1.8621 - accuracy: 0.5649 - val_loss: 1.1445 - val_accuracy: 0.5600 - 7s/epoch - 14ms/step\n",
            "Epoch 49/100\n",
            "500/500 - 7s - loss: 1.8474 - accuracy: 0.5737 - val_loss: 1.1148 - val_accuracy: 0.5735 - 7s/epoch - 13ms/step\n",
            "Epoch 50/100\n",
            "500/500 - 8s - loss: 1.8329 - accuracy: 0.5691 - val_loss: 1.1323 - val_accuracy: 0.5730 - 8s/epoch - 16ms/step\n",
            "Epoch 51/100\n",
            "500/500 - 7s - loss: 1.8108 - accuracy: 0.5763 - val_loss: 1.1463 - val_accuracy: 0.5540 - 7s/epoch - 14ms/step\n",
            "Epoch 52/100\n",
            "500/500 - 7s - loss: 1.8001 - accuracy: 0.5746 - val_loss: 1.1227 - val_accuracy: 0.5665 - 7s/epoch - 13ms/step\n",
            "Epoch 53/100\n",
            "500/500 - 7s - loss: 1.7865 - accuracy: 0.5820 - val_loss: 1.0890 - val_accuracy: 0.5920 - 7s/epoch - 14ms/step\n",
            "Epoch 54/100\n",
            "500/500 - 7s - loss: 1.7690 - accuracy: 0.5859 - val_loss: 1.1771 - val_accuracy: 0.5495 - 7s/epoch - 13ms/step\n",
            "Epoch 55/100\n",
            "500/500 - 8s - loss: 1.7345 - accuracy: 0.5929 - val_loss: 1.0823 - val_accuracy: 0.5880 - 8s/epoch - 15ms/step\n",
            "Epoch 56/100\n",
            "500/500 - 7s - loss: 1.7286 - accuracy: 0.5897 - val_loss: 1.1240 - val_accuracy: 0.5680 - 7s/epoch - 14ms/step\n",
            "Epoch 57/100\n",
            "500/500 - 7s - loss: 1.7105 - accuracy: 0.5990 - val_loss: 1.0919 - val_accuracy: 0.5815 - 7s/epoch - 13ms/step\n",
            "Epoch 58/100\n",
            "500/500 - 7s - loss: 1.6917 - accuracy: 0.6033 - val_loss: 1.0889 - val_accuracy: 0.5865 - 7s/epoch - 14ms/step\n",
            "Epoch 59/100\n",
            "500/500 - 7s - loss: 1.6829 - accuracy: 0.6023 - val_loss: 1.0655 - val_accuracy: 0.6040 - 7s/epoch - 13ms/step\n",
            "Epoch 60/100\n",
            "500/500 - 7s - loss: 1.6751 - accuracy: 0.5991 - val_loss: 1.1335 - val_accuracy: 0.5585 - 7s/epoch - 14ms/step\n",
            "Epoch 61/100\n",
            "500/500 - 7s - loss: 1.6334 - accuracy: 0.6112 - val_loss: 1.0513 - val_accuracy: 0.6145 - 7s/epoch - 13ms/step\n",
            "Epoch 62/100\n",
            "500/500 - 7s - loss: 1.6271 - accuracy: 0.6137 - val_loss: 1.0963 - val_accuracy: 0.5830 - 7s/epoch - 15ms/step\n",
            "Epoch 63/100\n",
            "500/500 - 7s - loss: 1.6188 - accuracy: 0.6126 - val_loss: 1.0332 - val_accuracy: 0.6175 - 7s/epoch - 14ms/step\n",
            "Epoch 64/100\n",
            "500/500 - 9s - loss: 1.5870 - accuracy: 0.6227 - val_loss: 1.0640 - val_accuracy: 0.5985 - 9s/epoch - 18ms/step\n",
            "Epoch 65/100\n",
            "500/500 - 7s - loss: 1.5937 - accuracy: 0.6184 - val_loss: 1.0434 - val_accuracy: 0.6065 - 7s/epoch - 14ms/step\n",
            "Epoch 66/100\n",
            "500/500 - 7s - loss: 1.5737 - accuracy: 0.6221 - val_loss: 1.1398 - val_accuracy: 0.5605 - 7s/epoch - 14ms/step\n",
            "Epoch 67/100\n",
            "500/500 - 7s - loss: 1.5655 - accuracy: 0.6233 - val_loss: 1.0930 - val_accuracy: 0.5730 - 7s/epoch - 14ms/step\n",
            "Epoch 68/100\n",
            "500/500 - 7s - loss: 1.5475 - accuracy: 0.6305 - val_loss: 1.0481 - val_accuracy: 0.6105 - 7s/epoch - 15ms/step\n",
            "Epoch 69/100\n",
            "500/500 - 7s - loss: 1.5316 - accuracy: 0.6331 - val_loss: 1.0232 - val_accuracy: 0.6140 - 7s/epoch - 14ms/step\n",
            "Epoch 70/100\n",
            "500/500 - 7s - loss: 1.5045 - accuracy: 0.6344 - val_loss: 1.0561 - val_accuracy: 0.5935 - 7s/epoch - 14ms/step\n",
            "Epoch 71/100\n",
            "500/500 - 7s - loss: 1.5039 - accuracy: 0.6403 - val_loss: 1.0680 - val_accuracy: 0.5890 - 7s/epoch - 13ms/step\n",
            "Epoch 72/100\n",
            "500/500 - 7s - loss: 1.4847 - accuracy: 0.6388 - val_loss: 1.0732 - val_accuracy: 0.5950 - 7s/epoch - 14ms/step\n",
            "Epoch 73/100\n",
            "500/500 - 7s - loss: 1.4661 - accuracy: 0.6475 - val_loss: 1.0888 - val_accuracy: 0.5815 - 7s/epoch - 14ms/step\n",
            "Epoch 74/100\n",
            "500/500 - 7s - loss: 1.4445 - accuracy: 0.6496 - val_loss: 1.0195 - val_accuracy: 0.6170 - 7s/epoch - 14ms/step\n",
            "Epoch 75/100\n",
            "500/500 - 7s - loss: 1.4494 - accuracy: 0.6501 - val_loss: 1.0744 - val_accuracy: 0.5820 - 7s/epoch - 14ms/step\n",
            "Epoch 76/100\n",
            "500/500 - 7s - loss: 1.4399 - accuracy: 0.6504 - val_loss: 1.0207 - val_accuracy: 0.6105 - 7s/epoch - 13ms/step\n",
            "Epoch 77/100\n",
            "500/500 - 8s - loss: 1.4102 - accuracy: 0.6604 - val_loss: 1.0605 - val_accuracy: 0.6040 - 8s/epoch - 15ms/step\n",
            "Epoch 78/100\n",
            "500/500 - 7s - loss: 1.3958 - accuracy: 0.6632 - val_loss: 1.0346 - val_accuracy: 0.6000 - 7s/epoch - 13ms/step\n",
            "Epoch 79/100\n",
            "500/500 - 7s - loss: 1.3874 - accuracy: 0.6641 - val_loss: 1.0173 - val_accuracy: 0.6075 - 7s/epoch - 15ms/step\n",
            "Epoch 80/100\n",
            "500/500 - 7s - loss: 1.3851 - accuracy: 0.6618 - val_loss: 1.0063 - val_accuracy: 0.6195 - 7s/epoch - 15ms/step\n",
            "Epoch 81/100\n",
            "500/500 - 7s - loss: 1.3414 - accuracy: 0.6725 - val_loss: 1.0344 - val_accuracy: 0.6075 - 7s/epoch - 13ms/step\n",
            "Epoch 82/100\n",
            "500/500 - 7s - loss: 1.3350 - accuracy: 0.6717 - val_loss: 1.0296 - val_accuracy: 0.6025 - 7s/epoch - 14ms/step\n",
            "Epoch 83/100\n",
            "500/500 - 7s - loss: 1.3314 - accuracy: 0.6735 - val_loss: 1.0721 - val_accuracy: 0.5875 - 7s/epoch - 13ms/step\n",
            "Epoch 84/100\n",
            "500/500 - 7s - loss: 1.3074 - accuracy: 0.6768 - val_loss: 1.0058 - val_accuracy: 0.6140 - 7s/epoch - 14ms/step\n",
            "Epoch 85/100\n",
            "500/500 - 7s - loss: 1.3140 - accuracy: 0.6776 - val_loss: 0.9750 - val_accuracy: 0.6345 - 7s/epoch - 14ms/step\n",
            "Epoch 86/100\n",
            "500/500 - 7s - loss: 1.2799 - accuracy: 0.6829 - val_loss: 0.9997 - val_accuracy: 0.6260 - 7s/epoch - 14ms/step\n",
            "Epoch 87/100\n",
            "500/500 - 7s - loss: 1.2828 - accuracy: 0.6831 - val_loss: 0.9997 - val_accuracy: 0.6250 - 7s/epoch - 14ms/step\n",
            "Epoch 88/100\n",
            "500/500 - 7s - loss: 1.2752 - accuracy: 0.6847 - val_loss: 0.9801 - val_accuracy: 0.6300 - 7s/epoch - 14ms/step\n",
            "Epoch 89/100\n",
            "500/500 - 7s - loss: 1.2539 - accuracy: 0.6890 - val_loss: 1.0039 - val_accuracy: 0.6190 - 7s/epoch - 14ms/step\n",
            "Epoch 90/100\n",
            "500/500 - 7s - loss: 1.2462 - accuracy: 0.6939 - val_loss: 1.0315 - val_accuracy: 0.6070 - 7s/epoch - 13ms/step\n",
            "Epoch 91/100\n",
            "500/500 - 7s - loss: 1.2343 - accuracy: 0.6909 - val_loss: 0.9628 - val_accuracy: 0.6390 - 7s/epoch - 15ms/step\n",
            "Epoch 92/100\n",
            "500/500 - 7s - loss: 1.2126 - accuracy: 0.7028 - val_loss: 1.0118 - val_accuracy: 0.6125 - 7s/epoch - 14ms/step\n",
            "Epoch 93/100\n",
            "500/500 - 7s - loss: 1.2031 - accuracy: 0.7042 - val_loss: 0.9943 - val_accuracy: 0.6255 - 7s/epoch - 13ms/step\n",
            "Epoch 94/100\n",
            "500/500 - 7s - loss: 1.1864 - accuracy: 0.7057 - val_loss: 1.0287 - val_accuracy: 0.6065 - 7s/epoch - 14ms/step\n",
            "Epoch 95/100\n",
            "500/500 - 7s - loss: 1.1853 - accuracy: 0.7036 - val_loss: 0.9820 - val_accuracy: 0.6235 - 7s/epoch - 13ms/step\n",
            "Epoch 96/100\n",
            "500/500 - 7s - loss: 1.1875 - accuracy: 0.7084 - val_loss: 0.9851 - val_accuracy: 0.6250 - 7s/epoch - 15ms/step\n",
            "Epoch 97/100\n",
            "500/500 - 7s - loss: 1.1606 - accuracy: 0.7109 - val_loss: 0.9822 - val_accuracy: 0.6315 - 7s/epoch - 14ms/step\n",
            "Epoch 98/100\n",
            "500/500 - 7s - loss: 1.1376 - accuracy: 0.7198 - val_loss: 1.0279 - val_accuracy: 0.6135 - 7s/epoch - 15ms/step\n",
            "Epoch 99/100\n",
            "500/500 - 7s - loss: 1.1065 - accuracy: 0.7177 - val_loss: 0.9716 - val_accuracy: 0.6405 - 7s/epoch - 15ms/step\n",
            "Epoch 100/100\n",
            "500/500 - 7s - loss: 1.1211 - accuracy: 0.7187 - val_loss: 1.0422 - val_accuracy: 0.6040 - 7s/epoch - 13ms/step\n"
          ]
        },
        {
          "output_type": "execute_result",
          "data": {
            "text/plain": [
              "<keras.src.callbacks.History at 0x7fa2da6d2740>"
            ]
          },
          "metadata": {},
          "execution_count": 60
        }
      ],
      "source": [
        "model.fit(x_train, y_train, epochs=100, batch_size=32, validation_data=(x_val, y_val), callbacks=[hist, earlystop],\n",
        "          verbose=2, class_weight=class_weight, shuffle=True)"
      ]
    },
    {
      "cell_type": "code",
      "execution_count": null,
      "metadata": {
        "ExecuteTime": {
          "end_time": "2021-05-08T09:53:57.531104Z",
          "start_time": "2021-05-08T09:53:57.270296Z"
        },
        "colab": {
          "base_uri": "https://localhost:8080/"
        },
        "id": "DcicyQFAGDwP",
        "outputId": "88385d10-68de-436b-b3f5-ae920737a0b7"
      },
      "outputs": [
        {
          "output_type": "stream",
          "name": "stdout",
          "text": [
            "63/63 [==============================] - 1s 9ms/step - loss: 1.0547 - accuracy: 0.5905\n"
          ]
        },
        {
          "output_type": "execute_result",
          "data": {
            "text/plain": [
              "[1.054739236831665, 0.590499997138977]"
            ]
          },
          "metadata": {},
          "execution_count": 61
        }
      ],
      "source": [
        "model.evaluate(x_test,y_test)"
      ]
    },
    {
      "cell_type": "code",
      "execution_count": null,
      "metadata": {
        "ExecuteTime": {
          "end_time": "2021-05-08T09:53:58.282116Z",
          "start_time": "2021-05-08T09:53:58.278127Z"
        },
        "id": "YtZnlBJJGDwP"
      },
      "outputs": [],
      "source": [
        "from tensorflow.math import confusion_matrix\n",
        "import seaborn as sns\n",
        "import matplotlib.pyplot as plt"
      ]
    },
    {
      "cell_type": "code",
      "execution_count": null,
      "metadata": {
        "ExecuteTime": {
          "end_time": "2021-05-08T09:53:58.816686Z",
          "start_time": "2021-05-08T09:53:58.698004Z"
        },
        "colab": {
          "base_uri": "https://localhost:8080/",
          "height": 466
        },
        "id": "V8bpqu66GDwQ",
        "outputId": "02d904fd-9838-45e6-dd6e-5179e2537f5b"
      },
      "outputs": [
        {
          "output_type": "execute_result",
          "data": {
            "text/plain": [
              "Text(0, 0.5, 'Loss')"
            ]
          },
          "metadata": {},
          "execution_count": 63
        },
        {
          "output_type": "display_data",
          "data": {
            "text/plain": [
              "<Figure size 640x480 with 1 Axes>"
            ],
            "image/png": "[encoded data removed]"
          },
          "metadata": {}
        }
      ],
      "source": [
        "plt.plot(hist.history['loss'])\n",
        "plt.plot(hist.history['val_loss'])\n",
        "plt.grid()\n",
        "plt.legend([\"loss\",\"val_loss\"])\n",
        "plt.xlabel(\"Epochs\")\n",
        "plt.ylabel(\"Loss\")"
      ]
    },
    {
      "cell_type": "code",
      "execution_count": null,
      "metadata": {
        "ExecuteTime": {
          "end_time": "2021-05-08T09:53:59.811038Z",
          "start_time": "2021-05-08T09:53:59.353755Z"
        },
        "colab": {
          "base_uri": "https://localhost:8080/",
          "height": 559
        },
        "id": "xX-w9eudGDwQ",
        "outputId": "8179552b-afd3-4bde-9433-9f7423d72d4c"
      },
      "outputs": [
        {
          "output_type": "stream",
          "name": "stdout",
          "text": [
            "63/63 [==============================] - 2s 8ms/step\n"
          ]
        },
        {
          "output_type": "display_data",
          "data": {
            "text/plain": [
              "<Figure size 1000x600 with 2 Axes>"
            ],
            "image/png": "[encoded data removed]"
          },
          "metadata": {}
        }
      ],
      "source": [
        "conf_mat = confusion_matrix(\n",
        "    y_test,\n",
        "    np.argmax(model.predict(x_test), axis=1).flatten())\n",
        "\n",
        "conf_mat /= np.sum(conf_mat, axis=1).reshape(-1,1)\n",
        "\n",
        "plt.figure(0,figsize=(10,6))\n",
        "sns.heatmap(conf_mat, xticklabels=catDict.keys(), yticklabels=catDict.keys(), annot=True)\n",
        "plt.ylabel(\"Label\")\n",
        "plt.xlabel(\"Prediction\");"
      ]
    },
    {
      "cell_type": "code",
      "execution_count": null,
      "metadata": {
        "ExecuteTime": {
          "end_time": "2021-05-08T09:54:02.924279Z",
          "start_time": "2021-05-08T09:54:02.920777Z"
        },
        "id": "PbhT3twdGDwQ"
      },
      "outputs": [],
      "source": [
        "def emoji_tester(model, text):\n",
        "    catDictInverse = {0:\"😓\",1:\"👿\",2:\"🥰\",3:\"😲\",4:\"😱\",5:\"😃\"}\n",
        "    net_input = query_all_vectors([text.lower().split(\" \")], pad_to_length=70)\n",
        "    net_output = model.predict(net_input)\n",
        "    emoji = catDictInverse[np.argmax(net_output)]\n",
        "    print(emoji)"
      ]
    },
    {
      "cell_type": "code",
      "execution_count": null,
      "metadata": {
        "ExecuteTime": {
          "end_time": "2021-05-08T09:55:36.199882Z",
          "start_time": "2021-05-08T09:55:36.162981Z"
        },
        "colab": {
          "base_uri": "https://localhost:8080/"
        },
        "id": "HJZ8tu9zGDwQ",
        "outputId": "9078ae0a-1230-42af-f07d-f9d64348ab24"
      },
      "outputs": [
        {
          "output_type": "stream",
          "name": "stdout",
          "text": [
            "1/1 [==============================] - 0s 64ms/step\n",
            "😃\n"
          ]
        }
      ],
      "source": [
        "emoji_tester(model, \"I love NLP\")"
      ]
    },
    {
      "cell_type": "code",
      "source": [
        "for idx, label in enumerate(test_label):\n",
        "  if label == \"love\":\n",
        "    print(idx)"
      ],
      "metadata": {
        "colab": {
          "base_uri": "https://localhost:8080/"
        },
        "id": "ypUJl0VBiKjY",
        "outputId": "5c310c59-6564-4e6b-fd06-323f013eb3e7"
      },
      "execution_count": null,
      "outputs": [
        {
          "output_type": "stream",
          "name": "stdout",
          "text": [
            "14\n",
            "71\n",
            "74\n",
            "79\n",
            "96\n",
            "111\n",
            "125\n",
            "131\n",
            "149\n",
            "151\n",
            "166\n",
            "167\n",
            "168\n",
            "170\n",
            "183\n",
            "201\n",
            "202\n",
            "206\n",
            "228\n",
            "241\n",
            "254\n",
            "265\n",
            "286\n",
            "292\n",
            "294\n",
            "302\n",
            "303\n",
            "307\n",
            "316\n",
            "326\n",
            "333\n",
            "341\n",
            "355\n",
            "356\n",
            "366\n",
            "369\n",
            "391\n",
            "404\n",
            "466\n",
            "513\n",
            "520\n",
            "529\n",
            "535\n",
            "574\n",
            "575\n",
            "593\n",
            "595\n",
            "608\n",
            "614\n",
            "615\n",
            "621\n",
            "627\n",
            "629\n",
            "630\n",
            "643\n",
            "650\n",
            "670\n",
            "713\n",
            "715\n",
            "735\n",
            "746\n",
            "765\n",
            "766\n",
            "802\n",
            "821\n",
            "833\n",
            "869\n",
            "886\n",
            "888\n",
            "890\n",
            "894\n",
            "895\n",
            "909\n",
            "923\n",
            "936\n",
            "957\n",
            "959\n",
            "960\n",
            "978\n",
            "982\n",
            "985\n",
            "992\n",
            "994\n",
            "1013\n",
            "1015\n",
            "1017\n",
            "1059\n",
            "1061\n",
            "1064\n",
            "1072\n",
            "1081\n",
            "1083\n",
            "1092\n",
            "1111\n",
            "1117\n",
            "1123\n",
            "1146\n",
            "1178\n",
            "1194\n",
            "1207\n",
            "1216\n",
            "1245\n",
            "1301\n",
            "1333\n",
            "1340\n",
            "1346\n",
            "1347\n",
            "1358\n",
            "1370\n",
            "1377\n",
            "1381\n",
            "1386\n",
            "1387\n",
            "1395\n",
            "1402\n",
            "1436\n",
            "1458\n",
            "1463\n",
            "1476\n",
            "1478\n",
            "1488\n",
            "1497\n",
            "1513\n",
            "1524\n",
            "1541\n",
            "1545\n",
            "1571\n",
            "1588\n",
            "1592\n",
            "1642\n",
            "1650\n",
            "1680\n",
            "1684\n",
            "1685\n",
            "1701\n",
            "1709\n",
            "1714\n",
            "1731\n",
            "1732\n",
            "1739\n",
            "1745\n",
            "1756\n",
            "1765\n",
            "1818\n",
            "1833\n",
            "1836\n",
            "1844\n",
            "1849\n",
            "1851\n",
            "1889\n",
            "1899\n",
            "1902\n",
            "1936\n",
            "1945\n",
            "1961\n",
            "1969\n",
            "1970\n",
            "1990\n",
            "1991\n"
          ]
        }
      ]
    },
    {
      "cell_type": "code",
      "source": [
        "test_data[821]"
      ],
      "metadata": {
        "id": "TuwtzXZN3gMX",
        "colab": {
          "base_uri": "https://localhost:8080/"
        },
        "outputId": "a23ad791-b751-4ecb-b1ac-99d570c4a3ec"
      },
      "execution_count": null,
      "outputs": [
        {
          "output_type": "execute_result",
          "data": {
            "text/plain": [
              "['i',\n",
              " 'don',\n",
              " 't',\n",
              " 'know',\n",
              " 'how',\n",
              " 'i',\n",
              " 'feel',\n",
              " 'i',\n",
              " 'guess',\n",
              " 'it',\n",
              " 's',\n",
              " 'one',\n",
              " 'of',\n",
              " 'those',\n",
              " 'moments',\n",
              " 'where',\n",
              " 'you',\n",
              " 'want',\n",
              " 'to',\n",
              " 'feel',\n",
              " 'like',\n",
              " 'you',\n",
              " 're',\n",
              " 'accepted',\n",
              " 'even',\n",
              " 'though',\n",
              " 'whatever',\n",
              " 'you',\n",
              " 'did',\n",
              " 'or',\n",
              " 'did',\n",
              " 'not',\n",
              " 'get',\n",
              " 'mattered',\n",
              " 'to',\n",
              " 'you',\n",
              " 'the',\n",
              " 'most']"
            ]
          },
          "metadata": {},
          "execution_count": 70
        }
      ]
    },
    {
      "cell_type": "code",
      "source": [],
      "metadata": {
        "id": "5nGY9pyZ3rNJ"
      },
      "execution_count": null,
      "outputs": []
    }
  ],
  "metadata": {
    "language_info": {
      "name": "python"
    },
    "orig_nbformat": 4,
    "colab": {
      "provenance": []
    },
    "accelerator": "GPU",
    "gpuClass": "standard",
    "kernelspec": {
      "name": "python3",
      "display_name": "Python 3"
    }
  },
  "nbformat": 4,
  "nbformat_minor": 0
}