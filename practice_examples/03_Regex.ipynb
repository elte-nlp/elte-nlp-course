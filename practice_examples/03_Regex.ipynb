{
 "cells": [
  {
   "cell_type": "markdown",
   "metadata": {
    "id": "eY8mOOVIOzEn"
   },
   "source": [
    "#Regular expressions \n",
    "\n",
    "- Pattern matching (search, replace)\n",
    "- Expressive power equals to regular grammars and finite nondeterministic automaton\n",
    "- Works via classical string-matching algorithms with special characters   \n",
    "(wildcards, quantifiers, etc)\n",
    "- This lab is Python-specific, but other RegEx engines work similarly\n",
    "\n",
    "A nice regex editor: [regex101.com](http://www.regex101.com)"
   ]
  },
  {
   "cell_type": "markdown",
   "metadata": {
    "id": "aRvmjAo6TO85"
   },
   "source": [
    "# [Cheatsheet of special characters](https://www.dataquest.io/blog/regex-cheatsheet/)\n",
    "\n",
    "## Basic characters\n",
    "<table style=\"border-collapse: collapse; width: 800px;\">\n",
    "<tbody style=\"border-collapse: collapse; width: 800px;\">\n",
    "<tr>\n",
    "<td style=\"width: 22.1812%; border-style: solid; border-color: #000000; background-color: #2d353b; text-align: center;\"><span style=\"color: #ffffff;\"><strong>Characters</strong></span></td>\n",
    "<td style=\"width: 77.8188%; border-style: solid; border-color: #000000; background-color: #2d353b; text-align: center;\"><span style=\"color: #ffffff;\"><strong>Explanation</strong></span></td>\n",
    "</tr>\n",
    "<tr>\n",
    "<td style=\"width: 22.1812%; border-style: solid; border-color: #000000; text-align: center;\"><strong>a</strong></td>\n",
    "<td style=\"width: 77.8188%; border-style: solid; border-color: #000000;\">It Matches exactly one character a.</td>\n",
    "</tr>\n",
    "<tr>\n",
    "<td style=\"width: 22.1812%; border-style: solid; border-color: #000000; text-align: center;\"><strong>ab</strong></td>\n",
    "<td style=\"width: 77.8188%; border-style: solid; border-color: #000000;\">Matches the string ab.</td>\n",
    "</tr>\n",
    "<tr>\n",
    "<td style=\"width: 22.1812%; border-style: solid; border-color: #000000; text-align: center;\"><strong>a|b</strong></td>\n",
    "<td style=\"width: 77.8188%; border-style: solid; border-color: #000000;\">Matches a or b. If a is matched, b is left.</td>\n",
    "</tr>\n",
    "<tr>\n",
    "<td style=\"width: 22.1812%; border-style: solid; border-color: #000000; text-align: center;\"><strong>$</strong></td>\n",
    "<td style=\"width: 77.8188%; border-style: solid; border-color: #000000;\">Match the end of the string.</td>\n",
    "</tr>\n",
    "<tr>\n",
    "<td style=\"width: 22.1812%; border-style: solid; border-color: #000000; text-align: center;\"><strong>i</strong></td>\n",
    "<td style=\"width: 77.8188%; border-style: solid; border-color: #000000;\">Ignore case.</td>\n",
    "</tr>\n",
    "<tr>\n",
    "<td style=\"width: 22.1812%; border-style: solid; border-color: #000000; text-align: center;\"><strong>s</strong></td>\n",
    "<td style=\"width: 77.8188%; border-style: solid; border-color: #000000;\">Matches everything, including newline as well.</td>\n",
    "</tr>\n",
    "<tr>\n",
    "<td style=\"width: 22.1812%; border-style: solid; border-color: #000000; text-align: center;\"><strong>u</strong></td>\n",
    "<td style=\"width: 77.8188%; border-style: solid; border-color: #000000;\">Matches Unicode character classes.</td>\n",
    "</tr>\n",
    "<tr>\n",
    "<td style=\"width: 22.1812%; border-style: solid; border-color: #000000; text-align: center;\"><strong>x</strong></td>\n",
    "<td style=\"width: 77.8188%; border-style: solid; border-color: #000000;\">Allow spaces and comments (Verbose).</td>\n",
    "</tr>\n",
    "<tr>\n",
    "<td style=\"width: 22.1812%; border-style: solid; border-color: #000000; text-align: center;\"><strong>^</strong></td>\n",
    "<td style=\"width: 77.8188%; border-style: solid; border-color: #000000;\">Match the start of the string.</td>\n",
    "</tr>\n",
    "<tr>\n",
    "<td style=\"width: 22.1812%; border-style: solid; border-color: #000000; text-align: center;\"><strong>.</strong></td>\n",
    "<td style=\"width: 77.8188%; border-style: solid; border-color: #000000;\">Match 0 or 1 character.</td>\n",
    "</tr>\n",
    "<tr>\n",
    "<tr>\n",
    "<td style=\"width: 22.1812%; border-style: solid; border-color: #000000; text-align: center;\"><strong>*</strong></td>\n",
    "<td style=\"width: 77.8188%; border-style: solid; border-color: #000000;\">Match 0 or more repetitions.</td>\n",
    "</tr>\n",
    "<tr>\n",
    "<td style=\"width: 22.1812%; border-style: solid; border-color: #000000; text-align: center;\"><strong>+</strong></td>\n",
    "<td style=\"width: 77.8188%; border-style: solid; border-color: #000000;\">Match one or more times.</td>\n",
    "</tr>\n",
    "<tr>\n",
    "<td style=\"width: 22.1812%; border-style: solid; border-color: #000000; text-align: center;\"><strong>?</strong></td>\n",
    "<td style=\"width: 77.8188%; border-style: solid; border-color: #000000;\">Match zero or one time.</td>\n",
    "</tr>\n",
    "<tr>\n",
    "<td style=\"width: 22.1812%; border-style: solid; border-color: #000000; text-align: center;\"><strong>{a,b}</strong></td>\n",
    "<td style=\"width: 77.8188%; border-style: solid; border-color: #000000;\">Match a to b times.</td>\n",
    "</tr>\n",
    "<tr>\n",
    "<td style=\"width: 22.1812%; border-style: solid; border-color: #000000; text-align: center;\"><strong>{a,}</strong></td>\n",
    "<td style=\"width: 77.8188%; border-style: solid; border-color: #000000;\">Match at least a time.</td>\n",
    "</tr>\n",
    "<tr>\n",
    "<td style=\"width: 22.1812%; border-style: solid; border-color: #000000; text-align: center;\"><strong>{,b}</strong></td>\n",
    "<td style=\"width: 77.8188%; border-style: solid; border-color: #000000;\">Match up to b times.</td>\n",
    "</tr>\n",
    "<tr>\n",
    "<td style=\"width: 22.1812%; border-style: solid; border-color: #000000; text-align: center;\"><strong>{a}</strong></td>\n",
    "<td style=\"width: 77.8188%; border-style: solid; border-color: #000000;\">Match exactly a times.</td>\n",
    "</tr>\n",
    "<tr>\n",
    "<td style=\"width: 22.1812%; border-style: solid; border-color: #000000; text-align: center;\"><strong>{a,b}?</strong></td>\n",
    "<td style=\"width: 77.8188%; border-style: solid; border-color: #000000;\">Matches the expression to its left times, and ignores b.</td>\n",
    "</tr>\n",
    "</tbody>\n",
    "</table>\n",
    "\n",
    "## Character classes\n",
    "\n",
    "\n",
    "<table style=\"border-collapse: collapse; width: 80%;\">\n",
    "<tbody>\n",
    "<tr>\n",
    "<td style=\"width: 22.5722%; border-style: solid; border-color: #000000; background-color: #2d353b; text-align: center;\"><span style=\"color: #ffffff;\"><strong>Class</strong></span></td>\n",
    "<td style=\"width: 77.4278%; border-style: solid; border-color: #000000; background-color: #2d353b; text-align: center;\"><span style=\"color: #ffffff;\"><strong>Explanation</strong></span></td>\n",
    "</tr>\n",
    "<tr>\n",
    "<td style=\"width: 22.5722%; border-style: solid; border-color: #000000; text-align: center;\"><strong>\\d</strong></td>\n",
    "<td style=\"width: 77.4278%; border-style: solid; border-color: #000000;\">Matches digits from 0-9.</td>\n",
    "</tr>\n",
    "<tr>\n",
    "<td style=\"width: 22.5722%; border-style: solid; border-color: #000000; text-align: center;\"><strong>\\D</strong></td>\n",
    "<td style=\"width: 77.4278%; border-style: solid; border-color: #000000;\">Matches any non-digits.</td>\n",
    "</tr>\n",
    "<tr>\n",
    "<td style=\"width: 22.5722%; border-style: solid; border-color: #000000; text-align: center;\"><strong>\\w</strong></td>\n",
    "<td style=\"width: 77.4278%; border-style: solid; border-color: #000000;\">Matches alphanumeric characters including, a-z, A-Z, 0-9, and underscore(_).</td>\n",
    "</tr>\n",
    "<tr>\n",
    "<td style=\"width: 22.5722%; border-style: solid; border-color: #000000; text-align: center;\"><strong>\\W</strong></td>\n",
    "<td style=\"width: 77.4278%; border-style: solid; border-color: #000000;\">Matches any character, not a Unicode word character.</td>\n",
    "</tr>\n",
    "<tr>\n",
    "<td style=\"width: 22.5722%; border-style: solid; border-color: #000000; text-align: center;\"><strong>\\s</strong></td>\n",
    "<td style=\"width: 77.4278%; border-style: solid; border-color: #000000;\">Matches whitespace characters.</td>\n",
    "</tr>\n",
    "<tr>\n",
    "<td style=\"width: 22.5722%; border-style: solid; border-color: #000000; text-align: center;\"><strong>\\S</strong></td>\n",
    "<td style=\"width: 77.4278%; border-style: solid; border-color: #000000;\">Matches non-whitespace characters.</td>\n",
    "</tr>\n",
    "<tr>\n",
    "<td style=\"width: 22.5722%; border-style: solid; border-color: #000000; text-align: center;\"><strong>\\n</strong></td>\n",
    "<td style=\"width: 77.4278%; border-style: solid; border-color: #000000;\">Matches a newline character.</td>\n",
    "</tr>\n",
    "<tr>\n",
    "<td style=\"width: 22.5722%; border-style: solid; border-color: #000000; text-align: center;\"><strong>\\t</strong></td>\n",
    "<td style=\"width: 77.4278%; border-style: solid; border-color: #000000;\">Matches tab character.</td>\n",
    "</tr>\n",
    "<tr>\n",
    "<td style=\"width: 22.5722%; border-style: solid; border-color: #000000; text-align: center;\"><strong>\\b</strong></td>\n",
    "<td style=\"width: 77.4278%; border-style: solid; border-color: #000000;\">Matches empty string, only at the beginning or end of a word.</td>\n",
    "</tr>\n",
    "<tr>\n",
    "<td style=\"width: 22.5722%; border-style: solid; border-color: #000000; text-align: center;\"><strong>\\Z</strong></td>\n",
    "<td style=\"width: 77.4278%; border-style: solid; border-color: #000000;\">Matches the expression to its left at the absolute end of a string, whether in single or multi-line mode.</td>\n",
    "</tr>\n",
    "<tr>\n",
    "<td style=\"width: 22.5722%; border-style: solid; border-color: #000000; text-align: center;\"><strong>\\A</strong></td>\n",
    "<td style=\"width: 77.4278%; border-style: solid; border-color: #000000;\">Matches the expression to its right at the absolute start of a string, whether in single or multi-line mode.</td>\n",
    "</tr>\n",
    "</tbody>\n",
    "</table>\n",
    "\n",
    "## Character sets\n",
    "\n",
    "<table style=\"border-collapse: collapse; width: 80%; height: 240px;\">\n",
    "<tbody>\n",
    "<tr style=\"height: 24px;\">\n",
    "<td style=\"width: 21.3911%; border-style: solid; border-color: #000000; background-color: #2d353b; text-align: center; height: 24px;\"><span style=\"color: #ffffff;\"><strong>Sets</strong></span></td>\n",
    "<td style=\"width: 78.6089%; border-style: solid; border-color: #000000; background-color: #2d353b; text-align: center; height: 24px;\"><span style=\"color: #ffffff;\"><strong>Explanation</strong></span></td>\n",
    "</tr>\n",
    "<tr style=\"height: 24px;\">\n",
    "<td style=\"width: 21.3911%; border-style: solid; border-color: #000000; height: 24px; text-align: center;\"><strong>[a-z]</strong></td>\n",
    "<td style=\"width: 78.6089%; border-style: solid; border-color: #000000; height: 24px;\">Match any lowercase ASCII letter.</td>\n",
    "</tr>\n",
    "<tr style=\"height: 24px;\">\n",
    "<td style=\"width: 21.3911%; border-style: solid; border-color: #000000; height: 24px; text-align: center;\"><strong>[xyz]</strong></td>\n",
    "<td style=\"width: 78.6089%; border-style: solid; border-color: #000000; height: 24px;\">Matches either x, y, or z.</td>\n",
    "</tr>\n",
    "<tr style=\"height: 24px;\">\n",
    "<td style=\"width: 21.3911%; border-style: solid; border-color: #000000; height: 24px; text-align: center;\"><strong>[x\\-z]</strong></td>\n",
    "<td style=\"width: 78.6089%; border-style: solid; border-color: #000000; height: 24px;\">Matches x, – or z.</td>\n",
    "</tr>\n",
    "<tr style=\"height: 24px;\">\n",
    "<td style=\"width: 21.3911%; border-style: solid; border-color: #000000; height: 24px; text-align: center;\"><strong>[-x]</strong></td>\n",
    "<td style=\"width: 78.6089%; border-style: solid; border-color: #000000; height: 24px;\">Matches – or x.</td>\n",
    "</tr>\n",
    "<tr style=\"height: 24px;\">\n",
    "<td style=\"width: 21.3911%; border-style: solid; border-color: #000000; height: 24px; text-align: center;\"><strong>[a-d0-9]</strong></td>\n",
    "<td style=\"width: 78.6089%; border-style: solid; border-color: #000000; height: 24px;\">Matches characters from a to d or from 0 to 9.</td>\n",
    "</tr>\n",
    "<tr style=\"height: 24px;\">\n",
    "<td style=\"width: 21.3911%; border-style: solid; border-color: #000000; height: 24px; text-align: center;\"><strong>[^xy4]</strong></td>\n",
    "<td style=\"width: 78.6089%; border-style: solid; border-color: #000000; height: 24px;\">Matches characters that are not x, y, or 4.</td>\n",
    "</tr>\n",
    "<tr style=\"height: 24px;\">\n",
    "<td style=\"width: 21.3911%; border-style: solid; border-color: #000000; height: 24px; text-align: center;\"><strong>[(+*)]</strong></td>\n",
    "<td style=\"width: 78.6089%; border-style: solid; border-color: #000000; height: 24px;\">Matches (, +, * or ).</td>\n",
    "</tr>\n",
    "<tr style=\"height: 24px;\">\n",
    "<td style=\"width: 21.3911%; border-style: solid; border-color: #000000; height: 24px; text-align: center;\"><strong>[0-5][0-9]</strong></td>\n",
    "<td style=\"width: 78.6089%; border-style: solid; border-color: #000000; height: 24px;\">Matches for any two-digit numbers from 00 and 59.</td>\n",
    "</tr>\n",
    "<tr style=\"height: 24px;\">\n",
    "<td style=\"width: 21.3911%; border-style: solid; border-color: #000000; height: 24px; text-align: center;\"><strong>[^ab5]</strong></td>\n",
    "<td style=\"width: 78.6089%; border-style: solid; border-color: #000000; height: 24px;\">Adding ^ excludes any character in the set. Here, it matches characters that are not a, b, or 5.</td>\n",
    "</tr>\n",
    "</tbody>\n",
    "</table>"
   ]
  },
  {
   "cell_type": "code",
   "execution_count": 38,
   "metadata": {
    "colab": {
     "base_uri": "https://localhost:8080/"
    },
    "id": "Ioz4UXPkOvfl",
    "outputId": "74257573-5a87-4d7f-8edf-b5ada8c7da3d"
   },
   "outputs": [
    {
     "name": "stdout",
     "output_type": "stream",
     "text": [
      "There (0, 5)\n"
     ]
    }
   ],
   "source": [
    "import re\n",
    "\n",
    "text = \"There is an apple in this sentence.\"\n",
    "\n",
    "#Bound to string start, returns Match object\n",
    "found = re.match(r\"There\",text)\n",
    "\n",
    "print(found.group(), found.span())"
   ]
  },
  {
   "cell_type": "code",
   "execution_count": 39,
   "metadata": {
    "colab": {
     "base_uri": "https://localhost:8080/"
    },
    "id": "53Wib7j2Wj6W",
    "outputId": "a988a6c3-3d84-4501-df73-9a34c5ada23e"
   },
   "outputs": [
    {
     "name": "stdout",
     "output_type": "stream",
     "text": [
      "None\n"
     ]
    }
   ],
   "source": [
    "found = re.match(r\"apple\",text)\n",
    "\n",
    "print(found)"
   ]
  },
  {
   "cell_type": "code",
   "execution_count": 40,
   "metadata": {
    "colab": {
     "base_uri": "https://localhost:8080/"
    },
    "id": "Ud1YcQM2Wp52",
    "outputId": "921d2d91-f2e6-4bf8-e5ea-b7209acdfae0"
   },
   "outputs": [
    {
     "name": "stdout",
     "output_type": "stream",
     "text": [
      "apple (12, 17)\n"
     ]
    }
   ],
   "source": [
    "#Use search for sub-string matching\n",
    "found = re.search(r\"apple\", text)\n",
    "\n",
    "print(found.group(), found.span())"
   ]
  },
  {
   "cell_type": "code",
   "execution_count": 41,
   "metadata": {
    "colab": {
     "base_uri": "https://localhost:8080/"
    },
    "id": "TRpd83wWW0d8",
    "outputId": "46369534-248e-42f3-a6a0-8ca8097e1d9b"
   },
   "outputs": [
    {
     "name": "stdout",
     "output_type": "stream",
     "text": [
      "i (6, 7)\n"
     ]
    }
   ],
   "source": [
    "#Returns first match only\n",
    "found = re.search(r\"i\", text)\n",
    "\n",
    "print(found.group(), found.span())"
   ]
  },
  {
   "cell_type": "code",
   "execution_count": 42,
   "metadata": {
    "colab": {
     "base_uri": "https://localhost:8080/"
    },
    "id": "8K5mfeIUXfka",
    "outputId": "752fcc45-ab0a-43db-943b-d4bd3383dcb2"
   },
   "outputs": [
    {
     "name": "stdout",
     "output_type": "stream",
     "text": [
      "['i', 'i', 'i']\n"
     ]
    }
   ],
   "source": [
    "#Finding all NON-OVERLAPPING matches\n",
    "found = re.findall(r\"i\", text)\n",
    "\n",
    "#Returns list of matches\n",
    "print(found)"
   ]
  },
  {
   "cell_type": "markdown",
   "metadata": {
    "id": "_UbX4OT-ZqnO"
   },
   "source": [
    "### Match all words starting with \"a\"\n",
    "\n",
    "- wordstart: **\\b**   \n",
    "- character \"a\" after it: **a**   \n",
    "- any alphanumeric character is allowed after it: **\\w**   \n",
    "- for 0 to infinite repetitions: **\\***   \n",
    "- the whole word is required, thus we match the word end explicitly: **\\b**\n"
   ]
  },
  {
   "cell_type": "code",
   "execution_count": 57,
   "metadata": {
    "colab": {
     "base_uri": "https://localhost:8080/"
    },
    "id": "uJNMasc6X804",
    "outputId": "e40696eb-b0dd-484a-d186-54294e37b529"
   },
   "outputs": [
    {
     "name": "stdout",
     "output_type": "stream",
     "text": [
      "['an', 'apple']\n"
     ]
    }
   ],
   "source": [
    "#More useful with character classes\n",
    "\n",
    "found = re.findall(r\"\\ba\\w*\\b\", text)\n",
    "\n",
    "#Returns a list of strings\n",
    "print(found)"
   ]
  },
  {
   "cell_type": "code",
   "execution_count": 61,
   "metadata": {
    "colab": {
     "base_uri": "https://localhost:8080/"
    },
    "id": "mrQ6IEhqaTbU",
    "outputId": "629f1aa2-1754-4524-a158-20e3bef20e3c"
   },
   "outputs": [
    {
     "name": "stdout",
     "output_type": "stream",
     "text": [
      "<re.Match object; span=(9, 11), match='an'>\n",
      "<re.Match object; span=(12, 17), match='apple'>\n"
     ]
    }
   ],
   "source": [
    "#If we need an iterator of match objects, not just the strings\n",
    "\n",
    "found = re.finditer(r\"\\ba\\w*\\b\", text)\n",
    "\n",
    "#Returns list of matches\n",
    "for match in found:\n",
    "  print(match)"
   ]
  },
  {
   "cell_type": "markdown",
   "metadata": {
    "id": "MXvdn2y0bXWT"
   },
   "source": [
    "### Split text at every two letter word (exclude the whitespaces too)\n",
    "\n",
    "- Word start and end with any number of whitespaces included: **\\s\\*\\b** and **\\b\\s\\***\n",
    "- Quantifying exatly two word characters in between: **\\w\\{2\\}**"
   ]
  },
  {
   "cell_type": "code",
   "execution_count": 65,
   "metadata": {
    "colab": {
     "base_uri": "https://localhost:8080/"
    },
    "id": "QQrtc2QVbGme",
    "outputId": "b1828d69-ec8c-4b43-aeb5-08908e901f31"
   },
   "outputs": [
    {
     "name": "stdout",
     "output_type": "stream",
     "text": [
      "['There', '', 'apple', 'this sentence.']\n"
     ]
    }
   ],
   "source": [
    "split_text = re.split(r\"\\s*\\b\\w{2}\\b\\s*\", text)\n",
    "print(split_text)"
   ]
  },
  {
   "cell_type": "markdown",
   "metadata": {
    "id": "4QqOK5Hot7gW"
   },
   "source": [
    "### Find dates\n",
    "\n",
    "Using groups in mm/dd/yyyy format\n",
    "\n",
    "- Month descriptor can either start with 1 or 0\n",
    " - If starts with 1 it can either end to 0, 1 or 2\n",
    " - If starts with zero it can be any digit but 0\n",
    "- Day can start with 3, 2, 1, 0\n",
    " - If starts with 3 it can end in 0 or 1\n",
    " - If starts with 1 or 2 can end in any digit\n",
    " - If starts with 0 it can end any digit but 0\n",
    "- Year can be any 4 long digit sequence"
   ]
  },
  {
   "cell_type": "code",
   "execution_count": 142,
   "metadata": {
    "colab": {
     "base_uri": "https://localhost:8080/"
    },
    "id": "HFQsHw4jt8mw",
    "outputId": "41a3ff18-6eab-4361-edd9-17c6353b94cb"
   },
   "outputs": [
    {
     "data": {
      "text/plain": [
       "[('10', '04', '2021')]"
      ]
     },
     "execution_count": 142,
     "metadata": {},
     "output_type": "execute_result"
    }
   ],
   "source": [
    "def findDate(text):\n",
    "  line=re.findall('(1[0-2]|0[1-9])/(3[01]|[12][0-9]|0[1-9])/([0-9]{4})',text)     \n",
    "  return line\n",
    "\n",
    "findDate('Todays date is 10/04/2021')"
   ]
  },
  {
   "cell_type": "markdown",
   "metadata": {
    "id": "OEVndOVWckny"
   },
   "source": [
    "## Grouping/Assertion\n",
    "**( )** | Matches the expression inside the parentheses and groups it.\n",
    "\n",
    "**(? )** | Inside parentheses like this, ? acts as an extension notation.\n",
    "\n",
    "**(?aiLmsux)** | Here, a, i, L, m, s, u, and x are flags:\n",
    "\n",
    "**a** — Matches ASCII only   \n",
    "**i** — Ignore case   \n",
    "**L** — Locale dependent   \n",
    "**m** — Multi-line   \n",
    "**s** — Matches all   \n",
    "**u** — Matches unicode   \n",
    "**x** — Verbose   \n",
    "\n",
    "**(?FLAGS:A)** | Matches the expression as represented by A. Using a flag set represented by FLAGS.\n",
    "\n",
    "**(?#...)** | A comment.\n",
    "\n",
    "**A(?=B)** | Lookahead assertion. This matches the expression A only if it is followed by B.\n",
    "\n",
    "**A(?!B)** | Negative lookahead assertion. This matches the expression A only if it is not followed by B.\n",
    "\n",
    "**(?<=B)A** | Positive lookbehind assertion. This matches the expression A only if B is immediately to its left. This can only matched fixed length expressions.\n",
    "\n",
    "**(?<!B)A** | Negative lookbehind assertion. This matches the expression A only if B is not immediately to its left. This can only matched fixed length expressions."
   ]
  },
  {
   "cell_type": "markdown",
   "metadata": {
    "id": "Ax1cQieHjFX8"
   },
   "source": [
    "### Change numbered filename to IMG\\<num\\> if the extension is .jpg or .png\n",
    "If no number is present skip\n",
    "\n",
    "- From the string start: **^**   \n",
    "- We match the group of characters which are non-digit characters but word characters   \n",
    "(non-\"non-word\" characters): **[^\\d\\W]**\n",
    "- We match at least one of those: **+**\n",
    "- Assert that after our replaceable name comes at least one digit: **(?=\\d+**\n",
    "- And an extension of .png and .jpg where we ignore the case: **((?i:.png)|(?i:.jpg)))**\n"
   ]
  },
  {
   "cell_type": "code",
   "execution_count": 100,
   "metadata": {
    "colab": {
     "base_uri": "https://localhost:8080/"
    },
    "id": "saQys3I2b_nB",
    "outputId": "c0b5cd97-442d-4336-de91-983619fcdc5e"
   },
   "outputs": [
    {
     "name": "stdout",
     "output_type": "stream",
     "text": [
      "IMG1.jpg\n",
      "IMG2.PNG\n",
      "IMG3.png\n",
      "summer4.exe\n",
      "nlphomework.pdf\n",
      "IMG5.JPG\n"
     ]
    }
   ],
   "source": [
    "fnames = [\"summer1.jpg\", \"summer2.PNG\", \"vacation3.png\", \"summer4.exe\", \"nlphomework.pdf\", \"vacation5.JPG\"]\n",
    "\n",
    "for f in fnames:\n",
    "  print(re.sub(r\"^[^\\d\\W]+(?=\\d+((?i:.png)|(?i:.jpg)))\",\"IMG\",f))"
   ]
  },
  {
   "cell_type": "markdown",
   "metadata": {
    "id": "ethxCb3Ut9N9"
   },
   "source": [
    "### Find social media tags"
   ]
  },
  {
   "cell_type": "code",
   "execution_count": 143,
   "metadata": {
    "colab": {
     "base_uri": "https://localhost:8080/"
    },
    "id": "0J3MsBd2uAP5",
    "outputId": "d4e85b1d-a034-4098-c13e-1a23d5ba74fd"
   },
   "outputs": [
    {
     "data": {
      "text/plain": [
       "['football', 'FIFA']"
      ]
     },
     "execution_count": 143,
     "metadata": {},
     "output_type": "execute_result"
    }
   ],
   "source": [
    "def findHash(text):  \n",
    "    line=re.findall(\"(?<=#)\\w+\",text)     \n",
    "    return line\n",
    "\n",
    "findHash(\"I love football. #football #FIFA\")"
   ]
  },
  {
   "cell_type": "markdown",
   "metadata": {
    "id": "Ujfadc51l5_e"
   },
   "source": [
    "## Reusing patterns\n",
    "\n",
    "What does this match? **[\\w.-]+@[\\w.-]+**"
   ]
  },
  {
   "cell_type": "code",
   "execution_count": 123,
   "metadata": {
    "colab": {
     "base_uri": "https://localhost:8080/"
    },
    "id": "YWpI631Ul85a",
    "outputId": "eb23cdda-f1e5-4bdb-9fe5-ec1a8cc9b07f"
   },
   "outputs": [
    {
     "name": "stdout",
     "output_type": "stream",
     "text": [
      "['info@myaddress.com']\n",
      "This is my secret email address: **SECRET EMAIL**\n"
     ]
    }
   ],
   "source": [
    "pattern = re.compile(\"[\\w.-]+@[\\w.-]+\")\n",
    "\n",
    "print(pattern.findall(\"This is my secret email address: info@myaddress.com\"))\n",
    "\n",
    "#Counter-intuitive, replacment string comes first\n",
    "print(pattern.sub(\"**SECRET EMAIL**\",\"This is my secret email address: info@myaddress.com\"))"
   ]
  },
  {
   "cell_type": "markdown",
   "metadata": {
    "id": "_J3KcprCaS4l"
   },
   "source": [
    "### Finding URLs"
   ]
  },
  {
   "cell_type": "code",
   "execution_count": 141,
   "metadata": {
    "colab": {
     "base_uri": "https://localhost:8080/"
    },
    "id": "XxdSzDX-ofaV",
    "outputId": "b80371a0-f7a0-4397-89f9-7563e574719e"
   },
   "outputs": [
    {
     "data": {
      "text/plain": [
       "['http://404notfound.com/?isnotvalid=True&id=2', 'http://127.12.21.32:5342']"
      ]
     },
     "execution_count": 141,
     "metadata": {},
     "output_type": "execute_result"
    }
   ],
   "source": [
    "def find_url(string):\n",
    "    text = re.findall(r'http[s]?:\\/\\/(?:\\w|[$-_@.&+!*(),])+',string)\n",
    "    #convert return value from list to string    \n",
    "    return text\n",
    "\n",
    "find_url(\"Could you find http://404notfound.com/?isnotvalid=True&id=2 and this http://127.12.21.32:5342 please?\")"
   ]
  }
 ],
 "metadata": {
  "colab": {
   "collapsed_sections": [],
   "name": "Regex.ipynb",
   "provenance": []
  },
  "kernelspec": {
   "display_name": "Python 3",
   "language": "python",
   "name": "python3"
  },
  "language_info": {
   "codemirror_mode": {
    "name": "ipython",
    "version": 3
   },
   "file_extension": ".py",
   "mimetype": "text/x-python",
   "name": "python",
   "nbconvert_exporter": "python",
   "pygments_lexer": "ipython3",
   "version": "3.8.8"
  }
 },
 "nbformat": 4,
 "nbformat_minor": 1
}
