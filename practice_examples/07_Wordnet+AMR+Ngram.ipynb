{
  "nbformat": 4,
  "nbformat_minor": 0,
  "metadata": {
    "colab": {
      "provenance": []
    },
    "kernelspec": {
      "name": "python3",
      "display_name": "Python 3"
    },
    "language_info": {
      "name": "python"
    },
    "accelerator": "GPU",
    "gpuClass": "standard",
    "widgets": {
      "application/vnd.jupyter.widget-state+json": {
        "f2fbcc561589411297f109064759767c": {
          "model_module": "@jupyter-widgets/controls",
          "model_name": "HBoxModel",
          "model_module_version": "1.5.0",
          "state": {
            "_dom_classes": [],
            "_model_module": "@jupyter-widgets/controls",
            "_model_module_version": "1.5.0",
            "_model_name": "HBoxModel",
            "_view_count": null,
            "_view_module": "@jupyter-widgets/controls",
            "_view_module_version": "1.5.0",
            "_view_name": "HBoxView",
            "box_style": "",
            "children": [
              "IPY_MODEL_c62d80ed74f94435ac06dbc249766bd0",
              "IPY_MODEL_ff3d0eb0bc2c4a04b1c2a725af7a357a",
              "IPY_MODEL_9dca0a1e550c4ba09664a2b163a47e85"
            ],
            "layout": "IPY_MODEL_0a0f7dc554164ab083bdf4ddc76a2e7f"
          }
        },
        "c62d80ed74f94435ac06dbc249766bd0": {
          "model_module": "@jupyter-widgets/controls",
          "model_name": "HTMLModel",
          "model_module_version": "1.5.0",
          "state": {
            "_dom_classes": [],
            "_model_module": "@jupyter-widgets/controls",
            "_model_module_version": "1.5.0",
            "_model_name": "HTMLModel",
            "_view_count": null,
            "_view_module": "@jupyter-widgets/controls",
            "_view_module_version": "1.5.0",
            "_view_name": "HTMLView",
            "description": "",
            "description_tooltip": null,
            "layout": "IPY_MODEL_0e1e871d57f74415be60338b97b9b231",
            "placeholder": "​",
            "style": "IPY_MODEL_f94d5ddc77c04e0695784fa278e529b3",
            "value": "Downloading (…)lve/main/config.json: 100%"
          }
        },
        "ff3d0eb0bc2c4a04b1c2a725af7a357a": {
          "model_module": "@jupyter-widgets/controls",
          "model_name": "FloatProgressModel",
          "model_module_version": "1.5.0",
          "state": {
            "_dom_classes": [],
            "_model_module": "@jupyter-widgets/controls",
            "_model_module_version": "1.5.0",
            "_model_name": "FloatProgressModel",
            "_view_count": null,
            "_view_module": "@jupyter-widgets/controls",
            "_view_module_version": "1.5.0",
            "_view_name": "ProgressView",
            "bar_style": "success",
            "description": "",
            "description_tooltip": null,
            "layout": "IPY_MODEL_90ac3687c1784c64853583c79676a9be",
            "max": 1208,
            "min": 0,
            "orientation": "horizontal",
            "style": "IPY_MODEL_1f75c1b2f72048408c9567c5ebe4e863",
            "value": 1208
          }
        },
        "9dca0a1e550c4ba09664a2b163a47e85": {
          "model_module": "@jupyter-widgets/controls",
          "model_name": "HTMLModel",
          "model_module_version": "1.5.0",
          "state": {
            "_dom_classes": [],
            "_model_module": "@jupyter-widgets/controls",
            "_model_module_version": "1.5.0",
            "_model_name": "HTMLModel",
            "_view_count": null,
            "_view_module": "@jupyter-widgets/controls",
            "_view_module_version": "1.5.0",
            "_view_name": "HTMLView",
            "description": "",
            "description_tooltip": null,
            "layout": "IPY_MODEL_8c3232a26f15432983090ef17553ba60",
            "placeholder": "​",
            "style": "IPY_MODEL_2d466e3d80704ea78469f1fde67e5384",
            "value": " 1.21k/1.21k [00:00&lt;00:00, 27.9kB/s]"
          }
        },
        "0a0f7dc554164ab083bdf4ddc76a2e7f": {
          "model_module": "@jupyter-widgets/base",
          "model_name": "LayoutModel",
          "model_module_version": "1.2.0",
          "state": {
            "_model_module": "@jupyter-widgets/base",
            "_model_module_version": "1.2.0",
            "_model_name": "LayoutModel",
            "_view_count": null,
            "_view_module": "@jupyter-widgets/base",
            "_view_module_version": "1.2.0",
            "_view_name": "LayoutView",
            "align_content": null,
            "align_items": null,
            "align_self": null,
            "border": null,
            "bottom": null,
            "display": null,
            "flex": null,
            "flex_flow": null,
            "grid_area": null,
            "grid_auto_columns": null,
            "grid_auto_flow": null,
            "grid_auto_rows": null,
            "grid_column": null,
            "grid_gap": null,
            "grid_row": null,
            "grid_template_areas": null,
            "grid_template_columns": null,
            "grid_template_rows": null,
            "height": null,
            "justify_content": null,
            "justify_items": null,
            "left": null,
            "margin": null,
            "max_height": null,
            "max_width": null,
            "min_height": null,
            "min_width": null,
            "object_fit": null,
            "object_position": null,
            "order": null,
            "overflow": null,
            "overflow_x": null,
            "overflow_y": null,
            "padding": null,
            "right": null,
            "top": null,
            "visibility": null,
            "width": null
          }
        },
        "0e1e871d57f74415be60338b97b9b231": {
          "model_module": "@jupyter-widgets/base",
          "model_name": "LayoutModel",
          "model_module_version": "1.2.0",
          "state": {
            "_model_module": "@jupyter-widgets/base",
            "_model_module_version": "1.2.0",
            "_model_name": "LayoutModel",
            "_view_count": null,
            "_view_module": "@jupyter-widgets/base",
            "_view_module_version": "1.2.0",
            "_view_name": "LayoutView",
            "align_content": null,
            "align_items": null,
            "align_self": null,
            "border": null,
            "bottom": null,
            "display": null,
            "flex": null,
            "flex_flow": null,
            "grid_area": null,
            "grid_auto_columns": null,
            "grid_auto_flow": null,
            "grid_auto_rows": null,
            "grid_column": null,
            "grid_gap": null,
            "grid_row": null,
            "grid_template_areas": null,
            "grid_template_columns": null,
            "grid_template_rows": null,
            "height": null,
            "justify_content": null,
            "justify_items": null,
            "left": null,
            "margin": null,
            "max_height": null,
            "max_width": null,
            "min_height": null,
            "min_width": null,
            "object_fit": null,
            "object_position": null,
            "order": null,
            "overflow": null,
            "overflow_x": null,
            "overflow_y": null,
            "padding": null,
            "right": null,
            "top": null,
            "visibility": null,
            "width": null
          }
        },
        "f94d5ddc77c04e0695784fa278e529b3": {
          "model_module": "@jupyter-widgets/controls",
          "model_name": "DescriptionStyleModel",
          "model_module_version": "1.5.0",
          "state": {
            "_model_module": "@jupyter-widgets/controls",
            "_model_module_version": "1.5.0",
            "_model_name": "DescriptionStyleModel",
            "_view_count": null,
            "_view_module": "@jupyter-widgets/base",
            "_view_module_version": "1.2.0",
            "_view_name": "StyleView",
            "description_width": ""
          }
        },
        "90ac3687c1784c64853583c79676a9be": {
          "model_module": "@jupyter-widgets/base",
          "model_name": "LayoutModel",
          "model_module_version": "1.2.0",
          "state": {
            "_model_module": "@jupyter-widgets/base",
            "_model_module_version": "1.2.0",
            "_model_name": "LayoutModel",
            "_view_count": null,
            "_view_module": "@jupyter-widgets/base",
            "_view_module_version": "1.2.0",
            "_view_name": "LayoutView",
            "align_content": null,
            "align_items": null,
            "align_self": null,
            "border": null,
            "bottom": null,
            "display": null,
            "flex": null,
            "flex_flow": null,
            "grid_area": null,
            "grid_auto_columns": null,
            "grid_auto_flow": null,
            "grid_auto_rows": null,
            "grid_column": null,
            "grid_gap": null,
            "grid_row": null,
            "grid_template_areas": null,
            "grid_template_columns": null,
            "grid_template_rows": null,
            "height": null,
            "justify_content": null,
            "justify_items": null,
            "left": null,
            "margin": null,
            "max_height": null,
            "max_width": null,
            "min_height": null,
            "min_width": null,
            "object_fit": null,
            "object_position": null,
            "order": null,
            "overflow": null,
            "overflow_x": null,
            "overflow_y": null,
            "padding": null,
            "right": null,
            "top": null,
            "visibility": null,
            "width": null
          }
        },
        "1f75c1b2f72048408c9567c5ebe4e863": {
          "model_module": "@jupyter-widgets/controls",
          "model_name": "ProgressStyleModel",
          "model_module_version": "1.5.0",
          "state": {
            "_model_module": "@jupyter-widgets/controls",
            "_model_module_version": "1.5.0",
            "_model_name": "ProgressStyleModel",
            "_view_count": null,
            "_view_module": "@jupyter-widgets/base",
            "_view_module_version": "1.2.0",
            "_view_name": "StyleView",
            "bar_color": null,
            "description_width": ""
          }
        },
        "8c3232a26f15432983090ef17553ba60": {
          "model_module": "@jupyter-widgets/base",
          "model_name": "LayoutModel",
          "model_module_version": "1.2.0",
          "state": {
            "_model_module": "@jupyter-widgets/base",
            "_model_module_version": "1.2.0",
            "_model_name": "LayoutModel",
            "_view_count": null,
            "_view_module": "@jupyter-widgets/base",
            "_view_module_version": "1.2.0",
            "_view_name": "LayoutView",
            "align_content": null,
            "align_items": null,
            "align_self": null,
            "border": null,
            "bottom": null,
            "display": null,
            "flex": null,
            "flex_flow": null,
            "grid_area": null,
            "grid_auto_columns": null,
            "grid_auto_flow": null,
            "grid_auto_rows": null,
            "grid_column": null,
            "grid_gap": null,
            "grid_row": null,
            "grid_template_areas": null,
            "grid_template_columns": null,
            "grid_template_rows": null,
            "height": null,
            "justify_content": null,
            "justify_items": null,
            "left": null,
            "margin": null,
            "max_height": null,
            "max_width": null,
            "min_height": null,
            "min_width": null,
            "object_fit": null,
            "object_position": null,
            "order": null,
            "overflow": null,
            "overflow_x": null,
            "overflow_y": null,
            "padding": null,
            "right": null,
            "top": null,
            "visibility": null,
            "width": null
          }
        },
        "2d466e3d80704ea78469f1fde67e5384": {
          "model_module": "@jupyter-widgets/controls",
          "model_name": "DescriptionStyleModel",
          "model_module_version": "1.5.0",
          "state": {
            "_model_module": "@jupyter-widgets/controls",
            "_model_module_version": "1.5.0",
            "_model_name": "DescriptionStyleModel",
            "_view_count": null,
            "_view_module": "@jupyter-widgets/base",
            "_view_module_version": "1.2.0",
            "_view_name": "StyleView",
            "description_width": ""
          }
        },
        "602fcb6124974118831ce1830d7f072e": {
          "model_module": "@jupyter-widgets/controls",
          "model_name": "HBoxModel",
          "model_module_version": "1.5.0",
          "state": {
            "_dom_classes": [],
            "_model_module": "@jupyter-widgets/controls",
            "_model_module_version": "1.5.0",
            "_model_name": "HBoxModel",
            "_view_count": null,
            "_view_module": "@jupyter-widgets/controls",
            "_view_module_version": "1.5.0",
            "_view_name": "HBoxView",
            "box_style": "",
            "children": [
              "IPY_MODEL_d25b86501f794230b9e32541852a529c",
              "IPY_MODEL_cdbe3da3bf47481f97dcc71c26bd357a",
              "IPY_MODEL_1440f7f9e8ee46b5b45ef57dfe1d91c9"
            ],
            "layout": "IPY_MODEL_5e7043113c574e0980a600c45f31029b"
          }
        },
        "d25b86501f794230b9e32541852a529c": {
          "model_module": "@jupyter-widgets/controls",
          "model_name": "HTMLModel",
          "model_module_version": "1.5.0",
          "state": {
            "_dom_classes": [],
            "_model_module": "@jupyter-widgets/controls",
            "_model_module_version": "1.5.0",
            "_model_name": "HTMLModel",
            "_view_count": null,
            "_view_module": "@jupyter-widgets/controls",
            "_view_module_version": "1.5.0",
            "_view_name": "HTMLView",
            "description": "",
            "description_tooltip": null,
            "layout": "IPY_MODEL_7e86e291ba924d829decf7535d3ac65b",
            "placeholder": "​",
            "style": "IPY_MODEL_8e6455edeede4029a8dec4d00daea832",
            "value": "Downloading (…)ve/main/spiece.model: 100%"
          }
        },
        "cdbe3da3bf47481f97dcc71c26bd357a": {
          "model_module": "@jupyter-widgets/controls",
          "model_name": "FloatProgressModel",
          "model_module_version": "1.5.0",
          "state": {
            "_dom_classes": [],
            "_model_module": "@jupyter-widgets/controls",
            "_model_module_version": "1.5.0",
            "_model_name": "FloatProgressModel",
            "_view_count": null,
            "_view_module": "@jupyter-widgets/controls",
            "_view_module_version": "1.5.0",
            "_view_name": "ProgressView",
            "bar_style": "success",
            "description": "",
            "description_tooltip": null,
            "layout": "IPY_MODEL_2b2c7bc9eb704cd788fbbff926331c99",
            "max": 791656,
            "min": 0,
            "orientation": "horizontal",
            "style": "IPY_MODEL_4e5ec34dd37d448ea36ce2daa21002ae",
            "value": 791656
          }
        },
        "1440f7f9e8ee46b5b45ef57dfe1d91c9": {
          "model_module": "@jupyter-widgets/controls",
          "model_name": "HTMLModel",
          "model_module_version": "1.5.0",
          "state": {
            "_dom_classes": [],
            "_model_module": "@jupyter-widgets/controls",
            "_model_module_version": "1.5.0",
            "_model_name": "HTMLModel",
            "_view_count": null,
            "_view_module": "@jupyter-widgets/controls",
            "_view_module_version": "1.5.0",
            "_view_name": "HTMLView",
            "description": "",
            "description_tooltip": null,
            "layout": "IPY_MODEL_61b2e4fd9b654d889349d6edb6df232b",
            "placeholder": "​",
            "style": "IPY_MODEL_ec4ef050d9a647aca10fae70a6cd01ff",
            "value": " 792k/792k [00:00&lt;00:00, 7.77MB/s]"
          }
        },
        "5e7043113c574e0980a600c45f31029b": {
          "model_module": "@jupyter-widgets/base",
          "model_name": "LayoutModel",
          "model_module_version": "1.2.0",
          "state": {
            "_model_module": "@jupyter-widgets/base",
            "_model_module_version": "1.2.0",
            "_model_name": "LayoutModel",
            "_view_count": null,
            "_view_module": "@jupyter-widgets/base",
            "_view_module_version": "1.2.0",
            "_view_name": "LayoutView",
            "align_content": null,
            "align_items": null,
            "align_self": null,
            "border": null,
            "bottom": null,
            "display": null,
            "flex": null,
            "flex_flow": null,
            "grid_area": null,
            "grid_auto_columns": null,
            "grid_auto_flow": null,
            "grid_auto_rows": null,
            "grid_column": null,
            "grid_gap": null,
            "grid_row": null,
            "grid_template_areas": null,
            "grid_template_columns": null,
            "grid_template_rows": null,
            "height": null,
            "justify_content": null,
            "justify_items": null,
            "left": null,
            "margin": null,
            "max_height": null,
            "max_width": null,
            "min_height": null,
            "min_width": null,
            "object_fit": null,
            "object_position": null,
            "order": null,
            "overflow": null,
            "overflow_x": null,
            "overflow_y": null,
            "padding": null,
            "right": null,
            "top": null,
            "visibility": null,
            "width": null
          }
        },
        "7e86e291ba924d829decf7535d3ac65b": {
          "model_module": "@jupyter-widgets/base",
          "model_name": "LayoutModel",
          "model_module_version": "1.2.0",
          "state": {
            "_model_module": "@jupyter-widgets/base",
            "_model_module_version": "1.2.0",
            "_model_name": "LayoutModel",
            "_view_count": null,
            "_view_module": "@jupyter-widgets/base",
            "_view_module_version": "1.2.0",
            "_view_name": "LayoutView",
            "align_content": null,
            "align_items": null,
            "align_self": null,
            "border": null,
            "bottom": null,
            "display": null,
            "flex": null,
            "flex_flow": null,
            "grid_area": null,
            "grid_auto_columns": null,
            "grid_auto_flow": null,
            "grid_auto_rows": null,
            "grid_column": null,
            "grid_gap": null,
            "grid_row": null,
            "grid_template_areas": null,
            "grid_template_columns": null,
            "grid_template_rows": null,
            "height": null,
            "justify_content": null,
            "justify_items": null,
            "left": null,
            "margin": null,
            "max_height": null,
            "max_width": null,
            "min_height": null,
            "min_width": null,
            "object_fit": null,
            "object_position": null,
            "order": null,
            "overflow": null,
            "overflow_x": null,
            "overflow_y": null,
            "padding": null,
            "right": null,
            "top": null,
            "visibility": null,
            "width": null
          }
        },
        "8e6455edeede4029a8dec4d00daea832": {
          "model_module": "@jupyter-widgets/controls",
          "model_name": "DescriptionStyleModel",
          "model_module_version": "1.5.0",
          "state": {
            "_model_module": "@jupyter-widgets/controls",
            "_model_module_version": "1.5.0",
            "_model_name": "DescriptionStyleModel",
            "_view_count": null,
            "_view_module": "@jupyter-widgets/base",
            "_view_module_version": "1.2.0",
            "_view_name": "StyleView",
            "description_width": ""
          }
        },
        "2b2c7bc9eb704cd788fbbff926331c99": {
          "model_module": "@jupyter-widgets/base",
          "model_name": "LayoutModel",
          "model_module_version": "1.2.0",
          "state": {
            "_model_module": "@jupyter-widgets/base",
            "_model_module_version": "1.2.0",
            "_model_name": "LayoutModel",
            "_view_count": null,
            "_view_module": "@jupyter-widgets/base",
            "_view_module_version": "1.2.0",
            "_view_name": "LayoutView",
            "align_content": null,
            "align_items": null,
            "align_self": null,
            "border": null,
            "bottom": null,
            "display": null,
            "flex": null,
            "flex_flow": null,
            "grid_area": null,
            "grid_auto_columns": null,
            "grid_auto_flow": null,
            "grid_auto_rows": null,
            "grid_column": null,
            "grid_gap": null,
            "grid_row": null,
            "grid_template_areas": null,
            "grid_template_columns": null,
            "grid_template_rows": null,
            "height": null,
            "justify_content": null,
            "justify_items": null,
            "left": null,
            "margin": null,
            "max_height": null,
            "max_width": null,
            "min_height": null,
            "min_width": null,
            "object_fit": null,
            "object_position": null,
            "order": null,
            "overflow": null,
            "overflow_x": null,
            "overflow_y": null,
            "padding": null,
            "right": null,
            "top": null,
            "visibility": null,
            "width": null
          }
        },
        "4e5ec34dd37d448ea36ce2daa21002ae": {
          "model_module": "@jupyter-widgets/controls",
          "model_name": "ProgressStyleModel",
          "model_module_version": "1.5.0",
          "state": {
            "_model_module": "@jupyter-widgets/controls",
            "_model_module_version": "1.5.0",
            "_model_name": "ProgressStyleModel",
            "_view_count": null,
            "_view_module": "@jupyter-widgets/base",
            "_view_module_version": "1.2.0",
            "_view_name": "StyleView",
            "bar_color": null,
            "description_width": ""
          }
        },
        "61b2e4fd9b654d889349d6edb6df232b": {
          "model_module": "@jupyter-widgets/base",
          "model_name": "LayoutModel",
          "model_module_version": "1.2.0",
          "state": {
            "_model_module": "@jupyter-widgets/base",
            "_model_module_version": "1.2.0",
            "_model_name": "LayoutModel",
            "_view_count": null,
            "_view_module": "@jupyter-widgets/base",
            "_view_module_version": "1.2.0",
            "_view_name": "LayoutView",
            "align_content": null,
            "align_items": null,
            "align_self": null,
            "border": null,
            "bottom": null,
            "display": null,
            "flex": null,
            "flex_flow": null,
            "grid_area": null,
            "grid_auto_columns": null,
            "grid_auto_flow": null,
            "grid_auto_rows": null,
            "grid_column": null,
            "grid_gap": null,
            "grid_row": null,
            "grid_template_areas": null,
            "grid_template_columns": null,
            "grid_template_rows": null,
            "height": null,
            "justify_content": null,
            "justify_items": null,
            "left": null,
            "margin": null,
            "max_height": null,
            "max_width": null,
            "min_height": null,
            "min_width": null,
            "object_fit": null,
            "object_position": null,
            "order": null,
            "overflow": null,
            "overflow_x": null,
            "overflow_y": null,
            "padding": null,
            "right": null,
            "top": null,
            "visibility": null,
            "width": null
          }
        },
        "ec4ef050d9a647aca10fae70a6cd01ff": {
          "model_module": "@jupyter-widgets/controls",
          "model_name": "DescriptionStyleModel",
          "model_module_version": "1.5.0",
          "state": {
            "_model_module": "@jupyter-widgets/controls",
            "_model_module_version": "1.5.0",
            "_model_name": "DescriptionStyleModel",
            "_view_count": null,
            "_view_module": "@jupyter-widgets/base",
            "_view_module_version": "1.2.0",
            "_view_name": "StyleView",
            "description_width": ""
          }
        },
        "f08631fecacc4041900bf95fc95ab40d": {
          "model_module": "@jupyter-widgets/controls",
          "model_name": "HBoxModel",
          "model_module_version": "1.5.0",
          "state": {
            "_dom_classes": [],
            "_model_module": "@jupyter-widgets/controls",
            "_model_module_version": "1.5.0",
            "_model_name": "HBoxModel",
            "_view_count": null,
            "_view_module": "@jupyter-widgets/controls",
            "_view_module_version": "1.5.0",
            "_view_name": "HBoxView",
            "box_style": "",
            "children": [
              "IPY_MODEL_c4b40b92b0594ee98e61270d226e6ecb",
              "IPY_MODEL_754f01fb88dd4075b3f732ad13126212",
              "IPY_MODEL_3fbefcbdb10c4b838bb13548924700af"
            ],
            "layout": "IPY_MODEL_46a1c7117b6045dca00eab10ab73ce31"
          }
        },
        "c4b40b92b0594ee98e61270d226e6ecb": {
          "model_module": "@jupyter-widgets/controls",
          "model_name": "HTMLModel",
          "model_module_version": "1.5.0",
          "state": {
            "_dom_classes": [],
            "_model_module": "@jupyter-widgets/controls",
            "_model_module_version": "1.5.0",
            "_model_name": "HTMLModel",
            "_view_count": null,
            "_view_module": "@jupyter-widgets/controls",
            "_view_module_version": "1.5.0",
            "_view_name": "HTMLView",
            "description": "",
            "description_tooltip": null,
            "layout": "IPY_MODEL_7f80babf383d4d22b1afe46a7fd02831",
            "placeholder": "​",
            "style": "IPY_MODEL_33431542b1d047af8b4a239f357c7248",
            "value": "Downloading (…)/main/tokenizer.json: 100%"
          }
        },
        "754f01fb88dd4075b3f732ad13126212": {
          "model_module": "@jupyter-widgets/controls",
          "model_name": "FloatProgressModel",
          "model_module_version": "1.5.0",
          "state": {
            "_dom_classes": [],
            "_model_module": "@jupyter-widgets/controls",
            "_model_module_version": "1.5.0",
            "_model_name": "FloatProgressModel",
            "_view_count": null,
            "_view_module": "@jupyter-widgets/controls",
            "_view_module_version": "1.5.0",
            "_view_name": "ProgressView",
            "bar_style": "success",
            "description": "",
            "description_tooltip": null,
            "layout": "IPY_MODEL_2b9d65eabb8841b2ab861d65c0c65ff6",
            "max": 1389353,
            "min": 0,
            "orientation": "horizontal",
            "style": "IPY_MODEL_07525e168265407b995fee9b6515f375",
            "value": 1389353
          }
        },
        "3fbefcbdb10c4b838bb13548924700af": {
          "model_module": "@jupyter-widgets/controls",
          "model_name": "HTMLModel",
          "model_module_version": "1.5.0",
          "state": {
            "_dom_classes": [],
            "_model_module": "@jupyter-widgets/controls",
            "_model_module_version": "1.5.0",
            "_model_name": "HTMLModel",
            "_view_count": null,
            "_view_module": "@jupyter-widgets/controls",
            "_view_module_version": "1.5.0",
            "_view_name": "HTMLView",
            "description": "",
            "description_tooltip": null,
            "layout": "IPY_MODEL_5dca7ea43d4f4f7f9c4371cdebf17649",
            "placeholder": "​",
            "style": "IPY_MODEL_b07fdc3e6c2e4ad2ac0d0886fa8bdb72",
            "value": " 1.39M/1.39M [00:00&lt;00:00, 12.3MB/s]"
          }
        },
        "46a1c7117b6045dca00eab10ab73ce31": {
          "model_module": "@jupyter-widgets/base",
          "model_name": "LayoutModel",
          "model_module_version": "1.2.0",
          "state": {
            "_model_module": "@jupyter-widgets/base",
            "_model_module_version": "1.2.0",
            "_model_name": "LayoutModel",
            "_view_count": null,
            "_view_module": "@jupyter-widgets/base",
            "_view_module_version": "1.2.0",
            "_view_name": "LayoutView",
            "align_content": null,
            "align_items": null,
            "align_self": null,
            "border": null,
            "bottom": null,
            "display": null,
            "flex": null,
            "flex_flow": null,
            "grid_area": null,
            "grid_auto_columns": null,
            "grid_auto_flow": null,
            "grid_auto_rows": null,
            "grid_column": null,
            "grid_gap": null,
            "grid_row": null,
            "grid_template_areas": null,
            "grid_template_columns": null,
            "grid_template_rows": null,
            "height": null,
            "justify_content": null,
            "justify_items": null,
            "left": null,
            "margin": null,
            "max_height": null,
            "max_width": null,
            "min_height": null,
            "min_width": null,
            "object_fit": null,
            "object_position": null,
            "order": null,
            "overflow": null,
            "overflow_x": null,
            "overflow_y": null,
            "padding": null,
            "right": null,
            "top": null,
            "visibility": null,
            "width": null
          }
        },
        "7f80babf383d4d22b1afe46a7fd02831": {
          "model_module": "@jupyter-widgets/base",
          "model_name": "LayoutModel",
          "model_module_version": "1.2.0",
          "state": {
            "_model_module": "@jupyter-widgets/base",
            "_model_module_version": "1.2.0",
            "_model_name": "LayoutModel",
            "_view_count": null,
            "_view_module": "@jupyter-widgets/base",
            "_view_module_version": "1.2.0",
            "_view_name": "LayoutView",
            "align_content": null,
            "align_items": null,
            "align_self": null,
            "border": null,
            "bottom": null,
            "display": null,
            "flex": null,
            "flex_flow": null,
            "grid_area": null,
            "grid_auto_columns": null,
            "grid_auto_flow": null,
            "grid_auto_rows": null,
            "grid_column": null,
            "grid_gap": null,
            "grid_row": null,
            "grid_template_areas": null,
            "grid_template_columns": null,
            "grid_template_rows": null,
            "height": null,
            "justify_content": null,
            "justify_items": null,
            "left": null,
            "margin": null,
            "max_height": null,
            "max_width": null,
            "min_height": null,
            "min_width": null,
            "object_fit": null,
            "object_position": null,
            "order": null,
            "overflow": null,
            "overflow_x": null,
            "overflow_y": null,
            "padding": null,
            "right": null,
            "top": null,
            "visibility": null,
            "width": null
          }
        },
        "33431542b1d047af8b4a239f357c7248": {
          "model_module": "@jupyter-widgets/controls",
          "model_name": "DescriptionStyleModel",
          "model_module_version": "1.5.0",
          "state": {
            "_model_module": "@jupyter-widgets/controls",
            "_model_module_version": "1.5.0",
            "_model_name": "DescriptionStyleModel",
            "_view_count": null,
            "_view_module": "@jupyter-widgets/base",
            "_view_module_version": "1.2.0",
            "_view_name": "StyleView",
            "description_width": ""
          }
        },
        "2b9d65eabb8841b2ab861d65c0c65ff6": {
          "model_module": "@jupyter-widgets/base",
          "model_name": "LayoutModel",
          "model_module_version": "1.2.0",
          "state": {
            "_model_module": "@jupyter-widgets/base",
            "_model_module_version": "1.2.0",
            "_model_name": "LayoutModel",
            "_view_count": null,
            "_view_module": "@jupyter-widgets/base",
            "_view_module_version": "1.2.0",
            "_view_name": "LayoutView",
            "align_content": null,
            "align_items": null,
            "align_self": null,
            "border": null,
            "bottom": null,
            "display": null,
            "flex": null,
            "flex_flow": null,
            "grid_area": null,
            "grid_auto_columns": null,
            "grid_auto_flow": null,
            "grid_auto_rows": null,
            "grid_column": null,
            "grid_gap": null,
            "grid_row": null,
            "grid_template_areas": null,
            "grid_template_columns": null,
            "grid_template_rows": null,
            "height": null,
            "justify_content": null,
            "justify_items": null,
            "left": null,
            "margin": null,
            "max_height": null,
            "max_width": null,
            "min_height": null,
            "min_width": null,
            "object_fit": null,
            "object_position": null,
            "order": null,
            "overflow": null,
            "overflow_x": null,
            "overflow_y": null,
            "padding": null,
            "right": null,
            "top": null,
            "visibility": null,
            "width": null
          }
        },
        "07525e168265407b995fee9b6515f375": {
          "model_module": "@jupyter-widgets/controls",
          "model_name": "ProgressStyleModel",
          "model_module_version": "1.5.0",
          "state": {
            "_model_module": "@jupyter-widgets/controls",
            "_model_module_version": "1.5.0",
            "_model_name": "ProgressStyleModel",
            "_view_count": null,
            "_view_module": "@jupyter-widgets/base",
            "_view_module_version": "1.2.0",
            "_view_name": "StyleView",
            "bar_color": null,
            "description_width": ""
          }
        },
        "5dca7ea43d4f4f7f9c4371cdebf17649": {
          "model_module": "@jupyter-widgets/base",
          "model_name": "LayoutModel",
          "model_module_version": "1.2.0",
          "state": {
            "_model_module": "@jupyter-widgets/base",
            "_model_module_version": "1.2.0",
            "_model_name": "LayoutModel",
            "_view_count": null,
            "_view_module": "@jupyter-widgets/base",
            "_view_module_version": "1.2.0",
            "_view_name": "LayoutView",
            "align_content": null,
            "align_items": null,
            "align_self": null,
            "border": null,
            "bottom": null,
            "display": null,
            "flex": null,
            "flex_flow": null,
            "grid_area": null,
            "grid_auto_columns": null,
            "grid_auto_flow": null,
            "grid_auto_rows": null,
            "grid_column": null,
            "grid_gap": null,
            "grid_row": null,
            "grid_template_areas": null,
            "grid_template_columns": null,
            "grid_template_rows": null,
            "height": null,
            "justify_content": null,
            "justify_items": null,
            "left": null,
            "margin": null,
            "max_height": null,
            "max_width": null,
            "min_height": null,
            "min_width": null,
            "object_fit": null,
            "object_position": null,
            "order": null,
            "overflow": null,
            "overflow_x": null,
            "overflow_y": null,
            "padding": null,
            "right": null,
            "top": null,
            "visibility": null,
            "width": null
          }
        },
        "b07fdc3e6c2e4ad2ac0d0886fa8bdb72": {
          "model_module": "@jupyter-widgets/controls",
          "model_name": "DescriptionStyleModel",
          "model_module_version": "1.5.0",
          "state": {
            "_model_module": "@jupyter-widgets/controls",
            "_model_module_version": "1.5.0",
            "_model_name": "DescriptionStyleModel",
            "_view_count": null,
            "_view_module": "@jupyter-widgets/base",
            "_view_module_version": "1.2.0",
            "_view_name": "StyleView",
            "description_width": ""
          }
        }
      }
    }
  },
  "cells": [
    {
      "cell_type": "markdown",
      "source": [
        "# WordNet\n",
        "Lexical database   \n",
        "Synsets = sets of cognitive synonyms   \n",
        "Relations of synsets: (hyperonymy, hyponymy and ISA relations)\n",
        "\n",
        "[Homepage](https://wordnet.princeton.edu/)\n",
        "\n",
        "## Using NLTK to handle WordNet"
      ],
      "metadata": {
        "id": "bskwO63Lwwox"
      }
    },
    {
      "cell_type": "code",
      "execution_count": null,
      "metadata": {
        "id": "LstVMaXTo9ja",
        "outputId": "6979300a-e6be-455a-e800-ef077e2f55a5",
        "colab": {
          "base_uri": "https://localhost:8080/"
        }
      },
      "outputs": [
        {
          "output_type": "stream",
          "name": "stderr",
          "text": [
            "[nltk_data] Downloading package wordnet to /root/nltk_data...\n",
            "[nltk_data] Downloading package omw-1.4 to /root/nltk_data...\n"
          ]
        },
        {
          "output_type": "execute_result",
          "data": {
            "text/plain": [
              "True"
            ]
          },
          "metadata": {},
          "execution_count": 1
        }
      ],
      "source": [
        "from nltk.corpus import wordnet as wn\n",
        "import nltk\n",
        "import locale\n",
        "locale.getpreferredencoding = lambda: \"UTF-8\"\n",
        "\n",
        "nltk.download('wordnet')\n",
        "nltk.download('omw-1.4')"
      ]
    },
    {
      "cell_type": "code",
      "source": [
        "#Looking up a word\n",
        "sets = wn.synsets(\"language\")\n",
        "print(sets)"
      ],
      "metadata": {
        "id": "N_tgZ0e5xo1e",
        "outputId": "0d6a92ee-4b5d-40f0-fa7b-26fbc04de67a",
        "colab": {
          "base_uri": "https://localhost:8080/"
        }
      },
      "execution_count": null,
      "outputs": [
        {
          "output_type": "stream",
          "name": "stdout",
          "text": [
            "[Synset('language.n.01'), Synset('speech.n.02'), Synset('lyric.n.01'), Synset('linguistic_process.n.02'), Synset('language.n.05'), Synset('terminology.n.01')]\n"
          ]
        }
      ]
    },
    {
      "cell_type": "code",
      "source": [
        "#Specify POS\n",
        "\n",
        "sets = wn.synsets(\"lock\", wn.VERB)\n",
        "print(sets)"
      ],
      "metadata": {
        "id": "V8zh0gVSzsBF",
        "colab": {
          "base_uri": "https://localhost:8080/"
        },
        "outputId": "de7d0791-9f29-4fd2-c972-7f0f4e5bbba5"
      },
      "execution_count": null,
      "outputs": [
        {
          "output_type": "stream",
          "name": "stdout",
          "text": [
            "[Synset('lock.n.01'), Synset('lock.n.02'), Synset('lock.n.03'), Synset('lock.n.04'), Synset('lock.n.05'), Synset('lock.n.06')]\n"
          ]
        }
      ]
    },
    {
      "cell_type": "code",
      "source": [
        "#Analyze synsets and lemmas\n",
        "sets = wn.synsets(\"language\")\n",
        "for synset in sets:\n",
        "  print(synset.definition().ljust(90), synset.examples()[0])\n",
        "  lemmas=synset.lemmas()\n",
        "  for lemma in lemmas:\n",
        "    print(str(lemma.name()), lemma.count(), end=\", \")\n",
        "  print(\"\\n\")"
      ],
      "metadata": {
        "id": "K-JPwphvx1UM",
        "colab": {
          "base_uri": "https://localhost:8080/"
        },
        "outputId": "da750286-1a0b-42b1-9308-f49e00a49073"
      },
      "execution_count": null,
      "outputs": [
        {
          "output_type": "stream",
          "name": "stdout",
          "text": [
            "a systematic means of communicating by the use of sounds or conventional symbols           he taught foreign languages\n",
            "language 48, linguistic_communication 0, \n",
            "\n",
            "(language) communication by word of mouth                                                  his speech was garbled\n",
            "speech 7, speech_communication 0, spoken_communication 0, spoken_language 2, language 5, voice_communication 0, oral_communication 0, \n",
            "\n",
            "the text of a popular song or musical-comedy number                                        his compositions always started with the lyrics\n",
            "lyric 12, words 8, language 2, \n",
            "\n",
            "the cognitive processes involved in producing and understanding linguistic communication   he didn't have the language to express his feelings\n",
            "linguistic_process 0, language 1, \n",
            "\n",
            "the mental faculty or power of vocal communication                                         language sets homo sapiens apart from all other animals\n",
            "language 1, speech 0, \n",
            "\n",
            "a system of words used to name things in a particular discipline                           legal terminology\n",
            "terminology 2, nomenclature 0, language 0, \n",
            "\n"
          ]
        }
      ]
    },
    {
      "cell_type": "code",
      "source": [
        "# Multi-language support\n",
        "nltk.download('omw')\n",
        "\n",
        "wn.langs()"
      ],
      "metadata": {
        "id": "UlsmTShFyFQL",
        "colab": {
          "base_uri": "https://localhost:8080/"
        },
        "outputId": "9c43adf7-5b76-4cae-db7d-80685eaeb8fb"
      },
      "execution_count": null,
      "outputs": [
        {
          "output_type": "stream",
          "name": "stderr",
          "text": [
            "[nltk_data] Downloading package omw to /root/nltk_data...\n"
          ]
        },
        {
          "output_type": "execute_result",
          "data": {
            "text/plain": [
              "['eng']"
            ]
          },
          "metadata": {},
          "execution_count": 10
        }
      ]
    },
    {
      "cell_type": "code",
      "source": [
        "wn.synset('police.n.01').lemma_names('spa')"
      ],
      "metadata": {
        "id": "f1INMAnN00kL",
        "colab": {
          "base_uri": "https://localhost:8080/"
        },
        "outputId": "b431d6d9-1611-4ecb-a3e2-38c0b475f502"
      },
      "execution_count": null,
      "outputs": [
        {
          "output_type": "execute_result",
          "data": {
            "text/plain": [
              "['guardia', 'policía']"
            ]
          },
          "metadata": {},
          "execution_count": 20
        }
      ]
    },
    {
      "cell_type": "code",
      "source": [
        "wn.synset('police.n.01').lemma_names('jpn')"
      ],
      "metadata": {
        "id": "mVMaDaPT0mRo",
        "colab": {
          "base_uri": "https://localhost:8080/"
        },
        "outputId": "37b74b12-ff81-46aa-920e-a7a528885fbb"
      },
      "execution_count": null,
      "outputs": [
        {
          "output_type": "execute_result",
          "data": {
            "text/plain": [
              "['お回り',\n",
              " 'お巡り',\n",
              " 'さつ',\n",
              " 'その筋',\n",
              " 'サツ',\n",
              " 'ポリス',\n",
              " '其の筋',\n",
              " '其筋',\n",
              " '刑事警察',\n",
              " '官憲',\n",
              " '察',\n",
              " '巡査',\n",
              " '御回',\n",
              " '御回り',\n",
              " '御巡',\n",
              " '御巡り',\n",
              " '警官',\n",
              " '警官隊',\n",
              " '警察',\n",
              " '警察当局',\n",
              " '警察隊']"
            ]
          },
          "metadata": {},
          "execution_count": 23
        }
      ]
    },
    {
      "cell_type": "markdown",
      "source": [
        "## Easier access with morphy\n",
        "Utilizes ending rules and exceptions for lemmatization"
      ],
      "metadata": {
        "id": "wl3PZ34j3RWJ"
      }
    },
    {
      "cell_type": "code",
      "source": [
        "wn.morphy('locking', pos=wn.NOUN)"
      ],
      "metadata": {
        "id": "DDawrzfH3RGb",
        "colab": {
          "base_uri": "https://localhost:8080/",
          "height": 35
        },
        "outputId": "00584b98-c6f8-48a5-d892-9da38fc20598"
      },
      "execution_count": null,
      "outputs": [
        {
          "output_type": "execute_result",
          "data": {
            "text/plain": [
              "'locking'"
            ],
            "application/vnd.google.colaboratory.intrinsic+json": {
              "type": "string"
            }
          },
          "metadata": {},
          "execution_count": 24
        }
      ]
    },
    {
      "cell_type": "code",
      "source": [
        "wn.morphy('locking', pos=wn.VERB)"
      ],
      "metadata": {
        "id": "o5r85Wcy3v5J",
        "colab": {
          "base_uri": "https://localhost:8080/",
          "height": 35
        },
        "outputId": "3dfb0453-d2e3-4333-d13c-e946fb8ebb1a"
      },
      "execution_count": null,
      "outputs": [
        {
          "output_type": "execute_result",
          "data": {
            "text/plain": [
              "'lock'"
            ],
            "application/vnd.google.colaboratory.intrinsic+json": {
              "type": "string"
            }
          },
          "metadata": {},
          "execution_count": 25
        }
      ]
    },
    {
      "cell_type": "code",
      "source": [
        "wn.synsets(\"locking\")"
      ],
      "metadata": {
        "id": "QCEvTg071SGh",
        "colab": {
          "base_uri": "https://localhost:8080/"
        },
        "outputId": "8b2f8994-8fc5-40eb-8275-da37abd8c81b"
      },
      "execution_count": null,
      "outputs": [
        {
          "output_type": "execute_result",
          "data": {
            "text/plain": [
              "[Synset('locking.n.01'),\n",
              " Synset('lock.v.01'),\n",
              " Synset('engage.v.10'),\n",
              " Synset('lock.v.03'),\n",
              " Synset('lock.v.04'),\n",
              " Synset('interlock.v.03'),\n",
              " Synset('lock.v.06'),\n",
              " Synset('lock_in.v.02'),\n",
              " Synset('lock.v.08'),\n",
              " Synset('lock.v.09')]"
            ]
          },
          "metadata": {},
          "execution_count": 26
        }
      ]
    },
    {
      "cell_type": "markdown",
      "source": [
        "## Antonyms and synonyms\n",
        "\n"
      ],
      "metadata": {
        "id": "bLfPcoJY56Ov"
      }
    },
    {
      "cell_type": "code",
      "source": [
        "cold = wn.synset(\"cold.a.01\").lemmas()[0]\n",
        "print(cold.name())\n",
        "print([lemma.name() for lemma in cold.antonyms()])"
      ],
      "metadata": {
        "id": "0-AhLktw5587",
        "colab": {
          "base_uri": "https://localhost:8080/"
        },
        "outputId": "3755ae1c-794d-48db-f6f1-9eb7c7aa191e"
      },
      "execution_count": null,
      "outputs": [
        {
          "output_type": "stream",
          "name": "stdout",
          "text": [
            "cold\n",
            "['hot']\n"
          ]
        }
      ]
    },
    {
      "cell_type": "code",
      "source": [
        "#Pertainyms -> pertain \n",
        "synset = wn.synset(\"lingual.a.01\").lemmas()[0]\n",
        "print(synset.name())\n",
        "print([lemma.name() for lemma in synset.pertainyms()])"
      ],
      "metadata": {
        "id": "rAp2Ohru5sOq",
        "colab": {
          "base_uri": "https://localhost:8080/"
        },
        "outputId": "df46b894-27a5-4d61-c0da-b97d7f3ab8f9"
      },
      "execution_count": null,
      "outputs": [
        {
          "output_type": "stream",
          "name": "stdout",
          "text": [
            "linguistic\n",
            "['language']\n"
          ]
        }
      ]
    },
    {
      "cell_type": "code",
      "source": [
        "wn.synsets(\"pertain\")"
      ],
      "metadata": {
        "id": "l9AjB7VUBXmo",
        "colab": {
          "base_uri": "https://localhost:8080/"
        },
        "outputId": "e4c8f62e-e295-4bbc-808f-06d1b0e177fe"
      },
      "execution_count": null,
      "outputs": [
        {
          "output_type": "execute_result",
          "data": {
            "text/plain": [
              "[Synset('refer.v.02'), Synset('pertain.v.02')]"
            ]
          },
          "metadata": {},
          "execution_count": 34
        }
      ]
    },
    {
      "cell_type": "code",
      "source": [
        "wn.lemma(\"icy.a.01.frigid\").derivationally_related_forms()"
      ],
      "metadata": {
        "id": "l9KOqhd5Agam",
        "colab": {
          "base_uri": "https://localhost:8080/"
        },
        "outputId": "60f2e3bb-5f0c-4e02-a532-e8d3bf858a7a"
      },
      "execution_count": null,
      "outputs": [
        {
          "output_type": "execute_result",
          "data": {
            "text/plain": [
              "[Lemma('coldness.n.02.frigidness'), Lemma('coldness.n.02.frigidity')]"
            ]
          },
          "metadata": {},
          "execution_count": 38
        }
      ]
    },
    {
      "cell_type": "code",
      "source": [
        "#Synonyms\n",
        "set([lemma.name() for synset in wn.synsets(\"icy\") for lemma in synset.lemmas()])"
      ],
      "metadata": {
        "id": "zx967CQZCWnj",
        "colab": {
          "base_uri": "https://localhost:8080/"
        },
        "outputId": "048d0e13-912c-4d0e-88ae-fb36e4130a96"
      },
      "execution_count": null,
      "outputs": [
        {
          "output_type": "execute_result",
          "data": {
            "text/plain": [
              "{'arctic',\n",
              " 'frigid',\n",
              " 'frosty',\n",
              " 'frozen',\n",
              " 'gelid',\n",
              " 'glacial',\n",
              " 'icy',\n",
              " 'polar',\n",
              " 'wintry'}"
            ]
          },
          "metadata": {},
          "execution_count": 40
        }
      ]
    },
    {
      "cell_type": "markdown",
      "source": [
        "## Synset relations\n",
        "\n",
        "<img src=\"https://upload.wikimedia.org/wikipedia/commons/thumb/b/b4/Hyponym_and_hypernym.svg/1200px-Hyponym_and_hypernym.svg.png\" width=60%>"
      ],
      "metadata": {
        "id": "-yJXRfZA3-wz"
      }
    },
    {
      "cell_type": "code",
      "source": [
        "dog = wn.synset(\"dog.n.01\")\n",
        "dog.hypernyms()"
      ],
      "metadata": {
        "id": "rxg_Nlo83zpp",
        "colab": {
          "base_uri": "https://localhost:8080/"
        },
        "outputId": "4e9ea18c-75c2-4793-8476-4c5a78ce686f"
      },
      "execution_count": null,
      "outputs": [
        {
          "output_type": "execute_result",
          "data": {
            "text/plain": [
              "[Synset('canine.n.02'), Synset('domestic_animal.n.01')]"
            ]
          },
          "metadata": {},
          "execution_count": 41
        }
      ]
    },
    {
      "cell_type": "code",
      "source": [
        "wn.synset(\"domestic_animal.n.01\").hyponyms()"
      ],
      "metadata": {
        "id": "51F0ql395jiU",
        "colab": {
          "base_uri": "https://localhost:8080/"
        },
        "outputId": "aae4204f-de76-43c1-fbc3-a5c369350c57"
      },
      "execution_count": null,
      "outputs": [
        {
          "output_type": "execute_result",
          "data": {
            "text/plain": [
              "[Synset('dog.n.01'),\n",
              " Synset('domestic_cat.n.01'),\n",
              " Synset('feeder.n.01'),\n",
              " Synset('head.n.02'),\n",
              " Synset('stocker.n.01'),\n",
              " Synset('stray.n.01')]"
            ]
          },
          "metadata": {},
          "execution_count": 49
        }
      ]
    },
    {
      "cell_type": "code",
      "source": [
        "#Member holonyms: Name of a group populated with synset members (holonym = \"whole\"+\"name\")\n",
        "wn.synset(\"tree.n.01\").member_holonyms()"
      ],
      "metadata": {
        "id": "ccW_lmZu6ycI",
        "colab": {
          "base_uri": "https://localhost:8080/"
        },
        "outputId": "c52ab7c7-7bc2-439d-8b5e-085fc5fcba20"
      },
      "execution_count": null,
      "outputs": [
        {
          "output_type": "execute_result",
          "data": {
            "text/plain": [
              "[Synset('forest.n.01')]"
            ]
          },
          "metadata": {},
          "execution_count": 52
        }
      ]
    },
    {
      "cell_type": "code",
      "source": [
        "#Member meronyms: The things the synset consists of (meronym = \"part\"+\"name\")\n",
        "wn.synset(\"forest.n.01\").member_meronyms()"
      ],
      "metadata": {
        "id": "pN4CBovv7iem",
        "colab": {
          "base_uri": "https://localhost:8080/"
        },
        "outputId": "3487fe6c-14c5-4676-fd41-72a19ac22310"
      },
      "execution_count": null,
      "outputs": [
        {
          "output_type": "execute_result",
          "data": {
            "text/plain": [
              "[Synset('tree.n.01'), Synset('underbrush.n.01')]"
            ]
          },
          "metadata": {},
          "execution_count": 58
        }
      ]
    },
    {
      "cell_type": "code",
      "source": [
        "wn.synset(\"tree.n.01\").part_meronyms()"
      ],
      "metadata": {
        "id": "WFMAGwKR8vRK",
        "colab": {
          "base_uri": "https://localhost:8080/"
        },
        "outputId": "51a1f5a2-0e4b-42f0-94ad-2a24efb851c2"
      },
      "execution_count": null,
      "outputs": [
        {
          "output_type": "execute_result",
          "data": {
            "text/plain": [
              "[Synset('burl.n.02'),\n",
              " Synset('crown.n.07'),\n",
              " Synset('limb.n.02'),\n",
              " Synset('stump.n.01'),\n",
              " Synset('trunk.n.01')]"
            ]
          },
          "metadata": {},
          "execution_count": 61
        }
      ]
    },
    {
      "cell_type": "code",
      "source": [
        "wn.synset(\"coffee.n.01\").substance_meronyms()"
      ],
      "metadata": {
        "id": "gMoL2rql9Fn0",
        "colab": {
          "base_uri": "https://localhost:8080/"
        },
        "outputId": "78af731e-f4b6-49e8-d11e-22ea3fa01314"
      },
      "execution_count": null,
      "outputs": [
        {
          "output_type": "execute_result",
          "data": {
            "text/plain": [
              "[Synset('caffeine.n.01'), Synset('coffee_bean.n.01')]"
            ]
          },
          "metadata": {},
          "execution_count": 64
        }
      ]
    },
    {
      "cell_type": "code",
      "source": [
        "wn.synset('computer.n.01').lowest_common_hypernyms(wn.synset('robot.n.01'))"
      ],
      "metadata": {
        "id": "aGI_3ZUgDcgY",
        "colab": {
          "base_uri": "https://localhost:8080/"
        },
        "outputId": "2564a16e-cc9c-41dc-f5ab-53f065b00352"
      },
      "execution_count": null,
      "outputs": [
        {
          "output_type": "execute_result",
          "data": {
            "text/plain": [
              "[Synset('device.n.01')]"
            ]
          },
          "metadata": {},
          "execution_count": 65
        }
      ]
    },
    {
      "cell_type": "code",
      "source": [
        "wn.synset('tree.n.01').root_hypernyms()"
      ],
      "metadata": {
        "id": "TVHAoGmAECjM",
        "colab": {
          "base_uri": "https://localhost:8080/"
        },
        "outputId": "49f4d1e2-0c33-4aed-c755-bdeb70562ed9"
      },
      "execution_count": null,
      "outputs": [
        {
          "output_type": "execute_result",
          "data": {
            "text/plain": [
              "[Synset('entity.n.01')]"
            ]
          },
          "metadata": {},
          "execution_count": 71
        }
      ]
    },
    {
      "cell_type": "markdown",
      "source": [
        "## Distance in the taxonomy tree"
      ],
      "metadata": {
        "id": "s1t2AxysEXIa"
      }
    },
    {
      "cell_type": "code",
      "source": [
        "computer = wn.synset('computer.n.01')\n",
        "machine = wn.synset('machine.n.01')\n",
        "apple = wn.synset('apple.n.01')"
      ],
      "metadata": {
        "id": "z1iSySAAEGkC"
      },
      "execution_count": null,
      "outputs": []
    },
    {
      "cell_type": "code",
      "source": [
        "computer.path_similarity(machine)"
      ],
      "metadata": {
        "id": "gqCumb9RC326",
        "colab": {
          "base_uri": "https://localhost:8080/"
        },
        "outputId": "d1512978-e804-42fb-b447-3d7a3df2a9cf"
      },
      "execution_count": null,
      "outputs": [
        {
          "output_type": "execute_result",
          "data": {
            "text/plain": [
              "0.5"
            ]
          },
          "metadata": {},
          "execution_count": 83
        }
      ]
    },
    {
      "cell_type": "code",
      "source": [
        "computer.path_similarity(apple)"
      ],
      "metadata": {
        "id": "xwW51exVExJS",
        "colab": {
          "base_uri": "https://localhost:8080/"
        },
        "outputId": "0529e7fc-a621-47d9-9e3d-4f2504f5e45d"
      },
      "execution_count": null,
      "outputs": [
        {
          "output_type": "execute_result",
          "data": {
            "text/plain": [
              "0.07692307692307693"
            ]
          },
          "metadata": {},
          "execution_count": 84
        }
      ]
    },
    {
      "cell_type": "code",
      "source": [
        "machine.path_similarity(apple)"
      ],
      "metadata": {
        "id": "MfQeCDTtEzuZ",
        "colab": {
          "base_uri": "https://localhost:8080/"
        },
        "outputId": "17c86f3c-d41b-4730-b5c0-7f21271dcebc"
      },
      "execution_count": null,
      "outputs": [
        {
          "output_type": "execute_result",
          "data": {
            "text/plain": [
              "0.08333333333333333"
            ]
          },
          "metadata": {},
          "execution_count": 85
        }
      ]
    },
    {
      "cell_type": "markdown",
      "source": [
        "Leacock-Chodorow Similarity:   \n",
        "The relationship is given as -log(p/2d) where p is the shortest path length and d the taxonomy depth."
      ],
      "metadata": {
        "id": "12LWAxdxFKCQ"
      }
    },
    {
      "cell_type": "code",
      "source": [
        "computer.lch_similarity(machine)"
      ],
      "metadata": {
        "id": "FH09HO1KFUhW",
        "colab": {
          "base_uri": "https://localhost:8080/"
        },
        "outputId": "b57e4f91-06ab-4c21-e13e-e31e881ed04b"
      },
      "execution_count": null,
      "outputs": [
        {
          "output_type": "execute_result",
          "data": {
            "text/plain": [
              "2.9444389791664407"
            ]
          },
          "metadata": {},
          "execution_count": 86
        }
      ]
    },
    {
      "cell_type": "code",
      "source": [
        "computer.lch_similarity(apple)"
      ],
      "metadata": {
        "id": "mUKtsNWPFB6f",
        "colab": {
          "base_uri": "https://localhost:8080/"
        },
        "outputId": "e9961182-9ae9-453d-af72-ace8b225d412"
      },
      "execution_count": null,
      "outputs": [
        {
          "output_type": "execute_result",
          "data": {
            "text/plain": [
              "1.072636802264849"
            ]
          },
          "metadata": {},
          "execution_count": 87
        }
      ]
    },
    {
      "cell_type": "code",
      "source": [
        "machine.lch_similarity(apple)"
      ],
      "metadata": {
        "id": "xkFgmeINFbz9",
        "colab": {
          "base_uri": "https://localhost:8080/"
        },
        "outputId": "6fb8569e-affc-4044-e336-e1fea551bd5c"
      },
      "execution_count": null,
      "outputs": [
        {
          "output_type": "execute_result",
          "data": {
            "text/plain": [
              "1.1526795099383855"
            ]
          },
          "metadata": {},
          "execution_count": 88
        }
      ]
    },
    {
      "cell_type": "markdown",
      "source": [
        "# AMR (Abstract Meaning Representation)\n",
        "\n",
        "- semantic representation language\n",
        "- directed acyclic graphs\n",
        "- abstract nodes of semantics\n",
        "- abstract relations\n",
        "- equivalent to logical formal languages\n",
        "\n",
        "Generated using (typically graph-based deep learning-based) parsers.\n",
        "\n",
        "Example from wiki:   \n",
        "<img src=\"https://wikimedia.org/api/rest_v1/media/math/render/svg/aa09d9486ebbe2b7ea839a0574e095a92504da8d\">   \n",
        "\n",
        "(w / want-01   \n",
        "- :arg0 (b / boy)\n",
        "- :arg1 (g / go-01\n",
        " -    :arg0 b))\n"
      ],
      "metadata": {
        "id": "rpILuy0mFjF7"
      }
    },
    {
      "cell_type": "code",
      "source": [
        "def download_from_drive(link, filename):\n",
        "  id = link.split(\"/\")[-2]\n",
        "  !wget --load-cookies /tmp/cookies.txt \"https://docs.google.com/uc?export=download&confirm=$(wget --quiet --save-cookies /tmp/cookies.txt --keep-session-cookies --no-check-certificate 'https://docs.google.com/uc?export=download&id={id}' -O- | sed -rn 's/.*confirm=([0-9A-Za-z_]+).*/\\1\\n/p')&id={id}\" -O {\"/content/\"+filename+\".rar\"} && rm -rf /tmp/cookies.txt\n",
        "  !unrar x -Y {\"/content/\"+filename+\".rar\"} {\"/content/\"+filename+\"/\"}\n",
        "\n",
        "download_from_drive(\"https://drive.google.com/file/d/15JrK2IY2aaq1sxp_H19-FnAvdW8lbCst/view?usp=sharing\", \"data\")"
      ],
      "metadata": {
        "id": "EazJd8c7Fe-3",
        "colab": {
          "base_uri": "https://localhost:8080/"
        },
        "outputId": "2c085bbe-301d-454b-e846-1ac2212c2dce"
      },
      "execution_count": null,
      "outputs": [
        {
          "output_type": "stream",
          "name": "stdout",
          "text": [
            "--2023-05-02 14:04:28--  https://docs.google.com/uc?export=download&confirm=t&id=15JrK2IY2aaq1sxp_H19-FnAvdW8lbCst\n",
            "Resolving docs.google.com (docs.google.com)... 142.251.120.139, 142.251.120.102, 142.251.120.101, ...\n",
            "Connecting to docs.google.com (docs.google.com)|142.251.120.139|:443... connected.\n",
            "HTTP request sent, awaiting response... 303 See Other\n",
            "Location: https://doc-14-2k-docs.googleusercontent.com/docs/securesc/ha0ro937gcuc7l7deffksulhg5h7mbp1/skd2g9eqefajussdc4sikbbjobb4oefi/1683036225000/01308971736394707036/*/15JrK2IY2aaq1sxp_H19-FnAvdW8lbCst?e=download&uuid=5fdb36ce-546d-4606-b1a4-5a82e892e8c5 [following]\n",
            "Warning: wildcards not supported in HTTP.\n",
            "--2023-05-02 14:04:28--  https://doc-14-2k-docs.googleusercontent.com/docs/securesc/ha0ro937gcuc7l7deffksulhg5h7mbp1/skd2g9eqefajussdc4sikbbjobb4oefi/1683036225000/01308971736394707036/*/15JrK2IY2aaq1sxp_H19-FnAvdW8lbCst?e=download&uuid=5fdb36ce-546d-4606-b1a4-5a82e892e8c5\n",
            "Resolving doc-14-2k-docs.googleusercontent.com (doc-14-2k-docs.googleusercontent.com)... 74.125.132.132, 2607:f8b0:4001:c00::84\n",
            "Connecting to doc-14-2k-docs.googleusercontent.com (doc-14-2k-docs.googleusercontent.com)|74.125.132.132|:443... connected.\n",
            "HTTP request sent, awaiting response... 200 OK\n",
            "Length: 2784768180 (2.6G) [application/rar]\n",
            "Saving to: ‘/content/data.rar’\n",
            "\n",
            "/content/data.rar   100%[===================>]   2.59G   110MB/s    in 29s     \n",
            "\n",
            "2023-05-02 14:04:57 (92.0 MB/s) - ‘/content/data.rar’ saved [2784768180/2784768180]\n",
            "\n",
            "\n",
            "UNRAR 5.61 beta 1 freeware      Copyright (c) 1993-2018 Alexander Roshal\n",
            "\n",
            "\n",
            "Extracting from /content/data.rar\n",
            "\n",
            "Creating    /content/data                                             OK\n",
            "Creating    /content/data/model_stog                                  OK\n",
            "Extracting  /content/data/model_stog/amrlib_meta.json                    \b\b\b\b  0%\b\b\b\b\b  OK \n",
            "Extracting  /content/data/model_stog/config.json                         \b\b\b\b  0%\b\b\b\b\b  OK \n",
            "Extracting  /content/data/model_stog/pytorch_model.bin                   \b\b\b\b  0%\b\b\b\b  1%\b\b\b\b  2%\b\b\b\b  3%\b\b\b\b  4%\b\b\b\b  5%\b\b\b\b  6%\b\b\b\b  7%\b\b\b\b  8%\b\b\b\b  9%\b\b\b\b 10%\b\b\b\b 11%\b\b\b\b 12%\b\b\b\b 13%\b\b\b\b 14%\b\b\b\b 15%\b\b\b\b 16%\b\b\b\b 17%\b\b\b\b 18%\b\b\b\b 19%\b\b\b\b 20%\b\b\b\b 21%\b\b\b\b 22%\b\b\b\b 23%\b\b\b\b 24%\b\b\b\b 25%\b\b\b\b 26%\b\b\b\b 27%\b\b\b\b 28%\b\b\b\b 29%\b\b\b\b\b  OK \n",
            "Extracting  /content/data/model_stog/training_args.bin                   \b\b\b\b 29%\b\b\b\b\b  OK \n",
            "Extracting  /content/data/huwiki.1.tsv                                   \b\b\b\b 29%\b\b\b\b 30%\b\b\b\b\b  OK \n",
            "Creating    /content/data/model_gtos                                  OK\n",
            "Extracting  /content/data/model_gtos/amrlib_meta.json                    \b\b\b\b 30%\b\b\b\b\b  OK \n",
            "Extracting  /content/data/model_gtos/config.json                         \b\b\b\b 30%\b\b\b\b\b  OK \n",
            "Extracting  /content/data/model_gtos/pytorch_model.bin                   \b\b\b\b 30%\b\b\b\b 31%\b\b\b\b 32%\b\b\b\b 33%\b\b\b\b 34%\b\b\b\b 35%\b\b\b\b 36%\b\b\b\b 37%\b\b\b\b 38%\b\b\b\b 39%\b\b\b\b 40%\b\b\b\b 41%\b\b\b\b 42%\b\b\b\b 43%\b\b\b\b 44%\b\b\b\b 45%\b\b\b\b 46%\b\b\b\b 47%\b\b\b\b 48%\b\b\b\b 49%\b\b\b\b 50%\b\b\b\b 51%\b\b\b\b 52%\b\b\b\b 53%\b\b\b\b 54%\b\b\b\b 55%\b\b\b\b 56%\b\b\b\b 57%\b\b\b\b 58%\b\b\b\b 59%\b\b\b\b 60%\b\b\b\b\b  OK \n",
            "Extracting  /content/data/model_gtos/training_args.bin                   \b\b\b\b 60%\b\b\b\b\b  OK \n",
            "Creating    /content/data/training_1_pretrained                       OK\n",
            "Extracting  /content/data/training_1_pretrained/checkpoint               \b\b\b\b 60%\b\b\b\b\b  OK \n",
            "Extracting  /content/data/training_1_pretrained/cp.ckpt.data-00000-of-00001     \b\b\b\b 60%\b\b\b\b 61%\b\b\b\b 62%\b\b\b\b 63%\b\b\b\b 64%\b\b\b\b 65%\b\b\b\b 66%\b\b\b\b 67%\b\b\b\b 68%\b\b\b\b 69%\b\b\b\b 70%\b\b\b\b 71%\b\b\b\b 72%\b\b\b\b 73%\b\b\b\b 74%\b\b\b\b 75%\b\b\b\b 76%\b\b\b\b 77%\b\b\b\b 78%\b\b\b\b 79%\b\b\b\b 80%\b\b\b\b 81%\b\b\b\b 82%\b\b\b\b 83%\b\b\b\b 84%\b\b\b\b 85%\b\b\b\b 86%\b\b\b\b 87%\b\b\b\b 88%\b\b\b\b 89%\b\b\b\b 90%\b\b\b\b 91%\b\b\b\b 92%\b\b\b\b 93%\b\b\b\b 94%\b\b\b\b 95%\b\b\b\b 96%\b\b\b\b 97%\b\b\b\b 98%\b\b\b\b 99%\b\b\b\b\b  OK \n",
            "Extracting  /content/data/training_1_pretrained/cp.ckpt.index            \b\b\b\b 99%\b\b\b\b\b  OK \n",
            "Extracting  /content/data/newdata.csv                                    \b\b\b\b 99%\b\b\b\b\b  OK \n",
            "All OK\n"
          ]
        }
      ]
    },
    {
      "cell_type": "code",
      "source": [],
      "metadata": {
        "id": "0_S9GvID9Yai"
      },
      "execution_count": null,
      "outputs": []
    },
    {
      "cell_type": "code",
      "source": [
        "!git clone https://github.com/bjascob/amrlib\n",
        "\n",
        "\n",
        "!pip install -r amrlib/requirements.txt\n",
        "!pip install amrlib\n",
        "!pip install sentencepiece\n",
        "\n",
        "%mkdir /usr/local/lib/python3.10/dist-packages/amrlib/data\n",
        "%mv /content/data/model_gtos \"/usr/local/lib/python3.10/dist-packages/amrlib/data/model_gtos\"\n",
        "%mv /content/data/model_stog \"/usr/local/lib/python3.10/dist-packages/amrlib/data/model_stog\""
      ],
      "metadata": {
        "id": "GKgqe2t7Jant",
        "colab": {
          "base_uri": "https://localhost:8080/"
        },
        "outputId": "e980da86-230f-4cad-9166-35883e7f3b71"
      },
      "execution_count": null,
      "outputs": [
        {
          "output_type": "stream",
          "name": "stdout",
          "text": [
            "Cloning into 'amrlib'...\n",
            "remote: Enumerating objects: 1259, done.\u001b[K\n",
            "remote: Counting objects: 100% (63/63), done.\u001b[K\n",
            "remote: Compressing objects: 100% (50/50), done.\u001b[K\n",
            "remote: Total 1259 (delta 25), reused 32 (delta 13), pack-reused 1196\u001b[K\n",
            "Receiving objects: 100% (1259/1259), 948.91 KiB | 8.25 MiB/s, done.\n",
            "Resolving deltas: 100% (801/801), done.\n",
            "Looking in indexes: https://pypi.org/simple, https://us-python.pkg.dev/colab-wheels/public/simple/\n",
            "Collecting penman>=1.1.0 (from -r amrlib/requirements.txt (line 3))\n",
            "  Downloading Penman-1.2.2-py3-none-any.whl (43 kB)\n",
            "\u001b[2K     \u001b[90m━━━━━━━━━━━━━━━━━━━━━━━━━━━━━━━━━━━━━━━━\u001b[0m \u001b[32m43.4/43.4 kB\u001b[0m \u001b[31m2.6 MB/s\u001b[0m eta \u001b[36m0:00:00\u001b[0m\n",
            "\u001b[?25hRequirement already satisfied: torch>=1.6 in /usr/local/lib/python3.10/dist-packages (from -r amrlib/requirements.txt (line 4)) (2.0.0+cu118)\n",
            "Requirement already satisfied: numpy in /usr/local/lib/python3.10/dist-packages (from -r amrlib/requirements.txt (line 5)) (1.22.4)\n",
            "Requirement already satisfied: spacy>=2.0 in /usr/local/lib/python3.10/dist-packages (from -r amrlib/requirements.txt (line 6)) (3.5.2)\n",
            "Requirement already satisfied: tqdm in /usr/local/lib/python3.10/dist-packages (from -r amrlib/requirements.txt (line 7)) (4.65.0)\n",
            "Collecting transformers>=4.16 (from -r amrlib/requirements.txt (line 8))\n",
            "  Downloading transformers-4.28.1-py3-none-any.whl (7.0 MB)\n",
            "\u001b[2K     \u001b[90m━━━━━━━━━━━━━━━━━━━━━━━━━━━━━━━━━━━━━━━━\u001b[0m \u001b[32m7.0/7.0 MB\u001b[0m \u001b[31m60.9 MB/s\u001b[0m eta \u001b[36m0:00:00\u001b[0m\n",
            "\u001b[?25hCollecting smatch (from -r amrlib/requirements.txt (line 9))\n",
            "  Downloading smatch-1.0.4.tar.gz (26 kB)\n",
            "  Installing build dependencies ... \u001b[?25l\u001b[?25hdone\n",
            "  Getting requirements to build wheel ... \u001b[?25l\u001b[?25hdone\n",
            "  Preparing metadata (pyproject.toml) ... \u001b[?25l\u001b[?25hdone\n",
            "Requirement already satisfied: cached_property in /usr/local/lib/python3.10/dist-packages (from -r amrlib/requirements.txt (line 12)) (1.5.2)\n",
            "Requirement already satisfied: networkx in /usr/local/lib/python3.10/dist-packages (from -r amrlib/requirements.txt (line 13)) (3.1)\n",
            "Collecting PyQt5 (from -r amrlib/requirements.txt (line 16))\n",
            "  Downloading PyQt5-5.15.9-cp37-abi3-manylinux_2_17_x86_64.whl (8.4 MB)\n",
            "\u001b[2K     \u001b[90m━━━━━━━━━━━━━━━━━━━━━━━━━━━━━━━━━━━━━━━━\u001b[0m \u001b[32m8.4/8.4 MB\u001b[0m \u001b[31m76.5 MB/s\u001b[0m eta \u001b[36m0:00:00\u001b[0m\n",
            "\u001b[?25hRequirement already satisfied: graphviz in /usr/local/lib/python3.10/dist-packages (from -r amrlib/requirements.txt (line 17)) (0.20.1)\n",
            "Requirement already satisfied: nltk in /usr/local/lib/python3.10/dist-packages (from -r amrlib/requirements.txt (line 20)) (3.8.1)\n",
            "Collecting unidecode (from -r amrlib/requirements.txt (line 23))\n",
            "  Downloading Unidecode-1.3.6-py3-none-any.whl (235 kB)\n",
            "\u001b[2K     \u001b[90m━━━━━━━━━━━━━━━━━━━━━━━━━━━━━━━━━━━━━━\u001b[0m \u001b[32m235.9/235.9 kB\u001b[0m \u001b[31m23.0 MB/s\u001b[0m eta \u001b[36m0:00:00\u001b[0m\n",
            "\u001b[?25hRequirement already satisfied: requests in /usr/local/lib/python3.10/dist-packages (from -r amrlib/requirements.txt (line 24)) (2.27.1)\n",
            "Collecting word2number (from -r amrlib/requirements.txt (line 25))\n",
            "  Downloading word2number-1.1.zip (9.7 kB)\n",
            "  Preparing metadata (setup.py) ... \u001b[?25l\u001b[?25hdone\n",
            "Requirement already satisfied: filelock in /usr/local/lib/python3.10/dist-packages (from torch>=1.6->-r amrlib/requirements.txt (line 4)) (3.12.0)\n",
            "Requirement already satisfied: typing-extensions in /usr/local/lib/python3.10/dist-packages (from torch>=1.6->-r amrlib/requirements.txt (line 4)) (4.5.0)\n",
            "Requirement already satisfied: sympy in /usr/local/lib/python3.10/dist-packages (from torch>=1.6->-r amrlib/requirements.txt (line 4)) (1.11.1)\n",
            "Requirement already satisfied: jinja2 in /usr/local/lib/python3.10/dist-packages (from torch>=1.6->-r amrlib/requirements.txt (line 4)) (3.1.2)\n",
            "Requirement already satisfied: triton==2.0.0 in /usr/local/lib/python3.10/dist-packages (from torch>=1.6->-r amrlib/requirements.txt (line 4)) (2.0.0)\n",
            "Requirement already satisfied: cmake in /usr/local/lib/python3.10/dist-packages (from triton==2.0.0->torch>=1.6->-r amrlib/requirements.txt (line 4)) (3.25.2)\n",
            "Requirement already satisfied: lit in /usr/local/lib/python3.10/dist-packages (from triton==2.0.0->torch>=1.6->-r amrlib/requirements.txt (line 4)) (16.0.2)\n",
            "Requirement already satisfied: spacy-legacy<3.1.0,>=3.0.11 in /usr/local/lib/python3.10/dist-packages (from spacy>=2.0->-r amrlib/requirements.txt (line 6)) (3.0.12)\n",
            "Requirement already satisfied: spacy-loggers<2.0.0,>=1.0.0 in /usr/local/lib/python3.10/dist-packages (from spacy>=2.0->-r amrlib/requirements.txt (line 6)) (1.0.4)\n",
            "Requirement already satisfied: murmurhash<1.1.0,>=0.28.0 in /usr/local/lib/python3.10/dist-packages (from spacy>=2.0->-r amrlib/requirements.txt (line 6)) (1.0.9)\n",
            "Requirement already satisfied: cymem<2.1.0,>=2.0.2 in /usr/local/lib/python3.10/dist-packages (from spacy>=2.0->-r amrlib/requirements.txt (line 6)) (2.0.7)\n",
            "Requirement already satisfied: preshed<3.1.0,>=3.0.2 in /usr/local/lib/python3.10/dist-packages (from spacy>=2.0->-r amrlib/requirements.txt (line 6)) (3.0.8)\n",
            "Requirement already satisfied: thinc<8.2.0,>=8.1.8 in /usr/local/lib/python3.10/dist-packages (from spacy>=2.0->-r amrlib/requirements.txt (line 6)) (8.1.9)\n",
            "Requirement already satisfied: wasabi<1.2.0,>=0.9.1 in /usr/local/lib/python3.10/dist-packages (from spacy>=2.0->-r amrlib/requirements.txt (line 6)) (1.1.1)\n",
            "Requirement already satisfied: srsly<3.0.0,>=2.4.3 in /usr/local/lib/python3.10/dist-packages (from spacy>=2.0->-r amrlib/requirements.txt (line 6)) (2.4.6)\n",
            "Requirement already satisfied: catalogue<2.1.0,>=2.0.6 in /usr/local/lib/python3.10/dist-packages (from spacy>=2.0->-r amrlib/requirements.txt (line 6)) (2.0.8)\n",
            "Requirement already satisfied: typer<0.8.0,>=0.3.0 in /usr/local/lib/python3.10/dist-packages (from spacy>=2.0->-r amrlib/requirements.txt (line 6)) (0.7.0)\n",
            "Requirement already satisfied: pathy>=0.10.0 in /usr/local/lib/python3.10/dist-packages (from spacy>=2.0->-r amrlib/requirements.txt (line 6)) (0.10.1)\n",
            "Requirement already satisfied: smart-open<7.0.0,>=5.2.1 in /usr/local/lib/python3.10/dist-packages (from spacy>=2.0->-r amrlib/requirements.txt (line 6)) (6.3.0)\n",
            "Requirement already satisfied: pydantic!=1.8,!=1.8.1,<1.11.0,>=1.7.4 in /usr/local/lib/python3.10/dist-packages (from spacy>=2.0->-r amrlib/requirements.txt (line 6)) (1.10.7)\n",
            "Requirement already satisfied: setuptools in /usr/local/lib/python3.10/dist-packages (from spacy>=2.0->-r amrlib/requirements.txt (line 6)) (67.7.2)\n",
            "Requirement already satisfied: packaging>=20.0 in /usr/local/lib/python3.10/dist-packages (from spacy>=2.0->-r amrlib/requirements.txt (line 6)) (23.1)\n",
            "Requirement already satisfied: langcodes<4.0.0,>=3.2.0 in /usr/local/lib/python3.10/dist-packages (from spacy>=2.0->-r amrlib/requirements.txt (line 6)) (3.3.0)\n",
            "Collecting huggingface-hub<1.0,>=0.11.0 (from transformers>=4.16->-r amrlib/requirements.txt (line 8))\n",
            "  Downloading huggingface_hub-0.14.1-py3-none-any.whl (224 kB)\n",
            "\u001b[2K     \u001b[90m━━━━━━━━━━━━━━━━━━━━━━━━━━━━━━━━━━━━━━\u001b[0m \u001b[32m224.5/224.5 kB\u001b[0m \u001b[31m28.4 MB/s\u001b[0m eta \u001b[36m0:00:00\u001b[0m\n",
            "\u001b[?25hRequirement already satisfied: pyyaml>=5.1 in /usr/local/lib/python3.10/dist-packages (from transformers>=4.16->-r amrlib/requirements.txt (line 8)) (6.0)\n",
            "Requirement already satisfied: regex!=2019.12.17 in /usr/local/lib/python3.10/dist-packages (from transformers>=4.16->-r amrlib/requirements.txt (line 8)) (2022.10.31)\n",
            "Collecting tokenizers!=0.11.3,<0.14,>=0.11.1 (from transformers>=4.16->-r amrlib/requirements.txt (line 8))\n",
            "  Downloading tokenizers-0.13.3-cp310-cp310-manylinux_2_17_x86_64.manylinux2014_x86_64.whl (7.8 MB)\n",
            "\u001b[2K     \u001b[90m━━━━━━━━━━━━━━━━━━━━━━━━━━━━━━━━━━━━━━━━\u001b[0m \u001b[32m7.8/7.8 MB\u001b[0m \u001b[31m108.0 MB/s\u001b[0m eta \u001b[36m0:00:00\u001b[0m\n",
            "\u001b[?25hCollecting PyQt5-sip<13,>=12.11 (from PyQt5->-r amrlib/requirements.txt (line 16))\n",
            "  Downloading PyQt5_sip-12.12.1-cp310-cp310-manylinux_2_5_x86_64.manylinux1_x86_64.whl (360 kB)\n",
            "\u001b[2K     \u001b[90m━━━━━━━━━━━━━━━━━━━━━━━━━━━━━━━━━━━━━━\u001b[0m \u001b[32m360.5/360.5 kB\u001b[0m \u001b[31m38.9 MB/s\u001b[0m eta \u001b[36m0:00:00\u001b[0m\n",
            "\u001b[?25hCollecting PyQt5-Qt5>=5.15.2 (from PyQt5->-r amrlib/requirements.txt (line 16))\n",
            "  Downloading PyQt5_Qt5-5.15.2-py3-none-manylinux2014_x86_64.whl (59.9 MB)\n",
            "\u001b[2K     \u001b[90m━━━━━━━━━━━━━━━━━━━━━━━━━━━━━━━━━━━━━━━━\u001b[0m \u001b[32m59.9/59.9 MB\u001b[0m \u001b[31m15.5 MB/s\u001b[0m eta \u001b[36m0:00:00\u001b[0m\n",
            "\u001b[?25hRequirement already satisfied: click in /usr/local/lib/python3.10/dist-packages (from nltk->-r amrlib/requirements.txt (line 20)) (8.1.3)\n",
            "Requirement already satisfied: joblib in /usr/local/lib/python3.10/dist-packages (from nltk->-r amrlib/requirements.txt (line 20)) (1.2.0)\n",
            "Requirement already satisfied: urllib3<1.27,>=1.21.1 in /usr/local/lib/python3.10/dist-packages (from requests->-r amrlib/requirements.txt (line 24)) (1.26.15)\n",
            "Requirement already satisfied: certifi>=2017.4.17 in /usr/local/lib/python3.10/dist-packages (from requests->-r amrlib/requirements.txt (line 24)) (2022.12.7)\n",
            "Requirement already satisfied: charset-normalizer~=2.0.0 in /usr/local/lib/python3.10/dist-packages (from requests->-r amrlib/requirements.txt (line 24)) (2.0.12)\n",
            "Requirement already satisfied: idna<4,>=2.5 in /usr/local/lib/python3.10/dist-packages (from requests->-r amrlib/requirements.txt (line 24)) (3.4)\n",
            "Requirement already satisfied: fsspec in /usr/local/lib/python3.10/dist-packages (from huggingface-hub<1.0,>=0.11.0->transformers>=4.16->-r amrlib/requirements.txt (line 8)) (2023.4.0)\n",
            "Requirement already satisfied: blis<0.8.0,>=0.7.8 in /usr/local/lib/python3.10/dist-packages (from thinc<8.2.0,>=8.1.8->spacy>=2.0->-r amrlib/requirements.txt (line 6)) (0.7.9)\n",
            "Requirement already satisfied: confection<1.0.0,>=0.0.1 in /usr/local/lib/python3.10/dist-packages (from thinc<8.2.0,>=8.1.8->spacy>=2.0->-r amrlib/requirements.txt (line 6)) (0.0.4)\n",
            "Requirement already satisfied: MarkupSafe>=2.0 in /usr/local/lib/python3.10/dist-packages (from jinja2->torch>=1.6->-r amrlib/requirements.txt (line 4)) (2.1.2)\n",
            "Requirement already satisfied: mpmath>=0.19 in /usr/local/lib/python3.10/dist-packages (from sympy->torch>=1.6->-r amrlib/requirements.txt (line 4)) (1.3.0)\n",
            "Building wheels for collected packages: smatch, word2number\n",
            "  Building wheel for smatch (pyproject.toml) ... \u001b[?25l\u001b[?25hdone\n",
            "  Created wheel for smatch: filename=smatch-1.0.4-py3-none-any.whl size=24067 sha256=394293caaaa80eea19623453f01e043dcf9dd86934469bdb0373dad9f5585e5a\n",
            "  Stored in directory: /root/.cache/pip/wheels/2a/5e/2d/61b88bc74b337fbf3e998b9aa6b43bec72227e18a84a8335e8\n",
            "  Building wheel for word2number (setup.py) ... \u001b[?25l\u001b[?25hdone\n",
            "  Created wheel for word2number: filename=word2number-1.1-py3-none-any.whl size=5582 sha256=ed47163f663591232b3a6da72cc8d5a74b8ef5d83b43c2e5bae6b64b74defb99\n",
            "  Stored in directory: /root/.cache/pip/wheels/84/ff/26/d3cfbd971e96c5aa3737ecfced81628830d7359b55fbb8ca3b\n",
            "Successfully built smatch word2number\n",
            "Installing collected packages: word2number, tokenizers, smatch, PyQt5-Qt5, penman, unidecode, PyQt5-sip, PyQt5, huggingface-hub, transformers\n",
            "Successfully installed PyQt5-5.15.9 PyQt5-Qt5-5.15.2 PyQt5-sip-12.12.1 huggingface-hub-0.14.1 penman-1.2.2 smatch-1.0.4 tokenizers-0.13.3 transformers-4.28.1 unidecode-1.3.6 word2number-1.1\n",
            "Looking in indexes: https://pypi.org/simple, https://us-python.pkg.dev/colab-wheels/public/simple/\n",
            "Collecting amrlib\n",
            "  Downloading amrlib-0.7.1-py3-none-any.whl (354 kB)\n",
            "\u001b[2K     \u001b[90m━━━━━━━━━━━━━━━━━━━━━━━━━━━━━━━━━━━━━━━\u001b[0m \u001b[32m354.2/354.2 kB\u001b[0m \u001b[31m6.7 MB/s\u001b[0m eta \u001b[36m0:00:00\u001b[0m\n",
            "\u001b[?25hRequirement already satisfied: numpy in /usr/local/lib/python3.10/dist-packages (from amrlib) (1.22.4)\n",
            "Requirement already satisfied: penman>=1.1.0 in /usr/local/lib/python3.10/dist-packages (from amrlib) (1.2.2)\n",
            "Requirement already satisfied: smatch in /usr/local/lib/python3.10/dist-packages (from amrlib) (1.0.4)\n",
            "Requirement already satisfied: spacy>=2.0 in /usr/local/lib/python3.10/dist-packages (from amrlib) (3.5.2)\n",
            "Requirement already satisfied: torch>=1.6 in /usr/local/lib/python3.10/dist-packages (from amrlib) (2.0.0+cu118)\n",
            "Requirement already satisfied: tqdm in /usr/local/lib/python3.10/dist-packages (from amrlib) (4.65.0)\n",
            "Requirement already satisfied: transformers>=3.0 in /usr/local/lib/python3.10/dist-packages (from amrlib) (4.28.1)\n",
            "Requirement already satisfied: spacy-legacy<3.1.0,>=3.0.11 in /usr/local/lib/python3.10/dist-packages (from spacy>=2.0->amrlib) (3.0.12)\n",
            "Requirement already satisfied: spacy-loggers<2.0.0,>=1.0.0 in /usr/local/lib/python3.10/dist-packages (from spacy>=2.0->amrlib) (1.0.4)\n",
            "Requirement already satisfied: murmurhash<1.1.0,>=0.28.0 in /usr/local/lib/python3.10/dist-packages (from spacy>=2.0->amrlib) (1.0.9)\n",
            "Requirement already satisfied: cymem<2.1.0,>=2.0.2 in /usr/local/lib/python3.10/dist-packages (from spacy>=2.0->amrlib) (2.0.7)\n",
            "Requirement already satisfied: preshed<3.1.0,>=3.0.2 in /usr/local/lib/python3.10/dist-packages (from spacy>=2.0->amrlib) (3.0.8)\n",
            "Requirement already satisfied: thinc<8.2.0,>=8.1.8 in /usr/local/lib/python3.10/dist-packages (from spacy>=2.0->amrlib) (8.1.9)\n",
            "Requirement already satisfied: wasabi<1.2.0,>=0.9.1 in /usr/local/lib/python3.10/dist-packages (from spacy>=2.0->amrlib) (1.1.1)\n",
            "Requirement already satisfied: srsly<3.0.0,>=2.4.3 in /usr/local/lib/python3.10/dist-packages (from spacy>=2.0->amrlib) (2.4.6)\n",
            "Requirement already satisfied: catalogue<2.1.0,>=2.0.6 in /usr/local/lib/python3.10/dist-packages (from spacy>=2.0->amrlib) (2.0.8)\n",
            "Requirement already satisfied: typer<0.8.0,>=0.3.0 in /usr/local/lib/python3.10/dist-packages (from spacy>=2.0->amrlib) (0.7.0)\n",
            "Requirement already satisfied: pathy>=0.10.0 in /usr/local/lib/python3.10/dist-packages (from spacy>=2.0->amrlib) (0.10.1)\n",
            "Requirement already satisfied: smart-open<7.0.0,>=5.2.1 in /usr/local/lib/python3.10/dist-packages (from spacy>=2.0->amrlib) (6.3.0)\n",
            "Requirement already satisfied: requests<3.0.0,>=2.13.0 in /usr/local/lib/python3.10/dist-packages (from spacy>=2.0->amrlib) (2.27.1)\n",
            "Requirement already satisfied: pydantic!=1.8,!=1.8.1,<1.11.0,>=1.7.4 in /usr/local/lib/python3.10/dist-packages (from spacy>=2.0->amrlib) (1.10.7)\n",
            "Requirement already satisfied: jinja2 in /usr/local/lib/python3.10/dist-packages (from spacy>=2.0->amrlib) (3.1.2)\n",
            "Requirement already satisfied: setuptools in /usr/local/lib/python3.10/dist-packages (from spacy>=2.0->amrlib) (67.7.2)\n",
            "Requirement already satisfied: packaging>=20.0 in /usr/local/lib/python3.10/dist-packages (from spacy>=2.0->amrlib) (23.1)\n",
            "Requirement already satisfied: langcodes<4.0.0,>=3.2.0 in /usr/local/lib/python3.10/dist-packages (from spacy>=2.0->amrlib) (3.3.0)\n",
            "Requirement already satisfied: filelock in /usr/local/lib/python3.10/dist-packages (from torch>=1.6->amrlib) (3.12.0)\n",
            "Requirement already satisfied: typing-extensions in /usr/local/lib/python3.10/dist-packages (from torch>=1.6->amrlib) (4.5.0)\n",
            "Requirement already satisfied: sympy in /usr/local/lib/python3.10/dist-packages (from torch>=1.6->amrlib) (1.11.1)\n",
            "Requirement already satisfied: networkx in /usr/local/lib/python3.10/dist-packages (from torch>=1.6->amrlib) (3.1)\n",
            "Requirement already satisfied: triton==2.0.0 in /usr/local/lib/python3.10/dist-packages (from torch>=1.6->amrlib) (2.0.0)\n",
            "Requirement already satisfied: cmake in /usr/local/lib/python3.10/dist-packages (from triton==2.0.0->torch>=1.6->amrlib) (3.25.2)\n",
            "Requirement already satisfied: lit in /usr/local/lib/python3.10/dist-packages (from triton==2.0.0->torch>=1.6->amrlib) (16.0.2)\n",
            "Requirement already satisfied: huggingface-hub<1.0,>=0.11.0 in /usr/local/lib/python3.10/dist-packages (from transformers>=3.0->amrlib) (0.14.1)\n",
            "Requirement already satisfied: pyyaml>=5.1 in /usr/local/lib/python3.10/dist-packages (from transformers>=3.0->amrlib) (6.0)\n",
            "Requirement already satisfied: regex!=2019.12.17 in /usr/local/lib/python3.10/dist-packages (from transformers>=3.0->amrlib) (2022.10.31)\n",
            "Requirement already satisfied: tokenizers!=0.11.3,<0.14,>=0.11.1 in /usr/local/lib/python3.10/dist-packages (from transformers>=3.0->amrlib) (0.13.3)\n",
            "Requirement already satisfied: fsspec in /usr/local/lib/python3.10/dist-packages (from huggingface-hub<1.0,>=0.11.0->transformers>=3.0->amrlib) (2023.4.0)\n",
            "Requirement already satisfied: urllib3<1.27,>=1.21.1 in /usr/local/lib/python3.10/dist-packages (from requests<3.0.0,>=2.13.0->spacy>=2.0->amrlib) (1.26.15)\n",
            "Requirement already satisfied: certifi>=2017.4.17 in /usr/local/lib/python3.10/dist-packages (from requests<3.0.0,>=2.13.0->spacy>=2.0->amrlib) (2022.12.7)\n",
            "Requirement already satisfied: charset-normalizer~=2.0.0 in /usr/local/lib/python3.10/dist-packages (from requests<3.0.0,>=2.13.0->spacy>=2.0->amrlib) (2.0.12)\n",
            "Requirement already satisfied: idna<4,>=2.5 in /usr/local/lib/python3.10/dist-packages (from requests<3.0.0,>=2.13.0->spacy>=2.0->amrlib) (3.4)\n",
            "Requirement already satisfied: blis<0.8.0,>=0.7.8 in /usr/local/lib/python3.10/dist-packages (from thinc<8.2.0,>=8.1.8->spacy>=2.0->amrlib) (0.7.9)\n",
            "Requirement already satisfied: confection<1.0.0,>=0.0.1 in /usr/local/lib/python3.10/dist-packages (from thinc<8.2.0,>=8.1.8->spacy>=2.0->amrlib) (0.0.4)\n",
            "Requirement already satisfied: click<9.0.0,>=7.1.1 in /usr/local/lib/python3.10/dist-packages (from typer<0.8.0,>=0.3.0->spacy>=2.0->amrlib) (8.1.3)\n",
            "Requirement already satisfied: MarkupSafe>=2.0 in /usr/local/lib/python3.10/dist-packages (from jinja2->spacy>=2.0->amrlib) (2.1.2)\n",
            "Requirement already satisfied: mpmath>=0.19 in /usr/local/lib/python3.10/dist-packages (from sympy->torch>=1.6->amrlib) (1.3.0)\n",
            "Installing collected packages: amrlib\n",
            "Successfully installed amrlib-0.7.1\n",
            "Looking in indexes: https://pypi.org/simple, https://us-python.pkg.dev/colab-wheels/public/simple/\n",
            "Collecting sentencepiece\n",
            "  Downloading sentencepiece-0.1.99-cp310-cp310-manylinux_2_17_x86_64.manylinux2014_x86_64.whl (1.3 MB)\n",
            "\u001b[2K     \u001b[90m━━━━━━━━━━━━━━━━━━━━━━━━━━━━━━━━━━━━━━━━\u001b[0m \u001b[32m1.3/1.3 MB\u001b[0m \u001b[31m20.2 MB/s\u001b[0m eta \u001b[36m0:00:00\u001b[0m\n",
            "\u001b[?25hInstalling collected packages: sentencepiece\n",
            "Successfully installed sentencepiece-0.1.99\n"
          ]
        }
      ]
    },
    {
      "cell_type": "code",
      "source": [
        "import spacy\n",
        "import amrlib\n",
        "import penman\n",
        "\n",
        "stog = amrlib.load_stog_model()\n",
        "gtos = amrlib.load_gtos_model()\n",
        "\n",
        "amrlib.setup_spacy_extension()\n",
        "nlp = spacy.load('en_core_web_sm')"
      ],
      "metadata": {
        "id": "-UAyT_O9IHI_",
        "colab": {
          "base_uri": "https://localhost:8080/",
          "height": 341,
          "referenced_widgets": [
            "f2fbcc561589411297f109064759767c",
            "c62d80ed74f94435ac06dbc249766bd0",
            "ff3d0eb0bc2c4a04b1c2a725af7a357a",
            "9dca0a1e550c4ba09664a2b163a47e85",
            "0a0f7dc554164ab083bdf4ddc76a2e7f",
            "0e1e871d57f74415be60338b97b9b231",
            "f94d5ddc77c04e0695784fa278e529b3",
            "90ac3687c1784c64853583c79676a9be",
            "1f75c1b2f72048408c9567c5ebe4e863",
            "8c3232a26f15432983090ef17553ba60",
            "2d466e3d80704ea78469f1fde67e5384",
            "602fcb6124974118831ce1830d7f072e",
            "d25b86501f794230b9e32541852a529c",
            "cdbe3da3bf47481f97dcc71c26bd357a",
            "1440f7f9e8ee46b5b45ef57dfe1d91c9",
            "5e7043113c574e0980a600c45f31029b",
            "7e86e291ba924d829decf7535d3ac65b",
            "8e6455edeede4029a8dec4d00daea832",
            "2b2c7bc9eb704cd788fbbff926331c99",
            "4e5ec34dd37d448ea36ce2daa21002ae",
            "61b2e4fd9b654d889349d6edb6df232b",
            "ec4ef050d9a647aca10fae70a6cd01ff",
            "f08631fecacc4041900bf95fc95ab40d",
            "c4b40b92b0594ee98e61270d226e6ecb",
            "754f01fb88dd4075b3f732ad13126212",
            "3fbefcbdb10c4b838bb13548924700af",
            "46a1c7117b6045dca00eab10ab73ce31",
            "7f80babf383d4d22b1afe46a7fd02831",
            "33431542b1d047af8b4a239f357c7248",
            "2b9d65eabb8841b2ab861d65c0c65ff6",
            "07525e168265407b995fee9b6515f375",
            "5dca7ea43d4f4f7f9c4371cdebf17649",
            "b07fdc3e6c2e4ad2ac0d0886fa8bdb72"
          ]
        },
        "outputId": "ba17b372-47eb-4375-9633-1545f3882f83"
      },
      "execution_count": null,
      "outputs": [
        {
          "output_type": "display_data",
          "data": {
            "text/plain": [
              "Downloading (…)lve/main/config.json:   0%|          | 0.00/1.21k [00:00<?, ?B/s]"
            ],
            "application/vnd.jupyter.widget-view+json": {
              "version_major": 2,
              "version_minor": 0,
              "model_id": "f2fbcc561589411297f109064759767c"
            }
          },
          "metadata": {}
        },
        {
          "output_type": "display_data",
          "data": {
            "text/plain": [
              "Downloading (…)ve/main/spiece.model:   0%|          | 0.00/792k [00:00<?, ?B/s]"
            ],
            "application/vnd.jupyter.widget-view+json": {
              "version_major": 2,
              "version_minor": 0,
              "model_id": "602fcb6124974118831ce1830d7f072e"
            }
          },
          "metadata": {}
        },
        {
          "output_type": "display_data",
          "data": {
            "text/plain": [
              "Downloading (…)/main/tokenizer.json:   0%|          | 0.00/1.39M [00:00<?, ?B/s]"
            ],
            "application/vnd.jupyter.widget-view+json": {
              "version_major": 2,
              "version_minor": 0,
              "model_id": "f08631fecacc4041900bf95fc95ab40d"
            }
          },
          "metadata": {}
        },
        {
          "output_type": "stream",
          "name": "stderr",
          "text": [
            "/usr/local/lib/python3.10/dist-packages/transformers/models/t5/tokenization_t5_fast.py:155: FutureWarning: This tokenizer was incorrectly instantiated with a model max length of 512 which will be corrected in Transformers v5.\n",
            "For now, this behavior is kept to avoid breaking backwards compatibility when padding/encoding with `truncation is True`.\n",
            "- Be aware that you SHOULD NOT rely on t5-base automatically truncating your input to 512 when padding/encoding.\n",
            "- If you want to encode/pad to sequences longer than 512 you can either instantiate this tokenizer with `model_max_length` or pass `max_length` when encoding/padding.\n",
            "- To avoid this warning, please instantiate this tokenizer with `model_max_length` set to your preferred value.\n",
            "  warnings.warn(\n",
            "/usr/local/lib/python3.10/dist-packages/transformers/models/t5/tokenization_t5.py:163: FutureWarning: This tokenizer was incorrectly instantiated with a model max length of 512 which will be corrected in Transformers v5.\n",
            "For now, this behavior is kept to avoid breaking backwards compatibility when padding/encoding with `truncation is True`.\n",
            "- Be aware that you SHOULD NOT rely on t5-base automatically truncating your input to 512 when padding/encoding.\n",
            "- If you want to encode/pad to sequences longer than 512 you can either instantiate this tokenizer with `model_max_length` or pass `max_length` when encoding/padding.\n",
            "- To avoid this warning, please instantiate this tokenizer with `model_max_length` set to your preferred value.\n",
            "  warnings.warn(\n"
          ]
        }
      ]
    },
    {
      "cell_type": "code",
      "source": [
        "doc = nlp('I have a severe headache.')\n",
        "graphs = doc._.to_amr()\n",
        "for graph in graphs:\n",
        "    print(graph)"
      ],
      "metadata": {
        "id": "UWB913EEMFlL",
        "colab": {
          "base_uri": "https://localhost:8080/"
        },
        "outputId": "a8838994-9b74-4a1c-fd2c-5b9a5fb913b3"
      },
      "execution_count": null,
      "outputs": [
        {
          "output_type": "stream",
          "name": "stdout",
          "text": [
            "# ::snt I have a severe headache.\n",
            "(h / have-03\n",
            "      :ARG0 (ii / i)\n",
            "      :ARG1 (h2 / headache\n",
            "            :mod (s / severe)))\n"
          ]
        }
      ]
    },
    {
      "cell_type": "code",
      "source": [
        "#Ode to a Nightingale line\n",
        "doc = nlp('Returning to the action and spectacle that have captured moviegoers around the world, Transformers: Rise of the Beasts will take audiences on a ‘90s globetrotting adventure with the Autobots and introduce a whole new faction of Transformers – the Maximals – to join them as allies in the existing battle for earth. Directed by Steven Caple Jr. and starring Anthony Ramos and Dominique Fishback, the film arrives in theatres June 9, 2023.')\n",
        "graphs = doc._.to_amr()\n",
        "for graph in graphs:\n",
        "    print(graph)"
      ],
      "metadata": {
        "id": "9bTqWa_QIwY2",
        "colab": {
          "base_uri": "https://localhost:8080/"
        },
        "outputId": "cb6b00ac-f95b-4198-a5e1-b611e319654c"
      },
      "execution_count": null,
      "outputs": [
        {
          "output_type": "stream",
          "name": "stdout",
          "text": [
            "# ::snt Returning to the action and spectacle that have captured moviegoers around the world, Transformers: Rise of the Beasts will take audiences on a ‘90s globetrotting adventure with the Autobots and introduce a whole new faction of Transformers – the Maximals – to join them as allies in the existing battle for earth.\n",
            "(a / and\n",
            "      :op1 (t / take-01\n",
            "            :ARG0 (w / work-of-art\n",
            "                  :name (n / name\n",
            "                        :op1 \"Transformers\"\n",
            "                        :op2 \":\"\n",
            "                        :op3 \"Rise\"\n",
            "                        :op4 \"of\"\n",
            "                        :op5 \"the\"\n",
            "                        :op6 \"Beasts\"))\n",
            "            :ARG1 (a2 / audience)\n",
            "            :ARG2 (a3 / adventure\n",
            "                  :mod (g / globetrotting)\n",
            "                  :accompanier (w2 / work-of-art\n",
            "                        :name (n2 / name\n",
            "                              :op1 \"Autobots\"))\n",
            "                  :time (d / date-entity\n",
            "                        :decade 1990)))\n",
            "      :op2 (ii / introduce-02\n",
            "            :ARG0 w\n",
            "            :ARG1 (f / faction\n",
            "                  :mod (w3 / whole)\n",
            "                  :ARG1-of (n3 / new-01)\n",
            "                  :consist-of (w4 / work-of-art\n",
            "                        :name (n4 / name\n",
            "                              :op1 \"The\"\n",
            "                              :op2 \"Maximales\")))\n",
            "            :purpose (j / join-01\n",
            "                  :ARG0 f\n",
            "                  :ARG1 f\n",
            "                  :ARG2 (a4 / ally-01\n",
            "                        :ARG1 f\n",
            "                        :ARG2 (b / battle-01\n",
            "                              :ARG1 (p / planet\n",
            "                                    :name (n5 / name\n",
            "                                          :op1 \"Earth\"))\n",
            "                              :ARG1-of (e / exist-01)))))\n",
            "      :ARG1-of (r / return-01\n",
            "            :ARG2 (a5 / and\n",
            "                  :op1 (a6 / action)\n",
            "                  :op2 (s / spectacle)\n",
            "                  :ARG0-of (c / capture-01\n",
            "                        :ARG1 (p2 / person\n",
            "                              :ARG0-of (w5 / watch-01\n",
            "                                    :ARG1 (m / movie)))\n",
            "                        :location (a7 / around\n",
            "                              :op1 (w6 / world))))))\n",
            "# ::snt Directed by Steven Caple Jr. and starring Anthony Ramos and Dominique Fishback, the film arrives in theatres June 9, 2023.\n",
            "(a / arrive-01\n",
            "      :ARG1 (f / film\n",
            "            :ARG1-of (d / direct-01\n",
            "                  :ARG0 (p / person\n",
            "                        :name (n / name\n",
            "                              :op1 \"Steven\"\n",
            "                              :op2 \"Caple\"\n",
            "                              :op3 \"Jr.\")))\n",
            "            :ARG0-of (s / star-01\n",
            "                  :ARG1 (a2 / and\n",
            "                        :op1 (p2 / person\n",
            "                              :name (n2 / name\n",
            "                                    :op1 \"Anthony\"\n",
            "                                    :op2 \"Ramos\"))\n",
            "                        :op2 (p3 / person\n",
            "                              :name (n3 / name\n",
            "                                    :op1 \"Dominique\"\n",
            "                                    :op2 \"Fishback\")))))\n",
            "      :ARG4 (t / theater)\n",
            "      :time (d2 / date-entity\n",
            "            :year 2023\n",
            "            :month 6\n",
            "            :day 9))\n"
          ]
        }
      ]
    },
    {
      "cell_type": "code",
      "source": [
        "sentences=['Bob found the pen on the table.']\n",
        "graphs = stog.parse_sents(sentences)\n",
        "for graph in graphs:\n",
        "    print(graph+\"\\n\")"
      ],
      "metadata": {
        "id": "JY1oWWP6MQ8M",
        "colab": {
          "base_uri": "https://localhost:8080/"
        },
        "outputId": "aca26749-f235-4449-fd09-8966f5d71cb2"
      },
      "execution_count": null,
      "outputs": [
        {
          "output_type": "stream",
          "name": "stdout",
          "text": [
            "# ::snt Bob found the pen on the table.\n",
            "(f / find-01\n",
            "      :ARG0 (p / person\n",
            "            :name (n / name\n",
            "                  :op1 \"Bob\"))\n",
            "      :ARG1 (p2 / pen)\n",
            "      :location (t / table))\n",
            "\n"
          ]
        }
      ]
    },
    {
      "cell_type": "code",
      "source": [
        "pgraph = penman.decode(graphs[0])\n",
        "print(pgraph)\n",
        "new_amr_string = penman.encode(pgraph)\n",
        "print(new_amr_string)"
      ],
      "metadata": {
        "id": "M8HGhnHvIwQS",
        "colab": {
          "base_uri": "https://localhost:8080/"
        },
        "outputId": "21776636-b990-4148-cce9-172b3ae30240"
      },
      "execution_count": null,
      "outputs": [
        {
          "output_type": "stream",
          "name": "stdout",
          "text": [
            "Graph(\n",
            "  [('f', ':instance', 'find-01'),\n",
            "   ('f', ':ARG0', 'p'),\n",
            "   ('p', ':instance', 'person'),\n",
            "   ('p', ':name', 'n'),\n",
            "   ('n', ':instance', 'name'),\n",
            "   ('n', ':op1', '\"Bob\"'),\n",
            "   ('f', ':ARG1', 'p2'),\n",
            "   ('p2', ':instance', 'pen'),\n",
            "   ('f', ':location', 't'),\n",
            "   ('t', ':instance', 'table')],\n",
            "  epidata={('f', ':instance', 'find-01'): [],\n",
            "    ('f', ':ARG0', 'p'): [Push(p)],\n",
            "    ('p', ':instance', 'person'): [],\n",
            "    ('p', ':name', 'n'): [Push(n)],\n",
            "    ('n', ':instance', 'name'): [],\n",
            "    ('n', ':op1', '\"Bob\"'): [POP, POP],\n",
            "    ('f', ':ARG1', 'p2'): [Push(p2)],\n",
            "    ('p2', ':instance', 'pen'): [POP],\n",
            "    ('f', ':location', 't'): [Push(t)],\n",
            "    ('t', ':instance', 'table'): [POP]})\n",
            "# ::snt Bob found the pen on the table.\n",
            "(f / find-01\n",
            "   :ARG0 (p / person\n",
            "            :name (n / name\n",
            "                     :op1 \"Bob\"))\n",
            "   :ARG1 (p2 / pen)\n",
            "   :location (t / table))\n"
          ]
        }
      ]
    },
    {
      "cell_type": "code",
      "source": [
        "gtos.generate([new_amr_string,])[0][0]"
      ],
      "metadata": {
        "id": "38MOISh7IqPd",
        "colab": {
          "base_uri": "https://localhost:8080/",
          "height": 35
        },
        "outputId": "97584f29-60f7-42ac-869c-0574e7f7bc9d"
      },
      "execution_count": null,
      "outputs": [
        {
          "output_type": "execute_result",
          "data": {
            "text/plain": [
              "'Bob found a pen on the table.'"
            ],
            "application/vnd.google.colaboratory.intrinsic+json": {
              "type": "string"
            }
          },
          "metadata": {},
          "execution_count": 139
        }
      ]
    },
    {
      "cell_type": "code",
      "source": [
        "#Changing the graph root for paraphrasing\n",
        "print('Existing top', pgraph.top)\n",
        "print('variables:', pgraph.variables())\n",
        "for triple in pgraph.instances():\n",
        "  print('var=%s concept=%s role=%s' % (triple.source.ljust(5), triple.target.ljust(15), triple.role))"
      ],
      "metadata": {
        "id": "VMUCfLf6PAc3",
        "colab": {
          "base_uri": "https://localhost:8080/"
        },
        "outputId": "3bb5aa17-30d4-472a-a584-30e77c5df3b8"
      },
      "execution_count": null,
      "outputs": [
        {
          "output_type": "stream",
          "name": "stdout",
          "text": [
            "Existing top f\n",
            "variables: {'t', 'f', 'n', 'p', 'p2'}\n",
            "var=f     concept=find-01         role=:instance\n",
            "var=p     concept=person          role=:instance\n",
            "var=n     concept=name            role=:instance\n",
            "var=p2    concept=pen             role=:instance\n",
            "var=t     concept=table           role=:instance\n"
          ]
        }
      ]
    },
    {
      "cell_type": "code",
      "source": [
        "#Change to pen\n",
        "new_amr_string = penman.encode(pgraph, top=\"p2\")\n",
        "print(new_amr_string)\n",
        "gtos.generate([new_amr_string,])[0][0]\n"
      ],
      "metadata": {
        "id": "uzY2yZd-PlMa",
        "colab": {
          "base_uri": "https://localhost:8080/",
          "height": 157
        },
        "outputId": "2cb8591f-ea46-4891-a471-61416afa765d"
      },
      "execution_count": null,
      "outputs": [
        {
          "output_type": "stream",
          "name": "stdout",
          "text": [
            "# ::snt Bob found the pen on the table.\n",
            "(p2 / pen\n",
            "    :ARG1-of (f / find-01\n",
            "                :location (t / table)\n",
            "                :ARG0 (p / person\n",
            "                         :name (n / name\n",
            "                                  :op1 \"Bob\"))))\n"
          ]
        },
        {
          "output_type": "execute_result",
          "data": {
            "text/plain": [
              "'The pen Bob found on the table.'"
            ],
            "application/vnd.google.colaboratory.intrinsic+json": {
              "type": "string"
            }
          },
          "metadata": {},
          "execution_count": 141
        }
      ]
    },
    {
      "cell_type": "code",
      "source": [
        "#Change to Bob (name)\n",
        "new_amr_string = penman.encode(pgraph, top=\"n\")\n",
        "print(new_amr_string)\n",
        "gtos.generate([new_amr_string,])[0][0]"
      ],
      "metadata": {
        "id": "qwGJXJjbP8aq",
        "colab": {
          "base_uri": "https://localhost:8080/",
          "height": 157
        },
        "outputId": "42eead47-e446-4595-8278-8b71ade1a540"
      },
      "execution_count": null,
      "outputs": [
        {
          "output_type": "stream",
          "name": "stdout",
          "text": [
            "# ::snt Bob found the pen on the table.\n",
            "(n / name\n",
            "   :name-of (p / person\n",
            "               :ARG0-of (f / find-01\n",
            "                           :ARG1 (p2 / pen)\n",
            "                           :location (t / table)))\n",
            "   :op1 \"Bob\")\n"
          ]
        },
        {
          "output_type": "execute_result",
          "data": {
            "text/plain": [
              "'Bob, who found the pen on the table.'"
            ],
            "application/vnd.google.colaboratory.intrinsic+json": {
              "type": "string"
            }
          },
          "metadata": {},
          "execution_count": 142
        }
      ]
    },
    {
      "cell_type": "code",
      "source": [
        "pgraph.triples"
      ],
      "metadata": {
        "id": "jfCU9pHMT2rH",
        "colab": {
          "base_uri": "https://localhost:8080/"
        },
        "outputId": "d0a818f3-90e1-484b-8b07-992d3ef60ca1"
      },
      "execution_count": null,
      "outputs": [
        {
          "output_type": "execute_result",
          "data": {
            "text/plain": [
              "[('f', ':instance', 'find-01'),\n",
              " ('f', ':ARG0', 'p'),\n",
              " ('p', ':instance', 'person'),\n",
              " ('p', ':name', 'n'),\n",
              " ('n', ':instance', 'name'),\n",
              " ('n', ':op1', '\"Bob\"'),\n",
              " ('f', ':ARG1', 'p2'),\n",
              " ('p2', ':instance', 'pen'),\n",
              " ('f', ':location', 't'),\n",
              " ('t', ':instance', 'table')]"
            ]
          },
          "metadata": {},
          "execution_count": 143
        }
      ]
    },
    {
      "cell_type": "code",
      "source": [
        "pgraph.edges()"
      ],
      "metadata": {
        "id": "eKyIhtx9UjrF",
        "colab": {
          "base_uri": "https://localhost:8080/"
        },
        "outputId": "22ac512f-772d-4b6c-d29c-3ec60c9609aa"
      },
      "execution_count": null,
      "outputs": [
        {
          "output_type": "execute_result",
          "data": {
            "text/plain": [
              "[Edge(source='f', role=':ARG0', target='p'),\n",
              " Edge(source='p', role=':name', target='n'),\n",
              " Edge(source='f', role=':ARG1', target='p2'),\n",
              " Edge(source='f', role=':location', target='t')]"
            ]
          },
          "metadata": {},
          "execution_count": 144
        }
      ]
    },
    {
      "cell_type": "code",
      "source": [
        "#Replace \n",
        "tripleMod = list(pgraph.triples[-2])\n",
        "tripleMod[1] = \":location-under\"\n",
        "pgraph.triples[-2]=tuple(tripleMod)\n",
        "new_amr_string = penman.encode(pgraph)\n",
        "print(new_amr_string)\n",
        "gtos.generate([new_amr_string,])[0][0]"
      ],
      "metadata": {
        "id": "rWz1bv4nQHco",
        "colab": {
          "base_uri": "https://localhost:8080/",
          "height": 157
        },
        "outputId": "2a6adb9a-eab8-46fd-e987-ab0542df614d"
      },
      "execution_count": null,
      "outputs": [
        {
          "output_type": "stream",
          "name": "stdout",
          "text": [
            "# ::snt Bob found the pen on the table.\n",
            "(f / find-01\n",
            "   :ARG0 (p / person\n",
            "            :name (n / name\n",
            "                     :op1 \"Bob\"))\n",
            "   :ARG1 (p2 / pen)\n",
            "   :location-under (t / table))\n"
          ]
        },
        {
          "output_type": "execute_result",
          "data": {
            "text/plain": [
              "'Bob found a pen under the table.'"
            ],
            "application/vnd.google.colaboratory.intrinsic+json": {
              "type": "string"
            }
          },
          "metadata": {},
          "execution_count": 145
        }
      ]
    },
    {
      "cell_type": "code",
      "source": [
        "#Add a magnet to the sentence, so Bob can use it\n",
        "pgraph.triples.append((\"u\",\":instance\",\"use-01\"))\n",
        "pgraph.triples.append((\"m\",\":instance\",\"karate moves\"))\n",
        "pgraph.triples.append((\"f\",\":manner\",\"u\"))\n",
        "pgraph.triples.append((\"u\",\":ARG0\",\"p\"))\n",
        "pgraph.triples.append((\"u\",\":ARG1\",\"m\"))\n",
        "\n",
        "new_amr_string = penman.encode(pgraph)\n",
        "print(new_amr_string)\n",
        "gtos.generate([new_amr_string,])[0][0]"
      ],
      "metadata": {
        "id": "NDf5Eu6tRy-f",
        "colab": {
          "base_uri": "https://localhost:8080/",
          "height": 226
        },
        "outputId": "c9fc4fea-51b3-4a9b-c09e-e16758efcb7c"
      },
      "execution_count": null,
      "outputs": [
        {
          "output_type": "stream",
          "name": "stderr",
          "text": [
            "ERROR:amrlib.models.generate_t5wtense.inference:Unable to add tense information to graph\n"
          ]
        },
        {
          "output_type": "stream",
          "name": "stdout",
          "text": [
            "# ::snt Bob found the pen on the table.\n",
            "(f / find-01\n",
            "   :ARG0 (p / person\n",
            "            :name (n / name\n",
            "                     :op1 \"Bob\"))\n",
            "   :ARG1 (p2 / pen)\n",
            "   :location-under (t / table)\n",
            "   :manner (u / use-01\n",
            "              :ARG0 p\n",
            "              :ARG1 (m / karate moves)))\n"
          ]
        },
        {
          "output_type": "execute_result",
          "data": {
            "text/plain": [
              "'Bob found a pen under the table using karate moves.'"
            ],
            "application/vnd.google.colaboratory.intrinsic+json": {
              "type": "string"
            }
          },
          "metadata": {},
          "execution_count": 146
        }
      ]
    },
    {
      "cell_type": "code",
      "source": [],
      "metadata": {
        "id": "RVGTyazlM0PV"
      },
      "execution_count": null,
      "outputs": []
    },
    {
      "cell_type": "markdown",
      "source": [
        "# N-grams and similarity"
      ],
      "metadata": {
        "id": "Um4Lrs5rVugc"
      }
    },
    {
      "cell_type": "code",
      "source": [
        "#Download a larger text corpus\n",
        "def download_from_drive(link, filename):\n",
        "  id = link.split(\"/\")[-2]\n",
        "  !wget --load-cookies /tmp/cookies.txt \"https://docs.google.com/uc?export=download&confirm=$(wget --quiet --save-cookies /tmp/cookies.txt --keep-session-cookies --no-check-certificate 'https://docs.google.com/uc?export=download&id={id}' -O- | sed -rn 's/.*confirm=([0-9A-Za-z_]+).*/\\1\\n/p')&id={id}\" -O {\"/content/\"+filename} && rm -rf /tmp/cookies.txt\n",
        "\n",
        "download_from_drive(\"https://drive.google.com/file/d/1dqiWtQuykbraWeE01masIygj35ZdVrOu/view?usp=sharing\", \"imdb.txt\")\n"
      ],
      "metadata": {
        "id": "y3Aps_q-SWCO",
        "colab": {
          "base_uri": "https://localhost:8080/"
        },
        "outputId": "6efa1e29-cc86-4f0e-a73e-58da2703faa2"
      },
      "execution_count": null,
      "outputs": [
        {
          "output_type": "stream",
          "name": "stdout",
          "text": [
            "--2023-05-02 14:22:19--  https://docs.google.com/uc?export=download&confirm=&id=1dqiWtQuykbraWeE01masIygj35ZdVrOu\n",
            "Resolving docs.google.com (docs.google.com)... 142.251.120.101, 142.251.120.113, 142.251.120.139, ...\n",
            "Connecting to docs.google.com (docs.google.com)|142.251.120.101|:443... connected.\n",
            "HTTP request sent, awaiting response... 303 See Other\n",
            "Location: https://doc-0c-1k-docs.googleusercontent.com/docs/securesc/ha0ro937gcuc7l7deffksulhg5h7mbp1/spkquv54uiokcvjug94rbsrt02n74ubv/1683037275000/02440328774490686871/*/1dqiWtQuykbraWeE01masIygj35ZdVrOu?e=download&uuid=5164e244-d059-4073-8bf3-33c45280ff2a [following]\n",
            "Warning: wildcards not supported in HTTP.\n",
            "--2023-05-02 14:22:21--  https://doc-0c-1k-docs.googleusercontent.com/docs/securesc/ha0ro937gcuc7l7deffksulhg5h7mbp1/spkquv54uiokcvjug94rbsrt02n74ubv/1683037275000/02440328774490686871/*/1dqiWtQuykbraWeE01masIygj35ZdVrOu?e=download&uuid=5164e244-d059-4073-8bf3-33c45280ff2a\n",
            "Resolving doc-0c-1k-docs.googleusercontent.com (doc-0c-1k-docs.googleusercontent.com)... 74.125.132.132, 2607:f8b0:4001:c00::84\n",
            "Connecting to doc-0c-1k-docs.googleusercontent.com (doc-0c-1k-docs.googleusercontent.com)|74.125.132.132|:443... connected.\n",
            "HTTP request sent, awaiting response... 200 OK\n",
            "Length: 35435236 (34M) [text/plain]\n",
            "Saving to: ‘/content/imdb.txt’\n",
            "\n",
            "/content/imdb.txt   100%[===================>]  33.79M   156MB/s    in 0.2s    \n",
            "\n",
            "2023-05-02 14:22:21 (156 MB/s) - ‘/content/imdb.txt’ saved [35435236/35435236]\n",
            "\n"
          ]
        }
      ]
    },
    {
      "cell_type": "code",
      "source": [
        "import pandas as pd\n",
        "import numpy as np"
      ],
      "metadata": {
        "id": "7dwhe_bNVuVJ"
      },
      "execution_count": null,
      "outputs": []
    },
    {
      "cell_type": "code",
      "source": [
        "df = pd.read_csv(\"/content/imdb.txt\",sep=\" ::: \",names=[\"ID\",\"title\",\"genre\",\"description\"])\n",
        "df.head()"
      ],
      "metadata": {
        "id": "9pL_UmWmVsrV",
        "colab": {
          "base_uri": "https://localhost:8080/",
          "height": 260
        },
        "outputId": "24f09a43-c890-47da-8821-8b7f7f8eb12a"
      },
      "execution_count": null,
      "outputs": [
        {
          "output_type": "stream",
          "name": "stderr",
          "text": [
            "<ipython-input-149-85455d0595d8>:1: ParserWarning: Falling back to the 'python' engine because the 'c' engine does not support regex separators (separators > 1 char and different from '\\s+' are interpreted as regex); you can avoid this warning by specifying engine='python'.\n",
            "  df = pd.read_csv(\"/content/imdb.txt\",sep=\" ::: \",names=[\"ID\",\"title\",\"genre\",\"description\"])\n"
          ]
        },
        {
          "output_type": "execute_result",
          "data": {
            "text/plain": [
              "   ID                             title     genre  \\\n",
              "0   1      Oscar et la dame rose (2009)     drama   \n",
              "1   2                      Cupid (1997)  thriller   \n",
              "2   3  Young, Wild and Wonderful (1980)     adult   \n",
              "3   4             The Secret Sin (1915)     drama   \n",
              "4   5            The Unrecovered (2007)     drama   \n",
              "\n",
              "                                         description  \n",
              "0  Listening in to a conversation between his doc...  \n",
              "1  A brother and sister with a past incestuous re...  \n",
              "2  As the bus empties the students for their fiel...  \n",
              "3  To help their unemployed father make ends meet...  \n",
              "4  The film's title refers not only to the un-rec...  "
            ],
            "text/html": [
              "\n",
              "  <div id=\"df-6ba08779-d7f6-45c9-b673-9accbce0c6f2\">\n",
              "    <div class=\"colab-df-container\">\n",
              "      <div>\n",
              "<style scoped>\n",
              "    .dataframe tbody tr th:only-of-type {\n",
              "        vertical-align: middle;\n",
              "    }\n",
              "\n",
              "    .dataframe tbody tr th {\n",
              "        vertical-align: top;\n",
              "    }\n",
              "\n",
              "    .dataframe thead th {\n",
              "        text-align: right;\n",
              "    }\n",
              "</style>\n",
              "<table border=\"1\" class=\"dataframe\">\n",
              "  <thead>\n",
              "    <tr style=\"text-align: right;\">\n",
              "      <th></th>\n",
              "      <th>ID</th>\n",
              "      <th>title</th>\n",
              "      <th>genre</th>\n",
              "      <th>description</th>\n",
              "    </tr>\n",
              "  </thead>\n",
              "  <tbody>\n",
              "    <tr>\n",
              "      <th>0</th>\n",
              "      <td>1</td>\n",
              "      <td>Oscar et la dame rose (2009)</td>\n",
              "      <td>drama</td>\n",
              "      <td>Listening in to a conversation between his doc...</td>\n",
              "    </tr>\n",
              "    <tr>\n",
              "      <th>1</th>\n",
              "      <td>2</td>\n",
              "      <td>Cupid (1997)</td>\n",
              "      <td>thriller</td>\n",
              "      <td>A brother and sister with a past incestuous re...</td>\n",
              "    </tr>\n",
              "    <tr>\n",
              "      <th>2</th>\n",
              "      <td>3</td>\n",
              "      <td>Young, Wild and Wonderful (1980)</td>\n",
              "      <td>adult</td>\n",
              "      <td>As the bus empties the students for their fiel...</td>\n",
              "    </tr>\n",
              "    <tr>\n",
              "      <th>3</th>\n",
              "      <td>4</td>\n",
              "      <td>The Secret Sin (1915)</td>\n",
              "      <td>drama</td>\n",
              "      <td>To help their unemployed father make ends meet...</td>\n",
              "    </tr>\n",
              "    <tr>\n",
              "      <th>4</th>\n",
              "      <td>5</td>\n",
              "      <td>The Unrecovered (2007)</td>\n",
              "      <td>drama</td>\n",
              "      <td>The film's title refers not only to the un-rec...</td>\n",
              "    </tr>\n",
              "  </tbody>\n",
              "</table>\n",
              "</div>\n",
              "      <button class=\"colab-df-convert\" onclick=\"convertToInteractive('df-6ba08779-d7f6-45c9-b673-9accbce0c6f2')\"\n",
              "              title=\"Convert this dataframe to an interactive table.\"\n",
              "              style=\"display:none;\">\n",
              "        \n",
              "  <svg xmlns=\"http://www.w3.org/2000/svg\" height=\"24px\"viewBox=\"0 0 24 24\"\n",
              "       width=\"24px\">\n",
              "    <path d=\"M0 0h24v24H0V0z\" fill=\"none\"/>\n",
              "    <path d=\"M18.56 5.44l.94 2.06.94-2.06 2.06-.94-2.06-.94-.94-2.06-.94 2.06-2.06.94zm-11 1L8.5 8.5l.94-2.06 2.06-.94-2.06-.94L8.5 2.5l-.94 2.06-2.06.94zm10 10l.94 2.06.94-2.06 2.06-.94-2.06-.94-.94-2.06-.94 2.06-2.06.94z\"/><path d=\"M17.41 7.96l-1.37-1.37c-.4-.4-.92-.59-1.43-.59-.52 0-1.04.2-1.43.59L10.3 9.45l-7.72 7.72c-.78.78-.78 2.05 0 2.83L4 21.41c.39.39.9.59 1.41.59.51 0 1.02-.2 1.41-.59l7.78-7.78 2.81-2.81c.8-.78.8-2.07 0-2.86zM5.41 20L4 18.59l7.72-7.72 1.47 1.35L5.41 20z\"/>\n",
              "  </svg>\n",
              "      </button>\n",
              "      \n",
              "  <style>\n",
              "    .colab-df-container {\n",
              "      display:flex;\n",
              "      flex-wrap:wrap;\n",
              "      gap: 12px;\n",
              "    }\n",
              "\n",
              "    .colab-df-convert {\n",
              "      background-color: #E8F0FE;\n",
              "      border: none;\n",
              "      border-radius: 50%;\n",
              "      cursor: pointer;\n",
              "      display: none;\n",
              "      fill: #1967D2;\n",
              "      height: 32px;\n",
              "      padding: 0 0 0 0;\n",
              "      width: 32px;\n",
              "    }\n",
              "\n",
              "    .colab-df-convert:hover {\n",
              "      background-color: #E2EBFA;\n",
              "      box-shadow: 0px 1px 2px rgba(60, 64, 67, 0.3), 0px 1px 3px 1px rgba(60, 64, 67, 0.15);\n",
              "      fill: #174EA6;\n",
              "    }\n",
              "\n",
              "    [theme=dark] .colab-df-convert {\n",
              "      background-color: #3B4455;\n",
              "      fill: #D2E3FC;\n",
              "    }\n",
              "\n",
              "    [theme=dark] .colab-df-convert:hover {\n",
              "      background-color: #434B5C;\n",
              "      box-shadow: 0px 1px 3px 1px rgba(0, 0, 0, 0.15);\n",
              "      filter: drop-shadow(0px 1px 2px rgba(0, 0, 0, 0.3));\n",
              "      fill: #FFFFFF;\n",
              "    }\n",
              "  </style>\n",
              "\n",
              "      <script>\n",
              "        const buttonEl =\n",
              "          document.querySelector('#df-6ba08779-d7f6-45c9-b673-9accbce0c6f2 button.colab-df-convert');\n",
              "        buttonEl.style.display =\n",
              "          google.colab.kernel.accessAllowed ? 'block' : 'none';\n",
              "\n",
              "        async function convertToInteractive(key) {\n",
              "          const element = document.querySelector('#df-6ba08779-d7f6-45c9-b673-9accbce0c6f2');\n",
              "          const dataTable =\n",
              "            await google.colab.kernel.invokeFunction('convertToInteractive',\n",
              "                                                     [key], {});\n",
              "          if (!dataTable) return;\n",
              "\n",
              "          const docLinkHtml = 'Like what you see? Visit the ' +\n",
              "            '<a target=\"_blank\" href=https://colab.research.google.com/notebooks/data_table.ipynb>data table notebook</a>'\n",
              "            + ' to learn more about interactive tables.';\n",
              "          element.innerHTML = '';\n",
              "          dataTable['output_type'] = 'display_data';\n",
              "          await google.colab.output.renderOutput(dataTable, element);\n",
              "          const docLink = document.createElement('div');\n",
              "          docLink.innerHTML = docLinkHtml;\n",
              "          element.appendChild(docLink);\n",
              "        }\n",
              "      </script>\n",
              "    </div>\n",
              "  </div>\n",
              "  "
            ]
          },
          "metadata": {},
          "execution_count": 149
        }
      ]
    },
    {
      "cell_type": "code",
      "source": [
        "df = df.drop([\"ID\",\"title\"], axis=1)\n",
        "df.head()"
      ],
      "metadata": {
        "id": "ad7VPjdnaD7X",
        "colab": {
          "base_uri": "https://localhost:8080/",
          "height": 206
        },
        "outputId": "bd5e39bc-4468-462d-f73c-d83b84afbe6f"
      },
      "execution_count": null,
      "outputs": [
        {
          "output_type": "execute_result",
          "data": {
            "text/plain": [
              "      genre                                        description\n",
              "0     drama  Listening in to a conversation between his doc...\n",
              "1  thriller  A brother and sister with a past incestuous re...\n",
              "2     adult  As the bus empties the students for their fiel...\n",
              "3     drama  To help their unemployed father make ends meet...\n",
              "4     drama  The film's title refers not only to the un-rec..."
            ],
            "text/html": [
              "\n",
              "  <div id=\"df-a71223b9-6fca-4a69-a7d4-3f9a0f7156b0\">\n",
              "    <div class=\"colab-df-container\">\n",
              "      <div>\n",
              "<style scoped>\n",
              "    .dataframe tbody tr th:only-of-type {\n",
              "        vertical-align: middle;\n",
              "    }\n",
              "\n",
              "    .dataframe tbody tr th {\n",
              "        vertical-align: top;\n",
              "    }\n",
              "\n",
              "    .dataframe thead th {\n",
              "        text-align: right;\n",
              "    }\n",
              "</style>\n",
              "<table border=\"1\" class=\"dataframe\">\n",
              "  <thead>\n",
              "    <tr style=\"text-align: right;\">\n",
              "      <th></th>\n",
              "      <th>genre</th>\n",
              "      <th>description</th>\n",
              "    </tr>\n",
              "  </thead>\n",
              "  <tbody>\n",
              "    <tr>\n",
              "      <th>0</th>\n",
              "      <td>drama</td>\n",
              "      <td>Listening in to a conversation between his doc...</td>\n",
              "    </tr>\n",
              "    <tr>\n",
              "      <th>1</th>\n",
              "      <td>thriller</td>\n",
              "      <td>A brother and sister with a past incestuous re...</td>\n",
              "    </tr>\n",
              "    <tr>\n",
              "      <th>2</th>\n",
              "      <td>adult</td>\n",
              "      <td>As the bus empties the students for their fiel...</td>\n",
              "    </tr>\n",
              "    <tr>\n",
              "      <th>3</th>\n",
              "      <td>drama</td>\n",
              "      <td>To help their unemployed father make ends meet...</td>\n",
              "    </tr>\n",
              "    <tr>\n",
              "      <th>4</th>\n",
              "      <td>drama</td>\n",
              "      <td>The film's title refers not only to the un-rec...</td>\n",
              "    </tr>\n",
              "  </tbody>\n",
              "</table>\n",
              "</div>\n",
              "      <button class=\"colab-df-convert\" onclick=\"convertToInteractive('df-a71223b9-6fca-4a69-a7d4-3f9a0f7156b0')\"\n",
              "              title=\"Convert this dataframe to an interactive table.\"\n",
              "              style=\"display:none;\">\n",
              "        \n",
              "  <svg xmlns=\"http://www.w3.org/2000/svg\" height=\"24px\"viewBox=\"0 0 24 24\"\n",
              "       width=\"24px\">\n",
              "    <path d=\"M0 0h24v24H0V0z\" fill=\"none\"/>\n",
              "    <path d=\"M18.56 5.44l.94 2.06.94-2.06 2.06-.94-2.06-.94-.94-2.06-.94 2.06-2.06.94zm-11 1L8.5 8.5l.94-2.06 2.06-.94-2.06-.94L8.5 2.5l-.94 2.06-2.06.94zm10 10l.94 2.06.94-2.06 2.06-.94-2.06-.94-.94-2.06-.94 2.06-2.06.94z\"/><path d=\"M17.41 7.96l-1.37-1.37c-.4-.4-.92-.59-1.43-.59-.52 0-1.04.2-1.43.59L10.3 9.45l-7.72 7.72c-.78.78-.78 2.05 0 2.83L4 21.41c.39.39.9.59 1.41.59.51 0 1.02-.2 1.41-.59l7.78-7.78 2.81-2.81c.8-.78.8-2.07 0-2.86zM5.41 20L4 18.59l7.72-7.72 1.47 1.35L5.41 20z\"/>\n",
              "  </svg>\n",
              "      </button>\n",
              "      \n",
              "  <style>\n",
              "    .colab-df-container {\n",
              "      display:flex;\n",
              "      flex-wrap:wrap;\n",
              "      gap: 12px;\n",
              "    }\n",
              "\n",
              "    .colab-df-convert {\n",
              "      background-color: #E8F0FE;\n",
              "      border: none;\n",
              "      border-radius: 50%;\n",
              "      cursor: pointer;\n",
              "      display: none;\n",
              "      fill: #1967D2;\n",
              "      height: 32px;\n",
              "      padding: 0 0 0 0;\n",
              "      width: 32px;\n",
              "    }\n",
              "\n",
              "    .colab-df-convert:hover {\n",
              "      background-color: #E2EBFA;\n",
              "      box-shadow: 0px 1px 2px rgba(60, 64, 67, 0.3), 0px 1px 3px 1px rgba(60, 64, 67, 0.15);\n",
              "      fill: #174EA6;\n",
              "    }\n",
              "\n",
              "    [theme=dark] .colab-df-convert {\n",
              "      background-color: #3B4455;\n",
              "      fill: #D2E3FC;\n",
              "    }\n",
              "\n",
              "    [theme=dark] .colab-df-convert:hover {\n",
              "      background-color: #434B5C;\n",
              "      box-shadow: 0px 1px 3px 1px rgba(0, 0, 0, 0.15);\n",
              "      filter: drop-shadow(0px 1px 2px rgba(0, 0, 0, 0.3));\n",
              "      fill: #FFFFFF;\n",
              "    }\n",
              "  </style>\n",
              "\n",
              "      <script>\n",
              "        const buttonEl =\n",
              "          document.querySelector('#df-a71223b9-6fca-4a69-a7d4-3f9a0f7156b0 button.colab-df-convert');\n",
              "        buttonEl.style.display =\n",
              "          google.colab.kernel.accessAllowed ? 'block' : 'none';\n",
              "\n",
              "        async function convertToInteractive(key) {\n",
              "          const element = document.querySelector('#df-a71223b9-6fca-4a69-a7d4-3f9a0f7156b0');\n",
              "          const dataTable =\n",
              "            await google.colab.kernel.invokeFunction('convertToInteractive',\n",
              "                                                     [key], {});\n",
              "          if (!dataTable) return;\n",
              "\n",
              "          const docLinkHtml = 'Like what you see? Visit the ' +\n",
              "            '<a target=\"_blank\" href=https://colab.research.google.com/notebooks/data_table.ipynb>data table notebook</a>'\n",
              "            + ' to learn more about interactive tables.';\n",
              "          element.innerHTML = '';\n",
              "          dataTable['output_type'] = 'display_data';\n",
              "          await google.colab.output.renderOutput(dataTable, element);\n",
              "          const docLink = document.createElement('div');\n",
              "          docLink.innerHTML = docLinkHtml;\n",
              "          element.appendChild(docLink);\n",
              "        }\n",
              "      </script>\n",
              "    </div>\n",
              "  </div>\n",
              "  "
            ]
          },
          "metadata": {},
          "execution_count": 150
        }
      ]
    },
    {
      "cell_type": "code",
      "source": [
        "#Statistics\n",
        "df.groupby(\"genre\").count()"
      ],
      "metadata": {
        "id": "fgNSprWTam2L",
        "colab": {
          "base_uri": "https://localhost:8080/",
          "height": 927
        },
        "outputId": "bf0ff324-d87c-4ff8-8c4d-640e091a314a"
      },
      "execution_count": null,
      "outputs": [
        {
          "output_type": "execute_result",
          "data": {
            "text/plain": [
              "             description\n",
              "genre                   \n",
              "action              1315\n",
              "adult                590\n",
              "adventure            775\n",
              "animation            498\n",
              "biography            265\n",
              "comedy              7447\n",
              "crime                505\n",
              "documentary        13096\n",
              "drama              13613\n",
              "family               784\n",
              "fantasy              323\n",
              "game-show            194\n",
              "history              243\n",
              "horror              2204\n",
              "music                731\n",
              "musical              277\n",
              "mystery              319\n",
              "news                 181\n",
              "reality-tv           884\n",
              "romance              672\n",
              "sci-fi               647\n",
              "short               5073\n",
              "sport                432\n",
              "talk-show            391\n",
              "thriller            1591\n",
              "war                  132\n",
              "western             1032"
            ],
            "text/html": [
              "\n",
              "  <div id=\"df-1615af26-ca5f-40ba-a67b-c3068edbf5d8\">\n",
              "    <div class=\"colab-df-container\">\n",
              "      <div>\n",
              "<style scoped>\n",
              "    .dataframe tbody tr th:only-of-type {\n",
              "        vertical-align: middle;\n",
              "    }\n",
              "\n",
              "    .dataframe tbody tr th {\n",
              "        vertical-align: top;\n",
              "    }\n",
              "\n",
              "    .dataframe thead th {\n",
              "        text-align: right;\n",
              "    }\n",
              "</style>\n",
              "<table border=\"1\" class=\"dataframe\">\n",
              "  <thead>\n",
              "    <tr style=\"text-align: right;\">\n",
              "      <th></th>\n",
              "      <th>description</th>\n",
              "    </tr>\n",
              "    <tr>\n",
              "      <th>genre</th>\n",
              "      <th></th>\n",
              "    </tr>\n",
              "  </thead>\n",
              "  <tbody>\n",
              "    <tr>\n",
              "      <th>action</th>\n",
              "      <td>1315</td>\n",
              "    </tr>\n",
              "    <tr>\n",
              "      <th>adult</th>\n",
              "      <td>590</td>\n",
              "    </tr>\n",
              "    <tr>\n",
              "      <th>adventure</th>\n",
              "      <td>775</td>\n",
              "    </tr>\n",
              "    <tr>\n",
              "      <th>animation</th>\n",
              "      <td>498</td>\n",
              "    </tr>\n",
              "    <tr>\n",
              "      <th>biography</th>\n",
              "      <td>265</td>\n",
              "    </tr>\n",
              "    <tr>\n",
              "      <th>comedy</th>\n",
              "      <td>7447</td>\n",
              "    </tr>\n",
              "    <tr>\n",
              "      <th>crime</th>\n",
              "      <td>505</td>\n",
              "    </tr>\n",
              "    <tr>\n",
              "      <th>documentary</th>\n",
              "      <td>13096</td>\n",
              "    </tr>\n",
              "    <tr>\n",
              "      <th>drama</th>\n",
              "      <td>13613</td>\n",
              "    </tr>\n",
              "    <tr>\n",
              "      <th>family</th>\n",
              "      <td>784</td>\n",
              "    </tr>\n",
              "    <tr>\n",
              "      <th>fantasy</th>\n",
              "      <td>323</td>\n",
              "    </tr>\n",
              "    <tr>\n",
              "      <th>game-show</th>\n",
              "      <td>194</td>\n",
              "    </tr>\n",
              "    <tr>\n",
              "      <th>history</th>\n",
              "      <td>243</td>\n",
              "    </tr>\n",
              "    <tr>\n",
              "      <th>horror</th>\n",
              "      <td>2204</td>\n",
              "    </tr>\n",
              "    <tr>\n",
              "      <th>music</th>\n",
              "      <td>731</td>\n",
              "    </tr>\n",
              "    <tr>\n",
              "      <th>musical</th>\n",
              "      <td>277</td>\n",
              "    </tr>\n",
              "    <tr>\n",
              "      <th>mystery</th>\n",
              "      <td>319</td>\n",
              "    </tr>\n",
              "    <tr>\n",
              "      <th>news</th>\n",
              "      <td>181</td>\n",
              "    </tr>\n",
              "    <tr>\n",
              "      <th>reality-tv</th>\n",
              "      <td>884</td>\n",
              "    </tr>\n",
              "    <tr>\n",
              "      <th>romance</th>\n",
              "      <td>672</td>\n",
              "    </tr>\n",
              "    <tr>\n",
              "      <th>sci-fi</th>\n",
              "      <td>647</td>\n",
              "    </tr>\n",
              "    <tr>\n",
              "      <th>short</th>\n",
              "      <td>5073</td>\n",
              "    </tr>\n",
              "    <tr>\n",
              "      <th>sport</th>\n",
              "      <td>432</td>\n",
              "    </tr>\n",
              "    <tr>\n",
              "      <th>talk-show</th>\n",
              "      <td>391</td>\n",
              "    </tr>\n",
              "    <tr>\n",
              "      <th>thriller</th>\n",
              "      <td>1591</td>\n",
              "    </tr>\n",
              "    <tr>\n",
              "      <th>war</th>\n",
              "      <td>132</td>\n",
              "    </tr>\n",
              "    <tr>\n",
              "      <th>western</th>\n",
              "      <td>1032</td>\n",
              "    </tr>\n",
              "  </tbody>\n",
              "</table>\n",
              "</div>\n",
              "      <button class=\"colab-df-convert\" onclick=\"convertToInteractive('df-1615af26-ca5f-40ba-a67b-c3068edbf5d8')\"\n",
              "              title=\"Convert this dataframe to an interactive table.\"\n",
              "              style=\"display:none;\">\n",
              "        \n",
              "  <svg xmlns=\"http://www.w3.org/2000/svg\" height=\"24px\"viewBox=\"0 0 24 24\"\n",
              "       width=\"24px\">\n",
              "    <path d=\"M0 0h24v24H0V0z\" fill=\"none\"/>\n",
              "    <path d=\"M18.56 5.44l.94 2.06.94-2.06 2.06-.94-2.06-.94-.94-2.06-.94 2.06-2.06.94zm-11 1L8.5 8.5l.94-2.06 2.06-.94-2.06-.94L8.5 2.5l-.94 2.06-2.06.94zm10 10l.94 2.06.94-2.06 2.06-.94-2.06-.94-.94-2.06-.94 2.06-2.06.94z\"/><path d=\"M17.41 7.96l-1.37-1.37c-.4-.4-.92-.59-1.43-.59-.52 0-1.04.2-1.43.59L10.3 9.45l-7.72 7.72c-.78.78-.78 2.05 0 2.83L4 21.41c.39.39.9.59 1.41.59.51 0 1.02-.2 1.41-.59l7.78-7.78 2.81-2.81c.8-.78.8-2.07 0-2.86zM5.41 20L4 18.59l7.72-7.72 1.47 1.35L5.41 20z\"/>\n",
              "  </svg>\n",
              "      </button>\n",
              "      \n",
              "  <style>\n",
              "    .colab-df-container {\n",
              "      display:flex;\n",
              "      flex-wrap:wrap;\n",
              "      gap: 12px;\n",
              "    }\n",
              "\n",
              "    .colab-df-convert {\n",
              "      background-color: #E8F0FE;\n",
              "      border: none;\n",
              "      border-radius: 50%;\n",
              "      cursor: pointer;\n",
              "      display: none;\n",
              "      fill: #1967D2;\n",
              "      height: 32px;\n",
              "      padding: 0 0 0 0;\n",
              "      width: 32px;\n",
              "    }\n",
              "\n",
              "    .colab-df-convert:hover {\n",
              "      background-color: #E2EBFA;\n",
              "      box-shadow: 0px 1px 2px rgba(60, 64, 67, 0.3), 0px 1px 3px 1px rgba(60, 64, 67, 0.15);\n",
              "      fill: #174EA6;\n",
              "    }\n",
              "\n",
              "    [theme=dark] .colab-df-convert {\n",
              "      background-color: #3B4455;\n",
              "      fill: #D2E3FC;\n",
              "    }\n",
              "\n",
              "    [theme=dark] .colab-df-convert:hover {\n",
              "      background-color: #434B5C;\n",
              "      box-shadow: 0px 1px 3px 1px rgba(0, 0, 0, 0.15);\n",
              "      filter: drop-shadow(0px 1px 2px rgba(0, 0, 0, 0.3));\n",
              "      fill: #FFFFFF;\n",
              "    }\n",
              "  </style>\n",
              "\n",
              "      <script>\n",
              "        const buttonEl =\n",
              "          document.querySelector('#df-1615af26-ca5f-40ba-a67b-c3068edbf5d8 button.colab-df-convert');\n",
              "        buttonEl.style.display =\n",
              "          google.colab.kernel.accessAllowed ? 'block' : 'none';\n",
              "\n",
              "        async function convertToInteractive(key) {\n",
              "          const element = document.querySelector('#df-1615af26-ca5f-40ba-a67b-c3068edbf5d8');\n",
              "          const dataTable =\n",
              "            await google.colab.kernel.invokeFunction('convertToInteractive',\n",
              "                                                     [key], {});\n",
              "          if (!dataTable) return;\n",
              "\n",
              "          const docLinkHtml = 'Like what you see? Visit the ' +\n",
              "            '<a target=\"_blank\" href=https://colab.research.google.com/notebooks/data_table.ipynb>data table notebook</a>'\n",
              "            + ' to learn more about interactive tables.';\n",
              "          element.innerHTML = '';\n",
              "          dataTable['output_type'] = 'display_data';\n",
              "          await google.colab.output.renderOutput(dataTable, element);\n",
              "          const docLink = document.createElement('div');\n",
              "          docLink.innerHTML = docLinkHtml;\n",
              "          element.appendChild(docLink);\n",
              "        }\n",
              "      </script>\n",
              "    </div>\n",
              "  </div>\n",
              "  "
            ]
          },
          "metadata": {},
          "execution_count": 151
        }
      ]
    },
    {
      "cell_type": "code",
      "source": [
        "#Keep western, thriller and action\n",
        "\n",
        "df = df[df[\"genre\"].isin([\"western\",\"thriller\",\"action\"])]\n",
        "df.head()"
      ],
      "metadata": {
        "id": "oZgzfVZNbCRz",
        "colab": {
          "base_uri": "https://localhost:8080/",
          "height": 206
        },
        "outputId": "76280001-01d5-432e-a3c2-59813c83397b"
      },
      "execution_count": null,
      "outputs": [
        {
          "output_type": "execute_result",
          "data": {
            "text/plain": [
              "       genre                                        description\n",
              "1   thriller  A brother and sister with a past incestuous re...\n",
              "13  thriller  A photographer is sailing with his wife, her s...\n",
              "24    action  Dong-woo is released from prison after a short...\n",
              "28  thriller  Marie is an insecure housewife whose husband, ...\n",
              "32    action  Thai Town is a six-block area near Hollywood, ..."
            ],
            "text/html": [
              "\n",
              "  <div id=\"df-f4985fbf-899e-4372-b8aa-939b96d41afe\">\n",
              "    <div class=\"colab-df-container\">\n",
              "      <div>\n",
              "<style scoped>\n",
              "    .dataframe tbody tr th:only-of-type {\n",
              "        vertical-align: middle;\n",
              "    }\n",
              "\n",
              "    .dataframe tbody tr th {\n",
              "        vertical-align: top;\n",
              "    }\n",
              "\n",
              "    .dataframe thead th {\n",
              "        text-align: right;\n",
              "    }\n",
              "</style>\n",
              "<table border=\"1\" class=\"dataframe\">\n",
              "  <thead>\n",
              "    <tr style=\"text-align: right;\">\n",
              "      <th></th>\n",
              "      <th>genre</th>\n",
              "      <th>description</th>\n",
              "    </tr>\n",
              "  </thead>\n",
              "  <tbody>\n",
              "    <tr>\n",
              "      <th>1</th>\n",
              "      <td>thriller</td>\n",
              "      <td>A brother and sister with a past incestuous re...</td>\n",
              "    </tr>\n",
              "    <tr>\n",
              "      <th>13</th>\n",
              "      <td>thriller</td>\n",
              "      <td>A photographer is sailing with his wife, her s...</td>\n",
              "    </tr>\n",
              "    <tr>\n",
              "      <th>24</th>\n",
              "      <td>action</td>\n",
              "      <td>Dong-woo is released from prison after a short...</td>\n",
              "    </tr>\n",
              "    <tr>\n",
              "      <th>28</th>\n",
              "      <td>thriller</td>\n",
              "      <td>Marie is an insecure housewife whose husband, ...</td>\n",
              "    </tr>\n",
              "    <tr>\n",
              "      <th>32</th>\n",
              "      <td>action</td>\n",
              "      <td>Thai Town is a six-block area near Hollywood, ...</td>\n",
              "    </tr>\n",
              "  </tbody>\n",
              "</table>\n",
              "</div>\n",
              "      <button class=\"colab-df-convert\" onclick=\"convertToInteractive('df-f4985fbf-899e-4372-b8aa-939b96d41afe')\"\n",
              "              title=\"Convert this dataframe to an interactive table.\"\n",
              "              style=\"display:none;\">\n",
              "        \n",
              "  <svg xmlns=\"http://www.w3.org/2000/svg\" height=\"24px\"viewBox=\"0 0 24 24\"\n",
              "       width=\"24px\">\n",
              "    <path d=\"M0 0h24v24H0V0z\" fill=\"none\"/>\n",
              "    <path d=\"M18.56 5.44l.94 2.06.94-2.06 2.06-.94-2.06-.94-.94-2.06-.94 2.06-2.06.94zm-11 1L8.5 8.5l.94-2.06 2.06-.94-2.06-.94L8.5 2.5l-.94 2.06-2.06.94zm10 10l.94 2.06.94-2.06 2.06-.94-2.06-.94-.94-2.06-.94 2.06-2.06.94z\"/><path d=\"M17.41 7.96l-1.37-1.37c-.4-.4-.92-.59-1.43-.59-.52 0-1.04.2-1.43.59L10.3 9.45l-7.72 7.72c-.78.78-.78 2.05 0 2.83L4 21.41c.39.39.9.59 1.41.59.51 0 1.02-.2 1.41-.59l7.78-7.78 2.81-2.81c.8-.78.8-2.07 0-2.86zM5.41 20L4 18.59l7.72-7.72 1.47 1.35L5.41 20z\"/>\n",
              "  </svg>\n",
              "      </button>\n",
              "      \n",
              "  <style>\n",
              "    .colab-df-container {\n",
              "      display:flex;\n",
              "      flex-wrap:wrap;\n",
              "      gap: 12px;\n",
              "    }\n",
              "\n",
              "    .colab-df-convert {\n",
              "      background-color: #E8F0FE;\n",
              "      border: none;\n",
              "      border-radius: 50%;\n",
              "      cursor: pointer;\n",
              "      display: none;\n",
              "      fill: #1967D2;\n",
              "      height: 32px;\n",
              "      padding: 0 0 0 0;\n",
              "      width: 32px;\n",
              "    }\n",
              "\n",
              "    .colab-df-convert:hover {\n",
              "      background-color: #E2EBFA;\n",
              "      box-shadow: 0px 1px 2px rgba(60, 64, 67, 0.3), 0px 1px 3px 1px rgba(60, 64, 67, 0.15);\n",
              "      fill: #174EA6;\n",
              "    }\n",
              "\n",
              "    [theme=dark] .colab-df-convert {\n",
              "      background-color: #3B4455;\n",
              "      fill: #D2E3FC;\n",
              "    }\n",
              "\n",
              "    [theme=dark] .colab-df-convert:hover {\n",
              "      background-color: #434B5C;\n",
              "      box-shadow: 0px 1px 3px 1px rgba(0, 0, 0, 0.15);\n",
              "      filter: drop-shadow(0px 1px 2px rgba(0, 0, 0, 0.3));\n",
              "      fill: #FFFFFF;\n",
              "    }\n",
              "  </style>\n",
              "\n",
              "      <script>\n",
              "        const buttonEl =\n",
              "          document.querySelector('#df-f4985fbf-899e-4372-b8aa-939b96d41afe button.colab-df-convert');\n",
              "        buttonEl.style.display =\n",
              "          google.colab.kernel.accessAllowed ? 'block' : 'none';\n",
              "\n",
              "        async function convertToInteractive(key) {\n",
              "          const element = document.querySelector('#df-f4985fbf-899e-4372-b8aa-939b96d41afe');\n",
              "          const dataTable =\n",
              "            await google.colab.kernel.invokeFunction('convertToInteractive',\n",
              "                                                     [key], {});\n",
              "          if (!dataTable) return;\n",
              "\n",
              "          const docLinkHtml = 'Like what you see? Visit the ' +\n",
              "            '<a target=\"_blank\" href=https://colab.research.google.com/notebooks/data_table.ipynb>data table notebook</a>'\n",
              "            + ' to learn more about interactive tables.';\n",
              "          element.innerHTML = '';\n",
              "          dataTable['output_type'] = 'display_data';\n",
              "          await google.colab.output.renderOutput(dataTable, element);\n",
              "          const docLink = document.createElement('div');\n",
              "          docLink.innerHTML = docLinkHtml;\n",
              "          element.appendChild(docLink);\n",
              "        }\n",
              "      </script>\n",
              "    </div>\n",
              "  </div>\n",
              "  "
            ]
          },
          "metadata": {},
          "execution_count": 152
        }
      ]
    },
    {
      "cell_type": "code",
      "source": [
        "thr_text = \" \".join(df[\"description\"][df[\"genre\"]==\"thriller\"].to_list())\n",
        "act_text = \" \".join(df[\"description\"][df[\"genre\"]==\"action\"].to_list())\n",
        "west_text = \" \".join(df[\"description\"][df[\"genre\"]==\"western\"].to_list())"
      ],
      "metadata": {
        "id": "SyPOPmckbbsu"
      },
      "execution_count": null,
      "outputs": []
    },
    {
      "cell_type": "code",
      "source": [
        "import re\n",
        "from collections import Counter\n",
        "def sent2ngrams_regex(text, n):\n",
        "    rgx = '(?=('+'\\S'*n+'))'\n",
        "    return re.findall(rgx,text)\n",
        "\n",
        "def getTopNgramSignature(text, nmin, nmax, topn):\n",
        "\n",
        "  counters = []\n",
        "  for i in range(nmin, nmax+1):\n",
        "    grams = sent2ngrams_regex(text.lower(),i)\n",
        "    cnt = Counter(grams)\n",
        "    sumgrams=len(grams)\n",
        "    for gram in cnt:\n",
        "      cnt[gram] /= sumgrams\n",
        "    counters.append(cnt)\n",
        "\n",
        "  cnt = Counter()\n",
        "  for counter in counters:\n",
        "    cnt += counter\n",
        "  \n",
        "  commons = cnt.most_common(topn)\n",
        "  ngrams = [common[0] for common in commons]\n",
        "  counts = [common[1] for common in commons]\n",
        "  return ngrams, counts\n"
      ],
      "metadata": {
        "id": "4lEHIwbscQUa"
      },
      "execution_count": null,
      "outputs": []
    },
    {
      "cell_type": "code",
      "source": [
        "print(sent2ngrams_regex(\"This is it.\",3))"
      ],
      "metadata": {
        "id": "UYKkGRD6qLB3",
        "colab": {
          "base_uri": "https://localhost:8080/"
        },
        "outputId": "3a9f1a04-7505-49ff-bbfe-46c69883dfdc"
      },
      "execution_count": null,
      "outputs": [
        {
          "output_type": "stream",
          "name": "stdout",
          "text": [
            "['Thi', 'his', 'it.']\n"
          ]
        }
      ]
    },
    {
      "cell_type": "code",
      "source": [
        "maxused = 20\n",
        "ngrams, counts = getTopNgramSignature(act_text, 2, 5, maxused)"
      ],
      "metadata": {
        "id": "mV46VRC2e6cr"
      },
      "execution_count": null,
      "outputs": []
    },
    {
      "cell_type": "code",
      "source": [
        "import matplotlib.pyplot as plt\n",
        "\n",
        "plt.figure(figsize=(14,6))\n",
        "plt.plot(counts)\n",
        "plt.xticks(range(maxused),ngrams)\n",
        "plt.grid()\n",
        "print(ngrams)"
      ],
      "metadata": {
        "id": "2qrHrV6pdKL4",
        "colab": {
          "base_uri": "https://localhost:8080/",
          "height": 539
        },
        "outputId": "99b3b8ac-3b3b-490a-86a7-4a2efef85c5d"
      },
      "execution_count": null,
      "outputs": [
        {
          "output_type": "stream",
          "name": "stdout",
          "text": [
            "['th', 'he', 'the', 'in', 'an', 'er', 'nd', 'is', 'and', 'on', 'to', 're', 'es', 'en', 'ng', 'ing', 'hi', 'ar', 'or', 'st']\n"
          ]
        },
        {
          "output_type": "display_data",
          "data": {
            "text/plain": [
              "<Figure size 1400x600 with 1 Axes>"
            ],
            "image/png": "[encoded data removed]"
          },
          "metadata": {}
        }
      ]
    },
    {
      "cell_type": "markdown",
      "source": [
        "Zipf-law"
      ],
      "metadata": {
        "id": "j9_bx8bDQxrz"
      }
    },
    {
      "cell_type": "markdown",
      "source": [
        "## Rank distance measures:\n",
        "\n",
        "- At the same index: 0\n",
        "- At different index: abs(i1-i2)\n",
        "- Does not exist: Maximal value (array length)"
      ],
      "metadata": {
        "id": "sE4eMe-9j3pL"
      }
    },
    {
      "cell_type": "code",
      "source": [
        "def rankDiff(profile, doc):\n",
        "  assert len(doc)==len(profile)\n",
        "  diff = 0\n",
        "  for i in range(len(doc)):\n",
        "    if doc[i] in profile:\n",
        "      j = profile.index(doc[i])\n",
        "      diff += abs(i-j)\n",
        "    else:\n",
        "      diff += len(profile)\n",
        "  \n",
        "  return diff"
      ],
      "metadata": {
        "id": "O0cz4aM7eFgU"
      },
      "execution_count": null,
      "outputs": []
    },
    {
      "cell_type": "code",
      "source": [
        "maxused = 250\n",
        "thr_profile, _ = getTopNgramSignature(thr_text, 2,5, maxused)\n",
        "act_profile, _ = getTopNgramSignature(act_text, 2,5, maxused)\n",
        "west_profile, _ = getTopNgramSignature(west_text, 2,5, maxused)"
      ],
      "metadata": {
        "id": "eiq0ve3Xmqg1"
      },
      "execution_count": null,
      "outputs": []
    },
    {
      "cell_type": "code",
      "source": [
        "def categorize(doc_profile):\n",
        "  distances = np.array([rankDiff(thr_profile, doc_profile), rankDiff(act_profile, doc_profile), rankDiff(west_profile, doc_profile)])\n",
        "  genres = [\"thriller\",\"action\",\"western\"]\n",
        "  bestidx = np.argmin(distances)\n",
        "  return genres[bestidx], distances"
      ],
      "metadata": {
        "id": "KtW-cElbm6Kx"
      },
      "execution_count": null,
      "outputs": []
    },
    {
      "cell_type": "code",
      "source": [
        "#Spider-Man 2021\n",
        "doc = \"With Spider-Man's identity now revealed, Peter asks Doctor Strange for help. When a spell goes wrong, dangerous foes from other worlds start to appear, forcing Peter to discover what it truly means to be Spider-Man.\"\n",
        "doc_profile, _ = getTopNgramSignature(doc, 2,5, maxused)\n",
        "categorize(doc_profile)"
      ],
      "metadata": {
        "id": "Qs_pzQ20nZPS",
        "colab": {
          "base_uri": "https://localhost:8080/"
        },
        "outputId": "dfb037e0-2d78-45a7-8cb8-440c7a2eabfe"
      },
      "execution_count": null,
      "outputs": [
        {
          "output_type": "execute_result",
          "data": {
            "text/plain": [
              "('action', array([51753, 50941, 51152]))"
            ]
          },
          "metadata": {},
          "execution_count": 168
        }
      ]
    },
    {
      "cell_type": "code",
      "source": [
        "#The Power of The Dog 2021\n",
        "doc = \"Charismatic rancher Phil Burbank inspires fear and awe in those around him. When his brother brings home a new wife and her son, Phil torments them until he finds himself exposed to the possibility of love.\"\n",
        "doc_profile, _ = getTopNgramSignature(doc, 2,5, maxused)\n",
        "categorize(doc_profile)"
      ],
      "metadata": {
        "id": "86HifJ95oEUQ",
        "colab": {
          "base_uri": "https://localhost:8080/"
        },
        "outputId": "40fbbd06-b49d-469c-8712-a68a7829909f"
      },
      "execution_count": null,
      "outputs": [
        {
          "output_type": "execute_result",
          "data": {
            "text/plain": [
              "('western', array([51569, 51450, 50377]))"
            ]
          },
          "metadata": {},
          "execution_count": 169
        }
      ]
    },
    {
      "cell_type": "code",
      "source": [
        "#Scream 2022\n",
        "doc = \"Twenty-five years after the original series of murders in Woodsboro, a new Ghostface emerges, and Sidney Prescott must return to uncover the truth.\"\n",
        "doc_profile, _ = getTopNgramSignature(doc, 2,5, maxused)\n",
        "categorize(doc_profile)"
      ],
      "metadata": {
        "id": "WyHdFMsIpCoq",
        "colab": {
          "base_uri": "https://localhost:8080/"
        },
        "outputId": "66860be4-0d0d-483f-abf4-9158738250da"
      },
      "execution_count": null,
      "outputs": [
        {
          "output_type": "execute_result",
          "data": {
            "text/plain": [
              "('thriller', array([52240, 52801, 52673]))"
            ]
          },
          "metadata": {},
          "execution_count": 172
        }
      ]
    },
    {
      "cell_type": "code",
      "source": [],
      "metadata": {
        "id": "vp8-D-XypYnA"
      },
      "execution_count": null,
      "outputs": []
    }
  ]
}