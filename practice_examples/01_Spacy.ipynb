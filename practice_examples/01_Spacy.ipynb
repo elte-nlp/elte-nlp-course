{
  "cells": [
    {
      "cell_type": "markdown",
      "metadata": {
        "id": "k-9QBCl9lDov"
      },
      "source": [
        "# NLP Pipelines\n",
        "In this lab: spaCy   \n",
        "Notable other mentions: **NLTK** (next week), **CoreNLP** (a.k.a. Stanford NLP)   \n",
        "Hungarian specific: **magyarlanc**, other resources: https://github.com/oroszgy/awesome-hungarian-nlp"
      ]
    },
    {
      "cell_type": "markdown",
      "metadata": {
        "id": "7n2ZvXczngQP"
      },
      "source": [
        "# Installation\n",
        "pip install spacy\n",
        "\n",
        "# Download\n",
        "English pipeline models:   \n",
        "python -m spacy download en_core_web_sm   \n",
        "Details: https://spacy.io/usage/models"
      ]
    },
    {
      "cell_type": "code",
      "execution_count": 1,
      "metadata": {
        "colab": {
          "base_uri": "https://localhost:8080/"
        },
        "id": "2KMBYHjLjeQI",
        "outputId": "d3a42de3-484b-4d42-a74c-a61fc6434cf7"
      },
      "outputs": [
        {
          "output_type": "stream",
          "name": "stdout",
          "text": [
            "Mon Sep 25 19:47:58 2023       \n",
            "+-----------------------------------------------------------------------------+\n",
            "| NVIDIA-SMI 525.105.17   Driver Version: 525.105.17   CUDA Version: 12.0     |\n",
            "|-------------------------------+----------------------+----------------------+\n",
            "| GPU  Name        Persistence-M| Bus-Id        Disp.A | Volatile Uncorr. ECC |\n",
            "| Fan  Temp  Perf  Pwr:Usage/Cap|         Memory-Usage | GPU-Util  Compute M. |\n",
            "|                               |                      |               MIG M. |\n",
            "|===============================+======================+======================|\n",
            "|   0  Tesla T4            Off  | 00000000:00:04.0 Off |                    0 |\n",
            "| N/A   68C    P8    12W /  70W |      0MiB / 15360MiB |      0%      Default |\n",
            "|                               |                      |                  N/A |\n",
            "+-------------------------------+----------------------+----------------------+\n",
            "                                                                               \n",
            "+-----------------------------------------------------------------------------+\n",
            "| Processes:                                                                  |\n",
            "|  GPU   GI   CI        PID   Type   Process name                  GPU Memory |\n",
            "|        ID   ID                                                   Usage      |\n",
            "|=============================================================================|\n",
            "|  No running processes found                                                 |\n",
            "+-----------------------------------------------------------------------------+\n"
          ]
        }
      ],
      "source": [
        "!nvidia-smi"
      ]
    },
    {
      "cell_type": "code",
      "execution_count": 2,
      "metadata": {
        "colab": {
          "base_uri": "https://localhost:8080/",
          "height": 1000
        },
        "id": "5Sd5ZVKhq98s",
        "outputId": "66fd8cb6-3e75-46f9-ac70-c5b10199c28b"
      },
      "outputs": [
        {
          "output_type": "stream",
          "name": "stdout",
          "text": [
            "Requirement already satisfied: pip in /usr/local/lib/python3.10/dist-packages (23.1.2)\n",
            "Collecting pip\n",
            "  Downloading pip-23.2.1-py3-none-any.whl (2.1 MB)\n",
            "\u001b[2K     \u001b[90m━━━━━━━━━━━━━━━━━━━━━━━━━━━━━━━━━━━━━━━━\u001b[0m \u001b[32m2.1/2.1 MB\u001b[0m \u001b[31m21.8 MB/s\u001b[0m eta \u001b[36m0:00:00\u001b[0m\n",
            "\u001b[?25hRequirement already satisfied: setuptools in /usr/local/lib/python3.10/dist-packages (67.7.2)\n",
            "Collecting setuptools\n",
            "  Downloading setuptools-68.2.2-py3-none-any.whl (807 kB)\n",
            "\u001b[2K     \u001b[90m━━━━━━━━━━━━━━━━━━━━━━━━━━━━━━━━━━━━━━\u001b[0m \u001b[32m807.9/807.9 kB\u001b[0m \u001b[31m67.8 MB/s\u001b[0m eta \u001b[36m0:00:00\u001b[0m\n",
            "\u001b[?25hRequirement already satisfied: wheel in /usr/local/lib/python3.10/dist-packages (0.41.2)\n",
            "Installing collected packages: setuptools, pip\n",
            "  Attempting uninstall: setuptools\n",
            "    Found existing installation: setuptools 67.7.2\n",
            "    Uninstalling setuptools-67.7.2:\n",
            "      Successfully uninstalled setuptools-67.7.2\n",
            "  Attempting uninstall: pip\n",
            "    Found existing installation: pip 23.1.2\n",
            "    Uninstalling pip-23.1.2:\n",
            "      Successfully uninstalled pip-23.1.2\n",
            "\u001b[31mERROR: pip's dependency resolver does not currently take into account all the packages that are installed. This behaviour is the source of the following dependency conflicts.\n",
            "ipython 7.34.0 requires jedi>=0.16, which is not installed.\u001b[0m\u001b[31m\n",
            "\u001b[0mSuccessfully installed pip-23.2.1 setuptools-68.2.2\n"
          ]
        },
        {
          "output_type": "display_data",
          "data": {
            "application/vnd.colab-display-data+json": {
              "pip_warning": {
                "packages": [
                  "_distutils_hack",
                  "pkg_resources",
                  "setuptools"
                ]
              }
            }
          },
          "metadata": {}
        },
        {
          "output_type": "stream",
          "name": "stdout",
          "text": [
            "Requirement already satisfied: spacy[cuda120] in /usr/local/lib/python3.10/dist-packages (3.6.1)\n",
            "\u001b[33mWARNING: spacy 3.6.1 does not provide the extra 'cuda120'\u001b[0m\u001b[33m\n",
            "\u001b[0mRequirement already satisfied: spacy-legacy<3.1.0,>=3.0.11 in /usr/local/lib/python3.10/dist-packages (from spacy[cuda120]) (3.0.12)\n",
            "Requirement already satisfied: spacy-loggers<2.0.0,>=1.0.0 in /usr/local/lib/python3.10/dist-packages (from spacy[cuda120]) (1.0.4)\n",
            "Requirement already satisfied: murmurhash<1.1.0,>=0.28.0 in /usr/local/lib/python3.10/dist-packages (from spacy[cuda120]) (1.0.9)\n",
            "Requirement already satisfied: cymem<2.1.0,>=2.0.2 in /usr/local/lib/python3.10/dist-packages (from spacy[cuda120]) (2.0.7)\n",
            "Requirement already satisfied: preshed<3.1.0,>=3.0.2 in /usr/local/lib/python3.10/dist-packages (from spacy[cuda120]) (3.0.8)\n",
            "Requirement already satisfied: thinc<8.2.0,>=8.1.8 in /usr/local/lib/python3.10/dist-packages (from spacy[cuda120]) (8.1.12)\n",
            "Requirement already satisfied: wasabi<1.2.0,>=0.9.1 in /usr/local/lib/python3.10/dist-packages (from spacy[cuda120]) (1.1.2)\n",
            "Requirement already satisfied: srsly<3.0.0,>=2.4.3 in /usr/local/lib/python3.10/dist-packages (from spacy[cuda120]) (2.4.7)\n",
            "Requirement already satisfied: catalogue<2.1.0,>=2.0.6 in /usr/local/lib/python3.10/dist-packages (from spacy[cuda120]) (2.0.9)\n",
            "Requirement already satisfied: typer<0.10.0,>=0.3.0 in /usr/local/lib/python3.10/dist-packages (from spacy[cuda120]) (0.9.0)\n",
            "Requirement already satisfied: pathy>=0.10.0 in /usr/local/lib/python3.10/dist-packages (from spacy[cuda120]) (0.10.2)\n",
            "Requirement already satisfied: smart-open<7.0.0,>=5.2.1 in /usr/local/lib/python3.10/dist-packages (from spacy[cuda120]) (6.4.0)\n",
            "Requirement already satisfied: tqdm<5.0.0,>=4.38.0 in /usr/local/lib/python3.10/dist-packages (from spacy[cuda120]) (4.66.1)\n",
            "Requirement already satisfied: numpy>=1.15.0 in /usr/local/lib/python3.10/dist-packages (from spacy[cuda120]) (1.23.5)\n",
            "Requirement already satisfied: requests<3.0.0,>=2.13.0 in /usr/local/lib/python3.10/dist-packages (from spacy[cuda120]) (2.31.0)\n",
            "Requirement already satisfied: pydantic!=1.8,!=1.8.1,<3.0.0,>=1.7.4 in /usr/local/lib/python3.10/dist-packages (from spacy[cuda120]) (1.10.12)\n",
            "Requirement already satisfied: jinja2 in /usr/local/lib/python3.10/dist-packages (from spacy[cuda120]) (3.1.2)\n",
            "Requirement already satisfied: setuptools in /usr/local/lib/python3.10/dist-packages (from spacy[cuda120]) (68.2.2)\n",
            "Requirement already satisfied: packaging>=20.0 in /usr/local/lib/python3.10/dist-packages (from spacy[cuda120]) (23.1)\n",
            "Requirement already satisfied: langcodes<4.0.0,>=3.2.0 in /usr/local/lib/python3.10/dist-packages (from spacy[cuda120]) (3.3.0)\n",
            "Requirement already satisfied: typing-extensions>=4.2.0 in /usr/local/lib/python3.10/dist-packages (from pydantic!=1.8,!=1.8.1,<3.0.0,>=1.7.4->spacy[cuda120]) (4.5.0)\n",
            "Requirement already satisfied: charset-normalizer<4,>=2 in /usr/local/lib/python3.10/dist-packages (from requests<3.0.0,>=2.13.0->spacy[cuda120]) (3.2.0)\n",
            "Requirement already satisfied: idna<4,>=2.5 in /usr/local/lib/python3.10/dist-packages (from requests<3.0.0,>=2.13.0->spacy[cuda120]) (3.4)\n",
            "Requirement already satisfied: urllib3<3,>=1.21.1 in /usr/local/lib/python3.10/dist-packages (from requests<3.0.0,>=2.13.0->spacy[cuda120]) (2.0.4)\n",
            "Requirement already satisfied: certifi>=2017.4.17 in /usr/local/lib/python3.10/dist-packages (from requests<3.0.0,>=2.13.0->spacy[cuda120]) (2023.7.22)\n",
            "Requirement already satisfied: blis<0.8.0,>=0.7.8 in /usr/local/lib/python3.10/dist-packages (from thinc<8.2.0,>=8.1.8->spacy[cuda120]) (0.7.10)\n",
            "Requirement already satisfied: confection<1.0.0,>=0.0.1 in /usr/local/lib/python3.10/dist-packages (from thinc<8.2.0,>=8.1.8->spacy[cuda120]) (0.1.2)\n",
            "Requirement already satisfied: click<9.0.0,>=7.1.1 in /usr/local/lib/python3.10/dist-packages (from typer<0.10.0,>=0.3.0->spacy[cuda120]) (8.1.7)\n",
            "Requirement already satisfied: MarkupSafe>=2.0 in /usr/local/lib/python3.10/dist-packages (from jinja2->spacy[cuda120]) (2.1.3)\n",
            "\u001b[33mWARNING: Running pip as the 'root' user can result in broken permissions and conflicting behaviour with the system package manager. It is recommended to use a virtual environment instead: https://pip.pypa.io/warnings/venv\u001b[0m\u001b[33m\n",
            "\u001b[0m"
          ]
        }
      ],
      "source": [
        "#Update Spacy for 3.0 functionality (new features), install GPU support for better performance\n",
        "!pip install -U pip setuptools wheel\n",
        "!pip install --upgrade 'spacy[cuda120]'"
      ]
    },
    {
      "cell_type": "code",
      "execution_count": 3,
      "metadata": {
        "colab": {
          "base_uri": "https://localhost:8080/"
        },
        "id": "YYG2E8KMoC8C",
        "outputId": "d64e3784-0fcb-4bc2-d68e-c5b7df166d3e"
      },
      "outputs": [
        {
          "output_type": "stream",
          "name": "stdout",
          "text": [
            "2023-09-25 19:48:30.350952: I tensorflow/core/platform/cpu_feature_guard.cc:182] This TensorFlow binary is optimized to use available CPU instructions in performance-critical operations.\n",
            "To enable the following instructions: AVX2 FMA, in other operations, rebuild TensorFlow with the appropriate compiler flags.\n",
            "2023-09-25 19:48:33.786734: W tensorflow/compiler/tf2tensorrt/utils/py_utils.cc:38] TF-TRT Warning: Could not find TensorRT\n",
            "2023-09-25 19:48:36.748811: I tensorflow/compiler/xla/stream_executor/cuda/cuda_gpu_executor.cc:995] successful NUMA node read from SysFS had negative value (-1), but there must be at least one NUMA node, so returning NUMA node zero. See more at https://github.com/torvalds/linux/blob/v6.0/Documentation/ABI/testing/sysfs-bus-pci#L344-L355\n",
            "2023-09-25 19:48:36.749464: I tensorflow/compiler/xla/stream_executor/cuda/cuda_gpu_executor.cc:995] successful NUMA node read from SysFS had negative value (-1), but there must be at least one NUMA node, so returning NUMA node zero. See more at https://github.com/torvalds/linux/blob/v6.0/Documentation/ABI/testing/sysfs-bus-pci#L344-L355\n",
            "2023-09-25 19:48:36.749713: I tensorflow/compiler/xla/stream_executor/cuda/cuda_gpu_executor.cc:995] successful NUMA node read from SysFS had negative value (-1), but there must be at least one NUMA node, so returning NUMA node zero. See more at https://github.com/torvalds/linux/blob/v6.0/Documentation/ABI/testing/sysfs-bus-pci#L344-L355\n",
            "Collecting en-core-web-sm==3.6.0\n",
            "  Downloading https://github.com/explosion/spacy-models/releases/download/en_core_web_sm-3.6.0/en_core_web_sm-3.6.0-py3-none-any.whl (12.8 MB)\n",
            "\u001b[2K     \u001b[90m━━━━━━━━━━━━━━━━━━━━━━━━━━━━━━━━━━━━━━━━\u001b[0m \u001b[32m12.8/12.8 MB\u001b[0m \u001b[31m29.6 MB/s\u001b[0m eta \u001b[36m0:00:00\u001b[0m\n",
            "\u001b[?25hRequirement already satisfied: spacy<3.7.0,>=3.6.0 in /usr/local/lib/python3.10/dist-packages (from en-core-web-sm==3.6.0) (3.6.1)\n",
            "Requirement already satisfied: spacy-legacy<3.1.0,>=3.0.11 in /usr/local/lib/python3.10/dist-packages (from spacy<3.7.0,>=3.6.0->en-core-web-sm==3.6.0) (3.0.12)\n",
            "Requirement already satisfied: spacy-loggers<2.0.0,>=1.0.0 in /usr/local/lib/python3.10/dist-packages (from spacy<3.7.0,>=3.6.0->en-core-web-sm==3.6.0) (1.0.4)\n",
            "Requirement already satisfied: murmurhash<1.1.0,>=0.28.0 in /usr/local/lib/python3.10/dist-packages (from spacy<3.7.0,>=3.6.0->en-core-web-sm==3.6.0) (1.0.9)\n",
            "Requirement already satisfied: cymem<2.1.0,>=2.0.2 in /usr/local/lib/python3.10/dist-packages (from spacy<3.7.0,>=3.6.0->en-core-web-sm==3.6.0) (2.0.7)\n",
            "Requirement already satisfied: preshed<3.1.0,>=3.0.2 in /usr/local/lib/python3.10/dist-packages (from spacy<3.7.0,>=3.6.0->en-core-web-sm==3.6.0) (3.0.8)\n",
            "Requirement already satisfied: thinc<8.2.0,>=8.1.8 in /usr/local/lib/python3.10/dist-packages (from spacy<3.7.0,>=3.6.0->en-core-web-sm==3.6.0) (8.1.12)\n",
            "Requirement already satisfied: wasabi<1.2.0,>=0.9.1 in /usr/local/lib/python3.10/dist-packages (from spacy<3.7.0,>=3.6.0->en-core-web-sm==3.6.0) (1.1.2)\n",
            "Requirement already satisfied: srsly<3.0.0,>=2.4.3 in /usr/local/lib/python3.10/dist-packages (from spacy<3.7.0,>=3.6.0->en-core-web-sm==3.6.0) (2.4.7)\n",
            "Requirement already satisfied: catalogue<2.1.0,>=2.0.6 in /usr/local/lib/python3.10/dist-packages (from spacy<3.7.0,>=3.6.0->en-core-web-sm==3.6.0) (2.0.9)\n",
            "Requirement already satisfied: typer<0.10.0,>=0.3.0 in /usr/local/lib/python3.10/dist-packages (from spacy<3.7.0,>=3.6.0->en-core-web-sm==3.6.0) (0.9.0)\n",
            "Requirement already satisfied: pathy>=0.10.0 in /usr/local/lib/python3.10/dist-packages (from spacy<3.7.0,>=3.6.0->en-core-web-sm==3.6.0) (0.10.2)\n",
            "Requirement already satisfied: smart-open<7.0.0,>=5.2.1 in /usr/local/lib/python3.10/dist-packages (from spacy<3.7.0,>=3.6.0->en-core-web-sm==3.6.0) (6.4.0)\n",
            "Requirement already satisfied: tqdm<5.0.0,>=4.38.0 in /usr/local/lib/python3.10/dist-packages (from spacy<3.7.0,>=3.6.0->en-core-web-sm==3.6.0) (4.66.1)\n",
            "Requirement already satisfied: numpy>=1.15.0 in /usr/local/lib/python3.10/dist-packages (from spacy<3.7.0,>=3.6.0->en-core-web-sm==3.6.0) (1.23.5)\n",
            "Requirement already satisfied: requests<3.0.0,>=2.13.0 in /usr/local/lib/python3.10/dist-packages (from spacy<3.7.0,>=3.6.0->en-core-web-sm==3.6.0) (2.31.0)\n",
            "Requirement already satisfied: pydantic!=1.8,!=1.8.1,<3.0.0,>=1.7.4 in /usr/local/lib/python3.10/dist-packages (from spacy<3.7.0,>=3.6.0->en-core-web-sm==3.6.0) (1.10.12)\n",
            "Requirement already satisfied: jinja2 in /usr/local/lib/python3.10/dist-packages (from spacy<3.7.0,>=3.6.0->en-core-web-sm==3.6.0) (3.1.2)\n",
            "Requirement already satisfied: setuptools in /usr/local/lib/python3.10/dist-packages (from spacy<3.7.0,>=3.6.0->en-core-web-sm==3.6.0) (68.2.2)\n",
            "Requirement already satisfied: packaging>=20.0 in /usr/local/lib/python3.10/dist-packages (from spacy<3.7.0,>=3.6.0->en-core-web-sm==3.6.0) (23.1)\n",
            "Requirement already satisfied: langcodes<4.0.0,>=3.2.0 in /usr/local/lib/python3.10/dist-packages (from spacy<3.7.0,>=3.6.0->en-core-web-sm==3.6.0) (3.3.0)\n",
            "Requirement already satisfied: typing-extensions>=4.2.0 in /usr/local/lib/python3.10/dist-packages (from pydantic!=1.8,!=1.8.1,<3.0.0,>=1.7.4->spacy<3.7.0,>=3.6.0->en-core-web-sm==3.6.0) (4.5.0)\n",
            "Requirement already satisfied: charset-normalizer<4,>=2 in /usr/local/lib/python3.10/dist-packages (from requests<3.0.0,>=2.13.0->spacy<3.7.0,>=3.6.0->en-core-web-sm==3.6.0) (3.2.0)\n",
            "Requirement already satisfied: idna<4,>=2.5 in /usr/local/lib/python3.10/dist-packages (from requests<3.0.0,>=2.13.0->spacy<3.7.0,>=3.6.0->en-core-web-sm==3.6.0) (3.4)\n",
            "Requirement already satisfied: urllib3<3,>=1.21.1 in /usr/local/lib/python3.10/dist-packages (from requests<3.0.0,>=2.13.0->spacy<3.7.0,>=3.6.0->en-core-web-sm==3.6.0) (2.0.4)\n",
            "Requirement already satisfied: certifi>=2017.4.17 in /usr/local/lib/python3.10/dist-packages (from requests<3.0.0,>=2.13.0->spacy<3.7.0,>=3.6.0->en-core-web-sm==3.6.0) (2023.7.22)\n",
            "Requirement already satisfied: blis<0.8.0,>=0.7.8 in /usr/local/lib/python3.10/dist-packages (from thinc<8.2.0,>=8.1.8->spacy<3.7.0,>=3.6.0->en-core-web-sm==3.6.0) (0.7.10)\n",
            "Requirement already satisfied: confection<1.0.0,>=0.0.1 in /usr/local/lib/python3.10/dist-packages (from thinc<8.2.0,>=8.1.8->spacy<3.7.0,>=3.6.0->en-core-web-sm==3.6.0) (0.1.2)\n",
            "Requirement already satisfied: click<9.0.0,>=7.1.1 in /usr/local/lib/python3.10/dist-packages (from typer<0.10.0,>=0.3.0->spacy<3.7.0,>=3.6.0->en-core-web-sm==3.6.0) (8.1.7)\n",
            "Requirement already satisfied: MarkupSafe>=2.0 in /usr/local/lib/python3.10/dist-packages (from jinja2->spacy<3.7.0,>=3.6.0->en-core-web-sm==3.6.0) (2.1.3)\n",
            "\u001b[33mWARNING: Running pip as the 'root' user can result in broken permissions and conflicting behaviour with the system package manager. It is recommended to use a virtual environment instead: https://pip.pypa.io/warnings/venv\u001b[0m\u001b[33m\n",
            "\u001b[0m\u001b[38;5;2m✔ Download and installation successful\u001b[0m\n",
            "You can now load the package via spacy.load('en_core_web_sm')\n"
          ]
        }
      ],
      "source": [
        "!python -m spacy download en_core_web_sm"
      ]
    },
    {
      "cell_type": "code",
      "execution_count": 4,
      "metadata": {
        "id": "NNxtBhYWjUEB"
      },
      "outputs": [],
      "source": [
        "import spacy\n",
        "import pandas as pd"
      ]
    },
    {
      "cell_type": "markdown",
      "metadata": {
        "id": "8PQ6bH-Roefz"
      },
      "source": [
        "# spaCy pipeline schematic\n",
        "\n",
        "<img src=\"https://spacy.io/images/pipeline-design.svg\">\n",
        "\n",
        "**Tokenizer**: \"segment an input character sequence into\n",
        "small meaningful units\" (Includes sentence splitter)\n",
        "\n",
        "**Tagger**: \"determining Part-of-speech (POS) tags\"\n",
        "\n",
        "**Parser**: \"parsing syntactical dependencies\";   \n",
        "word D depends on word H if:\n",
        "- D modifies the meaning of H\n",
        "- D can be omitted from the sentence keeping H (but H cannot be omitted while keeping D)\n",
        "\n",
        "**Ner**: \"the task of finding\n",
        "expressions in the input text that are naming entities and\n",
        "tagging them with the corresponding entity type\"\n",
        "\n",
        "**Others**: ?"
      ]
    },
    {
      "cell_type": "markdown",
      "metadata": {
        "id": "6xmHdGaptxcJ"
      },
      "source": [
        "# Pipeline management"
      ]
    },
    {
      "cell_type": "code",
      "execution_count": 43,
      "metadata": {
        "id": "3naooIlenbXp"
      },
      "outputs": [],
      "source": [
        "# Load pipeline\n",
        "\n",
        "# *EXTRA CODE*: require_gpu() is called to force spacy to use GPU\n",
        "spacy.require_gpu()\n",
        "nlp = spacy.load(\"en_core_web_sm\")"
      ]
    },
    {
      "cell_type": "code",
      "execution_count": 6,
      "metadata": {
        "colab": {
          "base_uri": "https://localhost:8080/"
        },
        "id": "72Nq3oHlp_H8",
        "outputId": "fbb0711a-09b0-4148-d58a-dcf2eafc9061"
      },
      "outputs": [
        {
          "output_type": "stream",
          "name": "stdout",
          "text": [
            "['tok2vec', 'tagger', 'parser', 'attribute_ruler', 'lemmatizer', 'ner']\n"
          ]
        }
      ],
      "source": [
        "# Check pipeline elements\n",
        "print(nlp.pipe_names)"
      ]
    },
    {
      "cell_type": "code",
      "execution_count": 7,
      "metadata": {
        "colab": {
          "base_uri": "https://localhost:8080/"
        },
        "id": "H3MMmT_aqEq6",
        "outputId": "549de2f3-aed2-4ded-f7d3-98dfe4716b64"
      },
      "outputs": [
        {
          "output_type": "stream",
          "name": "stdout",
          "text": [
            "['tok2vec', 'tagger', 'attribute_ruler', 'lemmatizer']\n",
            "['tok2vec', 'tagger', 'parser', 'attribute_ruler', 'lemmatizer']\n"
          ]
        }
      ],
      "source": [
        "# Control loaded elements\n",
        "nlp = spacy.load(\"en_core_web_sm\", disable=[\"parser\"], exclude=[\"ner\"])\n",
        "print(nlp.pipe_names)\n",
        "\n",
        "nlp.enable_pipe(\"parser\")\n",
        "print(nlp.pipe_names)"
      ]
    },
    {
      "cell_type": "code",
      "execution_count": 8,
      "metadata": {
        "colab": {
          "base_uri": "https://localhost:8080/"
        },
        "id": "D0uLR2tBqe8p",
        "outputId": "95f6e302-cdf7-45d5-a971-d37a33e0e13c"
      },
      "outputs": [
        {
          "output_type": "stream",
          "name": "stdout",
          "text": [
            "['tok2vec', 'tagger', 'parser', 'attribute_ruler', 'lemmatizer', 'ner']\n"
          ]
        }
      ],
      "source": [
        "# Let's load the full pipeline\n",
        "# tok2vec - required transformation for neural network based components\n",
        "# attribute_ruler - handles exception rules, enhances tagger outputs\n",
        "nlp = spacy.load(\"en_core_web_sm\")\n",
        "print(nlp.pipe_names)"
      ]
    },
    {
      "cell_type": "markdown",
      "metadata": {
        "id": "bdnv7-iBuvvE"
      },
      "source": [
        "# Inference"
      ]
    },
    {
      "cell_type": "code",
      "execution_count": 9,
      "metadata": {
        "colab": {
          "base_uri": "https://localhost:8080/"
        },
        "id": "eln0unhbue9y",
        "outputId": "7c00fbb4-6204-43f4-d5b1-d993d86312c0"
      },
      "outputs": [
        {
          "output_type": "stream",
          "name": "stdout",
          "text": [
            "Elisabeth grabbed 2 apples and took a bite of each.\n"
          ]
        }
      ],
      "source": [
        "text = \"Elisabeth grabbed 2 apples and took a bite of each.\"\n",
        "\n",
        "doc = nlp(text)\n",
        "print(doc)"
      ]
    },
    {
      "cell_type": "markdown",
      "metadata": {
        "id": "W01Yk5MbvXMo"
      },
      "source": [
        "## Document attributes"
      ]
    },
    {
      "cell_type": "code",
      "execution_count": 10,
      "metadata": {
        "colab": {
          "base_uri": "https://localhost:8080/"
        },
        "id": "_WaygPh0vKpp",
        "outputId": "5c821bbb-f5c9-41a3-99d5-2ead4221c39b"
      },
      "outputs": [
        {
          "output_type": "stream",
          "name": "stdout",
          "text": [
            "Elisabeth\n",
            "grabbed\n",
            "2\n",
            "apples\n",
            "and\n",
            "took\n",
            "a\n",
            "bite\n",
            "of\n",
            "each\n",
            ".\n"
          ]
        }
      ],
      "source": [
        "#tokenized\n",
        "for token in doc:\n",
        "  print(token)"
      ]
    },
    {
      "cell_type": "code",
      "execution_count": 11,
      "metadata": {
        "id": "2DfEe3ZSvsmZ",
        "colab": {
          "base_uri": "https://localhost:8080/"
        },
        "outputId": "ff49f2ca-5466-49c9-df15-6e0e983e1d11"
      },
      "outputs": [
        {
          "output_type": "stream",
          "name": "stderr",
          "text": [
            "/usr/local/lib/python3.10/dist-packages/spacy/glossary.py:20: UserWarning: [W118] Term '' not found in glossary. It may however be explained in documentation for the corpora used to train the language. Please check `nlp.meta[\"sources\"]` for any relevant links.\n",
            "  warnings.warn(Warnings.W118.format(term=term))\n"
          ]
        }
      ],
      "source": [
        "#Token parameters\n",
        "#Tag ending in _ is a string type reprezentation of a category, without _ usually returns an int\n",
        "data = \\\n",
        "[( token,         #token string\n",
        "  token.is_alpha, #contains letters only\n",
        "  token.is_punct, #punctuation\n",
        "  token.is_stop,  #stopwords\n",
        "  token.norm_,    #normailzed form\n",
        "  token.pos_,     #POS tag\n",
        "  spacy.explain(token.pos_),\n",
        "  token.tag_,     #Fine POS tag with morph info\n",
        "  spacy.explain(token.tag_),\n",
        "  token.dep_,     #Dependency type\n",
        "  spacy.explain(token.dep_),\n",
        "  token.ent_type_, #NER entity\n",
        "  spacy.explain(token.ent_type_),\n",
        "  token.lemma_,   #Lemma of the word\n",
        "  token.morph,    #morphological information\n",
        "  )for token in doc]"
      ]
    },
    {
      "cell_type": "code",
      "execution_count": 12,
      "metadata": {
        "colab": {
          "base_uri": "https://localhost:8080/",
          "height": 674
        },
        "id": "5kO189hhv9lp",
        "outputId": "b2fdd904-c9f1-44e5-f4a2-1fbed22fb910"
      },
      "outputs": [
        {
          "output_type": "execute_result",
          "data": {
            "text/plain": [
              "         word  isalpha  ispunct  isstop       norm    pos  \\\n",
              "0   Elisabeth     True    False   False  elisabeth  PROPN   \n",
              "1     grabbed     True    False   False    grabbed   VERB   \n",
              "2           2    False    False   False          2    NUM   \n",
              "3      apples     True    False   False     apples   NOUN   \n",
              "4         and     True    False    True        and  CCONJ   \n",
              "5        took     True    False   False       took   VERB   \n",
              "6           a     True    False    True          a    DET   \n",
              "7        bite     True    False   False       bite   NOUN   \n",
              "8          of     True    False    True         of    ADP   \n",
              "9        each     True    False    True       each   PRON   \n",
              "10          .    False     True   False          .  PUNCT   \n",
              "\n",
              "                    pos_expl fine_pos  \\\n",
              "0                proper noun      NNP   \n",
              "1                       verb      VBD   \n",
              "2                    numeral       CD   \n",
              "3                       noun      NNS   \n",
              "4   coordinating conjunction       CC   \n",
              "5                       verb      VBD   \n",
              "6                 determiner       DT   \n",
              "7                       noun       NN   \n",
              "8                 adposition       IN   \n",
              "9                    pronoun       DT   \n",
              "10               punctuation        .   \n",
              "\n",
              "                                fine_pos_expl     dep  \\\n",
              "0                       noun, proper singular   nsubj   \n",
              "1                            verb, past tense    ROOT   \n",
              "2                             cardinal number  nummod   \n",
              "3                                noun, plural    dobj   \n",
              "4                   conjunction, coordinating      cc   \n",
              "5                            verb, past tense    conj   \n",
              "6                                  determiner     det   \n",
              "7                      noun, singular or mass    dobj   \n",
              "8   conjunction, subordinating or preposition    prep   \n",
              "9                                  determiner    pobj   \n",
              "10          punctuation mark, sentence closer   punct   \n",
              "\n",
              "                    dep_expl    entity  \\\n",
              "0            nominal subject    PERSON   \n",
              "1                       root             \n",
              "2           numeric modifier  CARDINAL   \n",
              "3              direct object             \n",
              "4   coordinating conjunction             \n",
              "5                   conjunct             \n",
              "6                 determiner             \n",
              "7              direct object             \n",
              "8     prepositional modifier             \n",
              "9      object of preposition             \n",
              "10               punctuation             \n",
              "\n",
              "                                     entity_expl      lemma  \\\n",
              "0                    People, including fictional  Elisabeth   \n",
              "1                                           None       grab   \n",
              "2   Numerals that do not fall under another type          2   \n",
              "3                                           None      apple   \n",
              "4                                           None        and   \n",
              "5                                           None       take   \n",
              "6                                           None          a   \n",
              "7                                           None       bite   \n",
              "8                                           None         of   \n",
              "9                                           None       each   \n",
              "10                                          None          .   \n",
              "\n",
              "                           morph  \n",
              "0                  (Number=Sing)  \n",
              "1     (Tense=Past, VerbForm=Fin)  \n",
              "2                 (NumType=Card)  \n",
              "3                  (Number=Plur)  \n",
              "4                 (ConjType=Cmp)  \n",
              "5     (Tense=Past, VerbForm=Fin)  \n",
              "6   (Definite=Ind, PronType=Art)  \n",
              "7                  (Number=Sing)  \n",
              "8                             ()  \n",
              "9                             ()  \n",
              "10              (PunctType=Peri)  "
            ],
            "text/html": [
              "\n",
              "  <div id=\"df-ad9f6ba0-7d8e-426a-b3bb-010194d5c286\" class=\"colab-df-container\">\n",
              "    <div>\n",
              "<style scoped>\n",
              "    .dataframe tbody tr th:only-of-type {\n",
              "        vertical-align: middle;\n",
              "    }\n",
              "\n",
              "    .dataframe tbody tr th {\n",
              "        vertical-align: top;\n",
              "    }\n",
              "\n",
              "    .dataframe thead th {\n",
              "        text-align: right;\n",
              "    }\n",
              "</style>\n",
              "<table border=\"1\" class=\"dataframe\">\n",
              "  <thead>\n",
              "    <tr style=\"text-align: right;\">\n",
              "      <th></th>\n",
              "      <th>word</th>\n",
              "      <th>isalpha</th>\n",
              "      <th>ispunct</th>\n",
              "      <th>isstop</th>\n",
              "      <th>norm</th>\n",
              "      <th>pos</th>\n",
              "      <th>pos_expl</th>\n",
              "      <th>fine_pos</th>\n",
              "      <th>fine_pos_expl</th>\n",
              "      <th>dep</th>\n",
              "      <th>dep_expl</th>\n",
              "      <th>entity</th>\n",
              "      <th>entity_expl</th>\n",
              "      <th>lemma</th>\n",
              "      <th>morph</th>\n",
              "    </tr>\n",
              "  </thead>\n",
              "  <tbody>\n",
              "    <tr>\n",
              "      <th>0</th>\n",
              "      <td>Elisabeth</td>\n",
              "      <td>True</td>\n",
              "      <td>False</td>\n",
              "      <td>False</td>\n",
              "      <td>elisabeth</td>\n",
              "      <td>PROPN</td>\n",
              "      <td>proper noun</td>\n",
              "      <td>NNP</td>\n",
              "      <td>noun, proper singular</td>\n",
              "      <td>nsubj</td>\n",
              "      <td>nominal subject</td>\n",
              "      <td>PERSON</td>\n",
              "      <td>People, including fictional</td>\n",
              "      <td>Elisabeth</td>\n",
              "      <td>(Number=Sing)</td>\n",
              "    </tr>\n",
              "    <tr>\n",
              "      <th>1</th>\n",
              "      <td>grabbed</td>\n",
              "      <td>True</td>\n",
              "      <td>False</td>\n",
              "      <td>False</td>\n",
              "      <td>grabbed</td>\n",
              "      <td>VERB</td>\n",
              "      <td>verb</td>\n",
              "      <td>VBD</td>\n",
              "      <td>verb, past tense</td>\n",
              "      <td>ROOT</td>\n",
              "      <td>root</td>\n",
              "      <td></td>\n",
              "      <td>None</td>\n",
              "      <td>grab</td>\n",
              "      <td>(Tense=Past, VerbForm=Fin)</td>\n",
              "    </tr>\n",
              "    <tr>\n",
              "      <th>2</th>\n",
              "      <td>2</td>\n",
              "      <td>False</td>\n",
              "      <td>False</td>\n",
              "      <td>False</td>\n",
              "      <td>2</td>\n",
              "      <td>NUM</td>\n",
              "      <td>numeral</td>\n",
              "      <td>CD</td>\n",
              "      <td>cardinal number</td>\n",
              "      <td>nummod</td>\n",
              "      <td>numeric modifier</td>\n",
              "      <td>CARDINAL</td>\n",
              "      <td>Numerals that do not fall under another type</td>\n",
              "      <td>2</td>\n",
              "      <td>(NumType=Card)</td>\n",
              "    </tr>\n",
              "    <tr>\n",
              "      <th>3</th>\n",
              "      <td>apples</td>\n",
              "      <td>True</td>\n",
              "      <td>False</td>\n",
              "      <td>False</td>\n",
              "      <td>apples</td>\n",
              "      <td>NOUN</td>\n",
              "      <td>noun</td>\n",
              "      <td>NNS</td>\n",
              "      <td>noun, plural</td>\n",
              "      <td>dobj</td>\n",
              "      <td>direct object</td>\n",
              "      <td></td>\n",
              "      <td>None</td>\n",
              "      <td>apple</td>\n",
              "      <td>(Number=Plur)</td>\n",
              "    </tr>\n",
              "    <tr>\n",
              "      <th>4</th>\n",
              "      <td>and</td>\n",
              "      <td>True</td>\n",
              "      <td>False</td>\n",
              "      <td>True</td>\n",
              "      <td>and</td>\n",
              "      <td>CCONJ</td>\n",
              "      <td>coordinating conjunction</td>\n",
              "      <td>CC</td>\n",
              "      <td>conjunction, coordinating</td>\n",
              "      <td>cc</td>\n",
              "      <td>coordinating conjunction</td>\n",
              "      <td></td>\n",
              "      <td>None</td>\n",
              "      <td>and</td>\n",
              "      <td>(ConjType=Cmp)</td>\n",
              "    </tr>\n",
              "    <tr>\n",
              "      <th>5</th>\n",
              "      <td>took</td>\n",
              "      <td>True</td>\n",
              "      <td>False</td>\n",
              "      <td>False</td>\n",
              "      <td>took</td>\n",
              "      <td>VERB</td>\n",
              "      <td>verb</td>\n",
              "      <td>VBD</td>\n",
              "      <td>verb, past tense</td>\n",
              "      <td>conj</td>\n",
              "      <td>conjunct</td>\n",
              "      <td></td>\n",
              "      <td>None</td>\n",
              "      <td>take</td>\n",
              "      <td>(Tense=Past, VerbForm=Fin)</td>\n",
              "    </tr>\n",
              "    <tr>\n",
              "      <th>6</th>\n",
              "      <td>a</td>\n",
              "      <td>True</td>\n",
              "      <td>False</td>\n",
              "      <td>True</td>\n",
              "      <td>a</td>\n",
              "      <td>DET</td>\n",
              "      <td>determiner</td>\n",
              "      <td>DT</td>\n",
              "      <td>determiner</td>\n",
              "      <td>det</td>\n",
              "      <td>determiner</td>\n",
              "      <td></td>\n",
              "      <td>None</td>\n",
              "      <td>a</td>\n",
              "      <td>(Definite=Ind, PronType=Art)</td>\n",
              "    </tr>\n",
              "    <tr>\n",
              "      <th>7</th>\n",
              "      <td>bite</td>\n",
              "      <td>True</td>\n",
              "      <td>False</td>\n",
              "      <td>False</td>\n",
              "      <td>bite</td>\n",
              "      <td>NOUN</td>\n",
              "      <td>noun</td>\n",
              "      <td>NN</td>\n",
              "      <td>noun, singular or mass</td>\n",
              "      <td>dobj</td>\n",
              "      <td>direct object</td>\n",
              "      <td></td>\n",
              "      <td>None</td>\n",
              "      <td>bite</td>\n",
              "      <td>(Number=Sing)</td>\n",
              "    </tr>\n",
              "    <tr>\n",
              "      <th>8</th>\n",
              "      <td>of</td>\n",
              "      <td>True</td>\n",
              "      <td>False</td>\n",
              "      <td>True</td>\n",
              "      <td>of</td>\n",
              "      <td>ADP</td>\n",
              "      <td>adposition</td>\n",
              "      <td>IN</td>\n",
              "      <td>conjunction, subordinating or preposition</td>\n",
              "      <td>prep</td>\n",
              "      <td>prepositional modifier</td>\n",
              "      <td></td>\n",
              "      <td>None</td>\n",
              "      <td>of</td>\n",
              "      <td>()</td>\n",
              "    </tr>\n",
              "    <tr>\n",
              "      <th>9</th>\n",
              "      <td>each</td>\n",
              "      <td>True</td>\n",
              "      <td>False</td>\n",
              "      <td>True</td>\n",
              "      <td>each</td>\n",
              "      <td>PRON</td>\n",
              "      <td>pronoun</td>\n",
              "      <td>DT</td>\n",
              "      <td>determiner</td>\n",
              "      <td>pobj</td>\n",
              "      <td>object of preposition</td>\n",
              "      <td></td>\n",
              "      <td>None</td>\n",
              "      <td>each</td>\n",
              "      <td>()</td>\n",
              "    </tr>\n",
              "    <tr>\n",
              "      <th>10</th>\n",
              "      <td>.</td>\n",
              "      <td>False</td>\n",
              "      <td>True</td>\n",
              "      <td>False</td>\n",
              "      <td>.</td>\n",
              "      <td>PUNCT</td>\n",
              "      <td>punctuation</td>\n",
              "      <td>.</td>\n",
              "      <td>punctuation mark, sentence closer</td>\n",
              "      <td>punct</td>\n",
              "      <td>punctuation</td>\n",
              "      <td></td>\n",
              "      <td>None</td>\n",
              "      <td>.</td>\n",
              "      <td>(PunctType=Peri)</td>\n",
              "    </tr>\n",
              "  </tbody>\n",
              "</table>\n",
              "</div>\n",
              "    <div class=\"colab-df-buttons\">\n",
              "\n",
              "  <div class=\"colab-df-container\">\n",
              "    <button class=\"colab-df-convert\" onclick=\"convertToInteractive('df-ad9f6ba0-7d8e-426a-b3bb-010194d5c286')\"\n",
              "            title=\"Convert this dataframe to an interactive table.\"\n",
              "            style=\"display:none;\">\n",
              "\n",
              "  <svg xmlns=\"http://www.w3.org/2000/svg\" height=\"24px\" viewBox=\"0 -960 960 960\">\n",
              "    <path d=\"M120-120v-720h720v720H120Zm60-500h600v-160H180v160Zm220 220h160v-160H400v160Zm0 220h160v-160H400v160ZM180-400h160v-160H180v160Zm440 0h160v-160H620v160ZM180-180h160v-160H180v160Zm440 0h160v-160H620v160Z\"/>\n",
              "  </svg>\n",
              "    </button>\n",
              "\n",
              "  <style>\n",
              "    .colab-df-container {\n",
              "      display:flex;\n",
              "      gap: 12px;\n",
              "    }\n",
              "\n",
              "    .colab-df-convert {\n",
              "      background-color: #E8F0FE;\n",
              "      border: none;\n",
              "      border-radius: 50%;\n",
              "      cursor: pointer;\n",
              "      display: none;\n",
              "      fill: #1967D2;\n",
              "      height: 32px;\n",
              "      padding: 0 0 0 0;\n",
              "      width: 32px;\n",
              "    }\n",
              "\n",
              "    .colab-df-convert:hover {\n",
              "      background-color: #E2EBFA;\n",
              "      box-shadow: 0px 1px 2px rgba(60, 64, 67, 0.3), 0px 1px 3px 1px rgba(60, 64, 67, 0.15);\n",
              "      fill: #174EA6;\n",
              "    }\n",
              "\n",
              "    .colab-df-buttons div {\n",
              "      margin-bottom: 4px;\n",
              "    }\n",
              "\n",
              "    [theme=dark] .colab-df-convert {\n",
              "      background-color: #3B4455;\n",
              "      fill: #D2E3FC;\n",
              "    }\n",
              "\n",
              "    [theme=dark] .colab-df-convert:hover {\n",
              "      background-color: #434B5C;\n",
              "      box-shadow: 0px 1px 3px 1px rgba(0, 0, 0, 0.15);\n",
              "      filter: drop-shadow(0px 1px 2px rgba(0, 0, 0, 0.3));\n",
              "      fill: #FFFFFF;\n",
              "    }\n",
              "  </style>\n",
              "\n",
              "    <script>\n",
              "      const buttonEl =\n",
              "        document.querySelector('#df-ad9f6ba0-7d8e-426a-b3bb-010194d5c286 button.colab-df-convert');\n",
              "      buttonEl.style.display =\n",
              "        google.colab.kernel.accessAllowed ? 'block' : 'none';\n",
              "\n",
              "      async function convertToInteractive(key) {\n",
              "        const element = document.querySelector('#df-ad9f6ba0-7d8e-426a-b3bb-010194d5c286');\n",
              "        const dataTable =\n",
              "          await google.colab.kernel.invokeFunction('convertToInteractive',\n",
              "                                                    [key], {});\n",
              "        if (!dataTable) return;\n",
              "\n",
              "        const docLinkHtml = 'Like what you see? Visit the ' +\n",
              "          '<a target=\"_blank\" href=https://colab.research.google.com/notebooks/data_table.ipynb>data table notebook</a>'\n",
              "          + ' to learn more about interactive tables.';\n",
              "        element.innerHTML = '';\n",
              "        dataTable['output_type'] = 'display_data';\n",
              "        await google.colab.output.renderOutput(dataTable, element);\n",
              "        const docLink = document.createElement('div');\n",
              "        docLink.innerHTML = docLinkHtml;\n",
              "        element.appendChild(docLink);\n",
              "      }\n",
              "    </script>\n",
              "  </div>\n",
              "\n",
              "\n",
              "<div id=\"df-0a0921d2-96c0-4662-b459-7a0c044cfb43\">\n",
              "  <button class=\"colab-df-quickchart\" onclick=\"quickchart('df-0a0921d2-96c0-4662-b459-7a0c044cfb43')\"\n",
              "            title=\"Suggest charts.\"\n",
              "            style=\"display:none;\">\n",
              "\n",
              "<svg xmlns=\"http://www.w3.org/2000/svg\" height=\"24px\"viewBox=\"0 0 24 24\"\n",
              "     width=\"24px\">\n",
              "    <g>\n",
              "        <path d=\"M19 3H5c-1.1 0-2 .9-2 2v14c0 1.1.9 2 2 2h14c1.1 0 2-.9 2-2V5c0-1.1-.9-2-2-2zM9 17H7v-7h2v7zm4 0h-2V7h2v10zm4 0h-2v-4h2v4z\"/>\n",
              "    </g>\n",
              "</svg>\n",
              "  </button>\n",
              "\n",
              "<style>\n",
              "  .colab-df-quickchart {\n",
              "      --bg-color: #E8F0FE;\n",
              "      --fill-color: #1967D2;\n",
              "      --hover-bg-color: #E2EBFA;\n",
              "      --hover-fill-color: #174EA6;\n",
              "      --disabled-fill-color: #AAA;\n",
              "      --disabled-bg-color: #DDD;\n",
              "  }\n",
              "\n",
              "  [theme=dark] .colab-df-quickchart {\n",
              "      --bg-color: #3B4455;\n",
              "      --fill-color: #D2E3FC;\n",
              "      --hover-bg-color: #434B5C;\n",
              "      --hover-fill-color: #FFFFFF;\n",
              "      --disabled-bg-color: #3B4455;\n",
              "      --disabled-fill-color: #666;\n",
              "  }\n",
              "\n",
              "  .colab-df-quickchart {\n",
              "    background-color: var(--bg-color);\n",
              "    border: none;\n",
              "    border-radius: 50%;\n",
              "    cursor: pointer;\n",
              "    display: none;\n",
              "    fill: var(--fill-color);\n",
              "    height: 32px;\n",
              "    padding: 0;\n",
              "    width: 32px;\n",
              "  }\n",
              "\n",
              "  .colab-df-quickchart:hover {\n",
              "    background-color: var(--hover-bg-color);\n",
              "    box-shadow: 0 1px 2px rgba(60, 64, 67, 0.3), 0 1px 3px 1px rgba(60, 64, 67, 0.15);\n",
              "    fill: var(--button-hover-fill-color);\n",
              "  }\n",
              "\n",
              "  .colab-df-quickchart-complete:disabled,\n",
              "  .colab-df-quickchart-complete:disabled:hover {\n",
              "    background-color: var(--disabled-bg-color);\n",
              "    fill: var(--disabled-fill-color);\n",
              "    box-shadow: none;\n",
              "  }\n",
              "\n",
              "  .colab-df-spinner {\n",
              "    border: 2px solid var(--fill-color);\n",
              "    border-color: transparent;\n",
              "    border-bottom-color: var(--fill-color);\n",
              "    animation:\n",
              "      spin 1s steps(1) infinite;\n",
              "  }\n",
              "\n",
              "  @keyframes spin {\n",
              "    0% {\n",
              "      border-color: transparent;\n",
              "      border-bottom-color: var(--fill-color);\n",
              "      border-left-color: var(--fill-color);\n",
              "    }\n",
              "    20% {\n",
              "      border-color: transparent;\n",
              "      border-left-color: var(--fill-color);\n",
              "      border-top-color: var(--fill-color);\n",
              "    }\n",
              "    30% {\n",
              "      border-color: transparent;\n",
              "      border-left-color: var(--fill-color);\n",
              "      border-top-color: var(--fill-color);\n",
              "      border-right-color: var(--fill-color);\n",
              "    }\n",
              "    40% {\n",
              "      border-color: transparent;\n",
              "      border-right-color: var(--fill-color);\n",
              "      border-top-color: var(--fill-color);\n",
              "    }\n",
              "    60% {\n",
              "      border-color: transparent;\n",
              "      border-right-color: var(--fill-color);\n",
              "    }\n",
              "    80% {\n",
              "      border-color: transparent;\n",
              "      border-right-color: var(--fill-color);\n",
              "      border-bottom-color: var(--fill-color);\n",
              "    }\n",
              "    90% {\n",
              "      border-color: transparent;\n",
              "      border-bottom-color: var(--fill-color);\n",
              "    }\n",
              "  }\n",
              "</style>\n",
              "\n",
              "  <script>\n",
              "    async function quickchart(key) {\n",
              "      const quickchartButtonEl =\n",
              "        document.querySelector('#' + key + ' button');\n",
              "      quickchartButtonEl.disabled = true;  // To prevent multiple clicks.\n",
              "      quickchartButtonEl.classList.add('colab-df-spinner');\n",
              "      try {\n",
              "        const charts = await google.colab.kernel.invokeFunction(\n",
              "            'suggestCharts', [key], {});\n",
              "      } catch (error) {\n",
              "        console.error('Error during call to suggestCharts:', error);\n",
              "      }\n",
              "      quickchartButtonEl.classList.remove('colab-df-spinner');\n",
              "      quickchartButtonEl.classList.add('colab-df-quickchart-complete');\n",
              "    }\n",
              "    (() => {\n",
              "      let quickchartButtonEl =\n",
              "        document.querySelector('#df-0a0921d2-96c0-4662-b459-7a0c044cfb43 button');\n",
              "      quickchartButtonEl.style.display =\n",
              "        google.colab.kernel.accessAllowed ? 'block' : 'none';\n",
              "    })();\n",
              "  </script>\n",
              "</div>\n",
              "    </div>\n",
              "  </div>\n"
            ]
          },
          "metadata": {},
          "execution_count": 12
        }
      ],
      "source": [
        "df = pd.DataFrame(data, columns=[\"word\",\"isalpha\",\"ispunct\",\"isstop\",\"norm\",\"pos\",\"pos_expl\",\"fine_pos\",\"fine_pos_expl\",\"dep\",\"dep_expl\",\"entity\",\"entity_expl\",\"lemma\",\"morph\"])\n",
        "df"
      ]
    },
    {
      "cell_type": "code",
      "execution_count": 12,
      "metadata": {
        "id": "Xe9Df8BGQKU-"
      },
      "outputs": [],
      "source": []
    },
    {
      "cell_type": "markdown",
      "metadata": {
        "id": "o0WoCb9R09-w"
      },
      "source": [
        "## Plot DEP graph"
      ]
    },
    {
      "cell_type": "code",
      "execution_count": 13,
      "metadata": {
        "colab": {
          "base_uri": "https://localhost:8080/",
          "height": 418
        },
        "id": "FUuMnJHwzlkk",
        "outputId": "1ed2c8fc-4fae-477b-870d-0a0899c16347"
      },
      "outputs": [
        {
          "output_type": "display_data",
          "data": {
            "text/plain": [
              "<IPython.core.display.HTML object>"
            ],
            "text/html": [
              "<span class=\"tex2jax_ignore\"><svg xmlns=\"http://www.w3.org/2000/svg\" xmlns:xlink=\"http://www.w3.org/1999/xlink\" xml:lang=\"en\" id=\"8ba7ff4add26416c970a100262d8e157-0\" class=\"displacy\" width=\"1250\" height=\"377.0\" direction=\"ltr\" style=\"max-width: none; height: 377.0px; color: white; background: transparent; font-family: Arial; direction: ltr\">\n",
              "<text class=\"displacy-token\" fill=\"currentColor\" text-anchor=\"middle\" y=\"287.0\">\n",
              "    <tspan class=\"displacy-word\" fill=\"currentColor\" x=\"50\">Elisabeth</tspan>\n",
              "    <tspan class=\"displacy-tag\" dy=\"2em\" fill=\"currentColor\" x=\"50\">PROPN</tspan>\n",
              "</text>\n",
              "\n",
              "<text class=\"displacy-token\" fill=\"currentColor\" text-anchor=\"middle\" y=\"287.0\">\n",
              "    <tspan class=\"displacy-word\" fill=\"currentColor\" x=\"170\">grabbed</tspan>\n",
              "    <tspan class=\"displacy-tag\" dy=\"2em\" fill=\"currentColor\" x=\"170\">VERB</tspan>\n",
              "</text>\n",
              "\n",
              "<text class=\"displacy-token\" fill=\"currentColor\" text-anchor=\"middle\" y=\"287.0\">\n",
              "    <tspan class=\"displacy-word\" fill=\"currentColor\" x=\"290\">2</tspan>\n",
              "    <tspan class=\"displacy-tag\" dy=\"2em\" fill=\"currentColor\" x=\"290\">NUM</tspan>\n",
              "</text>\n",
              "\n",
              "<text class=\"displacy-token\" fill=\"currentColor\" text-anchor=\"middle\" y=\"287.0\">\n",
              "    <tspan class=\"displacy-word\" fill=\"currentColor\" x=\"410\">apples</tspan>\n",
              "    <tspan class=\"displacy-tag\" dy=\"2em\" fill=\"currentColor\" x=\"410\">NOUN</tspan>\n",
              "</text>\n",
              "\n",
              "<text class=\"displacy-token\" fill=\"currentColor\" text-anchor=\"middle\" y=\"287.0\">\n",
              "    <tspan class=\"displacy-word\" fill=\"currentColor\" x=\"530\">and</tspan>\n",
              "    <tspan class=\"displacy-tag\" dy=\"2em\" fill=\"currentColor\" x=\"530\">CCONJ</tspan>\n",
              "</text>\n",
              "\n",
              "<text class=\"displacy-token\" fill=\"currentColor\" text-anchor=\"middle\" y=\"287.0\">\n",
              "    <tspan class=\"displacy-word\" fill=\"currentColor\" x=\"650\">took</tspan>\n",
              "    <tspan class=\"displacy-tag\" dy=\"2em\" fill=\"currentColor\" x=\"650\">VERB</tspan>\n",
              "</text>\n",
              "\n",
              "<text class=\"displacy-token\" fill=\"currentColor\" text-anchor=\"middle\" y=\"287.0\">\n",
              "    <tspan class=\"displacy-word\" fill=\"currentColor\" x=\"770\">a</tspan>\n",
              "    <tspan class=\"displacy-tag\" dy=\"2em\" fill=\"currentColor\" x=\"770\">DET</tspan>\n",
              "</text>\n",
              "\n",
              "<text class=\"displacy-token\" fill=\"currentColor\" text-anchor=\"middle\" y=\"287.0\">\n",
              "    <tspan class=\"displacy-word\" fill=\"currentColor\" x=\"890\">bite</tspan>\n",
              "    <tspan class=\"displacy-tag\" dy=\"2em\" fill=\"currentColor\" x=\"890\">NOUN</tspan>\n",
              "</text>\n",
              "\n",
              "<text class=\"displacy-token\" fill=\"currentColor\" text-anchor=\"middle\" y=\"287.0\">\n",
              "    <tspan class=\"displacy-word\" fill=\"currentColor\" x=\"1010\">of</tspan>\n",
              "    <tspan class=\"displacy-tag\" dy=\"2em\" fill=\"currentColor\" x=\"1010\">ADP</tspan>\n",
              "</text>\n",
              "\n",
              "<text class=\"displacy-token\" fill=\"currentColor\" text-anchor=\"middle\" y=\"287.0\">\n",
              "    <tspan class=\"displacy-word\" fill=\"currentColor\" x=\"1130\">each.</tspan>\n",
              "    <tspan class=\"displacy-tag\" dy=\"2em\" fill=\"currentColor\" x=\"1130\">PRON</tspan>\n",
              "</text>\n",
              "\n",
              "<g class=\"displacy-arrow\">\n",
              "    <path class=\"displacy-arc\" id=\"arrow-8ba7ff4add26416c970a100262d8e157-0-0\" stroke-width=\"2px\" d=\"M70,242.0 C70,182.0 155.0,182.0 155.0,242.0\" fill=\"none\" stroke=\"currentColor\"/>\n",
              "    <text dy=\"1.25em\" style=\"font-size: 0.8em; letter-spacing: 1px\">\n",
              "        <textPath xlink:href=\"#arrow-8ba7ff4add26416c970a100262d8e157-0-0\" class=\"displacy-label\" startOffset=\"50%\" side=\"left\" fill=\"currentColor\" text-anchor=\"middle\">nsubj</textPath>\n",
              "    </text>\n",
              "    <path class=\"displacy-arrowhead\" d=\"M70,244.0 L62,232.0 78,232.0\" fill=\"currentColor\"/>\n",
              "</g>\n",
              "\n",
              "<g class=\"displacy-arrow\">\n",
              "    <path class=\"displacy-arc\" id=\"arrow-8ba7ff4add26416c970a100262d8e157-0-1\" stroke-width=\"2px\" d=\"M310,242.0 C310,182.0 395.0,182.0 395.0,242.0\" fill=\"none\" stroke=\"currentColor\"/>\n",
              "    <text dy=\"1.25em\" style=\"font-size: 0.8em; letter-spacing: 1px\">\n",
              "        <textPath xlink:href=\"#arrow-8ba7ff4add26416c970a100262d8e157-0-1\" class=\"displacy-label\" startOffset=\"50%\" side=\"left\" fill=\"currentColor\" text-anchor=\"middle\">nummod</textPath>\n",
              "    </text>\n",
              "    <path class=\"displacy-arrowhead\" d=\"M310,244.0 L302,232.0 318,232.0\" fill=\"currentColor\"/>\n",
              "</g>\n",
              "\n",
              "<g class=\"displacy-arrow\">\n",
              "    <path class=\"displacy-arc\" id=\"arrow-8ba7ff4add26416c970a100262d8e157-0-2\" stroke-width=\"2px\" d=\"M190,242.0 C190,122.0 400.0,122.0 400.0,242.0\" fill=\"none\" stroke=\"currentColor\"/>\n",
              "    <text dy=\"1.25em\" style=\"font-size: 0.8em; letter-spacing: 1px\">\n",
              "        <textPath xlink:href=\"#arrow-8ba7ff4add26416c970a100262d8e157-0-2\" class=\"displacy-label\" startOffset=\"50%\" side=\"left\" fill=\"currentColor\" text-anchor=\"middle\">dobj</textPath>\n",
              "    </text>\n",
              "    <path class=\"displacy-arrowhead\" d=\"M400.0,244.0 L408.0,232.0 392.0,232.0\" fill=\"currentColor\"/>\n",
              "</g>\n",
              "\n",
              "<g class=\"displacy-arrow\">\n",
              "    <path class=\"displacy-arc\" id=\"arrow-8ba7ff4add26416c970a100262d8e157-0-3\" stroke-width=\"2px\" d=\"M190,242.0 C190,62.0 525.0,62.0 525.0,242.0\" fill=\"none\" stroke=\"currentColor\"/>\n",
              "    <text dy=\"1.25em\" style=\"font-size: 0.8em; letter-spacing: 1px\">\n",
              "        <textPath xlink:href=\"#arrow-8ba7ff4add26416c970a100262d8e157-0-3\" class=\"displacy-label\" startOffset=\"50%\" side=\"left\" fill=\"currentColor\" text-anchor=\"middle\">cc</textPath>\n",
              "    </text>\n",
              "    <path class=\"displacy-arrowhead\" d=\"M525.0,244.0 L533.0,232.0 517.0,232.0\" fill=\"currentColor\"/>\n",
              "</g>\n",
              "\n",
              "<g class=\"displacy-arrow\">\n",
              "    <path class=\"displacy-arc\" id=\"arrow-8ba7ff4add26416c970a100262d8e157-0-4\" stroke-width=\"2px\" d=\"M190,242.0 C190,2.0 650.0,2.0 650.0,242.0\" fill=\"none\" stroke=\"currentColor\"/>\n",
              "    <text dy=\"1.25em\" style=\"font-size: 0.8em; letter-spacing: 1px\">\n",
              "        <textPath xlink:href=\"#arrow-8ba7ff4add26416c970a100262d8e157-0-4\" class=\"displacy-label\" startOffset=\"50%\" side=\"left\" fill=\"currentColor\" text-anchor=\"middle\">conj</textPath>\n",
              "    </text>\n",
              "    <path class=\"displacy-arrowhead\" d=\"M650.0,244.0 L658.0,232.0 642.0,232.0\" fill=\"currentColor\"/>\n",
              "</g>\n",
              "\n",
              "<g class=\"displacy-arrow\">\n",
              "    <path class=\"displacy-arc\" id=\"arrow-8ba7ff4add26416c970a100262d8e157-0-5\" stroke-width=\"2px\" d=\"M790,242.0 C790,182.0 875.0,182.0 875.0,242.0\" fill=\"none\" stroke=\"currentColor\"/>\n",
              "    <text dy=\"1.25em\" style=\"font-size: 0.8em; letter-spacing: 1px\">\n",
              "        <textPath xlink:href=\"#arrow-8ba7ff4add26416c970a100262d8e157-0-5\" class=\"displacy-label\" startOffset=\"50%\" side=\"left\" fill=\"currentColor\" text-anchor=\"middle\">det</textPath>\n",
              "    </text>\n",
              "    <path class=\"displacy-arrowhead\" d=\"M790,244.0 L782,232.0 798,232.0\" fill=\"currentColor\"/>\n",
              "</g>\n",
              "\n",
              "<g class=\"displacy-arrow\">\n",
              "    <path class=\"displacy-arc\" id=\"arrow-8ba7ff4add26416c970a100262d8e157-0-6\" stroke-width=\"2px\" d=\"M670,242.0 C670,122.0 880.0,122.0 880.0,242.0\" fill=\"none\" stroke=\"currentColor\"/>\n",
              "    <text dy=\"1.25em\" style=\"font-size: 0.8em; letter-spacing: 1px\">\n",
              "        <textPath xlink:href=\"#arrow-8ba7ff4add26416c970a100262d8e157-0-6\" class=\"displacy-label\" startOffset=\"50%\" side=\"left\" fill=\"currentColor\" text-anchor=\"middle\">dobj</textPath>\n",
              "    </text>\n",
              "    <path class=\"displacy-arrowhead\" d=\"M880.0,244.0 L888.0,232.0 872.0,232.0\" fill=\"currentColor\"/>\n",
              "</g>\n",
              "\n",
              "<g class=\"displacy-arrow\">\n",
              "    <path class=\"displacy-arc\" id=\"arrow-8ba7ff4add26416c970a100262d8e157-0-7\" stroke-width=\"2px\" d=\"M910,242.0 C910,182.0 995.0,182.0 995.0,242.0\" fill=\"none\" stroke=\"currentColor\"/>\n",
              "    <text dy=\"1.25em\" style=\"font-size: 0.8em; letter-spacing: 1px\">\n",
              "        <textPath xlink:href=\"#arrow-8ba7ff4add26416c970a100262d8e157-0-7\" class=\"displacy-label\" startOffset=\"50%\" side=\"left\" fill=\"currentColor\" text-anchor=\"middle\">prep</textPath>\n",
              "    </text>\n",
              "    <path class=\"displacy-arrowhead\" d=\"M995.0,244.0 L1003.0,232.0 987.0,232.0\" fill=\"currentColor\"/>\n",
              "</g>\n",
              "\n",
              "<g class=\"displacy-arrow\">\n",
              "    <path class=\"displacy-arc\" id=\"arrow-8ba7ff4add26416c970a100262d8e157-0-8\" stroke-width=\"2px\" d=\"M1030,242.0 C1030,182.0 1115.0,182.0 1115.0,242.0\" fill=\"none\" stroke=\"currentColor\"/>\n",
              "    <text dy=\"1.25em\" style=\"font-size: 0.8em; letter-spacing: 1px\">\n",
              "        <textPath xlink:href=\"#arrow-8ba7ff4add26416c970a100262d8e157-0-8\" class=\"displacy-label\" startOffset=\"50%\" side=\"left\" fill=\"currentColor\" text-anchor=\"middle\">pobj</textPath>\n",
              "    </text>\n",
              "    <path class=\"displacy-arrowhead\" d=\"M1115.0,244.0 L1123.0,232.0 1107.0,232.0\" fill=\"currentColor\"/>\n",
              "</g>\n",
              "</svg></span>"
            ]
          },
          "metadata": {}
        }
      ],
      "source": [
        "from spacy import displacy\n",
        "\n",
        "displacy.render(doc, style=\"dep\", jupyter=True, options={\"distance\":120, \"bg\":\"transparent\", \"color\":\"white\"})"
      ]
    },
    {
      "cell_type": "code",
      "execution_count": 14,
      "metadata": {
        "colab": {
          "base_uri": "https://localhost:8080/"
        },
        "id": "FQDooMNx1Cj-",
        "outputId": "52b23fee-9a38-4b75-91a2-95fb0c8c9f5f"
      },
      "outputs": [
        {
          "output_type": "stream",
          "name": "stdout",
          "text": [
            "Elisabeth  rightmost ancestor chain: [grabbed]\n",
            "grabbed    rightmost ancestor chain: []\n",
            "2          rightmost ancestor chain: [apples, grabbed]\n",
            "apples     rightmost ancestor chain: [grabbed]\n",
            "and        rightmost ancestor chain: [grabbed]\n",
            "took       rightmost ancestor chain: [grabbed]\n",
            "a          rightmost ancestor chain: [bite, took, grabbed]\n",
            "bite       rightmost ancestor chain: [took, grabbed]\n",
            "of         rightmost ancestor chain: [bite, took, grabbed]\n",
            "each       rightmost ancestor chain: [of, bite, took, grabbed]\n",
            ".          rightmost ancestor chain: [grabbed]\n"
          ]
        }
      ],
      "source": [
        "for token in doc:\n",
        "  print(token.text.ljust(10), \"rightmost ancestor chain:\", list(token.ancestors))"
      ]
    },
    {
      "cell_type": "markdown",
      "metadata": {
        "id": "lAQZbHN95Rkz"
      },
      "source": [
        "# Plot entities"
      ]
    },
    {
      "cell_type": "code",
      "execution_count": 15,
      "metadata": {
        "colab": {
          "base_uri": "https://localhost:8080/",
          "height": 52
        },
        "id": "Po9KX8jq2XEf",
        "outputId": "223885a7-e426-4a8c-a5a9-ea91082381c7"
      },
      "outputs": [
        {
          "output_type": "display_data",
          "data": {
            "text/plain": [
              "<IPython.core.display.HTML object>"
            ],
            "text/html": [
              "<span class=\"tex2jax_ignore\"><div class=\"entities\" style=\"line-height: 2.5; direction: ltr\">\n",
              "<mark class=\"entity\" style=\"background: #aa9cfc; padding: 0.45em 0.6em; margin: 0 0.25em; line-height: 1; border-radius: 0.35em;\">\n",
              "    Elisabeth\n",
              "    <span style=\"font-size: 0.8em; font-weight: bold; line-height: 1; border-radius: 0.35em; vertical-align: middle; margin-left: 0.5rem\">PERSON</span>\n",
              "</mark>\n",
              " grabbed \n",
              "<mark class=\"entity\" style=\"background: #e4e7d2; padding: 0.45em 0.6em; margin: 0 0.25em; line-height: 1; border-radius: 0.35em;\">\n",
              "    2\n",
              "    <span style=\"font-size: 0.8em; font-weight: bold; line-height: 1; border-radius: 0.35em; vertical-align: middle; margin-left: 0.5rem\">CARDINAL</span>\n",
              "</mark>\n",
              " apples and took a bite of each.</div></span>"
            ]
          },
          "metadata": {}
        }
      ],
      "source": [
        "displacy.render(doc, style=\"ent\", jupyter=True, options={\"distance\":120, \"bg\":\"transparent\", \"color\":\"white\"})"
      ]
    },
    {
      "cell_type": "markdown",
      "metadata": {
        "id": "66uwE3U_QYt0"
      },
      "source": [
        "# Multiple sentences"
      ]
    },
    {
      "cell_type": "code",
      "execution_count": 16,
      "metadata": {
        "colab": {
          "base_uri": "https://localhost:8080/",
          "height": 559
        },
        "id": "6_gaT7Df4cfL",
        "outputId": "e3723302-52ee-4956-eb40-7eb4a8b1ec91"
      },
      "outputs": [
        {
          "output_type": "display_data",
          "data": {
            "text/plain": [
              "<IPython.core.display.HTML object>"
            ],
            "text/html": [
              "<span class=\"tex2jax_ignore\"><svg xmlns=\"http://www.w3.org/2000/svg\" xmlns:xlink=\"http://www.w3.org/1999/xlink\" xml:lang=\"en\" id=\"1f143dbd643b4fca8c520eb2c3c92985-0\" class=\"displacy\" width=\"650\" height=\"257.0\" direction=\"ltr\" style=\"max-width: none; height: 257.0px; color: white; background: transparent; font-family: Arial; direction: ltr\">\n",
              "<text class=\"displacy-token\" fill=\"currentColor\" text-anchor=\"middle\" y=\"167.0\">\n",
              "    <tspan class=\"displacy-word\" fill=\"currentColor\" x=\"50\">Bob</tspan>\n",
              "    <tspan class=\"displacy-tag\" dy=\"2em\" fill=\"currentColor\" x=\"50\">PROPN</tspan>\n",
              "</text>\n",
              "\n",
              "<text class=\"displacy-token\" fill=\"currentColor\" text-anchor=\"middle\" y=\"167.0\">\n",
              "    <tspan class=\"displacy-word\" fill=\"currentColor\" x=\"170\">went</tspan>\n",
              "    <tspan class=\"displacy-tag\" dy=\"2em\" fill=\"currentColor\" x=\"170\">VERB</tspan>\n",
              "</text>\n",
              "\n",
              "<text class=\"displacy-token\" fill=\"currentColor\" text-anchor=\"middle\" y=\"167.0\">\n",
              "    <tspan class=\"displacy-word\" fill=\"currentColor\" x=\"290\">to</tspan>\n",
              "    <tspan class=\"displacy-tag\" dy=\"2em\" fill=\"currentColor\" x=\"290\">ADP</tspan>\n",
              "</text>\n",
              "\n",
              "<text class=\"displacy-token\" fill=\"currentColor\" text-anchor=\"middle\" y=\"167.0\">\n",
              "    <tspan class=\"displacy-word\" fill=\"currentColor\" x=\"410\">the</tspan>\n",
              "    <tspan class=\"displacy-tag\" dy=\"2em\" fill=\"currentColor\" x=\"410\">DET</tspan>\n",
              "</text>\n",
              "\n",
              "<text class=\"displacy-token\" fill=\"currentColor\" text-anchor=\"middle\" y=\"167.0\">\n",
              "    <tspan class=\"displacy-word\" fill=\"currentColor\" x=\"530\">cinema.</tspan>\n",
              "    <tspan class=\"displacy-tag\" dy=\"2em\" fill=\"currentColor\" x=\"530\">NOUN</tspan>\n",
              "</text>\n",
              "\n",
              "<g class=\"displacy-arrow\">\n",
              "    <path class=\"displacy-arc\" id=\"arrow-1f143dbd643b4fca8c520eb2c3c92985-0-0\" stroke-width=\"2px\" d=\"M70,122.0 C70,62.0 165.0,62.0 165.0,122.0\" fill=\"none\" stroke=\"currentColor\"/>\n",
              "    <text dy=\"1.25em\" style=\"font-size: 0.8em; letter-spacing: 1px\">\n",
              "        <textPath xlink:href=\"#arrow-1f143dbd643b4fca8c520eb2c3c92985-0-0\" class=\"displacy-label\" startOffset=\"50%\" side=\"left\" fill=\"currentColor\" text-anchor=\"middle\">nsubj</textPath>\n",
              "    </text>\n",
              "    <path class=\"displacy-arrowhead\" d=\"M70,124.0 L62,112.0 78,112.0\" fill=\"currentColor\"/>\n",
              "</g>\n",
              "\n",
              "<g class=\"displacy-arrow\">\n",
              "    <path class=\"displacy-arc\" id=\"arrow-1f143dbd643b4fca8c520eb2c3c92985-0-1\" stroke-width=\"2px\" d=\"M190,122.0 C190,62.0 285.0,62.0 285.0,122.0\" fill=\"none\" stroke=\"currentColor\"/>\n",
              "    <text dy=\"1.25em\" style=\"font-size: 0.8em; letter-spacing: 1px\">\n",
              "        <textPath xlink:href=\"#arrow-1f143dbd643b4fca8c520eb2c3c92985-0-1\" class=\"displacy-label\" startOffset=\"50%\" side=\"left\" fill=\"currentColor\" text-anchor=\"middle\">prep</textPath>\n",
              "    </text>\n",
              "    <path class=\"displacy-arrowhead\" d=\"M285.0,124.0 L293.0,112.0 277.0,112.0\" fill=\"currentColor\"/>\n",
              "</g>\n",
              "\n",
              "<g class=\"displacy-arrow\">\n",
              "    <path class=\"displacy-arc\" id=\"arrow-1f143dbd643b4fca8c520eb2c3c92985-0-2\" stroke-width=\"2px\" d=\"M430,122.0 C430,62.0 525.0,62.0 525.0,122.0\" fill=\"none\" stroke=\"currentColor\"/>\n",
              "    <text dy=\"1.25em\" style=\"font-size: 0.8em; letter-spacing: 1px\">\n",
              "        <textPath xlink:href=\"#arrow-1f143dbd643b4fca8c520eb2c3c92985-0-2\" class=\"displacy-label\" startOffset=\"50%\" side=\"left\" fill=\"currentColor\" text-anchor=\"middle\">det</textPath>\n",
              "    </text>\n",
              "    <path class=\"displacy-arrowhead\" d=\"M430,124.0 L422,112.0 438,112.0\" fill=\"currentColor\"/>\n",
              "</g>\n",
              "\n",
              "<g class=\"displacy-arrow\">\n",
              "    <path class=\"displacy-arc\" id=\"arrow-1f143dbd643b4fca8c520eb2c3c92985-0-3\" stroke-width=\"2px\" d=\"M310,122.0 C310,2.0 530.0,2.0 530.0,122.0\" fill=\"none\" stroke=\"currentColor\"/>\n",
              "    <text dy=\"1.25em\" style=\"font-size: 0.8em; letter-spacing: 1px\">\n",
              "        <textPath xlink:href=\"#arrow-1f143dbd643b4fca8c520eb2c3c92985-0-3\" class=\"displacy-label\" startOffset=\"50%\" side=\"left\" fill=\"currentColor\" text-anchor=\"middle\">pobj</textPath>\n",
              "    </text>\n",
              "    <path class=\"displacy-arrowhead\" d=\"M530.0,124.0 L538.0,112.0 522.0,112.0\" fill=\"currentColor\"/>\n",
              "</g>\n",
              "</svg></span>"
            ]
          },
          "metadata": {}
        },
        {
          "output_type": "display_data",
          "data": {
            "text/plain": [
              "<IPython.core.display.HTML object>"
            ],
            "text/html": [
              "<span class=\"tex2jax_ignore\"><svg xmlns=\"http://www.w3.org/2000/svg\" xmlns:xlink=\"http://www.w3.org/1999/xlink\" xml:lang=\"en\" id=\"b36fa31a54104a89b724f1718273718f-0\" class=\"displacy\" width=\"770\" height=\"257.0\" direction=\"ltr\" style=\"max-width: none; height: 257.0px; color: white; background: transparent; font-family: Arial; direction: ltr\">\n",
              "<text class=\"displacy-token\" fill=\"currentColor\" text-anchor=\"middle\" y=\"167.0\">\n",
              "    <tspan class=\"displacy-word\" fill=\"currentColor\" x=\"50\">He</tspan>\n",
              "    <tspan class=\"displacy-tag\" dy=\"2em\" fill=\"currentColor\" x=\"50\">PRON</tspan>\n",
              "</text>\n",
              "\n",
              "<text class=\"displacy-token\" fill=\"currentColor\" text-anchor=\"middle\" y=\"167.0\">\n",
              "    <tspan class=\"displacy-word\" fill=\"currentColor\" x=\"170\">watched</tspan>\n",
              "    <tspan class=\"displacy-tag\" dy=\"2em\" fill=\"currentColor\" x=\"170\">VERB</tspan>\n",
              "</text>\n",
              "\n",
              "<text class=\"displacy-token\" fill=\"currentColor\" text-anchor=\"middle\" y=\"167.0\">\n",
              "    <tspan class=\"displacy-word\" fill=\"currentColor\" x=\"290\">Titanic</tspan>\n",
              "    <tspan class=\"displacy-tag\" dy=\"2em\" fill=\"currentColor\" x=\"290\">ADJ</tspan>\n",
              "</text>\n",
              "\n",
              "<text class=\"displacy-token\" fill=\"currentColor\" text-anchor=\"middle\" y=\"167.0\">\n",
              "    <tspan class=\"displacy-word\" fill=\"currentColor\" x=\"410\">with</tspan>\n",
              "    <tspan class=\"displacy-tag\" dy=\"2em\" fill=\"currentColor\" x=\"410\">ADP</tspan>\n",
              "</text>\n",
              "\n",
              "<text class=\"displacy-token\" fill=\"currentColor\" text-anchor=\"middle\" y=\"167.0\">\n",
              "    <tspan class=\"displacy-word\" fill=\"currentColor\" x=\"530\">his</tspan>\n",
              "    <tspan class=\"displacy-tag\" dy=\"2em\" fill=\"currentColor\" x=\"530\">PRON</tspan>\n",
              "</text>\n",
              "\n",
              "<text class=\"displacy-token\" fill=\"currentColor\" text-anchor=\"middle\" y=\"167.0\">\n",
              "    <tspan class=\"displacy-word\" fill=\"currentColor\" x=\"650\">friends.</tspan>\n",
              "    <tspan class=\"displacy-tag\" dy=\"2em\" fill=\"currentColor\" x=\"650\">NOUN</tspan>\n",
              "</text>\n",
              "\n",
              "<g class=\"displacy-arrow\">\n",
              "    <path class=\"displacy-arc\" id=\"arrow-b36fa31a54104a89b724f1718273718f-0-0\" stroke-width=\"2px\" d=\"M70,122.0 C70,62.0 165.0,62.0 165.0,122.0\" fill=\"none\" stroke=\"currentColor\"/>\n",
              "    <text dy=\"1.25em\" style=\"font-size: 0.8em; letter-spacing: 1px\">\n",
              "        <textPath xlink:href=\"#arrow-b36fa31a54104a89b724f1718273718f-0-0\" class=\"displacy-label\" startOffset=\"50%\" side=\"left\" fill=\"currentColor\" text-anchor=\"middle\">nsubj</textPath>\n",
              "    </text>\n",
              "    <path class=\"displacy-arrowhead\" d=\"M70,124.0 L62,112.0 78,112.0\" fill=\"currentColor\"/>\n",
              "</g>\n",
              "\n",
              "<g class=\"displacy-arrow\">\n",
              "    <path class=\"displacy-arc\" id=\"arrow-b36fa31a54104a89b724f1718273718f-0-1\" stroke-width=\"2px\" d=\"M190,122.0 C190,62.0 285.0,62.0 285.0,122.0\" fill=\"none\" stroke=\"currentColor\"/>\n",
              "    <text dy=\"1.25em\" style=\"font-size: 0.8em; letter-spacing: 1px\">\n",
              "        <textPath xlink:href=\"#arrow-b36fa31a54104a89b724f1718273718f-0-1\" class=\"displacy-label\" startOffset=\"50%\" side=\"left\" fill=\"currentColor\" text-anchor=\"middle\">advmod</textPath>\n",
              "    </text>\n",
              "    <path class=\"displacy-arrowhead\" d=\"M285.0,124.0 L293.0,112.0 277.0,112.0\" fill=\"currentColor\"/>\n",
              "</g>\n",
              "\n",
              "<g class=\"displacy-arrow\">\n",
              "    <path class=\"displacy-arc\" id=\"arrow-b36fa31a54104a89b724f1718273718f-0-2\" stroke-width=\"2px\" d=\"M310,122.0 C310,62.0 405.0,62.0 405.0,122.0\" fill=\"none\" stroke=\"currentColor\"/>\n",
              "    <text dy=\"1.25em\" style=\"font-size: 0.8em; letter-spacing: 1px\">\n",
              "        <textPath xlink:href=\"#arrow-b36fa31a54104a89b724f1718273718f-0-2\" class=\"displacy-label\" startOffset=\"50%\" side=\"left\" fill=\"currentColor\" text-anchor=\"middle\">prep</textPath>\n",
              "    </text>\n",
              "    <path class=\"displacy-arrowhead\" d=\"M405.0,124.0 L413.0,112.0 397.0,112.0\" fill=\"currentColor\"/>\n",
              "</g>\n",
              "\n",
              "<g class=\"displacy-arrow\">\n",
              "    <path class=\"displacy-arc\" id=\"arrow-b36fa31a54104a89b724f1718273718f-0-3\" stroke-width=\"2px\" d=\"M550,122.0 C550,62.0 645.0,62.0 645.0,122.0\" fill=\"none\" stroke=\"currentColor\"/>\n",
              "    <text dy=\"1.25em\" style=\"font-size: 0.8em; letter-spacing: 1px\">\n",
              "        <textPath xlink:href=\"#arrow-b36fa31a54104a89b724f1718273718f-0-3\" class=\"displacy-label\" startOffset=\"50%\" side=\"left\" fill=\"currentColor\" text-anchor=\"middle\">poss</textPath>\n",
              "    </text>\n",
              "    <path class=\"displacy-arrowhead\" d=\"M550,124.0 L542,112.0 558,112.0\" fill=\"currentColor\"/>\n",
              "</g>\n",
              "\n",
              "<g class=\"displacy-arrow\">\n",
              "    <path class=\"displacy-arc\" id=\"arrow-b36fa31a54104a89b724f1718273718f-0-4\" stroke-width=\"2px\" d=\"M430,122.0 C430,2.0 650.0,2.0 650.0,122.0\" fill=\"none\" stroke=\"currentColor\"/>\n",
              "    <text dy=\"1.25em\" style=\"font-size: 0.8em; letter-spacing: 1px\">\n",
              "        <textPath xlink:href=\"#arrow-b36fa31a54104a89b724f1718273718f-0-4\" class=\"displacy-label\" startOffset=\"50%\" side=\"left\" fill=\"currentColor\" text-anchor=\"middle\">pobj</textPath>\n",
              "    </text>\n",
              "    <path class=\"displacy-arrowhead\" d=\"M650.0,124.0 L658.0,112.0 642.0,112.0\" fill=\"currentColor\"/>\n",
              "</g>\n",
              "</svg></span>"
            ]
          },
          "metadata": {}
        }
      ],
      "source": [
        "text = \"Bob went to the cinema. He watched Titanic with his friends.\"\n",
        "\n",
        "doc = nlp(text)\n",
        "for sent in doc.sents:\n",
        "  displacy.render(sent, style=\"dep\", jupyter=True, options={\"distance\":120, \"bg\":\"transparent\", \"color\":\"white\"})"
      ]
    },
    {
      "cell_type": "markdown",
      "metadata": {
        "id": "DxQFO_uORlJL"
      },
      "source": [
        "# Batched pipeline\n",
        "\n",
        "Working with statistical models, processing text in batches is more efficient."
      ]
    },
    {
      "cell_type": "code",
      "execution_count": 17,
      "metadata": {
        "colab": {
          "base_uri": "https://localhost:8080/"
        },
        "id": "cMD1DiRER3m_",
        "outputId": "f19e7940-8474-47d5-f0b2-ac114ea4654b"
      },
      "outputs": [
        {
          "output_type": "stream",
          "name": "stdout",
          "text": [
            "--2023-09-25 19:48:59--  https://docs.google.com/uc?export=download&confirm=&id=11ggHFzTXvvRETep7hwYlwyByFEHOLpa6\n",
            "Resolving docs.google.com (docs.google.com)... 74.125.196.139, 74.125.196.102, 74.125.196.113, ...\n",
            "Connecting to docs.google.com (docs.google.com)|74.125.196.139|:443... connected.\n",
            "HTTP request sent, awaiting response... 303 See Other\n",
            "Location: https://doc-0g-bo-docs.googleusercontent.com/docs/securesc/ha0ro937gcuc7l7deffksulhg5h7mbp1/rtbj2nqnmug2eo8ppgoj9itpjhonpa5f/1695671325000/12206003659086370314/*/11ggHFzTXvvRETep7hwYlwyByFEHOLpa6?e=download&uuid=ceb8a4f1-fc14-4253-9fc6-33ece3359d71 [following]\n",
            "Warning: wildcards not supported in HTTP.\n",
            "--2023-09-25 19:49:00--  https://doc-0g-bo-docs.googleusercontent.com/docs/securesc/ha0ro937gcuc7l7deffksulhg5h7mbp1/rtbj2nqnmug2eo8ppgoj9itpjhonpa5f/1695671325000/12206003659086370314/*/11ggHFzTXvvRETep7hwYlwyByFEHOLpa6?e=download&uuid=ceb8a4f1-fc14-4253-9fc6-33ece3359d71\n",
            "Resolving doc-0g-bo-docs.googleusercontent.com (doc-0g-bo-docs.googleusercontent.com)... 108.177.11.132, 2607:f8b0:400c:c01::84\n",
            "Connecting to doc-0g-bo-docs.googleusercontent.com (doc-0g-bo-docs.googleusercontent.com)|108.177.11.132|:443... connected.\n",
            "HTTP request sent, awaiting response... 200 OK\n",
            "Length: 54836 (54K) [text/plain]\n",
            "Saving to: ‘/content/source.txt’\n",
            "\n",
            "/content/source.txt 100%[===================>]  53.55K  --.-KB/s    in 0.001s  \n",
            "\n",
            "2023-09-25 19:49:00 (79.9 MB/s) - ‘/content/source.txt’ saved [54836/54836]\n",
            "\n"
          ]
        }
      ],
      "source": [
        "#Download a larger text corpus (discussion of the Chinese room problem)\n",
        "import locale\n",
        "locale.getpreferredencoding = lambda: \"UTF-8\"\n",
        "\n",
        "def download_from_drive(link, filename):\n",
        "  id = link.split(\"/\")[-2]\n",
        "  !wget --load-cookies /tmp/cookies.txt \"https://docs.google.com/uc?export=download&confirm=$(wget --quiet --save-cookies /tmp/cookies.txt --keep-session-cookies --no-check-certificate 'https://docs.google.com/uc?export=download&id={id}' -O- | sed -rn 's/.*confirm=([0-9A-Za-z_]+).*/\\1\\n/p')&id={id}\" -O {\"/content/\"+filename} && rm -rf /tmp/cookies.txt\n",
        "\n",
        "download_from_drive(\"https://drive.google.com/file/d/11ggHFzTXvvRETep7hwYlwyByFEHOLpa6/view?usp=sharing\", \"source.txt\")\n"
      ]
    },
    {
      "cell_type": "code",
      "execution_count": 18,
      "metadata": {
        "id": "m47LyLwKTRkU"
      },
      "outputs": [],
      "source": [
        "with open(\"./source.txt\",\"r\", encoding=\"utf-8\") as f:\n",
        "  lines = f.readlines()"
      ]
    },
    {
      "cell_type": "code",
      "source": [
        "print(lines[:2])"
      ],
      "metadata": {
        "colab": {
          "base_uri": "https://localhost:8080/"
        },
        "id": "F68tCZJF5OyE",
        "outputId": "0efa581f-8852-4b3f-8679-048431da61dc"
      },
      "execution_count": 19,
      "outputs": [
        {
          "output_type": "stream",
          "name": "stdout",
          "text": [
            "['In the original BBS article, Searle identified and discussed several responses to the argument that he had come across in giving the argument in talks at various places. As a result, these early responses have received the most attention in subsequent discussion. What Searle 1980 calls “perhaps the most common reply” is the Systems Reply.\\n', 'The Systems Reply (which Searle says was originally associated with Yale, the home of Schank’s AI work) concedes that the man in the room does not understand Chinese. But, the reply continues, the man is but a part, a central processing unit (CPU), in a larger system. The larger system includes the huge database, the memory (scratchpads) containing intermediate states, and the instructions – the complete system that is required for answering the Chinese questions. So the Sytems Reply is that while the man running the program does not understand Chinese, the system as a whole does.\\n']\n"
          ]
        }
      ]
    },
    {
      "cell_type": "code",
      "execution_count": 20,
      "metadata": {
        "colab": {
          "base_uri": "https://localhost:8080/"
        },
        "id": "BgWAxf6UQWWL",
        "outputId": "1da136fd-e8d2-4568-a40f-dbc84904de08"
      },
      "outputs": [
        {
          "output_type": "stream",
          "name": "stdout",
          "text": [
            "CPU times: user 2.84 s, sys: 18.5 ms, total: 2.86 s\n",
            "Wall time: 3.97 s\n"
          ]
        }
      ],
      "source": [
        "%%time\n",
        "#Simple solution\n",
        "\n",
        "docs = [nlp(line) for line in lines]"
      ]
    },
    {
      "cell_type": "code",
      "execution_count": 21,
      "metadata": {
        "colab": {
          "base_uri": "https://localhost:8080/"
        },
        "id": "VfZb8pJEQWNv",
        "outputId": "66b39d64-92e1-4660-c491-c5b7dfecb36d"
      },
      "outputs": [
        {
          "output_type": "stream",
          "name": "stdout",
          "text": [
            "CPU times: user 1.39 s, sys: 110 ms, total: 1.5 s\n",
            "Wall time: 1.92 s\n"
          ]
        }
      ],
      "source": [
        "%%time\n",
        "#Batched solution\n",
        "\n",
        "docs = list(nlp.pipe(lines))"
      ]
    },
    {
      "cell_type": "code",
      "execution_count": 22,
      "metadata": {
        "colab": {
          "base_uri": "https://localhost:8080/"
        },
        "id": "b5LUV6vxVuus",
        "outputId": "2efd03ab-5640-452c-ec98-f1c2fb220d62"
      },
      "outputs": [
        {
          "output_type": "stream",
          "name": "stdout",
          "text": [
            "CPU times: user 175 ms, sys: 106 ms, total: 281 ms\n",
            "Wall time: 2.33 s\n"
          ]
        }
      ],
      "source": [
        "%%time\n",
        "#Batched solution with multiple processes\n",
        "\n",
        "docs =  list(nlp.pipe(lines, n_process=4))"
      ]
    },
    {
      "cell_type": "code",
      "execution_count": 22,
      "metadata": {
        "id": "oGZ9FfEmY41g"
      },
      "outputs": [],
      "source": []
    },
    {
      "cell_type": "markdown",
      "metadata": {
        "id": "VmIeYQ0kWoP0"
      },
      "source": [
        "# Custom pipeline component\n",
        "\n",
        "Let's process questions only"
      ]
    },
    {
      "cell_type": "code",
      "execution_count": 23,
      "metadata": {
        "colab": {
          "base_uri": "https://localhost:8080/"
        },
        "id": "G0B_vnXZQWAw",
        "outputId": "adc1c233-18e1-4e18-ba6f-51bdf1489911"
      },
      "outputs": [
        {
          "output_type": "stream",
          "name": "stdout",
          "text": [
            "['tok2vec', 'tagger', 'parser', 'attribute_ruler', 'print_question', 'lemmatizer', 'ner']\n",
            "In his 1989 paper, Harnad writes “Searle formulates the problem as follows: Is the mind a computer program?\n",
            "Stevan Harnad also finds important our sensory and motor capabilities: “Who is to say that the Turing Test, whether conducted in Chinese or in any other language, could be successfully passed without operations that draw on our sensory, motor, and other higher cognitive capacities as well?\n",
            "Ex hypothesi the rest of the world will not notice the difference; will Otto?\n",
            "If so, when?\n",
            "What physical properties of the brain are important?\n",
            "In criticism of Searle’s response to the Brain Simulator Reply, Kurzweil says: “So if we scale up Searle’s Chinese Room to be the rather massive ‘room’ it needs to be, who’s to say that the entire system of a hundred trillion people simulating a Chinese Brain that knows Chinese isn’t conscious?\n",
            "Related to the preceding is The Other Minds Reply: “How do you know that other people understand Chinese or anything else?\n",
            "We attribute limited understanding of language to toddlers, dogs, and other animals, but it is not clear that we are ipso facto attributing unseen states of subjective consciousness – what do we know of the hidden states of exotic creatures?\n",
            "Are there certain conscious states that are “correct” for certain functional states?\n",
            "Further, if being con-specific is key on Searle’s account, a natural question arises as to what circumstances would justify us in attributing understanding (or consciousness) to extra-terrestrial aliens who do not share our biology?\n"
          ]
        }
      ],
      "source": [
        "from spacy.language import Language\n",
        "\n",
        "questions = []\n",
        "@Language.component(\"question_collector\")\n",
        "def my_component(doc):\n",
        "  for sent in doc.sents:\n",
        "    if sent[-1].text == \"?\" and sent[-1].is_sent_end:\n",
        "      questions.append(sent)\n",
        "  return doc\n",
        "\n",
        "nlp = spacy.load(\"en_core_web_sm\")\n",
        "nlp.add_pipe(\"question_collector\", name=\"print_question\", before=\"lemmatizer\")\n",
        "print(nlp.pipe_names)\n",
        "docs = list(nlp.pipe(lines))\n",
        "for question in questions:\n",
        "  print(question)"
      ]
    },
    {
      "cell_type": "markdown",
      "metadata": {
        "id": "dPjKutSLcHDU"
      },
      "source": [
        "# Collect all Person type entities and the number of mentions"
      ]
    },
    {
      "cell_type": "code",
      "execution_count": 24,
      "metadata": {
        "colab": {
          "base_uri": "https://localhost:8080/"
        },
        "id": "Gsi-1K7jZY7s",
        "outputId": "a11b05fd-ca78-4031-a515-c13ebd517c73"
      },
      "outputs": [
        {
          "output_type": "stream",
          "name": "stdout",
          "text": [
            "['tok2vec', 'tagger', 'parser', 'attribute_ruler', 'lemmatizer', 'ner', 'person_counter']\n",
            "{'Ned Block': 2, 'Jack Copeland': 2, 'Daniel Dennett': 4, 'Douglas Hofstadter': 1, 'Jerry Fodor': 3, 'John Haugeland': 2, 'Ray Kurzweil': 2, 'Georges Rey': 3, 'Rey': 5, 'Kurzweil': 1, 'Margaret Boden': 3, 'Boden': 1, 'Clark': 7, 'Chalmers': 2, 'Otto': 7, 'Shaffer': 2, 'Stevan Harnad': 5, 'Harnad': 5, 'Block': 2, 'Virtual Mind': 4, 'Siri': 1, 'Tim Maudlin': 3, 'Maudlin': 3, 'Minsky': 1, 'Perlis': 1, 'Richard Hanley': 1, 'Patrick Hayes': 1, 'Don Perlis': 1, 'Mao': 1, 'Mind and Body': 1, 'Roger Penrose': 1, 'Penrose': 3, 'Kurt Gödel’s': 1, 'Gödel': 1, 'Strong AI': 1, 'Tim Crane': 2, 'Hans Moravec': 2, 'Vat': 1, 'Carter': 1, 'Hilary Putnam': 1, 'David Lewis': 1, 'Yin': 1, 'Yang': 1, 'Turing Test': 1, 'Shakey': 1, 'Helen Keller': 1, 'Margaret Boden 1988': 1, 'Jerry Fodor’s': 1, 'Roger Schank': 1, 'Harnad 2012': 1, 'Ziemke 2016': 1, 'Seligman 2019': 1, 'Paul': 2, 'Patricia Churchland': 2, 'Suppose Otto': 1, 'John Searle': 1, 'Steven Pinker': 4, 'Scientific American': 1, 'Andy Clark': 1, 'William Lycan': 1, 'Dennett': 7, 'Terry Horgan': 1, 'Daniel Tammet': 1, 'Intentionality': 1, 'Transcendent Mind': 1, 'Moravec': 2, 'Minds': 1, 'trumps': 1, 'Hauser': 1, 'Wakefield': 1, 'Aliens': 1, 'SAM': 1, 'Simon': 3, 'Eisenstadt': 3, 'Hans': 3, 'Rudolf Carnap': 1, 'Paul Thagard': 1, 'David Chalmers': 1, 'contra Dennett': 1, 'Howard Gardiner': 1, 'Gardiner': 2}\n"
          ]
        }
      ],
      "source": [
        "personalMentions={}\n",
        "\n",
        "@Language.component(\"person_counter\")\n",
        "def my_component(doc):\n",
        "  for ent in doc.ents:\n",
        "    if ent.label_==\"PERSON\":\n",
        "      if ent.text in personalMentions.keys():\n",
        "        personalMentions[ent.text]+=1\n",
        "      else:\n",
        "        personalMentions[ent.text]=1\n",
        "  return doc\n",
        "\n",
        "nlp = spacy.load(\"en_core_web_sm\")\n",
        "nlp.add_pipe(\"person_counter\", name=\"person_counter\", after=\"ner\")\n",
        "print(nlp.pipe_names)\n",
        "docs = list(nlp.pipe(lines))\n",
        "print(personalMentions)"
      ]
    },
    {
      "cell_type": "code",
      "execution_count": 25,
      "metadata": {
        "colab": {
          "base_uri": "https://localhost:8080/"
        },
        "id": "2suo81Ldclm2",
        "outputId": "45572083-b34a-49d1-b4b0-567f2bb40ead"
      },
      "outputs": [
        {
          "output_type": "stream",
          "name": "stdout",
          "text": [
            "{'Ned': 'Ned Block', 'Block': 'Ned Block', 'Jack': 'Jack Copeland', 'Copeland': 'Jack Copeland', 'Daniel': 'Daniel Tammet', 'Dennett': 'contra Dennett', 'Douglas': 'Douglas Hofstadter', 'Hofstadter': 'Douglas Hofstadter', 'Jerry': 'Jerry Fodor’s', 'Fodor': 'Jerry Fodor', 'John': 'John Searle', 'Haugeland': 'John Haugeland', 'Ray': 'Ray Kurzweil', 'Kurzweil': 'Ray Kurzweil', 'Georges': 'Georges Rey', 'Rey': 'Georges Rey', 'Margaret': 'Margaret Boden 1988', 'Boden': 'Margaret Boden 1988', 'Stevan': 'Stevan Harnad', 'Harnad': 'Harnad 2012', 'Virtual': 'Virtual Mind', 'Mind': 'Transcendent Mind', 'Tim': 'Tim Crane', 'Maudlin': 'Tim Maudlin', 'Richard': 'Richard Hanley', 'Hanley': 'Richard Hanley', 'Patrick': 'Patrick Hayes', 'Hayes': 'Patrick Hayes', 'Don': 'Don Perlis', 'Perlis': 'Don Perlis', 'and': 'Mind and Body', 'Body': 'Mind and Body', 'Roger': 'Roger Schank', 'Penrose': 'Roger Penrose', 'Kurt': 'Kurt Gödel’s', 'Gödel’s': 'Kurt Gödel’s', 'Strong': 'Strong AI', 'AI': 'Strong AI', 'Crane': 'Tim Crane', 'Hans': 'Hans Moravec', 'Moravec': 'Hans Moravec', 'Hilary': 'Hilary Putnam', 'Putnam': 'Hilary Putnam', 'David': 'David Chalmers', 'Lewis': 'David Lewis', 'Turing': 'Turing Test', 'Test': 'Turing Test', 'Helen': 'Helen Keller', 'Keller': 'Helen Keller', '1988': 'Margaret Boden 1988', 'Fodor’s': 'Jerry Fodor’s', 'Schank': 'Roger Schank', '2012': 'Harnad 2012', 'Ziemke': 'Ziemke 2016', '2016': 'Ziemke 2016', 'Seligman': 'Seligman 2019', '2019': 'Seligman 2019', 'Patricia': 'Patricia Churchland', 'Churchland': 'Patricia Churchland', 'Suppose': 'Suppose Otto', 'Otto': 'Suppose Otto', 'Searle': 'John Searle', 'Steven': 'Steven Pinker', 'Pinker': 'Steven Pinker', 'Scientific': 'Scientific American', 'American': 'Scientific American', 'Andy': 'Andy Clark', 'Clark': 'Andy Clark', 'William': 'William Lycan', 'Lycan': 'William Lycan', 'Terry': 'Terry Horgan', 'Horgan': 'Terry Horgan', 'Tammet': 'Daniel Tammet', 'Transcendent': 'Transcendent Mind', 'Rudolf': 'Rudolf Carnap', 'Carnap': 'Rudolf Carnap', 'Paul': 'Paul Thagard', 'Thagard': 'Paul Thagard', 'Chalmers': 'David Chalmers', 'contra': 'contra Dennett', 'Howard': 'Howard Gardiner', 'Gardiner': 'Howard Gardiner'}\n",
            "Rey\n",
            "Kurzweil\n",
            "Boden\n",
            "Clark\n",
            "Chalmers\n",
            "Otto\n",
            "Harnad\n",
            "Block\n",
            "Maudlin\n",
            "Perlis\n",
            "Penrose\n",
            "Paul\n",
            "Dennett\n",
            "Moravec\n",
            "Hans\n",
            "Gardiner\n"
          ]
        }
      ],
      "source": [
        "#Merging last names with full names\n",
        "\n",
        "keys = list(personalMentions.keys())\n",
        "splitkeys = {splitkey:key for key in keys for splitkey in key.split(\" \") if key.find(\" \")>=0}\n",
        "print(splitkeys)\n",
        "\n",
        "for key in keys:\n",
        "  if key.find(\" \")<0:\n",
        "    if key in splitkeys.keys():\n",
        "      print(key)\n",
        "      personalMentions[splitkeys[key]] += personalMentions[key]\n",
        "      personalMentions.pop(key)"
      ]
    },
    {
      "cell_type": "code",
      "execution_count": 26,
      "metadata": {
        "colab": {
          "base_uri": "https://localhost:8080/"
        },
        "id": "0ZO-Q_X4hzoM",
        "outputId": "7fd09652-592e-4050-d40f-278c8fce4d27"
      },
      "outputs": [
        {
          "output_type": "stream",
          "name": "stdout",
          "text": [
            "{'Ned Block': 4, 'Jack Copeland': 2, 'Daniel Dennett': 4, 'Douglas Hofstadter': 1, 'Jerry Fodor': 3, 'John Haugeland': 2, 'Ray Kurzweil': 3, 'Georges Rey': 8, 'Margaret Boden': 3, 'Shaffer': 2, 'Stevan Harnad': 5, 'Virtual Mind': 4, 'Siri': 1, 'Tim Maudlin': 6, 'Minsky': 1, 'Richard Hanley': 1, 'Patrick Hayes': 1, 'Don Perlis': 2, 'Mao': 1, 'Mind and Body': 1, 'Roger Penrose': 4, 'Kurt Gödel’s': 1, 'Gödel': 1, 'Strong AI': 1, 'Tim Crane': 2, 'Hans Moravec': 7, 'Vat': 1, 'Carter': 1, 'Hilary Putnam': 1, 'David Lewis': 1, 'Yin': 1, 'Yang': 1, 'Turing Test': 1, 'Shakey': 1, 'Helen Keller': 1, 'Margaret Boden 1988': 2, 'Jerry Fodor’s': 1, 'Roger Schank': 1, 'Harnad 2012': 6, 'Ziemke 2016': 1, 'Seligman 2019': 1, 'Patricia Churchland': 2, 'Suppose Otto': 8, 'John Searle': 1, 'Steven Pinker': 4, 'Scientific American': 1, 'Andy Clark': 8, 'William Lycan': 1, 'Terry Horgan': 1, 'Daniel Tammet': 1, 'Intentionality': 1, 'Transcendent Mind': 1, 'Minds': 1, 'trumps': 1, 'Hauser': 1, 'Wakefield': 1, 'Aliens': 1, 'SAM': 1, 'Simon': 3, 'Eisenstadt': 3, 'Rudolf Carnap': 1, 'Paul Thagard': 3, 'David Chalmers': 3, 'contra Dennett': 8, 'Howard Gardiner': 3}\n"
          ]
        }
      ],
      "source": [
        "print(personalMentions)"
      ]
    },
    {
      "cell_type": "markdown",
      "metadata": {
        "id": "XVmzVQcvjfwu"
      },
      "source": [
        "# Using Pandas with spaCy pipelines\n",
        "\n",
        "\"normalize\" text"
      ]
    },
    {
      "cell_type": "code",
      "execution_count": 27,
      "metadata": {
        "colab": {
          "base_uri": "https://localhost:8080/"
        },
        "id": "Ha46TKSpjMc4",
        "outputId": "c04ff744-5a04-42c4-8664-e3450fd06afa"
      },
      "outputs": [
        {
          "output_type": "stream",
          "name": "stdout",
          "text": [
            "--2023-09-25 19:49:22--  https://docs.google.com/uc?export=download&confirm=&id=1Oti4rfwPJcd4S79GOvzZPP9OCO7shnAd\n",
            "Resolving docs.google.com (docs.google.com)... 74.125.196.139, 74.125.196.102, 74.125.196.113, ...\n",
            "Connecting to docs.google.com (docs.google.com)|74.125.196.139|:443... connected.\n",
            "HTTP request sent, awaiting response... 303 See Other\n",
            "Location: https://doc-0o-1k-docs.googleusercontent.com/docs/securesc/ha0ro937gcuc7l7deffksulhg5h7mbp1/rvcmgh1cos5t0vs9e8hi2hgesqjlrtuf/1695671325000/02440328774490686871/*/1Oti4rfwPJcd4S79GOvzZPP9OCO7shnAd?e=download&uuid=7aa1dac9-866d-481b-aaa2-3c695e3f630d [following]\n",
            "Warning: wildcards not supported in HTTP.\n",
            "--2023-09-25 19:49:25--  https://doc-0o-1k-docs.googleusercontent.com/docs/securesc/ha0ro937gcuc7l7deffksulhg5h7mbp1/rvcmgh1cos5t0vs9e8hi2hgesqjlrtuf/1695671325000/02440328774490686871/*/1Oti4rfwPJcd4S79GOvzZPP9OCO7shnAd?e=download&uuid=7aa1dac9-866d-481b-aaa2-3c695e3f630d\n",
            "Resolving doc-0o-1k-docs.googleusercontent.com (doc-0o-1k-docs.googleusercontent.com)... 108.177.11.132, 2607:f8b0:400c:c01::84\n",
            "Connecting to doc-0o-1k-docs.googleusercontent.com (doc-0o-1k-docs.googleusercontent.com)|108.177.11.132|:443... connected.\n",
            "HTTP request sent, awaiting response... 200 OK\n",
            "Length: 79279294 (76M) [application/json]\n",
            "Saving to: ‘/content/winemag-data-130k-v2.json’\n",
            "\n",
            "/content/winemag-da 100%[===================>]  75.61M   154MB/s    in 0.5s    \n",
            "\n",
            "2023-09-25 19:49:26 (154 MB/s) - ‘/content/winemag-data-130k-v2.json’ saved [79279294/79279294]\n",
            "\n"
          ]
        }
      ],
      "source": [
        "download_from_drive(\"https://drive.google.com/file/d/1Oti4rfwPJcd4S79GOvzZPP9OCO7shnAd/view?usp=sharing\", \"winemag-data-130k-v2.json\")\n",
        "\n",
        "df = pd.read_json(\"winemag-data-130k-v2.json\")"
      ]
    },
    {
      "cell_type": "code",
      "execution_count": 28,
      "metadata": {
        "colab": {
          "base_uri": "https://localhost:8080/",
          "height": 642
        },
        "id": "MF9o13ctl8f-",
        "outputId": "488bcd42-8a3b-4d38-c7f4-628d43201e11"
      },
      "outputs": [
        {
          "output_type": "execute_result",
          "data": {
            "text/plain": [
              "   points                                              title  \\\n",
              "0      87                  Nicosia 2013 Vulkà Bianco  (Etna)   \n",
              "1      87      Quinta dos Avidagos 2011 Avidagos Red (Douro)   \n",
              "2      87      Rainstorm 2013 Pinot Gris (Willamette Valley)   \n",
              "3      87  St. Julian 2013 Reserve Late Harvest Riesling ...   \n",
              "4      87  Sweet Cheeks 2012 Vintner's Reserve Wild Child...   \n",
              "\n",
              "                                         description         taster_name  \\\n",
              "0  Aromas include tropical fruit, broom, brimston...       Kerin O’Keefe   \n",
              "1  This is ripe and fruity, a wine that is smooth...          Roger Voss   \n",
              "2  Tart and snappy, the flavors of lime flesh and...        Paul Gregutt   \n",
              "3  Pineapple rind, lemon pith and orange blossom ...  Alexander Peartree   \n",
              "4  Much like the regular bottling from 2012, this...        Paul Gregutt   \n",
              "\n",
              "  taster_twitter_handle  price                         designation  \\\n",
              "0          @kerinokeefe    NaN                        Vulkà Bianco   \n",
              "1            @vossroger   15.0                            Avidagos   \n",
              "2           @paulgwine    14.0                                None   \n",
              "3                  None   13.0                Reserve Late Harvest   \n",
              "4           @paulgwine    65.0  Vintner's Reserve Wild Child Block   \n",
              "\n",
              "          variety             region_1           region_2           province  \\\n",
              "0     White Blend                 Etna               None  Sicily & Sardinia   \n",
              "1  Portuguese Red                 None               None              Douro   \n",
              "2      Pinot Gris    Willamette Valley  Willamette Valley             Oregon   \n",
              "3        Riesling  Lake Michigan Shore               None           Michigan   \n",
              "4      Pinot Noir    Willamette Valley  Willamette Valley             Oregon   \n",
              "\n",
              "    country               winery  \n",
              "0     Italy              Nicosia  \n",
              "1  Portugal  Quinta dos Avidagos  \n",
              "2        US            Rainstorm  \n",
              "3        US           St. Julian  \n",
              "4        US         Sweet Cheeks  "
            ],
            "text/html": [
              "\n",
              "  <div id=\"df-89d71373-d6a6-4584-9924-f62fb5011276\" class=\"colab-df-container\">\n",
              "    <div>\n",
              "<style scoped>\n",
              "    .dataframe tbody tr th:only-of-type {\n",
              "        vertical-align: middle;\n",
              "    }\n",
              "\n",
              "    .dataframe tbody tr th {\n",
              "        vertical-align: top;\n",
              "    }\n",
              "\n",
              "    .dataframe thead th {\n",
              "        text-align: right;\n",
              "    }\n",
              "</style>\n",
              "<table border=\"1\" class=\"dataframe\">\n",
              "  <thead>\n",
              "    <tr style=\"text-align: right;\">\n",
              "      <th></th>\n",
              "      <th>points</th>\n",
              "      <th>title</th>\n",
              "      <th>description</th>\n",
              "      <th>taster_name</th>\n",
              "      <th>taster_twitter_handle</th>\n",
              "      <th>price</th>\n",
              "      <th>designation</th>\n",
              "      <th>variety</th>\n",
              "      <th>region_1</th>\n",
              "      <th>region_2</th>\n",
              "      <th>province</th>\n",
              "      <th>country</th>\n",
              "      <th>winery</th>\n",
              "    </tr>\n",
              "  </thead>\n",
              "  <tbody>\n",
              "    <tr>\n",
              "      <th>0</th>\n",
              "      <td>87</td>\n",
              "      <td>Nicosia 2013 Vulkà Bianco  (Etna)</td>\n",
              "      <td>Aromas include tropical fruit, broom, brimston...</td>\n",
              "      <td>Kerin O’Keefe</td>\n",
              "      <td>@kerinokeefe</td>\n",
              "      <td>NaN</td>\n",
              "      <td>Vulkà Bianco</td>\n",
              "      <td>White Blend</td>\n",
              "      <td>Etna</td>\n",
              "      <td>None</td>\n",
              "      <td>Sicily &amp; Sardinia</td>\n",
              "      <td>Italy</td>\n",
              "      <td>Nicosia</td>\n",
              "    </tr>\n",
              "    <tr>\n",
              "      <th>1</th>\n",
              "      <td>87</td>\n",
              "      <td>Quinta dos Avidagos 2011 Avidagos Red (Douro)</td>\n",
              "      <td>This is ripe and fruity, a wine that is smooth...</td>\n",
              "      <td>Roger Voss</td>\n",
              "      <td>@vossroger</td>\n",
              "      <td>15.0</td>\n",
              "      <td>Avidagos</td>\n",
              "      <td>Portuguese Red</td>\n",
              "      <td>None</td>\n",
              "      <td>None</td>\n",
              "      <td>Douro</td>\n",
              "      <td>Portugal</td>\n",
              "      <td>Quinta dos Avidagos</td>\n",
              "    </tr>\n",
              "    <tr>\n",
              "      <th>2</th>\n",
              "      <td>87</td>\n",
              "      <td>Rainstorm 2013 Pinot Gris (Willamette Valley)</td>\n",
              "      <td>Tart and snappy, the flavors of lime flesh and...</td>\n",
              "      <td>Paul Gregutt</td>\n",
              "      <td>@paulgwine</td>\n",
              "      <td>14.0</td>\n",
              "      <td>None</td>\n",
              "      <td>Pinot Gris</td>\n",
              "      <td>Willamette Valley</td>\n",
              "      <td>Willamette Valley</td>\n",
              "      <td>Oregon</td>\n",
              "      <td>US</td>\n",
              "      <td>Rainstorm</td>\n",
              "    </tr>\n",
              "    <tr>\n",
              "      <th>3</th>\n",
              "      <td>87</td>\n",
              "      <td>St. Julian 2013 Reserve Late Harvest Riesling ...</td>\n",
              "      <td>Pineapple rind, lemon pith and orange blossom ...</td>\n",
              "      <td>Alexander Peartree</td>\n",
              "      <td>None</td>\n",
              "      <td>13.0</td>\n",
              "      <td>Reserve Late Harvest</td>\n",
              "      <td>Riesling</td>\n",
              "      <td>Lake Michigan Shore</td>\n",
              "      <td>None</td>\n",
              "      <td>Michigan</td>\n",
              "      <td>US</td>\n",
              "      <td>St. Julian</td>\n",
              "    </tr>\n",
              "    <tr>\n",
              "      <th>4</th>\n",
              "      <td>87</td>\n",
              "      <td>Sweet Cheeks 2012 Vintner's Reserve Wild Child...</td>\n",
              "      <td>Much like the regular bottling from 2012, this...</td>\n",
              "      <td>Paul Gregutt</td>\n",
              "      <td>@paulgwine</td>\n",
              "      <td>65.0</td>\n",
              "      <td>Vintner's Reserve Wild Child Block</td>\n",
              "      <td>Pinot Noir</td>\n",
              "      <td>Willamette Valley</td>\n",
              "      <td>Willamette Valley</td>\n",
              "      <td>Oregon</td>\n",
              "      <td>US</td>\n",
              "      <td>Sweet Cheeks</td>\n",
              "    </tr>\n",
              "  </tbody>\n",
              "</table>\n",
              "</div>\n",
              "    <div class=\"colab-df-buttons\">\n",
              "\n",
              "  <div class=\"colab-df-container\">\n",
              "    <button class=\"colab-df-convert\" onclick=\"convertToInteractive('df-89d71373-d6a6-4584-9924-f62fb5011276')\"\n",
              "            title=\"Convert this dataframe to an interactive table.\"\n",
              "            style=\"display:none;\">\n",
              "\n",
              "  <svg xmlns=\"http://www.w3.org/2000/svg\" height=\"24px\" viewBox=\"0 -960 960 960\">\n",
              "    <path d=\"M120-120v-720h720v720H120Zm60-500h600v-160H180v160Zm220 220h160v-160H400v160Zm0 220h160v-160H400v160ZM180-400h160v-160H180v160Zm440 0h160v-160H620v160ZM180-180h160v-160H180v160Zm440 0h160v-160H620v160Z\"/>\n",
              "  </svg>\n",
              "    </button>\n",
              "\n",
              "  <style>\n",
              "    .colab-df-container {\n",
              "      display:flex;\n",
              "      gap: 12px;\n",
              "    }\n",
              "\n",
              "    .colab-df-convert {\n",
              "      background-color: #E8F0FE;\n",
              "      border: none;\n",
              "      border-radius: 50%;\n",
              "      cursor: pointer;\n",
              "      display: none;\n",
              "      fill: #1967D2;\n",
              "      height: 32px;\n",
              "      padding: 0 0 0 0;\n",
              "      width: 32px;\n",
              "    }\n",
              "\n",
              "    .colab-df-convert:hover {\n",
              "      background-color: #E2EBFA;\n",
              "      box-shadow: 0px 1px 2px rgba(60, 64, 67, 0.3), 0px 1px 3px 1px rgba(60, 64, 67, 0.15);\n",
              "      fill: #174EA6;\n",
              "    }\n",
              "\n",
              "    .colab-df-buttons div {\n",
              "      margin-bottom: 4px;\n",
              "    }\n",
              "\n",
              "    [theme=dark] .colab-df-convert {\n",
              "      background-color: #3B4455;\n",
              "      fill: #D2E3FC;\n",
              "    }\n",
              "\n",
              "    [theme=dark] .colab-df-convert:hover {\n",
              "      background-color: #434B5C;\n",
              "      box-shadow: 0px 1px 3px 1px rgba(0, 0, 0, 0.15);\n",
              "      filter: drop-shadow(0px 1px 2px rgba(0, 0, 0, 0.3));\n",
              "      fill: #FFFFFF;\n",
              "    }\n",
              "  </style>\n",
              "\n",
              "    <script>\n",
              "      const buttonEl =\n",
              "        document.querySelector('#df-89d71373-d6a6-4584-9924-f62fb5011276 button.colab-df-convert');\n",
              "      buttonEl.style.display =\n",
              "        google.colab.kernel.accessAllowed ? 'block' : 'none';\n",
              "\n",
              "      async function convertToInteractive(key) {\n",
              "        const element = document.querySelector('#df-89d71373-d6a6-4584-9924-f62fb5011276');\n",
              "        const dataTable =\n",
              "          await google.colab.kernel.invokeFunction('convertToInteractive',\n",
              "                                                    [key], {});\n",
              "        if (!dataTable) return;\n",
              "\n",
              "        const docLinkHtml = 'Like what you see? Visit the ' +\n",
              "          '<a target=\"_blank\" href=https://colab.research.google.com/notebooks/data_table.ipynb>data table notebook</a>'\n",
              "          + ' to learn more about interactive tables.';\n",
              "        element.innerHTML = '';\n",
              "        dataTable['output_type'] = 'display_data';\n",
              "        await google.colab.output.renderOutput(dataTable, element);\n",
              "        const docLink = document.createElement('div');\n",
              "        docLink.innerHTML = docLinkHtml;\n",
              "        element.appendChild(docLink);\n",
              "      }\n",
              "    </script>\n",
              "  </div>\n",
              "\n",
              "\n",
              "<div id=\"df-350406e4-430f-416d-9926-ef409c8666f9\">\n",
              "  <button class=\"colab-df-quickchart\" onclick=\"quickchart('df-350406e4-430f-416d-9926-ef409c8666f9')\"\n",
              "            title=\"Suggest charts.\"\n",
              "            style=\"display:none;\">\n",
              "\n",
              "<svg xmlns=\"http://www.w3.org/2000/svg\" height=\"24px\"viewBox=\"0 0 24 24\"\n",
              "     width=\"24px\">\n",
              "    <g>\n",
              "        <path d=\"M19 3H5c-1.1 0-2 .9-2 2v14c0 1.1.9 2 2 2h14c1.1 0 2-.9 2-2V5c0-1.1-.9-2-2-2zM9 17H7v-7h2v7zm4 0h-2V7h2v10zm4 0h-2v-4h2v4z\"/>\n",
              "    </g>\n",
              "</svg>\n",
              "  </button>\n",
              "\n",
              "<style>\n",
              "  .colab-df-quickchart {\n",
              "      --bg-color: #E8F0FE;\n",
              "      --fill-color: #1967D2;\n",
              "      --hover-bg-color: #E2EBFA;\n",
              "      --hover-fill-color: #174EA6;\n",
              "      --disabled-fill-color: #AAA;\n",
              "      --disabled-bg-color: #DDD;\n",
              "  }\n",
              "\n",
              "  [theme=dark] .colab-df-quickchart {\n",
              "      --bg-color: #3B4455;\n",
              "      --fill-color: #D2E3FC;\n",
              "      --hover-bg-color: #434B5C;\n",
              "      --hover-fill-color: #FFFFFF;\n",
              "      --disabled-bg-color: #3B4455;\n",
              "      --disabled-fill-color: #666;\n",
              "  }\n",
              "\n",
              "  .colab-df-quickchart {\n",
              "    background-color: var(--bg-color);\n",
              "    border: none;\n",
              "    border-radius: 50%;\n",
              "    cursor: pointer;\n",
              "    display: none;\n",
              "    fill: var(--fill-color);\n",
              "    height: 32px;\n",
              "    padding: 0;\n",
              "    width: 32px;\n",
              "  }\n",
              "\n",
              "  .colab-df-quickchart:hover {\n",
              "    background-color: var(--hover-bg-color);\n",
              "    box-shadow: 0 1px 2px rgba(60, 64, 67, 0.3), 0 1px 3px 1px rgba(60, 64, 67, 0.15);\n",
              "    fill: var(--button-hover-fill-color);\n",
              "  }\n",
              "\n",
              "  .colab-df-quickchart-complete:disabled,\n",
              "  .colab-df-quickchart-complete:disabled:hover {\n",
              "    background-color: var(--disabled-bg-color);\n",
              "    fill: var(--disabled-fill-color);\n",
              "    box-shadow: none;\n",
              "  }\n",
              "\n",
              "  .colab-df-spinner {\n",
              "    border: 2px solid var(--fill-color);\n",
              "    border-color: transparent;\n",
              "    border-bottom-color: var(--fill-color);\n",
              "    animation:\n",
              "      spin 1s steps(1) infinite;\n",
              "  }\n",
              "\n",
              "  @keyframes spin {\n",
              "    0% {\n",
              "      border-color: transparent;\n",
              "      border-bottom-color: var(--fill-color);\n",
              "      border-left-color: var(--fill-color);\n",
              "    }\n",
              "    20% {\n",
              "      border-color: transparent;\n",
              "      border-left-color: var(--fill-color);\n",
              "      border-top-color: var(--fill-color);\n",
              "    }\n",
              "    30% {\n",
              "      border-color: transparent;\n",
              "      border-left-color: var(--fill-color);\n",
              "      border-top-color: var(--fill-color);\n",
              "      border-right-color: var(--fill-color);\n",
              "    }\n",
              "    40% {\n",
              "      border-color: transparent;\n",
              "      border-right-color: var(--fill-color);\n",
              "      border-top-color: var(--fill-color);\n",
              "    }\n",
              "    60% {\n",
              "      border-color: transparent;\n",
              "      border-right-color: var(--fill-color);\n",
              "    }\n",
              "    80% {\n",
              "      border-color: transparent;\n",
              "      border-right-color: var(--fill-color);\n",
              "      border-bottom-color: var(--fill-color);\n",
              "    }\n",
              "    90% {\n",
              "      border-color: transparent;\n",
              "      border-bottom-color: var(--fill-color);\n",
              "    }\n",
              "  }\n",
              "</style>\n",
              "\n",
              "  <script>\n",
              "    async function quickchart(key) {\n",
              "      const quickchartButtonEl =\n",
              "        document.querySelector('#' + key + ' button');\n",
              "      quickchartButtonEl.disabled = true;  // To prevent multiple clicks.\n",
              "      quickchartButtonEl.classList.add('colab-df-spinner');\n",
              "      try {\n",
              "        const charts = await google.colab.kernel.invokeFunction(\n",
              "            'suggestCharts', [key], {});\n",
              "      } catch (error) {\n",
              "        console.error('Error during call to suggestCharts:', error);\n",
              "      }\n",
              "      quickchartButtonEl.classList.remove('colab-df-spinner');\n",
              "      quickchartButtonEl.classList.add('colab-df-quickchart-complete');\n",
              "    }\n",
              "    (() => {\n",
              "      let quickchartButtonEl =\n",
              "        document.querySelector('#df-350406e4-430f-416d-9926-ef409c8666f9 button');\n",
              "      quickchartButtonEl.style.display =\n",
              "        google.colab.kernel.accessAllowed ? 'block' : 'none';\n",
              "    })();\n",
              "  </script>\n",
              "</div>\n",
              "    </div>\n",
              "  </div>\n"
            ]
          },
          "metadata": {},
          "execution_count": 28
        }
      ],
      "source": [
        "df.head()"
      ]
    },
    {
      "cell_type": "code",
      "execution_count": 29,
      "metadata": {
        "colab": {
          "base_uri": "https://localhost:8080/"
        },
        "id": "IXoOvSbbheUO",
        "outputId": "f34ba4a6-fa05-46af-fff1-5fc4b3094103"
      },
      "outputs": [
        {
          "output_type": "stream",
          "name": "stdout",
          "text": [
            "<class 'pandas.core.frame.DataFrame'>\n",
            "RangeIndex: 129971 entries, 0 to 129970\n",
            "Data columns (total 13 columns):\n",
            " #   Column                 Non-Null Count   Dtype  \n",
            "---  ------                 --------------   -----  \n",
            " 0   points                 129971 non-null  int64  \n",
            " 1   title                  129971 non-null  object \n",
            " 2   description            129971 non-null  object \n",
            " 3   taster_name            103727 non-null  object \n",
            " 4   taster_twitter_handle  98758 non-null   object \n",
            " 5   price                  120975 non-null  float64\n",
            " 6   designation            92506 non-null   object \n",
            " 7   variety                129970 non-null  object \n",
            " 8   region_1               108724 non-null  object \n",
            " 9   region_2               50511 non-null   object \n",
            " 10  province               129908 non-null  object \n",
            " 11  country                129908 non-null  object \n",
            " 12  winery                 129971 non-null  object \n",
            "dtypes: float64(1), int64(1), object(11)\n",
            "memory usage: 12.9+ MB\n"
          ]
        }
      ],
      "source": [
        "df.info()"
      ]
    },
    {
      "cell_type": "code",
      "execution_count": 30,
      "metadata": {
        "id": "7JM0TgDscxWO"
      },
      "outputs": [],
      "source": [
        "nlp = spacy.load(\"en_core_web_sm\", disable=[\"ner\",\"parser\"])"
      ]
    },
    {
      "cell_type": "markdown",
      "metadata": {
        "id": "MAYTrIoWnQGi"
      },
      "source": [
        "Using 20k only to keep computation times low"
      ]
    },
    {
      "cell_type": "code",
      "execution_count": 31,
      "metadata": {
        "id": "sGNVPdKVnQlN"
      },
      "outputs": [],
      "source": [
        "df = df[:20000]"
      ]
    },
    {
      "cell_type": "markdown",
      "metadata": {
        "id": "DK7GQaD_ncHn"
      },
      "source": [
        "- Computation as a single block so spaCy can batch efficiently\n",
        "- Filtering as an apply function"
      ]
    },
    {
      "cell_type": "code",
      "source": [],
      "metadata": {
        "colab": {
          "base_uri": "https://localhost:8080/"
        },
        "id": "_9DMQLN05NYf",
        "outputId": "98a3a5b5-1d1d-48f6-fed4-62bd2a0cc392"
      },
      "execution_count": 41,
      "outputs": [
        {
          "output_type": "execute_result",
          "data": {
            "text/plain": [
              "True"
            ]
          },
          "metadata": {},
          "execution_count": 41
        }
      ]
    },
    {
      "cell_type": "code",
      "execution_count": 47,
      "metadata": {
        "colab": {
          "base_uri": "https://localhost:8080/"
        },
        "id": "9EY9aemzffhm",
        "outputId": "fe99cd93-5e54-4ba9-b004-3d58f048f4e8"
      },
      "outputs": [
        {
          "output_type": "stream",
          "name": "stdout",
          "text": [
            "CPU times: user 44.5 s, sys: 1.13 s, total: 45.6 s\n",
            "Wall time: 46.9 s\n"
          ]
        }
      ],
      "source": [
        "%%time\n",
        "df[\"doc\"] = list(nlp.pipe(df[\"description\"], batch_size=4096))"
      ]
    },
    {
      "cell_type": "code",
      "execution_count": 33,
      "metadata": {
        "id": "4DltrhVRfkao"
      },
      "outputs": [],
      "source": [
        "def prepare_text(doc):\n",
        "  filtered_list = []\n",
        "  for token in doc:\n",
        "    if token.is_alpha and not token.is_stop and not token.is_punct:\n",
        "      filtered_list.append(token.lemma_.lower())\n",
        "\n",
        "  return \" \".join(filtered_list)"
      ]
    },
    {
      "cell_type": "code",
      "execution_count": 34,
      "metadata": {
        "id": "dMsZGU0woDs6"
      },
      "outputs": [],
      "source": [
        "df[\"normalized_text\"] = df[\"doc\"].apply(prepare_text)"
      ]
    },
    {
      "cell_type": "code",
      "execution_count": 35,
      "metadata": {
        "id": "nPlHj8Z1ryK7"
      },
      "outputs": [],
      "source": [
        "df[\"price\"] = df[\"price\"].fillna(df[\"price\"].mean())"
      ]
    },
    {
      "cell_type": "code",
      "execution_count": 36,
      "metadata": {
        "colab": {
          "base_uri": "https://localhost:8080/",
          "height": 1000
        },
        "id": "oyhY6Vt2oa11",
        "outputId": "c594438b-5748-4034-bc2c-d70078921ea5"
      },
      "outputs": [
        {
          "output_type": "display_data",
          "data": {
            "text/plain": [
              "                                                                                                                                                                                                                                                                                                     description  \\\n",
              "0                                                                                                                                   Aromas include tropical fruit, broom, brimstone and dried herb. The palate isn't overly expressive, offering unripened apple, citrus and dried sage alongside brisk acidity.   \n",
              "1                                                                            This is ripe and fruity, a wine that is smooth while still structured. Firm tannins are filled out with juicy red berry fruits and freshened with acidity. It's  already drinkable, although it will certainly be better from 2016.   \n",
              "2                                                                                                                     Tart and snappy, the flavors of lime flesh and rind dominate. Some green pineapple pokes through, with crisp acidity underscoring the flavors. The wine was all stainless-steel fermented.   \n",
              "3                                                                                                        Pineapple rind, lemon pith and orange blossom start off the aromas. The palate is a bit more opulent, with notes of honey-drizzled guava and mango giving way to a slightly astringent, semidry finish.   \n",
              "4                                                      Much like the regular bottling from 2012, this comes across as rather rough and tannic, with rustic, earthy, herbal characteristics. Nonetheless, if you think of it as a pleasantly unfussy country wine, it's a good companion to a hearty winter stew.   \n",
              "...                                                                                                                                                                                                                                                                                                          ...   \n",
              "19995  This small production (200 cases) Pinot Noir is a mix of older and younger estate vines, a selection of lots given 22 months in 60 and 132 gallon French oak casks. It's still tasting quite young, sharp and chewy, with spicy fruit backed up against earthy tannins. Give it plenty of breathing time.   \n",
              "19996                                      Tart and forward, with cranberry and raspberry fruit front and center, this is a tasty, acidic and lightly spicy effort that shows some nice precision. It's not a big wine, but balanced and based upon sharp acids that carry the fruit and cut through the finish.   \n",
              "19997                              Nothing subtle about this big, ripe, oaky Chardonnay. It shows the tropical fruit richness of a fine Alexander Valley Chard, flamboyant in pineapple custard flavor, with a flinty minerality. The sweet overlay of smoky oak is perfectly in keeping with the wine's volume.   \n",
              "19998                      Winemaker Nick Goldschmidt has turned out a Shiraz that seems a bit conflicted. It's only medium-bodied, yet packs in overripe flavors of cooked berries laced with dark chocolate and espresso. The peppery notes on the finish give it enough verve to pair with steaks or burgers.   \n",
              "19999                                              Fast becoming one of the hallmark blends of Portugal, this 50-50 mix of Aragonez and Touriga Nacional is a seriously structured wine, with great wild fruit and mushroom flavors alongside dark, dry tannins. The acidity is very definite. A good food wine.   \n",
              "\n",
              "                                                                                                                                                                                         normalized_text  \\\n",
              "0                                                          aromas include tropical fruit broom brimstone dry herb palate overly expressive offer unripened apple citrus dry sage alongside brisk acidity   \n",
              "1                                                                                      ripe fruity wine smooth structure firm tannin fill juicy red berry fruit freshen acidity drinkable certainly well   \n",
              "2                                                                          tart snappy flavor lime flesh rind dominate green pineapple poke crisp acidity underscore flavor wine stainless steel ferment   \n",
              "3                                                     pineapple rind lemon pith orange blossom start aroma palate bit opulent note honey drizzle guava mango give way slightly astringent semidry finish   \n",
              "4                                        like regular bottling come rough tannic rustic earthy herbal characteristic nonetheless think pleasantly unfussy country wine good companion hearty winter stew   \n",
              "...                                                                                                                                                                                                  ...   \n",
              "19995            small production case pinot noir mix old young estate vine selection lot give month gallon french oak cask taste young sharp chewy spicy fruit back earthy tannin plenty breathing time   \n",
              "19996                                       tart forward cranberry raspberry fruit center tasty acidic lightly spicy effort show nice precision big wine balanced base sharp acid carry fruit cut finish   \n",
              "19997  subtle big ripe oaky chardonnay show tropical fruit richness fine alexander valley chard flamboyant pineapple custard flavor flinty minerality sweet overlay smoky oak perfectly keep wine volume   \n",
              "19998                       winemaker nick goldschmidt turn shiraz bit conflicted medium bodied pack overripe flavor cook berry lace dark chocolate espresso peppery note finish verve pair steak burger   \n",
              "19999                    fast hallmark blend portugal mix aragonez touriga nacional seriously structured wine great wild fruit mushroom flavor alongside dark dry tannin acidity definite good food wine   \n",
              "\n",
              "           price  \n",
              "0      35.230649  \n",
              "1      15.000000  \n",
              "2      14.000000  \n",
              "3      13.000000  \n",
              "4      65.000000  \n",
              "...          ...  \n",
              "19995  38.000000  \n",
              "19996  20.000000  \n",
              "19997  32.000000  \n",
              "19998  25.000000  \n",
              "19999  11.000000  \n",
              "\n",
              "[20000 rows x 3 columns]"
            ],
            "text/html": [
              "\n",
              "  <div id=\"df-1e87fdab-4e50-4da1-9572-4be05ea69cbd\" class=\"colab-df-container\">\n",
              "    <div>\n",
              "<style scoped>\n",
              "    .dataframe tbody tr th:only-of-type {\n",
              "        vertical-align: middle;\n",
              "    }\n",
              "\n",
              "    .dataframe tbody tr th {\n",
              "        vertical-align: top;\n",
              "    }\n",
              "\n",
              "    .dataframe thead th {\n",
              "        text-align: right;\n",
              "    }\n",
              "</style>\n",
              "<table border=\"1\" class=\"dataframe\">\n",
              "  <thead>\n",
              "    <tr style=\"text-align: right;\">\n",
              "      <th></th>\n",
              "      <th>description</th>\n",
              "      <th>normalized_text</th>\n",
              "      <th>price</th>\n",
              "    </tr>\n",
              "  </thead>\n",
              "  <tbody>\n",
              "    <tr>\n",
              "      <th>0</th>\n",
              "      <td>Aromas include tropical fruit, broom, brimstone and dried herb. The palate isn't overly expressive, offering unripened apple, citrus and dried sage alongside brisk acidity.</td>\n",
              "      <td>aromas include tropical fruit broom brimstone dry herb palate overly expressive offer unripened apple citrus dry sage alongside brisk acidity</td>\n",
              "      <td>35.230649</td>\n",
              "    </tr>\n",
              "    <tr>\n",
              "      <th>1</th>\n",
              "      <td>This is ripe and fruity, a wine that is smooth while still structured. Firm tannins are filled out with juicy red berry fruits and freshened with acidity. It's  already drinkable, although it will certainly be better from 2016.</td>\n",
              "      <td>ripe fruity wine smooth structure firm tannin fill juicy red berry fruit freshen acidity drinkable certainly well</td>\n",
              "      <td>15.000000</td>\n",
              "    </tr>\n",
              "    <tr>\n",
              "      <th>2</th>\n",
              "      <td>Tart and snappy, the flavors of lime flesh and rind dominate. Some green pineapple pokes through, with crisp acidity underscoring the flavors. The wine was all stainless-steel fermented.</td>\n",
              "      <td>tart snappy flavor lime flesh rind dominate green pineapple poke crisp acidity underscore flavor wine stainless steel ferment</td>\n",
              "      <td>14.000000</td>\n",
              "    </tr>\n",
              "    <tr>\n",
              "      <th>3</th>\n",
              "      <td>Pineapple rind, lemon pith and orange blossom start off the aromas. The palate is a bit more opulent, with notes of honey-drizzled guava and mango giving way to a slightly astringent, semidry finish.</td>\n",
              "      <td>pineapple rind lemon pith orange blossom start aroma palate bit opulent note honey drizzle guava mango give way slightly astringent semidry finish</td>\n",
              "      <td>13.000000</td>\n",
              "    </tr>\n",
              "    <tr>\n",
              "      <th>4</th>\n",
              "      <td>Much like the regular bottling from 2012, this comes across as rather rough and tannic, with rustic, earthy, herbal characteristics. Nonetheless, if you think of it as a pleasantly unfussy country wine, it's a good companion to a hearty winter stew.</td>\n",
              "      <td>like regular bottling come rough tannic rustic earthy herbal characteristic nonetheless think pleasantly unfussy country wine good companion hearty winter stew</td>\n",
              "      <td>65.000000</td>\n",
              "    </tr>\n",
              "    <tr>\n",
              "      <th>...</th>\n",
              "      <td>...</td>\n",
              "      <td>...</td>\n",
              "      <td>...</td>\n",
              "    </tr>\n",
              "    <tr>\n",
              "      <th>19995</th>\n",
              "      <td>This small production (200 cases) Pinot Noir is a mix of older and younger estate vines, a selection of lots given 22 months in 60 and 132 gallon French oak casks. It's still tasting quite young, sharp and chewy, with spicy fruit backed up against earthy tannins. Give it plenty of breathing time.</td>\n",
              "      <td>small production case pinot noir mix old young estate vine selection lot give month gallon french oak cask taste young sharp chewy spicy fruit back earthy tannin plenty breathing time</td>\n",
              "      <td>38.000000</td>\n",
              "    </tr>\n",
              "    <tr>\n",
              "      <th>19996</th>\n",
              "      <td>Tart and forward, with cranberry and raspberry fruit front and center, this is a tasty, acidic and lightly spicy effort that shows some nice precision. It's not a big wine, but balanced and based upon sharp acids that carry the fruit and cut through the finish.</td>\n",
              "      <td>tart forward cranberry raspberry fruit center tasty acidic lightly spicy effort show nice precision big wine balanced base sharp acid carry fruit cut finish</td>\n",
              "      <td>20.000000</td>\n",
              "    </tr>\n",
              "    <tr>\n",
              "      <th>19997</th>\n",
              "      <td>Nothing subtle about this big, ripe, oaky Chardonnay. It shows the tropical fruit richness of a fine Alexander Valley Chard, flamboyant in pineapple custard flavor, with a flinty minerality. The sweet overlay of smoky oak is perfectly in keeping with the wine's volume.</td>\n",
              "      <td>subtle big ripe oaky chardonnay show tropical fruit richness fine alexander valley chard flamboyant pineapple custard flavor flinty minerality sweet overlay smoky oak perfectly keep wine volume</td>\n",
              "      <td>32.000000</td>\n",
              "    </tr>\n",
              "    <tr>\n",
              "      <th>19998</th>\n",
              "      <td>Winemaker Nick Goldschmidt has turned out a Shiraz that seems a bit conflicted. It's only medium-bodied, yet packs in overripe flavors of cooked berries laced with dark chocolate and espresso. The peppery notes on the finish give it enough verve to pair with steaks or burgers.</td>\n",
              "      <td>winemaker nick goldschmidt turn shiraz bit conflicted medium bodied pack overripe flavor cook berry lace dark chocolate espresso peppery note finish verve pair steak burger</td>\n",
              "      <td>25.000000</td>\n",
              "    </tr>\n",
              "    <tr>\n",
              "      <th>19999</th>\n",
              "      <td>Fast becoming one of the hallmark blends of Portugal, this 50-50 mix of Aragonez and Touriga Nacional is a seriously structured wine, with great wild fruit and mushroom flavors alongside dark, dry tannins. The acidity is very definite. A good food wine.</td>\n",
              "      <td>fast hallmark blend portugal mix aragonez touriga nacional seriously structured wine great wild fruit mushroom flavor alongside dark dry tannin acidity definite good food wine</td>\n",
              "      <td>11.000000</td>\n",
              "    </tr>\n",
              "  </tbody>\n",
              "</table>\n",
              "<p>20000 rows × 3 columns</p>\n",
              "</div>\n",
              "    <div class=\"colab-df-buttons\">\n",
              "\n",
              "  <div class=\"colab-df-container\">\n",
              "    <button class=\"colab-df-convert\" onclick=\"convertToInteractive('df-1e87fdab-4e50-4da1-9572-4be05ea69cbd')\"\n",
              "            title=\"Convert this dataframe to an interactive table.\"\n",
              "            style=\"display:none;\">\n",
              "\n",
              "  <svg xmlns=\"http://www.w3.org/2000/svg\" height=\"24px\" viewBox=\"0 -960 960 960\">\n",
              "    <path d=\"M120-120v-720h720v720H120Zm60-500h600v-160H180v160Zm220 220h160v-160H400v160Zm0 220h160v-160H400v160ZM180-400h160v-160H180v160Zm440 0h160v-160H620v160ZM180-180h160v-160H180v160Zm440 0h160v-160H620v160Z\"/>\n",
              "  </svg>\n",
              "    </button>\n",
              "\n",
              "  <style>\n",
              "    .colab-df-container {\n",
              "      display:flex;\n",
              "      gap: 12px;\n",
              "    }\n",
              "\n",
              "    .colab-df-convert {\n",
              "      background-color: #E8F0FE;\n",
              "      border: none;\n",
              "      border-radius: 50%;\n",
              "      cursor: pointer;\n",
              "      display: none;\n",
              "      fill: #1967D2;\n",
              "      height: 32px;\n",
              "      padding: 0 0 0 0;\n",
              "      width: 32px;\n",
              "    }\n",
              "\n",
              "    .colab-df-convert:hover {\n",
              "      background-color: #E2EBFA;\n",
              "      box-shadow: 0px 1px 2px rgba(60, 64, 67, 0.3), 0px 1px 3px 1px rgba(60, 64, 67, 0.15);\n",
              "      fill: #174EA6;\n",
              "    }\n",
              "\n",
              "    .colab-df-buttons div {\n",
              "      margin-bottom: 4px;\n",
              "    }\n",
              "\n",
              "    [theme=dark] .colab-df-convert {\n",
              "      background-color: #3B4455;\n",
              "      fill: #D2E3FC;\n",
              "    }\n",
              "\n",
              "    [theme=dark] .colab-df-convert:hover {\n",
              "      background-color: #434B5C;\n",
              "      box-shadow: 0px 1px 3px 1px rgba(0, 0, 0, 0.15);\n",
              "      filter: drop-shadow(0px 1px 2px rgba(0, 0, 0, 0.3));\n",
              "      fill: #FFFFFF;\n",
              "    }\n",
              "  </style>\n",
              "\n",
              "    <script>\n",
              "      const buttonEl =\n",
              "        document.querySelector('#df-1e87fdab-4e50-4da1-9572-4be05ea69cbd button.colab-df-convert');\n",
              "      buttonEl.style.display =\n",
              "        google.colab.kernel.accessAllowed ? 'block' : 'none';\n",
              "\n",
              "      async function convertToInteractive(key) {\n",
              "        const element = document.querySelector('#df-1e87fdab-4e50-4da1-9572-4be05ea69cbd');\n",
              "        const dataTable =\n",
              "          await google.colab.kernel.invokeFunction('convertToInteractive',\n",
              "                                                    [key], {});\n",
              "        if (!dataTable) return;\n",
              "\n",
              "        const docLinkHtml = 'Like what you see? Visit the ' +\n",
              "          '<a target=\"_blank\" href=https://colab.research.google.com/notebooks/data_table.ipynb>data table notebook</a>'\n",
              "          + ' to learn more about interactive tables.';\n",
              "        element.innerHTML = '';\n",
              "        dataTable['output_type'] = 'display_data';\n",
              "        await google.colab.output.renderOutput(dataTable, element);\n",
              "        const docLink = document.createElement('div');\n",
              "        docLink.innerHTML = docLinkHtml;\n",
              "        element.appendChild(docLink);\n",
              "      }\n",
              "    </script>\n",
              "  </div>\n",
              "\n",
              "\n",
              "<div id=\"df-1bc3128f-931f-420b-a9ca-3cc5ed7456d0\">\n",
              "  <button class=\"colab-df-quickchart\" onclick=\"quickchart('df-1bc3128f-931f-420b-a9ca-3cc5ed7456d0')\"\n",
              "            title=\"Suggest charts.\"\n",
              "            style=\"display:none;\">\n",
              "\n",
              "<svg xmlns=\"http://www.w3.org/2000/svg\" height=\"24px\"viewBox=\"0 0 24 24\"\n",
              "     width=\"24px\">\n",
              "    <g>\n",
              "        <path d=\"M19 3H5c-1.1 0-2 .9-2 2v14c0 1.1.9 2 2 2h14c1.1 0 2-.9 2-2V5c0-1.1-.9-2-2-2zM9 17H7v-7h2v7zm4 0h-2V7h2v10zm4 0h-2v-4h2v4z\"/>\n",
              "    </g>\n",
              "</svg>\n",
              "  </button>\n",
              "\n",
              "<style>\n",
              "  .colab-df-quickchart {\n",
              "      --bg-color: #E8F0FE;\n",
              "      --fill-color: #1967D2;\n",
              "      --hover-bg-color: #E2EBFA;\n",
              "      --hover-fill-color: #174EA6;\n",
              "      --disabled-fill-color: #AAA;\n",
              "      --disabled-bg-color: #DDD;\n",
              "  }\n",
              "\n",
              "  [theme=dark] .colab-df-quickchart {\n",
              "      --bg-color: #3B4455;\n",
              "      --fill-color: #D2E3FC;\n",
              "      --hover-bg-color: #434B5C;\n",
              "      --hover-fill-color: #FFFFFF;\n",
              "      --disabled-bg-color: #3B4455;\n",
              "      --disabled-fill-color: #666;\n",
              "  }\n",
              "\n",
              "  .colab-df-quickchart {\n",
              "    background-color: var(--bg-color);\n",
              "    border: none;\n",
              "    border-radius: 50%;\n",
              "    cursor: pointer;\n",
              "    display: none;\n",
              "    fill: var(--fill-color);\n",
              "    height: 32px;\n",
              "    padding: 0;\n",
              "    width: 32px;\n",
              "  }\n",
              "\n",
              "  .colab-df-quickchart:hover {\n",
              "    background-color: var(--hover-bg-color);\n",
              "    box-shadow: 0 1px 2px rgba(60, 64, 67, 0.3), 0 1px 3px 1px rgba(60, 64, 67, 0.15);\n",
              "    fill: var(--button-hover-fill-color);\n",
              "  }\n",
              "\n",
              "  .colab-df-quickchart-complete:disabled,\n",
              "  .colab-df-quickchart-complete:disabled:hover {\n",
              "    background-color: var(--disabled-bg-color);\n",
              "    fill: var(--disabled-fill-color);\n",
              "    box-shadow: none;\n",
              "  }\n",
              "\n",
              "  .colab-df-spinner {\n",
              "    border: 2px solid var(--fill-color);\n",
              "    border-color: transparent;\n",
              "    border-bottom-color: var(--fill-color);\n",
              "    animation:\n",
              "      spin 1s steps(1) infinite;\n",
              "  }\n",
              "\n",
              "  @keyframes spin {\n",
              "    0% {\n",
              "      border-color: transparent;\n",
              "      border-bottom-color: var(--fill-color);\n",
              "      border-left-color: var(--fill-color);\n",
              "    }\n",
              "    20% {\n",
              "      border-color: transparent;\n",
              "      border-left-color: var(--fill-color);\n",
              "      border-top-color: var(--fill-color);\n",
              "    }\n",
              "    30% {\n",
              "      border-color: transparent;\n",
              "      border-left-color: var(--fill-color);\n",
              "      border-top-color: var(--fill-color);\n",
              "      border-right-color: var(--fill-color);\n",
              "    }\n",
              "    40% {\n",
              "      border-color: transparent;\n",
              "      border-right-color: var(--fill-color);\n",
              "      border-top-color: var(--fill-color);\n",
              "    }\n",
              "    60% {\n",
              "      border-color: transparent;\n",
              "      border-right-color: var(--fill-color);\n",
              "    }\n",
              "    80% {\n",
              "      border-color: transparent;\n",
              "      border-right-color: var(--fill-color);\n",
              "      border-bottom-color: var(--fill-color);\n",
              "    }\n",
              "    90% {\n",
              "      border-color: transparent;\n",
              "      border-bottom-color: var(--fill-color);\n",
              "    }\n",
              "  }\n",
              "</style>\n",
              "\n",
              "  <script>\n",
              "    async function quickchart(key) {\n",
              "      const quickchartButtonEl =\n",
              "        document.querySelector('#' + key + ' button');\n",
              "      quickchartButtonEl.disabled = true;  // To prevent multiple clicks.\n",
              "      quickchartButtonEl.classList.add('colab-df-spinner');\n",
              "      try {\n",
              "        const charts = await google.colab.kernel.invokeFunction(\n",
              "            'suggestCharts', [key], {});\n",
              "      } catch (error) {\n",
              "        console.error('Error during call to suggestCharts:', error);\n",
              "      }\n",
              "      quickchartButtonEl.classList.remove('colab-df-spinner');\n",
              "      quickchartButtonEl.classList.add('colab-df-quickchart-complete');\n",
              "    }\n",
              "    (() => {\n",
              "      let quickchartButtonEl =\n",
              "        document.querySelector('#df-1bc3128f-931f-420b-a9ca-3cc5ed7456d0 button');\n",
              "      quickchartButtonEl.style.display =\n",
              "        google.colab.kernel.accessAllowed ? 'block' : 'none';\n",
              "    })();\n",
              "  </script>\n",
              "</div>\n",
              "    </div>\n",
              "  </div>\n"
            ]
          },
          "metadata": {}
        }
      ],
      "source": [
        "with pd.option_context('display.max_colwidth', None):\n",
        "  display(df[[\"description\",\"normalized_text\",\"price\"]])"
      ]
    },
    {
      "cell_type": "markdown",
      "metadata": {
        "id": "LcyWm36KvJPs"
      },
      "source": [
        "# Exploring some basic data connections\n",
        "\n",
        "How does the average length of the words (lemmas) used to describe the product affect the price?"
      ]
    },
    {
      "cell_type": "code",
      "execution_count": 37,
      "metadata": {
        "id": "652-uzT1sXyf"
      },
      "outputs": [],
      "source": [
        "df[\"avg_lemma_len\"] = df[\"normalized_text\"].apply(lambda x: len(x)/len(x.split(\" \")))"
      ]
    },
    {
      "cell_type": "code",
      "execution_count": 38,
      "metadata": {
        "colab": {
          "base_uri": "https://localhost:8080/",
          "height": 449
        },
        "id": "RQ4lgKnnoyrX",
        "outputId": "ef6848c3-4fe4-4687-e051-a8e030c1bbcf"
      },
      "outputs": [
        {
          "output_type": "display_data",
          "data": {
            "text/plain": [
              "<Figure size 640x480 with 1 Axes>"
            ],
            "image/png": "[encoded data removed]"
          },
          "metadata": {}
        }
      ],
      "source": [
        "import matplotlib.pyplot as plt\n",
        "\n",
        "plt.scatter(df[\"avg_lemma_len\"],df[\"price\"])\n",
        "plt.xlabel(\"Avg word len\")\n",
        "plt.ylabel(\"Price\");"
      ]
    },
    {
      "cell_type": "code",
      "execution_count": 39,
      "metadata": {
        "id": "QD0AA84vtJqG"
      },
      "outputs": [],
      "source": [
        "import numpy as np\n",
        "\n",
        "stepnum = 15\n",
        "steps = np.linspace(5,10,stepnum)\n",
        "\n",
        "bin_center = np.zeros(stepnum-1)\n",
        "bin_avg_price = np.zeros(stepnum-1)\n",
        "\n",
        "for i in range(stepnum-1):\n",
        "  bin_center[i] = (steps[i]+steps[i+1])/2.0\n",
        "  bin_avg_price[i] = df[\"price\"][(df[\"avg_lemma_len\"]>=steps[i]) & (df[\"avg_lemma_len\"]<steps[i+1])].median()"
      ]
    },
    {
      "cell_type": "code",
      "execution_count": 40,
      "metadata": {
        "colab": {
          "base_uri": "https://localhost:8080/",
          "height": 449
        },
        "id": "hYHoFiekurMV",
        "outputId": "d63bc4d7-2c36-4da1-b250-3eaac0a1e704"
      },
      "outputs": [
        {
          "output_type": "display_data",
          "data": {
            "text/plain": [
              "<Figure size 640x480 with 1 Axes>"
            ],
            "image/png": "[encoded data removed]"
          },
          "metadata": {}
        }
      ],
      "source": [
        "plt.plot(bin_center, bin_avg_price)\n",
        "plt.xlabel(\"Average description word length\")\n",
        "plt.ylabel(\"Average price\")\n",
        "plt.grid()"
      ]
    },
    {
      "cell_type": "markdown",
      "metadata": {
        "id": "8JQUrKX23Qmf"
      },
      "source": [
        "Could the extreme values cause this change? What measure to use then?\n",
        "\n",
        "\n",
        "(median)"
      ]
    },
    {
      "cell_type": "code",
      "execution_count": 40,
      "metadata": {
        "id": "VWmYoGHQu0xI"
      },
      "outputs": [],
      "source": []
    }
  ],
  "metadata": {
    "accelerator": "GPU",
    "colab": {
      "provenance": []
    },
    "kernelspec": {
      "display_name": "Python 3",
      "language": "python",
      "name": "python3"
    },
    "language_info": {
      "codemirror_mode": {
        "name": "ipython",
        "version": 3
      },
      "file_extension": ".py",
      "mimetype": "text/x-python",
      "name": "python",
      "nbconvert_exporter": "python",
      "pygments_lexer": "ipython3",
      "version": "3.8.8"
    },
    "gpuClass": "standard"
  },
  "nbformat": 4,
  "nbformat_minor": 0
}